{
 "cells": [
  {
   "cell_type": "code",
   "execution_count": 1,
   "metadata": {
    "collapsed": false
   },
   "outputs": [
    {
     "name": "stderr",
     "output_type": "stream",
     "text": [
      "Using Theano backend.\n",
      "/users/mtaranov/local/anaconda2/lib/python2.7/site-packages/theano/tensor/signal/downsample.py:6: UserWarning: downsample module has been moved to the theano.tensor.signal.pool module.\n",
      "  \"downsample module has been moved to the theano.tensor.signal.pool module.\")\n"
     ]
    }
   ],
   "source": [
    "%matplotlib inline\n",
    "%load_ext autoreload\n",
    "%autoreload 2\n",
    "\n",
    "import numpy as np\n",
    "import matplotlib.pyplot as plt\n",
    "from sklearn.preprocessing import MinMaxScaler, StandardScaler\n",
    "import copy\n",
    "from models import LongRangeDNN\n",
    "from utils import get_features, get_labels, subsample_data, normalize_features, reconstruct_2d, printMatrix, binarize, zscore, get_2D, plot_prediction\n",
    "#from sklearn.preprocessing import MinMaxScaler, StandardScaler\n",
    "#from dragonn.models import Model, SequenceDNN\n",
    "#from keras.models import Sequential\n",
    "#from keras.callbacks import Callback, EarlyStopping\n",
    "#from keras.layers.core import (\n",
    "#    Activation, Dense, Dropout, Flatten,\n",
    "#    Permute, Reshape, TimeDistributedDense\n",
    "#)\n",
    "#from keras.layers.convolutional import Convolution2D, MaxPooling2D\n",
    "#from keras.layers.recurrent import GRU\n",
    "#from keras.regularizers import l1\n",
    "\n",
    "#from deeplift import keras_conversion as kc\n",
    "#from deeplift.blobs import MxtsMode"
   ]
  },
  {
   "cell_type": "code",
   "execution_count": 2,
   "metadata": {
    "collapsed": false
   },
   "outputs": [
    {
     "data": {
      "text/plain": [
       "\"\\nX_train = get_features(data_path+'train_set_upperTriangle_noDiag_reads.npy')\\ny_train = get_labels(data_path+'labels_train_upperTriangle_noDiag.npy')\\nX_valid = get_features(data_path+'vali_set_upperTriangle_noDiag_reads.npy')\\ny_valid = get_labels(data_path+'labels_vali_upperTriangle_noDiag.npy')\\nX_test = get_features(data_path+'test_set_upperTriangle_noDiag_reads.npy')\\ny_test = get_labels(data_path+'labels_test_upperTriangle_noDiag.npy')\\n\\nX_train = get_features('NN_datasets/train_set_all_reads.npy')\\ny_train = get_labels('NN_datasets/labels_train_all.npy')\\nX_valid = get_features('NN_datasets/vali_set_all_reads.npy')\\ny_valid = get_labels('NN_datasets/labels_vali_all.npy')\\nX_test = get_features('NN_datasets/test_set_all_reads.npy')\\ny_test = get_labels('NN_datasets/labels_test_all.npy')\\n\\nX_train_subsampled, y_train_subsampled = subsample_data(X_train, y_train)\\nX_valid_subsampled, y_valid_subsampled = subsample_data(X_valid, y_valid)\\nX_test_subsampled, y_test_subsampled = subsample_data(X_test, y_test)\\n\""
      ]
     },
     "execution_count": 2,
     "metadata": {},
     "output_type": "execute_result"
    }
   ],
   "source": [
    "data_path='/users/mtaranov/NN_all_data/'\n",
    "\n",
    "X_train = get_features('/users/mtaranov/NN_all_data/less_than_1Mb/train_set_upperTriangle_noDiag_reads_less_2Mb.npy')\n",
    "y_train = get_labels('/users/mtaranov/NN_all_data/less_than_1Mb/labels_train_upperTriangle_noDiag_reads_less_2Mb.npy')\n",
    "X_valid = get_features('/users/mtaranov/NN_all_data/less_than_1Mb/vali_set_upperTriangle_noDiag_reads_less_2Mb.npy')\n",
    "y_valid = get_labels('/users/mtaranov/NN_all_data/less_than_1Mb/labels_vali_upperTriangle_noDiag_reads_less_2Mb.npy')\n",
    "X_test = get_features('/users/mtaranov/NN_all_data/less_than_1Mb/test_set_upperTriangle_noDiag_reads_less_2Mb.npy')\n",
    "y_test = get_labels('/users/mtaranov/NN_all_data/less_than_1Mb/labels_test_upperTriangle_noDiag_reads_less_2Mb.npy')\n",
    "\n",
    "\"\"\"\n",
    "X_train = get_features(data_path+'train_set_upperTriangle_noDiag_reads.npy')\n",
    "y_train = get_labels(data_path+'labels_train_upperTriangle_noDiag.npy')\n",
    "X_valid = get_features(data_path+'vali_set_upperTriangle_noDiag_reads.npy')\n",
    "y_valid = get_labels(data_path+'labels_vali_upperTriangle_noDiag.npy')\n",
    "X_test = get_features(data_path+'test_set_upperTriangle_noDiag_reads.npy')\n",
    "y_test = get_labels(data_path+'labels_test_upperTriangle_noDiag.npy')\n",
    "\n",
    "X_train = get_features('NN_datasets/train_set_all_reads.npy')\n",
    "y_train = get_labels('NN_datasets/labels_train_all.npy')\n",
    "X_valid = get_features('NN_datasets/vali_set_all_reads.npy')\n",
    "y_valid = get_labels('NN_datasets/labels_vali_all.npy')\n",
    "X_test = get_features('NN_datasets/test_set_all_reads.npy')\n",
    "y_test = get_labels('NN_datasets/labels_test_all.npy')\n",
    "\n",
    "X_train_subsampled, y_train_subsampled = subsample_data(X_train, y_train)\n",
    "X_valid_subsampled, y_valid_subsampled = subsample_data(X_valid, y_valid)\n",
    "X_test_subsampled, y_test_subsampled = subsample_data(X_test, y_test)\n",
    "\"\"\""
   ]
  },
  {
   "cell_type": "code",
   "execution_count": 3,
   "metadata": {
    "collapsed": false
   },
   "outputs": [
    {
     "data": {
      "text/plain": [
       "'\\nX_train_normalized_subsampled, y_train_subsampled = subsample_data(X_train_normalized, y_train)\\nX_valid_normalized_subsampled, y_valid_subsampled = subsample_data(X_valid_normalized, y_valid)\\nX_test_normalized_subsampled, y_test_subsampled = subsample_data(X_test_normalized, y_test)\\n\\nX_train_scaled_subsampled, y_train_subsampled = subsample_data(X_train_scaled, y_train)\\nX_valid_scaled_subsampled, y_valid_subsampled = subsample_data(X_valid_scaled, y_valid)\\nX_test_scaled_subsampled, y_test_subsampled = subsample_data(X_test_scaled, y_test)\\n'"
      ]
     },
     "execution_count": 3,
     "metadata": {},
     "output_type": "execute_result"
    }
   ],
   "source": [
    "\"\"\"\n",
    "X_train_normalized_subsampled, y_train_subsampled = subsample_data(X_train_normalized, y_train)\n",
    "X_valid_normalized_subsampled, y_valid_subsampled = subsample_data(X_valid_normalized, y_valid)\n",
    "X_test_normalized_subsampled, y_test_subsampled = subsample_data(X_test_normalized, y_test)\n",
    "\n",
    "X_train_scaled_subsampled, y_train_subsampled = subsample_data(X_train_scaled, y_train)\n",
    "X_valid_scaled_subsampled, y_valid_subsampled = subsample_data(X_valid_scaled, y_valid)\n",
    "X_test_scaled_subsampled, y_test_subsampled = subsample_data(X_test_scaled, y_test)\n",
    "\"\"\""
   ]
  },
  {
   "cell_type": "code",
   "execution_count": 4,
   "metadata": {
    "collapsed": false
   },
   "outputs": [],
   "source": [
    "X_train_normalized, X_valid_normalized, X_test_normalized = normalize_features(X_train, X_valid, X_test)\n",
    "\n",
    "X_train_normalized_subsampled, y_train_subsampled = subsample_data(X_train_normalized, y_train)\n",
    "X_valid_normalized_subsampled, y_valid_subsampled = subsample_data(X_valid_normalized, y_valid)\n",
    "X_test_normalized_subsampled, y_test_subsampled = subsample_data(X_test_normalized, y_test)\n",
    "\n",
    "\n",
    "#X_train_scaled_subsampled, y_train_subsampled = subsample_data(X_train_scaled, y_train)\n",
    "#X_valid_scaled_subsampled, y_valid_subsampled = subsample_data(X_valid_scaled, y_valid)\n",
    "#X_test_scaled_subsampled, y_test_subsampled = subsample_data(X_test_scaled, y_test)\n"
   ]
  },
  {
   "cell_type": "markdown",
   "metadata": {},
   "source": [
    "# without distance"
   ]
  },
  {
   "cell_type": "code",
   "execution_count": 5,
   "metadata": {
    "collapsed": true
   },
   "outputs": [],
   "source": [
    "dnn_normalized = LongRangeDNN(num_features=10, use_deep_CNN=True)"
   ]
  },
  {
   "cell_type": "code",
   "execution_count": 7,
   "metadata": {
    "collapsed": false
   },
   "outputs": [
    {
     "name": "stdout",
     "output_type": "stream",
     "text": [
      "Training model...\n",
      "Train on 30353 samples, validate on 18591 samples\n",
      "Epoch 1/100\n",
      "30353/30353 [==============================] - 0s - loss: 0.9103 - val_loss: 0.7099\n",
      "Epoch 0: validation loss: 0.710\n",
      "Balanced Accuracy: 55.50%\t auROC: 0.573\t auPRC: 0.416\t auPRG: 0.181\n",
      "Recall at 5%|10%|20% FDR: 0.0%|0.0%|0.0%\t Num Positives: 6660\t Num Negatives: 11931\t \n",
      "\n",
      "Epoch 2/100\n",
      "30353/30353 [==============================] - 0s - loss: 0.9079 - val_loss: 0.6989\n",
      "Epoch 1: validation loss: 0.699\n",
      "Balanced Accuracy: 55.80%\t auROC: 0.578\t auPRC: 0.421\t auPRG: 0.193\n",
      "Recall at 5%|10%|20% FDR: 0.0%|0.0%|0.0%\t Num Positives: 6660\t Num Negatives: 11931\t \n",
      "\n",
      "Epoch 3/100\n",
      "30353/30353 [==============================] - 0s - loss: 0.9051 - val_loss: 0.7027\n",
      "Epoch 2: validation loss: 0.703\n",
      "Balanced Accuracy: 56.07%\t auROC: 0.578\t auPRC: 0.421\t auPRG: 0.190\n",
      "Recall at 5%|10%|20% FDR: 0.0%|0.0%|0.0%\t Num Positives: 6660\t Num Negatives: 11931\t \n",
      "\n",
      "Epoch 4/100\n",
      "30353/30353 [==============================] - 0s - loss: 0.9029 - val_loss: 0.7139\n",
      "Epoch 3: validation loss: 0.714\n",
      "Balanced Accuracy: 55.72%\t auROC: 0.581\t auPRC: 0.424\t auPRG: 0.200\n",
      "Recall at 5%|10%|20% FDR: 0.0%|0.0%|0.0%\t Num Positives: 6660\t Num Negatives: 11931\t \n",
      "\n",
      "Epoch 5/100\n",
      "30353/30353 [==============================] - 0s - loss: 0.9000 - val_loss: 0.7207\n",
      "Epoch 4: validation loss: 0.721\n",
      "Balanced Accuracy: 55.75%\t auROC: 0.580\t auPRC: 0.423\t auPRG: 0.195\n",
      "Recall at 5%|10%|20% FDR: 0.0%|0.0%|0.0%\t Num Positives: 6660\t Num Negatives: 11931\t \n",
      "\n",
      "Epoch 6/100\n",
      "30353/30353 [==============================] - 0s - loss: 0.8985 - val_loss: 0.6984\n",
      "Epoch 5: validation loss: 0.698\n",
      "Balanced Accuracy: 56.03%\t auROC: 0.577\t auPRC: 0.418\t auPRG: 0.190\n",
      "Recall at 5%|10%|20% FDR: 0.0%|0.0%|0.0%\t Num Positives: 6660\t Num Negatives: 11931\t \n",
      "\n",
      "Epoch 7/100\n",
      "30353/30353 [==============================] - 0s - loss: 0.8955 - val_loss: 0.7123\n",
      "Epoch 6: validation loss: 0.712\n",
      "Balanced Accuracy: 56.25%\t auROC: 0.581\t auPRC: 0.422\t auPRG: 0.198\n",
      "Recall at 5%|10%|20% FDR: 0.0%|0.0%|0.0%\t Num Positives: 6660\t Num Negatives: 11931\t \n",
      "\n",
      "Epoch 8/100\n",
      "30353/30353 [==============================] - 0s - loss: 0.8927 - val_loss: 0.6952\n",
      "Epoch 7: validation loss: 0.695\n",
      "Balanced Accuracy: 56.01%\t auROC: 0.581\t auPRC: 0.424\t auPRG: 0.198\n",
      "Recall at 5%|10%|20% FDR: 0.0%|0.0%|0.0%\t Num Positives: 6660\t Num Negatives: 11931\t \n",
      "\n",
      "Epoch 9/100\n",
      "30353/30353 [==============================] - 0s - loss: 0.8907 - val_loss: 0.6936\n",
      "Epoch 8: validation loss: 0.694\n",
      "Balanced Accuracy: 56.10%\t auROC: 0.584\t auPRC: 0.426\t auPRG: 0.208\n",
      "Recall at 5%|10%|20% FDR: 0.0%|0.0%|0.0%\t Num Positives: 6660\t Num Negatives: 11931\t \n",
      "\n",
      "Epoch 10/100\n",
      "30353/30353 [==============================] - 0s - loss: 0.8888 - val_loss: 0.7032\n",
      "Epoch 9: validation loss: 0.703\n",
      "Balanced Accuracy: 55.82%\t auROC: 0.578\t auPRC: 0.421\t auPRG: 0.186\n",
      "Recall at 5%|10%|20% FDR: 0.0%|0.0%|0.0%\t Num Positives: 6660\t Num Negatives: 11931\t \n",
      "\n",
      "Epoch 11/100\n",
      "30353/30353 [==============================] - 0s - loss: 0.8860 - val_loss: 0.6915\n",
      "Epoch 10: validation loss: 0.692\n",
      "Balanced Accuracy: 56.39%\t auROC: 0.586\t auPRC: 0.428\t auPRG: 0.208\n",
      "Recall at 5%|10%|20% FDR: 0.0%|0.0%|0.0%\t Num Positives: 6660\t Num Negatives: 11931\t \n",
      "\n",
      "Epoch 12/100\n",
      "30353/30353 [==============================] - 0s - loss: 0.8850 - val_loss: 0.6976\n",
      "Epoch 11: validation loss: 0.698\n",
      "Balanced Accuracy: 56.13%\t auROC: 0.585\t auPRC: 0.427\t auPRG: 0.205\n",
      "Recall at 5%|10%|20% FDR: 0.0%|0.0%|0.0%\t Num Positives: 6660\t Num Negatives: 11931\t \n",
      "\n",
      "Epoch 13/100\n",
      "30353/30353 [==============================] - 0s - loss: 0.8829 - val_loss: 0.6967\n",
      "Epoch 12: validation loss: 0.697\n",
      "Balanced Accuracy: 56.53%\t auROC: 0.589\t auPRC: 0.431\t auPRG: 0.216\n",
      "Recall at 5%|10%|20% FDR: 0.0%|0.0%|0.0%\t Num Positives: 6660\t Num Negatives: 11931\t \n",
      "\n",
      "Epoch 14/100\n",
      "30353/30353 [==============================] - 0s - loss: 0.8797 - val_loss: 0.7036\n",
      "Epoch 13: validation loss: 0.704\n",
      "Balanced Accuracy: 56.05%\t auROC: 0.589\t auPRC: 0.430\t auPRG: 0.213\n",
      "Recall at 5%|10%|20% FDR: 0.0%|0.0%|0.0%\t Num Positives: 6660\t Num Negatives: 11931\t \n",
      "\n",
      "Epoch 15/100\n",
      "30353/30353 [==============================] - 0s - loss: 0.8791 - val_loss: 0.6993\n",
      "Epoch 14: validation loss: 0.699\n",
      "Balanced Accuracy: 56.28%\t auROC: 0.587\t auPRC: 0.428\t auPRG: 0.215\n",
      "Recall at 5%|10%|20% FDR: 0.0%|0.0%|0.0%\t Num Positives: 6660\t Num Negatives: 11931\t \n",
      "\n",
      "Epoch 16/100\n",
      "30353/30353 [==============================] - 0s - loss: 0.8772 - val_loss: 0.7163\n",
      "Epoch 15: validation loss: 0.716\n",
      "Balanced Accuracy: 56.39%\t auROC: 0.587\t auPRC: 0.426\t auPRG: 0.208\n",
      "Recall at 5%|10%|20% FDR: 0.0%|0.0%|0.0%\t Num Positives: 6660\t Num Negatives: 11931\t \n",
      "\n",
      "Epoch 17/100\n",
      "30353/30353 [==============================] - 0s - loss: 0.8750 - val_loss: 0.7042\n",
      "Epoch 16: validation loss: 0.704\n",
      "Balanced Accuracy: 56.26%\t auROC: 0.588\t auPRC: 0.429\t auPRG: 0.213\n",
      "Recall at 5%|10%|20% FDR: 0.0%|0.0%|0.0%\t Num Positives: 6660\t Num Negatives: 11931\t \n",
      "\n",
      "Epoch 18/100\n",
      "30353/30353 [==============================] - 0s - loss: 0.8730 - val_loss: 0.7027\n",
      "Epoch 17: validation loss: 0.703\n",
      "Balanced Accuracy: 56.36%\t auROC: 0.589\t auPRC: 0.432\t auPRG: 0.213\n",
      "Recall at 5%|10%|20% FDR: 0.0%|0.0%|0.0%\t Num Positives: 6660\t Num Negatives: 11931\t \n",
      "\n",
      "Epoch 19/100\n",
      "30353/30353 [==============================] - 0s - loss: 0.8724 - val_loss: 0.7214\n",
      "Epoch 18: validation loss: 0.721\n",
      "Balanced Accuracy: 56.55%\t auROC: 0.590\t auPRC: 0.430\t auPRG: 0.217\n",
      "Recall at 5%|10%|20% FDR: 0.0%|0.0%|0.0%\t Num Positives: 6660\t Num Negatives: 11931\t \n",
      "\n",
      "Epoch 20/100\n",
      "30353/30353 [==============================] - 0s - loss: 0.8705 - val_loss: 0.7183\n",
      "Epoch 19: validation loss: 0.718\n",
      "Balanced Accuracy: 56.64%\t auROC: 0.592\t auPRC: 0.431\t auPRG: 0.224\n",
      "Recall at 5%|10%|20% FDR: 0.0%|0.0%|0.0%\t Num Positives: 6660\t Num Negatives: 11931\t \n",
      "\n",
      "Epoch 21/100\n",
      "30353/30353 [==============================] - 0s - loss: 0.8675 - val_loss: 0.6926\n",
      "Epoch 20: validation loss: 0.693\n",
      "Balanced Accuracy: 56.33%\t auROC: 0.589\t auPRC: 0.432\t auPRG: 0.208\n",
      "Recall at 5%|10%|20% FDR: 0.0%|0.0%|0.0%\t Num Positives: 6660\t Num Negatives: 11931\t \n",
      "\n",
      "Epoch 22/100\n",
      "30353/30353 [==============================] - 0s - loss: 0.8670 - val_loss: 0.7359\n",
      "Epoch 21: validation loss: 0.736\n",
      "Balanced Accuracy: 55.97%\t auROC: 0.588\t auPRC: 0.428\t auPRG: 0.219\n",
      "Recall at 5%|10%|20% FDR: 0.0%|0.0%|0.0%\t Num Positives: 6660\t Num Negatives: 11931\t \n",
      "\n"
     ]
    }
   ],
   "source": [
    "#validation_data = (X_valid_normalized_subsampled[:, :, :10, :], y_valid_subsampled)\n",
    "#dnn_normalized.train(X_train_normalized_subsampled[:, :, :10, :], y_train_subsampled, validation_data)\n",
    "validation_data = (X_valid_normalized[:, :, :10, :], y_valid)\n",
    "dnn_normalized.train(X_train_normalized[:, :, :10, :], y_train, validation_data)"
   ]
  },
  {
   "cell_type": "code",
   "execution_count": 8,
   "metadata": {
    "collapsed": false
   },
   "outputs": [
    {
     "name": "stdout",
     "output_type": "stream",
     "text": [
      "Balanced Accuracy: 56.16%\t auROC: 0.587\t auPRC: 0.437\t auPRG: 0.211\n",
      "Recall at 5%|10%|20% FDR: 0.1%|0.1%|0.1%\t Num Positives: 4411\t Num Negatives: 7668\t \n"
     ]
    }
   ],
   "source": [
    "print(dnn_normalized.test(X_test_normalized[:, :, :10, :], y_test))"
   ]
  },
  {
   "cell_type": "markdown",
   "metadata": {},
   "source": [
    "# with genomic locations"
   ]
  },
  {
   "cell_type": "code",
   "execution_count": 9,
   "metadata": {
    "collapsed": true
   },
   "outputs": [],
   "source": [
    "dnn_normalized = LongRangeDNN(num_features=11, use_deep_CNN=True)"
   ]
  },
  {
   "cell_type": "code",
   "execution_count": 10,
   "metadata": {
    "collapsed": false
   },
   "outputs": [
    {
     "name": "stdout",
     "output_type": "stream",
     "text": [
      "Training model...\n",
      "Train on 30353 samples, validate on 18591 samples\n",
      "Epoch 1/100\n",
      "30353/30353 [==============================] - 0s - loss: 0.9395 - val_loss: 0.7039\n",
      "Epoch 0: validation loss: 0.704\n",
      "Balanced Accuracy: 51.18%\t auROC: 0.519\t auPRC: 0.373\t auPRG: 0.044\n",
      "Recall at 5%|10%|20% FDR: 0.0%|0.0%|0.0%\t Num Positives: 6660\t Num Negatives: 11931\t \n",
      "\n",
      "Epoch 2/100\n",
      "30353/30353 [==============================] - 0s - loss: 0.9360 - val_loss: 0.7142\n",
      "Epoch 1: validation loss: 0.714\n",
      "Balanced Accuracy: 51.37%\t auROC: 0.524\t auPRC: 0.379\t auPRG: 0.057\n",
      "Recall at 5%|10%|20% FDR: 0.0%|0.0%|0.0%\t Num Positives: 6660\t Num Negatives: 11931\t \n",
      "\n",
      "Epoch 3/100\n",
      "30353/30353 [==============================] - 0s - loss: 0.9335 - val_loss: 0.7130\n",
      "Epoch 2: validation loss: 0.713\n",
      "Balanced Accuracy: 51.19%\t auROC: 0.535\t auPRC: 0.388\t auPRG: 0.090\n",
      "Recall at 5%|10%|20% FDR: 0.0%|0.0%|0.0%\t Num Positives: 6660\t Num Negatives: 11931\t \n",
      "\n",
      "Epoch 4/100\n",
      "30353/30353 [==============================] - 0s - loss: 0.9311 - val_loss: 0.7008\n",
      "Epoch 3: validation loss: 0.701\n",
      "Balanced Accuracy: 52.35%\t auROC: 0.549\t auPRC: 0.400\t auPRG: 0.125\n",
      "Recall at 5%|10%|20% FDR: 0.0%|0.0%|0.0%\t Num Positives: 6660\t Num Negatives: 11931\t \n",
      "\n",
      "Epoch 5/100\n",
      "30353/30353 [==============================] - 0s - loss: 0.9289 - val_loss: 0.7028\n",
      "Epoch 4: validation loss: 0.703\n",
      "Balanced Accuracy: 52.59%\t auROC: 0.547\t auPRC: 0.399\t auPRG: 0.119\n",
      "Recall at 5%|10%|20% FDR: 0.1%|0.1%|0.2%\t Num Positives: 6660\t Num Negatives: 11931\t \n",
      "\n",
      "Epoch 6/100\n",
      "30353/30353 [==============================] - 0s - loss: 0.9265 - val_loss: 0.6947\n",
      "Epoch 5: validation loss: 0.695\n",
      "Balanced Accuracy: 53.92%\t auROC: 0.554\t auPRC: 0.403\t auPRG: 0.138\n",
      "Recall at 5%|10%|20% FDR: 0.0%|0.0%|0.0%\t Num Positives: 6660\t Num Negatives: 11931\t \n",
      "\n",
      "Epoch 7/100\n",
      "30353/30353 [==============================] - 0s - loss: 0.9244 - val_loss: 0.6905\n",
      "Epoch 6: validation loss: 0.691\n",
      "Balanced Accuracy: 53.86%\t auROC: 0.559\t auPRC: 0.411\t auPRG: 0.149\n",
      "Recall at 5%|10%|20% FDR: 0.0%|0.0%|0.0%\t Num Positives: 6660\t Num Negatives: 11931\t \n",
      "\n",
      "Epoch 8/100\n",
      "30353/30353 [==============================] - 0s - loss: 0.9221 - val_loss: 0.6980\n",
      "Epoch 7: validation loss: 0.698\n",
      "Balanced Accuracy: 53.80%\t auROC: 0.560\t auPRC: 0.413\t auPRG: 0.140\n",
      "Recall at 5%|10%|20% FDR: 0.0%|0.0%|0.0%\t Num Positives: 6660\t Num Negatives: 11931\t \n",
      "\n",
      "Epoch 9/100\n",
      "30353/30353 [==============================] - 0s - loss: 0.9205 - val_loss: 0.6992\n",
      "Epoch 8: validation loss: 0.699\n",
      "Balanced Accuracy: 53.98%\t auROC: 0.560\t auPRC: 0.412\t auPRG: 0.140\n",
      "Recall at 5%|10%|20% FDR: 0.0%|0.0%|0.0%\t Num Positives: 6660\t Num Negatives: 11931\t \n",
      "\n",
      "Epoch 10/100\n",
      "30353/30353 [==============================] - 0s - loss: 0.9185 - val_loss: 0.7013\n",
      "Epoch 9: validation loss: 0.701\n",
      "Balanced Accuracy: 54.03%\t auROC: 0.566\t auPRC: 0.415\t auPRG: 0.164\n",
      "Recall at 5%|10%|20% FDR: 0.0%|0.0%|0.0%\t Num Positives: 6660\t Num Negatives: 11931\t \n",
      "\n",
      "Epoch 11/100\n",
      "30353/30353 [==============================] - 0s - loss: 0.9152 - val_loss: 0.7069\n",
      "Epoch 10: validation loss: 0.707\n",
      "Balanced Accuracy: 53.99%\t auROC: 0.562\t auPRC: 0.412\t auPRG: 0.155\n",
      "Recall at 5%|10%|20% FDR: 0.0%|0.0%|0.0%\t Num Positives: 6660\t Num Negatives: 11931\t \n",
      "\n",
      "Epoch 12/100\n",
      "30353/30353 [==============================] - 0s - loss: 0.9137 - val_loss: 0.7169\n",
      "Epoch 11: validation loss: 0.717\n",
      "Balanced Accuracy: 53.61%\t auROC: 0.565\t auPRC: 0.414\t auPRG: 0.156\n",
      "Recall at 5%|10%|20% FDR: 0.1%|0.1%|0.2%\t Num Positives: 6660\t Num Negatives: 11931\t \n",
      "\n",
      "Epoch 13/100\n",
      "30353/30353 [==============================] - 0s - loss: 0.9124 - val_loss: 0.7250\n",
      "Epoch 12: validation loss: 0.725\n",
      "Balanced Accuracy: 53.73%\t auROC: 0.565\t auPRC: 0.413\t auPRG: 0.155\n",
      "Recall at 5%|10%|20% FDR: 0.0%|0.0%|0.1%\t Num Positives: 6660\t Num Negatives: 11931\t \n",
      "\n",
      "Epoch 14/100\n",
      "30353/30353 [==============================] - 0s - loss: 0.9097 - val_loss: 0.6978\n",
      "Epoch 13: validation loss: 0.698\n",
      "Balanced Accuracy: 54.69%\t auROC: 0.568\t auPRC: 0.418\t auPRG: 0.165\n",
      "Recall at 5%|10%|20% FDR: 0.0%|0.0%|0.0%\t Num Positives: 6660\t Num Negatives: 11931\t \n",
      "\n",
      "Epoch 15/100\n",
      "30353/30353 [==============================] - 0s - loss: 0.9063 - val_loss: 0.7064\n",
      "Epoch 14: validation loss: 0.706\n",
      "Balanced Accuracy: 54.28%\t auROC: 0.568\t auPRC: 0.419\t auPRG: 0.162\n",
      "Recall at 5%|10%|20% FDR: 0.1%|0.1%|0.1%\t Num Positives: 6660\t Num Negatives: 11931\t \n",
      "\n",
      "Epoch 16/100\n",
      "30353/30353 [==============================] - 0s - loss: 0.9053 - val_loss: 0.6947\n",
      "Epoch 15: validation loss: 0.695\n",
      "Balanced Accuracy: 55.17%\t auROC: 0.573\t auPRC: 0.422\t auPRG: 0.181\n",
      "Recall at 5%|10%|20% FDR: 0.1%|0.1%|0.1%\t Num Positives: 6660\t Num Negatives: 11931\t \n",
      "\n",
      "Epoch 17/100\n",
      "30353/30353 [==============================] - 0s - loss: 0.9031 - val_loss: 0.7165\n",
      "Epoch 16: validation loss: 0.716\n",
      "Balanced Accuracy: 54.40%\t auROC: 0.566\t auPRC: 0.417\t auPRG: 0.163\n",
      "Recall at 5%|10%|20% FDR: 0.0%|0.0%|0.1%\t Num Positives: 6660\t Num Negatives: 11931\t \n",
      "\n",
      "Epoch 18/100\n",
      "30353/30353 [==============================] - 0s - loss: 0.9007 - val_loss: 0.7194\n",
      "Epoch 17: validation loss: 0.719\n",
      "Balanced Accuracy: 53.90%\t auROC: 0.569\t auPRC: 0.421\t auPRG: 0.171\n",
      "Recall at 5%|10%|20% FDR: 0.1%|0.1%|0.1%\t Num Positives: 6660\t Num Negatives: 11931\t \n",
      "\n"
     ]
    }
   ],
   "source": [
    "#validation_data = (X_valid_normalized_subsampled[:, :, :11, :], y_valid_subsampled)\n",
    "#dnn_normalized.train(X_train_normalized_subsampled[:, :, :11, :], y_train_subsampled, validation_data)\n",
    "validation_data = (X_valid_normalized[:, :, :11, :], y_valid)\n",
    "dnn_normalized.train(X_train_normalized[:, :, :11, :], y_train, validation_data)"
   ]
  },
  {
   "cell_type": "code",
   "execution_count": 11,
   "metadata": {
    "collapsed": false
   },
   "outputs": [
    {
     "name": "stdout",
     "output_type": "stream",
     "text": [
      "Balanced Accuracy: 54.03%\t auROC: 0.573\t auPRC: 0.435\t auPRG: 0.174\n",
      "Recall at 5%|10%|20% FDR: 0.0%|0.0%|0.0%\t Num Positives: 4411\t Num Negatives: 7668\t \n"
     ]
    }
   ],
   "source": [
    "print(dnn_normalized.test(X_test_normalized[:, :, :11, :], y_test))"
   ]
  },
  {
   "cell_type": "markdown",
   "metadata": {},
   "source": [
    "# Print prediction"
   ]
  },
  {
   "cell_type": "code",
   "execution_count": null,
   "metadata": {
    "collapsed": false
   },
   "outputs": [],
   "source": [
    "indx_test=np.load('/users/mtaranov/NN_all_data/indx_test_upperTriangle_noDiag.npy')\n",
    "indx_valid=np.load('/users/mtaranov/NN_all_data/indx_vali_upperTriangle_noDiag.npy')\n",
    "indx_train=np.load('/users/mtaranov/NN_all_data/indx_train_upperTriangle_noDiag.npy')"
   ]
  },
  {
   "cell_type": "code",
   "execution_count": null,
   "metadata": {
    "collapsed": false
   },
   "outputs": [],
   "source": [
    "labels_all=(np.concatenate((y_train, y_valid, y_test), axis=0)).astype(int)\n",
    "preds_all=(np.concatenate((pred_probs_train, pred_probs_valid, pred_probs_test), axis=0))\n",
    "indx_all=(np.concatenate((indx_train, indx_valid, indx_test), axis=0))\n",
    "\n",
    "labels_test = y_test\n",
    "preds_test = pred_probs_test\n",
    "indx_test = indx_test"
   ]
  },
  {
   "cell_type": "code",
   "execution_count": null,
   "metadata": {
    "collapsed": false
   },
   "outputs": [],
   "source": [
    "NumberOfNodes=2272\n",
    "preds_all_2d, labels_all_2d = get_2D(indx_all, preds_all, labels_all, NumberOfNodes)\n",
    "preds_test_2d, labels_test_2d = get_2D(indx_test, preds_test, labels_test, NumberOfNodes)"
   ]
  },
  {
   "cell_type": "code",
   "execution_count": null,
   "metadata": {
    "collapsed": false
   },
   "outputs": [],
   "source": [
    "printMatrix(preds_all_2d, '', 1, 1, title='preds')\n",
    "printMatrix(labels_all_2d, '', 1, 1, title='Captures')"
   ]
  },
  {
   "cell_type": "code",
   "execution_count": null,
   "metadata": {
    "collapsed": false
   },
   "outputs": [],
   "source": [
    "zoomIn_window = (0,2272)\n",
    "preds_thres = 0.99\n",
    "NumberOfNodes=2272\n",
    "plot_prediction(preds_all_2d, labels_all_2d, zoomIn_window, preds_thres)"
   ]
  },
  {
   "cell_type": "code",
   "execution_count": null,
   "metadata": {
    "collapsed": false
   },
   "outputs": [],
   "source": [
    "zoomIn_window = (0,200)\n",
    "preds_thres = 0.999\n",
    "NumberOfNodes=2272\n",
    "plot_prediction(preds_all_2d, labels_all_2d, zoomIn_window, preds_thres)"
   ]
  },
  {
   "cell_type": "code",
   "execution_count": null,
   "metadata": {
    "collapsed": false
   },
   "outputs": [],
   "source": [
    "zoomIn_window = (1500,1700)\n",
    "preds_thres = 0.98\n",
    "NumberOfNodes=2272\n",
    "plot_prediction(preds_all_2d, labels_all_2d, zoomIn_window, preds_thres)"
   ]
  },
  {
   "cell_type": "code",
   "execution_count": null,
   "metadata": {
    "collapsed": false
   },
   "outputs": [],
   "source": [
    "zoomIn_window = (1550,1650)\n",
    "preds_thres = 0.98\n",
    "NumberOfNodes=2272\n",
    "plot_prediction(preds_all_2d, labels_all_2d, zoomIn_window, preds_thres)"
   ]
  },
  {
   "cell_type": "code",
   "execution_count": null,
   "metadata": {
    "collapsed": true
   },
   "outputs": [],
   "source": []
  }
 ],
 "metadata": {
  "kernelspec": {
   "display_name": "Python 2",
   "language": "python",
   "name": "python2"
  },
  "language_info": {
   "codemirror_mode": {
    "name": "ipython",
    "version": 2
   },
   "file_extension": ".py",
   "mimetype": "text/x-python",
   "name": "python",
   "nbconvert_exporter": "python",
   "pygments_lexer": "ipython2",
   "version": "2.7.11"
  }
 },
 "nbformat": 4,
 "nbformat_minor": 0
}
