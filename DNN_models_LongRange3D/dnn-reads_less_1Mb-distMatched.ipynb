{
 "cells": [
  {
   "cell_type": "code",
   "execution_count": 1,
   "metadata": {
    "collapsed": false
   },
   "outputs": [
    {
     "name": "stderr",
     "output_type": "stream",
     "text": [
      "Using Theano backend.\n",
      "/users/mtaranov/local/anaconda2/lib/python2.7/site-packages/theano/tensor/signal/downsample.py:6: UserWarning: downsample module has been moved to the theano.tensor.signal.pool module.\n",
      "  \"downsample module has been moved to the theano.tensor.signal.pool module.\")\n"
     ]
    }
   ],
   "source": [
    "%matplotlib inline\n",
    "%load_ext autoreload\n",
    "%autoreload 2\n",
    "\n",
    "import numpy as np\n",
    "import matplotlib.pyplot as plt\n",
    "from sklearn.preprocessing import MinMaxScaler, StandardScaler\n",
    "import copy\n",
    "from models import LongRangeDNN\n",
    "from utils import get_features, get_labels, subsample_data, normalize_features, reconstruct_2d, printMatrix, binarize, zscore, get_2D, plot_prediction\n",
    "#from sklearn.preprocessing import MinMaxScaler, StandardScaler\n",
    "#from dragonn.models import Model, SequenceDNN\n",
    "#from keras.models import Sequential\n",
    "#from keras.callbacks import Callback, EarlyStopping\n",
    "#from keras.layers.core import (\n",
    "#    Activation, Dense, Dropout, Flatten,\n",
    "#    Permute, Reshape, TimeDistributedDense\n",
    "#)\n",
    "#from keras.layers.convolutional import Convolution2D, MaxPooling2D\n",
    "#from keras.layers.recurrent import GRU\n",
    "#from keras.regularizers import l1\n",
    "\n",
    "#from deeplift import keras_conversion as kc\n",
    "#from deeplift.blobs import MxtsMode"
   ]
  },
  {
   "cell_type": "code",
   "execution_count": 2,
   "metadata": {
    "collapsed": false
   },
   "outputs": [
    {
     "data": {
      "text/plain": [
       "\"\\nX_train = get_features(data_path+'train_set_upperTriangle_noDiag_reads.npy')\\ny_train = get_labels(data_path+'labels_train_upperTriangle_noDiag.npy')\\nX_valid = get_features(data_path+'vali_set_upperTriangle_noDiag_reads.npy')\\ny_valid = get_labels(data_path+'labels_vali_upperTriangle_noDiag.npy')\\nX_test = get_features(data_path+'test_set_upperTriangle_noDiag_reads.npy')\\ny_test = get_labels(data_path+'labels_test_upperTriangle_noDiag.npy')\\n\\nX_train = get_features('NN_datasets/train_set_all_reads.npy')\\ny_train = get_labels('NN_datasets/labels_train_all.npy')\\nX_valid = get_features('NN_datasets/vali_set_all_reads.npy')\\ny_valid = get_labels('NN_datasets/labels_vali_all.npy')\\nX_test = get_features('NN_datasets/test_set_all_reads.npy')\\ny_test = get_labels('NN_datasets/labels_test_all.npy')\\n\\nX_train_subsampled, y_train_subsampled = subsample_data(X_train, y_train)\\nX_valid_subsampled, y_valid_subsampled = subsample_data(X_valid, y_valid)\\nX_test_subsampled, y_test_subsampled = subsample_data(X_test, y_test)\\n\""
      ]
     },
     "execution_count": 2,
     "metadata": {},
     "output_type": "execute_result"
    }
   ],
   "source": [
    "data_path='/users/mtaranov/NN_all_data/'\n",
    "\n",
    "X_train = get_features('/users/mtaranov/NN_all_data/less_than_1Mb/distMatched_data_train_set_upperTriangle_noDiag_reads_less_1Mb.npy')\n",
    "y_train = get_labels('/users/mtaranov/NN_all_data/less_than_1Mb/distMatched_labels_train_upperTriangle_noDiag_reads_less_1Mb.npy')\n",
    "X_valid = get_features('/users/mtaranov/NN_all_data/less_than_1Mb/distMatched_data_vali_set_upperTriangle_noDiag_reads_less_1Mb.npy')\n",
    "y_valid = get_labels('/users/mtaranov/NN_all_data/less_than_1Mb/distMatched_labels_vali_upperTriangle_noDiag_reads_less_1Mb.npy')\n",
    "X_test = get_features('/users/mtaranov/NN_all_data/less_than_1Mb/distMatched_data_test_set_upperTriangle_noDiag_reads_less_1Mb.npy')\n",
    "y_test = get_labels('/users/mtaranov/NN_all_data/less_than_1Mb/distMatched_labels_test_upperTriangle_noDiag_reads_less_1Mb.npy')\n",
    "\n",
    "\"\"\"\n",
    "X_train = get_features(data_path+'train_set_upperTriangle_noDiag_reads.npy')\n",
    "y_train = get_labels(data_path+'labels_train_upperTriangle_noDiag.npy')\n",
    "X_valid = get_features(data_path+'vali_set_upperTriangle_noDiag_reads.npy')\n",
    "y_valid = get_labels(data_path+'labels_vali_upperTriangle_noDiag.npy')\n",
    "X_test = get_features(data_path+'test_set_upperTriangle_noDiag_reads.npy')\n",
    "y_test = get_labels(data_path+'labels_test_upperTriangle_noDiag.npy')\n",
    "\n",
    "X_train = get_features('NN_datasets/train_set_all_reads.npy')\n",
    "y_train = get_labels('NN_datasets/labels_train_all.npy')\n",
    "X_valid = get_features('NN_datasets/vali_set_all_reads.npy')\n",
    "y_valid = get_labels('NN_datasets/labels_vali_all.npy')\n",
    "X_test = get_features('NN_datasets/test_set_all_reads.npy')\n",
    "y_test = get_labels('NN_datasets/labels_test_all.npy')\n",
    "\n",
    "X_train_subsampled, y_train_subsampled = subsample_data(X_train, y_train)\n",
    "X_valid_subsampled, y_valid_subsampled = subsample_data(X_valid, y_valid)\n",
    "X_test_subsampled, y_test_subsampled = subsample_data(X_test, y_test)\n",
    "\"\"\""
   ]
  },
  {
   "cell_type": "code",
   "execution_count": 3,
   "metadata": {
    "collapsed": false
   },
   "outputs": [],
   "source": [
    "X_train_normalized, X_valid_normalized, X_test_normalized = normalize_features(X_train, X_valid, X_test)\n",
    "\n",
    "#X_train_normalized_subsampled, y_train_subsampled = subsample_data(X_train_normalized, y_train)\n",
    "#X_valid_normalized_subsampled, y_valid_subsampled = subsample_data(X_valid_normalized, y_valid)\n",
    "#X_test_normalized_subsampled, y_test_subsampled = subsample_data(X_test_normalized, y_test)\n",
    "\n",
    "#X_train_scaled_subsampled, y_train_subsampled = subsample_data(X_train_scaled, y_train)\n",
    "#X_valid_scaled_subsampled, y_valid_subsampled = subsample_data(X_valid_scaled, y_valid)\n",
    "#X_test_scaled_subsampled, y_test_subsampled = subsample_data(X_test_scaled, y_test)\n"
   ]
  },
  {
   "cell_type": "markdown",
   "metadata": {},
   "source": [
    "# without distance"
   ]
  },
  {
   "cell_type": "code",
   "execution_count": 4,
   "metadata": {
    "collapsed": true
   },
   "outputs": [],
   "source": [
    "dnn_normalized = LongRangeDNN(num_features=10, use_deep_CNN=True)"
   ]
  },
  {
   "cell_type": "code",
   "execution_count": 5,
   "metadata": {
    "collapsed": false
   },
   "outputs": [
    {
     "name": "stdout",
     "output_type": "stream",
     "text": [
      "Training model...\n",
      "Train on 6156 samples, validate on 3680 samples\n",
      "Epoch 1/100\n",
      "6156/6156 [==============================] - 3s - loss: 1.3863 - val_loss: 0.6897\n",
      "Epoch 0: validation loss: 0.690\n",
      "Balanced Accuracy: 54.46%\t auROC: 0.554\t auPRC: 0.542\t auPRG: 0.115\n",
      "Recall at 5%|10%|20% FDR: 0.2%|0.2%|0.3%\t Num Positives: 1840\t Num Negatives: 1840\t \n",
      "\n",
      "Epoch 2/100\n",
      "6156/6156 [==============================] - 1s - loss: 1.3764 - val_loss: 0.6874\n",
      "Epoch 1: validation loss: 0.687\n",
      "Balanced Accuracy: 54.65%\t auROC: 0.568\t auPRC: 0.555\t auPRG: 0.130\n",
      "Recall at 5%|10%|20% FDR: 0.1%|0.1%|0.1%\t Num Positives: 1840\t Num Negatives: 1840\t \n",
      "\n",
      "Epoch 3/100\n",
      "6156/6156 [==============================] - 0s - loss: 1.3667 - val_loss: 0.6856\n",
      "Epoch 2: validation loss: 0.686\n",
      "Balanced Accuracy: 54.59%\t auROC: 0.571\t auPRC: 0.562\t auPRG: 0.130\n",
      "Recall at 5%|10%|20% FDR: 0.1%|0.1%|0.1%\t Num Positives: 1840\t Num Negatives: 1840\t \n",
      "\n",
      "Epoch 4/100\n",
      "6156/6156 [==============================] - 0s - loss: 1.3564 - val_loss: 0.6853\n",
      "Epoch 3: validation loss: 0.685\n",
      "Balanced Accuracy: 55.14%\t auROC: 0.573\t auPRC: 0.569\t auPRG: 0.130\n",
      "Recall at 5%|10%|20% FDR: 0.2%|0.2%|0.2%\t Num Positives: 1840\t Num Negatives: 1840\t \n",
      "\n",
      "Epoch 5/100\n",
      "6156/6156 [==============================] - 1s - loss: 1.3496 - val_loss: 0.6842\n",
      "Epoch 4: validation loss: 0.684\n",
      "Balanced Accuracy: 55.27%\t auROC: 0.578\t auPRC: 0.575\t auPRG: 0.138\n",
      "Recall at 5%|10%|20% FDR: 0.2%|0.2%|1.8%\t Num Positives: 1840\t Num Negatives: 1840\t \n",
      "\n",
      "Epoch 6/100\n",
      "6156/6156 [==============================] - 1s - loss: 1.3397 - val_loss: 0.6820\n",
      "Epoch 5: validation loss: 0.682\n",
      "Balanced Accuracy: 55.27%\t auROC: 0.583\t auPRC: 0.583\t auPRG: 0.146\n",
      "Recall at 5%|10%|20% FDR: 0.2%|0.2%|2.4%\t Num Positives: 1840\t Num Negatives: 1840\t \n",
      "\n",
      "Epoch 7/100\n",
      "6156/6156 [==============================] - 0s - loss: 1.3320 - val_loss: 0.6809\n",
      "Epoch 6: validation loss: 0.681\n",
      "Balanced Accuracy: 56.58%\t auROC: 0.592\t auPRC: 0.589\t auPRG: 0.171\n",
      "Recall at 5%|10%|20% FDR: 0.2%|1.6%|2.5%\t Num Positives: 1840\t Num Negatives: 1840\t \n",
      "\n",
      "Epoch 8/100\n",
      "6156/6156 [==============================] - 0s - loss: 1.3263 - val_loss: 0.6822\n",
      "Epoch 7: validation loss: 0.682\n",
      "Balanced Accuracy: 56.11%\t auROC: 0.593\t auPRC: 0.590\t auPRG: 0.174\n",
      "Recall at 5%|10%|20% FDR: 0.2%|0.2%|1.9%\t Num Positives: 1840\t Num Negatives: 1840\t \n",
      "\n",
      "Epoch 9/100\n",
      "6156/6156 [==============================] - 0s - loss: 1.3206 - val_loss: 0.6812\n",
      "Epoch 8: validation loss: 0.681\n",
      "Balanced Accuracy: 56.30%\t auROC: 0.592\t auPRC: 0.591\t auPRG: 0.173\n",
      "Recall at 5%|10%|20% FDR: 0.2%|1.5%|2.4%\t Num Positives: 1840\t Num Negatives: 1840\t \n",
      "\n",
      "Epoch 10/100\n",
      "6156/6156 [==============================] - 1s - loss: 1.3154 - val_loss: 0.6817\n",
      "Epoch 9: validation loss: 0.682\n",
      "Balanced Accuracy: 55.92%\t auROC: 0.590\t auPRC: 0.590\t auPRG: 0.161\n",
      "Recall at 5%|10%|20% FDR: 0.2%|0.2%|3.5%\t Num Positives: 1840\t Num Negatives: 1840\t \n",
      "\n",
      "Epoch 11/100\n",
      "6156/6156 [==============================] - 1s - loss: 1.3099 - val_loss: 0.6843\n",
      "Epoch 10: validation loss: 0.684\n",
      "Balanced Accuracy: 56.85%\t auROC: 0.593\t auPRC: 0.592\t auPRG: 0.169\n",
      "Recall at 5%|10%|20% FDR: 0.2%|0.2%|2.7%\t Num Positives: 1840\t Num Negatives: 1840\t \n",
      "\n",
      "Epoch 12/100\n",
      "6156/6156 [==============================] - 0s - loss: 1.3049 - val_loss: 0.6839\n",
      "Epoch 11: validation loss: 0.684\n",
      "Balanced Accuracy: 55.92%\t auROC: 0.585\t auPRC: 0.588\t auPRG: 0.143\n",
      "Recall at 5%|10%|20% FDR: 0.2%|0.2%|3.8%\t Num Positives: 1840\t Num Negatives: 1840\t \n",
      "\n",
      "Epoch 13/100\n",
      "6156/6156 [==============================] - 0s - loss: 1.2998 - val_loss: 0.6844\n",
      "Epoch 12: validation loss: 0.684\n",
      "Balanced Accuracy: 56.09%\t auROC: 0.592\t auPRC: 0.592\t auPRG: 0.165\n",
      "Recall at 5%|10%|20% FDR: 0.2%|0.2%|4.0%\t Num Positives: 1840\t Num Negatives: 1840\t \n",
      "\n",
      "Epoch 14/100\n",
      "6156/6156 [==============================] - 1s - loss: 1.2943 - val_loss: 0.6835\n",
      "Epoch 13: validation loss: 0.683\n",
      "Balanced Accuracy: 55.92%\t auROC: 0.592\t auPRC: 0.592\t auPRG: 0.163\n",
      "Recall at 5%|10%|20% FDR: 0.3%|0.3%|3.4%\t Num Positives: 1840\t Num Negatives: 1840\t \n",
      "\n",
      "Epoch 15/100\n",
      "6156/6156 [==============================] - 1s - loss: 1.2888 - val_loss: 0.6843\n",
      "Epoch 14: validation loss: 0.684\n",
      "Balanced Accuracy: 56.66%\t auROC: 0.594\t auPRC: 0.594\t auPRG: 0.174\n",
      "Recall at 5%|10%|20% FDR: 0.4%|0.4%|3.5%\t Num Positives: 1840\t Num Negatives: 1840\t \n",
      "\n",
      "Epoch 16/100\n",
      "6156/6156 [==============================] - 0s - loss: 1.2839 - val_loss: 0.6865\n",
      "Epoch 15: validation loss: 0.687\n",
      "Balanced Accuracy: 56.49%\t auROC: 0.593\t auPRC: 0.593\t auPRG: 0.171\n",
      "Recall at 5%|10%|20% FDR: 0.2%|0.2%|3.6%\t Num Positives: 1840\t Num Negatives: 1840\t \n",
      "\n",
      "Epoch 17/100\n",
      "6156/6156 [==============================] - 2s - loss: 1.2796 - val_loss: 0.6888\n",
      "Epoch 16: validation loss: 0.689\n",
      "Balanced Accuracy: 56.47%\t auROC: 0.594\t auPRC: 0.595\t auPRG: 0.168\n",
      "Recall at 5%|10%|20% FDR: 0.4%|0.4%|3.8%\t Num Positives: 1840\t Num Negatives: 1840\t \n",
      "\n",
      "Epoch 18/100\n",
      "6156/6156 [==============================] - 0s - loss: 1.2783 - val_loss: 0.6912\n",
      "Epoch 17: validation loss: 0.691\n",
      "Balanced Accuracy: 57.15%\t auROC: 0.599\t auPRC: 0.594\t auPRG: 0.185\n",
      "Recall at 5%|10%|20% FDR: 0.2%|0.2%|3.0%\t Num Positives: 1840\t Num Negatives: 1840\t \n",
      "\n"
     ]
    }
   ],
   "source": [
    "#validation_data = (X_valid_normalized_subsampled[:, :, :10, :], y_valid_subsampled)\n",
    "#dnn_normalized.train(X_train_normalized_subsampled[:, :, :10, :], y_train_subsampled, validation_data)\n",
    "validation_data = (X_valid_normalized[:, :, :10, :], y_valid)\n",
    "dnn_normalized.train(X_train_normalized[:, :, :10, :], y_train, validation_data)"
   ]
  },
  {
   "cell_type": "code",
   "execution_count": 6,
   "metadata": {
    "collapsed": false
   },
   "outputs": [
    {
     "name": "stdout",
     "output_type": "stream",
     "text": [
      "Balanced Accuracy: 57.32%\t auROC: 0.600\t auPRC: 0.604\t auPRG: 0.190\n",
      "Recall at 5%|10%|20% FDR: 0.8%|0.9%|5.9%\t Num Positives: 1263\t Num Negatives: 1263\t \n"
     ]
    }
   ],
   "source": [
    "print(dnn_normalized.test(X_test_normalized[:, :, :10, :], y_test))"
   ]
  },
  {
   "cell_type": "markdown",
   "metadata": {},
   "source": [
    "# with genomic locations"
   ]
  },
  {
   "cell_type": "code",
   "execution_count": 7,
   "metadata": {
    "collapsed": true
   },
   "outputs": [],
   "source": [
    "dnn_normalized = LongRangeDNN(num_features=11, use_deep_CNN=True)"
   ]
  },
  {
   "cell_type": "code",
   "execution_count": 8,
   "metadata": {
    "collapsed": false
   },
   "outputs": [
    {
     "name": "stdout",
     "output_type": "stream",
     "text": [
      "Training model...\n",
      "Train on 6156 samples, validate on 3680 samples\n",
      "Epoch 1/100\n",
      "6156/6156 [==============================] - 2s - loss: 1.3927 - val_loss: 0.6896\n",
      "Epoch 0: validation loss: 0.690\n",
      "Balanced Accuracy: 53.34%\t auROC: 0.560\t auPRC: 0.550\t auPRG: 0.121\n",
      "Recall at 5%|10%|20% FDR: 0.0%|0.0%|0.0%\t Num Positives: 1840\t Num Negatives: 1840\t \n",
      "\n",
      "Epoch 2/100\n",
      "6156/6156 [==============================] - 1s - loss: 1.3765 - val_loss: 0.6854\n",
      "Epoch 1: validation loss: 0.685\n",
      "Balanced Accuracy: 56.36%\t auROC: 0.574\t auPRC: 0.563\t auPRG: 0.154\n",
      "Recall at 5%|10%|20% FDR: 0.3%|0.3%|0.3%\t Num Positives: 1840\t Num Negatives: 1840\t \n",
      "\n",
      "Epoch 3/100\n",
      "6156/6156 [==============================] - 0s - loss: 1.3662 - val_loss: 0.6838\n",
      "Epoch 2: validation loss: 0.684\n",
      "Balanced Accuracy: 56.68%\t auROC: 0.580\t auPRC: 0.571\t auPRG: 0.164\n",
      "Recall at 5%|10%|20% FDR: 0.5%|0.7%|0.9%\t Num Positives: 1840\t Num Negatives: 1840\t \n",
      "\n",
      "Epoch 4/100\n",
      "6156/6156 [==============================] - 1s - loss: 1.3561 - val_loss: 0.6862\n",
      "Epoch 3: validation loss: 0.686\n",
      "Balanced Accuracy: 54.92%\t auROC: 0.578\t auPRC: 0.572\t auPRG: 0.154\n",
      "Recall at 5%|10%|20% FDR: 0.2%|0.7%|1.1%\t Num Positives: 1840\t Num Negatives: 1840\t \n",
      "\n",
      "Epoch 5/100\n",
      "6156/6156 [==============================] - 1s - loss: 1.3520 - val_loss: 0.6825\n",
      "Epoch 4: validation loss: 0.683\n",
      "Balanced Accuracy: 56.33%\t auROC: 0.583\t auPRC: 0.577\t auPRG: 0.160\n",
      "Recall at 5%|10%|20% FDR: 0.7%|0.7%|1.6%\t Num Positives: 1840\t Num Negatives: 1840\t \n",
      "\n",
      "Epoch 6/100\n",
      "6156/6156 [==============================] - 1s - loss: 1.3457 - val_loss: 0.6833\n",
      "Epoch 5: validation loss: 0.683\n",
      "Balanced Accuracy: 55.82%\t auROC: 0.583\t auPRC: 0.578\t auPRG: 0.158\n",
      "Recall at 5%|10%|20% FDR: 0.6%|0.7%|2.2%\t Num Positives: 1840\t Num Negatives: 1840\t \n",
      "\n",
      "Epoch 7/100\n",
      "6156/6156 [==============================] - 0s - loss: 1.3391 - val_loss: 0.6820\n",
      "Epoch 6: validation loss: 0.682\n",
      "Balanced Accuracy: 56.44%\t auROC: 0.585\t auPRC: 0.581\t auPRG: 0.164\n",
      "Recall at 5%|10%|20% FDR: 0.4%|0.7%|2.5%\t Num Positives: 1840\t Num Negatives: 1840\t \n",
      "\n",
      "Epoch 8/100\n",
      "6156/6156 [==============================] - 1s - loss: 1.3333 - val_loss: 0.6819\n",
      "Epoch 7: validation loss: 0.682\n",
      "Balanced Accuracy: 55.62%\t auROC: 0.587\t auPRC: 0.586\t auPRG: 0.161\n",
      "Recall at 5%|10%|20% FDR: 0.6%|0.8%|2.8%\t Num Positives: 1840\t Num Negatives: 1840\t \n",
      "\n",
      "Epoch 9/100\n",
      "6156/6156 [==============================] - 2s - loss: 1.3307 - val_loss: 0.6813\n",
      "Epoch 8: validation loss: 0.681\n",
      "Balanced Accuracy: 56.68%\t auROC: 0.588\t auPRC: 0.584\t auPRG: 0.169\n",
      "Recall at 5%|10%|20% FDR: 0.7%|1.0%|3.0%\t Num Positives: 1840\t Num Negatives: 1840\t \n",
      "\n",
      "Epoch 10/100\n",
      "6156/6156 [==============================] - 0s - loss: 1.3210 - val_loss: 0.6816\n",
      "Epoch 9: validation loss: 0.682\n",
      "Balanced Accuracy: 57.09%\t auROC: 0.593\t auPRC: 0.590\t auPRG: 0.183\n",
      "Recall at 5%|10%|20% FDR: 1.0%|1.1%|3.9%\t Num Positives: 1840\t Num Negatives: 1840\t \n",
      "\n",
      "Epoch 11/100\n",
      "6156/6156 [==============================] - 1s - loss: 1.3123 - val_loss: 0.6819\n",
      "Epoch 10: validation loss: 0.682\n",
      "Balanced Accuracy: 56.93%\t auROC: 0.593\t auPRC: 0.589\t auPRG: 0.179\n",
      "Recall at 5%|10%|20% FDR: 1.2%|1.2%|3.1%\t Num Positives: 1840\t Num Negatives: 1840\t \n",
      "\n",
      "Epoch 12/100\n",
      "6156/6156 [==============================] - 1s - loss: 1.3045 - val_loss: 0.6834\n",
      "Epoch 11: validation loss: 0.683\n",
      "Balanced Accuracy: 56.85%\t auROC: 0.597\t auPRC: 0.594\t auPRG: 0.179\n",
      "Recall at 5%|10%|20% FDR: 1.3%|1.7%|2.9%\t Num Positives: 1840\t Num Negatives: 1840\t \n",
      "\n",
      "Epoch 13/100\n",
      "6156/6156 [==============================] - 1s - loss: 1.2941 - val_loss: 0.6830\n",
      "Epoch 12: validation loss: 0.683\n",
      "Balanced Accuracy: 57.07%\t auROC: 0.598\t auPRC: 0.593\t auPRG: 0.187\n",
      "Recall at 5%|10%|20% FDR: 1.4%|1.5%|2.5%\t Num Positives: 1840\t Num Negatives: 1840\t \n",
      "\n",
      "Epoch 14/100\n",
      "6156/6156 [==============================] - 0s - loss: 1.2869 - val_loss: 0.6834\n",
      "Epoch 13: validation loss: 0.683\n",
      "Balanced Accuracy: 56.41%\t auROC: 0.590\t auPRC: 0.586\t auPRG: 0.167\n",
      "Recall at 5%|10%|20% FDR: 1.5%|2.0%|2.1%\t Num Positives: 1840\t Num Negatives: 1840\t \n",
      "\n",
      "Epoch 15/100\n",
      "6156/6156 [==============================] - 0s - loss: 1.2787 - val_loss: 0.6841\n",
      "Epoch 14: validation loss: 0.684\n",
      "Balanced Accuracy: 56.52%\t auROC: 0.595\t auPRC: 0.591\t auPRG: 0.178\n",
      "Recall at 5%|10%|20% FDR: 1.3%|1.3%|2.1%\t Num Positives: 1840\t Num Negatives: 1840\t \n",
      "\n",
      "Epoch 16/100\n",
      "6156/6156 [==============================] - 1s - loss: 1.2756 - val_loss: 0.6948\n",
      "Epoch 15: validation loss: 0.695\n",
      "Balanced Accuracy: 55.46%\t auROC: 0.594\t auPRC: 0.586\t auPRG: 0.180\n",
      "Recall at 5%|10%|20% FDR: 0.2%|0.2%|2.2%\t Num Positives: 1840\t Num Negatives: 1840\t \n",
      "\n",
      "Epoch 17/100\n",
      "6156/6156 [==============================] - 1s - loss: 1.2663 - val_loss: 0.6874\n",
      "Epoch 16: validation loss: 0.687\n",
      "Balanced Accuracy: 56.52%\t auROC: 0.598\t auPRC: 0.595\t auPRG: 0.181\n",
      "Recall at 5%|10%|20% FDR: 1.4%|1.6%|2.2%\t Num Positives: 1840\t Num Negatives: 1840\t \n",
      "\n",
      "Epoch 18/100\n",
      "6156/6156 [==============================] - 1s - loss: 1.2529 - val_loss: 0.6892\n",
      "Epoch 17: validation loss: 0.689\n",
      "Balanced Accuracy: 56.71%\t auROC: 0.598\t auPRC: 0.598\t auPRG: 0.176\n",
      "Recall at 5%|10%|20% FDR: 1.3%|1.6%|2.2%\t Num Positives: 1840\t Num Negatives: 1840\t \n",
      "\n",
      "Epoch 19/100\n",
      "6156/6156 [==============================] - 1s - loss: 1.2521 - val_loss: 0.6954\n",
      "Epoch 18: validation loss: 0.695\n",
      "Balanced Accuracy: 56.55%\t auROC: 0.597\t auPRC: 0.586\t auPRG: 0.186\n",
      "Recall at 5%|10%|20% FDR: 0.2%|0.2%|1.5%\t Num Positives: 1840\t Num Negatives: 1840\t \n",
      "\n",
      "Epoch 20/100\n",
      "6156/6156 [==============================] - 1s - loss: 1.2413 - val_loss: 0.6885\n",
      "Epoch 19: validation loss: 0.688\n",
      "Balanced Accuracy: 57.09%\t auROC: 0.601\t auPRC: 0.597\t auPRG: 0.189\n",
      "Recall at 5%|10%|20% FDR: 1.1%|1.1%|2.2%\t Num Positives: 1840\t Num Negatives: 1840\t \n",
      "\n"
     ]
    }
   ],
   "source": [
    "#validation_data = (X_valid_normalized_subsampled[:, :, :11, :], y_valid_subsampled)\n",
    "#dnn_normalized.train(X_train_normalized_subsampled[:, :, :11, :], y_train_subsampled, validation_data)\n",
    "validation_data = (X_valid_normalized[:, :, :11, :], y_valid)\n",
    "dnn_normalized.train(X_train_normalized[:, :, :11, :], y_train, validation_data)"
   ]
  },
  {
   "cell_type": "code",
   "execution_count": 9,
   "metadata": {
    "collapsed": false
   },
   "outputs": [
    {
     "name": "stdout",
     "output_type": "stream",
     "text": [
      "Balanced Accuracy: 55.78%\t auROC: 0.596\t auPRC: 0.596\t auPRG: 0.170\n",
      "Recall at 5%|10%|20% FDR: 0.0%|0.0%|4.7%\t Num Positives: 1263\t Num Negatives: 1263\t \n"
     ]
    }
   ],
   "source": [
    "print(dnn_normalized.test(X_test_normalized[:, :, :11, :], y_test))"
   ]
  },
  {
   "cell_type": "markdown",
   "metadata": {},
   "source": [
    "# Print prediction"
   ]
  },
  {
   "cell_type": "code",
   "execution_count": 10,
   "metadata": {
    "collapsed": false
   },
   "outputs": [],
   "source": [
    "indx_test=np.load('/users/mtaranov/NN_all_data/indx_test_upperTriangle_noDiag.npy')\n",
    "indx_valid=np.load('/users/mtaranov/NN_all_data/indx_vali_upperTriangle_noDiag.npy')\n",
    "indx_train=np.load('/users/mtaranov/NN_all_data/indx_train_upperTriangle_noDiag.npy')"
   ]
  },
  {
   "cell_type": "code",
   "execution_count": 11,
   "metadata": {
    "collapsed": false
   },
   "outputs": [
    {
     "ename": "NameError",
     "evalue": "name 'pred_probs_train' is not defined",
     "output_type": "error",
     "traceback": [
      "\u001b[1;31m---------------------------------------------------------------------------\u001b[0m",
      "\u001b[1;31mNameError\u001b[0m                                 Traceback (most recent call last)",
      "\u001b[1;32m<ipython-input-11-8d7c7eba4406>\u001b[0m in \u001b[0;36m<module>\u001b[1;34m()\u001b[0m\n\u001b[0;32m      1\u001b[0m \u001b[0mlabels_all\u001b[0m\u001b[1;33m=\u001b[0m\u001b[1;33m(\u001b[0m\u001b[0mnp\u001b[0m\u001b[1;33m.\u001b[0m\u001b[0mconcatenate\u001b[0m\u001b[1;33m(\u001b[0m\u001b[1;33m(\u001b[0m\u001b[0my_train\u001b[0m\u001b[1;33m,\u001b[0m \u001b[0my_valid\u001b[0m\u001b[1;33m,\u001b[0m \u001b[0my_test\u001b[0m\u001b[1;33m)\u001b[0m\u001b[1;33m,\u001b[0m \u001b[0maxis\u001b[0m\u001b[1;33m=\u001b[0m\u001b[1;36m0\u001b[0m\u001b[1;33m)\u001b[0m\u001b[1;33m)\u001b[0m\u001b[1;33m.\u001b[0m\u001b[0mastype\u001b[0m\u001b[1;33m(\u001b[0m\u001b[0mint\u001b[0m\u001b[1;33m)\u001b[0m\u001b[1;33m\u001b[0m\u001b[0m\n\u001b[1;32m----> 2\u001b[1;33m \u001b[0mpreds_all\u001b[0m\u001b[1;33m=\u001b[0m\u001b[1;33m(\u001b[0m\u001b[0mnp\u001b[0m\u001b[1;33m.\u001b[0m\u001b[0mconcatenate\u001b[0m\u001b[1;33m(\u001b[0m\u001b[1;33m(\u001b[0m\u001b[0mpred_probs_train\u001b[0m\u001b[1;33m,\u001b[0m \u001b[0mpred_probs_valid\u001b[0m\u001b[1;33m,\u001b[0m \u001b[0mpred_probs_test\u001b[0m\u001b[1;33m)\u001b[0m\u001b[1;33m,\u001b[0m \u001b[0maxis\u001b[0m\u001b[1;33m=\u001b[0m\u001b[1;36m0\u001b[0m\u001b[1;33m)\u001b[0m\u001b[1;33m)\u001b[0m\u001b[1;33m\u001b[0m\u001b[0m\n\u001b[0m\u001b[0;32m      3\u001b[0m \u001b[0mindx_all\u001b[0m\u001b[1;33m=\u001b[0m\u001b[1;33m(\u001b[0m\u001b[0mnp\u001b[0m\u001b[1;33m.\u001b[0m\u001b[0mconcatenate\u001b[0m\u001b[1;33m(\u001b[0m\u001b[1;33m(\u001b[0m\u001b[0mindx_train\u001b[0m\u001b[1;33m,\u001b[0m \u001b[0mindx_valid\u001b[0m\u001b[1;33m,\u001b[0m \u001b[0mindx_test\u001b[0m\u001b[1;33m)\u001b[0m\u001b[1;33m,\u001b[0m \u001b[0maxis\u001b[0m\u001b[1;33m=\u001b[0m\u001b[1;36m0\u001b[0m\u001b[1;33m)\u001b[0m\u001b[1;33m)\u001b[0m\u001b[1;33m\u001b[0m\u001b[0m\n\u001b[0;32m      4\u001b[0m \u001b[1;33m\u001b[0m\u001b[0m\n\u001b[0;32m      5\u001b[0m \u001b[0mlabels_test\u001b[0m \u001b[1;33m=\u001b[0m \u001b[0my_test\u001b[0m\u001b[1;33m\u001b[0m\u001b[0m\n",
      "\u001b[1;31mNameError\u001b[0m: name 'pred_probs_train' is not defined"
     ]
    }
   ],
   "source": [
    "labels_all=(np.concatenate((y_train, y_valid, y_test), axis=0)).astype(int)\n",
    "preds_all=(np.concatenate((pred_probs_train, pred_probs_valid, pred_probs_test), axis=0))\n",
    "indx_all=(np.concatenate((indx_train, indx_valid, indx_test), axis=0))\n",
    "\n",
    "labels_test = y_test\n",
    "preds_test = pred_probs_test\n",
    "indx_test = indx_test"
   ]
  },
  {
   "cell_type": "code",
   "execution_count": null,
   "metadata": {
    "collapsed": false
   },
   "outputs": [],
   "source": [
    "NumberOfNodes=2272\n",
    "preds_all_2d, labels_all_2d = get_2D(indx_all, preds_all, labels_all, NumberOfNodes)\n",
    "preds_test_2d, labels_test_2d = get_2D(indx_test, preds_test, labels_test, NumberOfNodes)"
   ]
  },
  {
   "cell_type": "code",
   "execution_count": null,
   "metadata": {
    "collapsed": false
   },
   "outputs": [],
   "source": [
    "printMatrix(preds_all_2d, '', 1, 1, title='preds')\n",
    "printMatrix(labels_all_2d, '', 1, 1, title='Captures')"
   ]
  },
  {
   "cell_type": "code",
   "execution_count": null,
   "metadata": {
    "collapsed": false
   },
   "outputs": [],
   "source": [
    "zoomIn_window = (0,2272)\n",
    "preds_thres = 0.99\n",
    "NumberOfNodes=2272\n",
    "plot_prediction(preds_all_2d, labels_all_2d, zoomIn_window, preds_thres)"
   ]
  },
  {
   "cell_type": "code",
   "execution_count": null,
   "metadata": {
    "collapsed": false
   },
   "outputs": [],
   "source": [
    "zoomIn_window = (0,200)\n",
    "preds_thres = 0.999\n",
    "NumberOfNodes=2272\n",
    "plot_prediction(preds_all_2d, labels_all_2d, zoomIn_window, preds_thres)"
   ]
  },
  {
   "cell_type": "code",
   "execution_count": null,
   "metadata": {
    "collapsed": false
   },
   "outputs": [],
   "source": [
    "zoomIn_window = (1500,1700)\n",
    "preds_thres = 0.98\n",
    "NumberOfNodes=2272\n",
    "plot_prediction(preds_all_2d, labels_all_2d, zoomIn_window, preds_thres)"
   ]
  },
  {
   "cell_type": "code",
   "execution_count": null,
   "metadata": {
    "collapsed": false
   },
   "outputs": [],
   "source": [
    "zoomIn_window = (1550,1650)\n",
    "preds_thres = 0.98\n",
    "NumberOfNodes=2272\n",
    "plot_prediction(preds_all_2d, labels_all_2d, zoomIn_window, preds_thres)"
   ]
  },
  {
   "cell_type": "code",
   "execution_count": null,
   "metadata": {
    "collapsed": true
   },
   "outputs": [],
   "source": []
  }
 ],
 "metadata": {
  "kernelspec": {
   "display_name": "Python 2",
   "language": "python",
   "name": "python2"
  },
  "language_info": {
   "codemirror_mode": {
    "name": "ipython",
    "version": 2
   },
   "file_extension": ".py",
   "mimetype": "text/x-python",
   "name": "python",
   "nbconvert_exporter": "python",
   "pygments_lexer": "ipython2",
   "version": "2.7.11"
  }
 },
 "nbformat": 4,
 "nbformat_minor": 0
}
