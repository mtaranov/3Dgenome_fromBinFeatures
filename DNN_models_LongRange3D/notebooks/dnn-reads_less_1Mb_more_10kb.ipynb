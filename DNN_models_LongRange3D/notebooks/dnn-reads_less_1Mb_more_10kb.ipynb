{
 "cells": [
  {
   "cell_type": "code",
   "execution_count": 98,
   "metadata": {
    "collapsed": false
   },
   "outputs": [
    {
     "name": "stdout",
     "output_type": "stream",
     "text": [
      "The autoreload extension is already loaded. To reload it, use:\n",
      "  %reload_ext autoreload\n"
     ]
    }
   ],
   "source": [
    "%matplotlib inline\n",
    "%load_ext autoreload\n",
    "%autoreload 2\n",
    "\n",
    "import numpy as np\n",
    "import matplotlib.pyplot as plt\n",
    "from sklearn.preprocessing import MinMaxScaler, StandardScaler\n",
    "import copy\n",
    "from models import LongRangeDNN\n",
    "from utils import get_features, get_labels, subsample_data, normalize_features, reconstruct_2d, printMatrix, binarize, zscore, get_2D, plot_prediction\n",
    "#from sklearn.preprocessing import MinMaxScaler, StandardScaler\n",
    "#from dragonn.models import Model, SequenceDNN\n",
    "#from keras.models import Sequential\n",
    "#from keras.callbacks import Callback, EarlyStopping\n",
    "#from keras.layers.core import (\n",
    "#    Activation, Dense, Dropout, Flatten,\n",
    "#    Permute, Reshape, TimeDistributedDense\n",
    "#)\n",
    "#from keras.layers.convolutional import Convolution2D, MaxPooling2D\n",
    "#from keras.layers.recurrent import GRU\n",
    "#from keras.regularizers import l1\n",
    "\n",
    "#from deeplift import keras_conversion as kc\n",
    "#from deeplift.blobs import MxtsMode"
   ]
  },
  {
   "cell_type": "code",
   "execution_count": 99,
   "metadata": {
    "collapsed": false
   },
   "outputs": [
    {
     "data": {
      "text/plain": [
       "\"\\nX_train = get_features(data_path+'train_set_upperTriangle_noDiag_reads.npy')\\ny_train = get_labels(data_path+'labels_train_upperTriangle_noDiag.npy')\\nX_valid = get_features(data_path+'vali_set_upperTriangle_noDiag_reads.npy')\\ny_valid = get_labels(data_path+'labels_vali_upperTriangle_noDiag.npy')\\nX_test = get_features(data_path+'test_set_upperTriangle_noDiag_reads.npy')\\ny_test = get_labels(data_path+'labels_test_upperTriangle_noDiag.npy')\\n\\nX_train = get_features('NN_datasets/train_set_all_reads.npy')\\ny_train = get_labels('NN_datasets/labels_train_all.npy')\\nX_valid = get_features('NN_datasets/vali_set_all_reads.npy')\\ny_valid = get_labels('NN_datasets/labels_vali_all.npy')\\nX_test = get_features('NN_datasets/test_set_all_reads.npy')\\ny_test = get_labels('NN_datasets/labels_test_all.npy')\\n\\nX_train_subsampled, y_train_subsampled = subsample_data(X_train, y_train)\\nX_valid_subsampled, y_valid_subsampled = subsample_data(X_valid, y_valid)\\nX_test_subsampled, y_test_subsampled = subsample_data(X_test, y_test)\\n\""
      ]
     },
     "execution_count": 99,
     "metadata": {},
     "output_type": "execute_result"
    }
   ],
   "source": [
    "data_path='/users/mtaranov/NN_all_data/'\n",
    "\n",
    "X_train = get_features('/users/mtaranov/NN_all_data/less_than_1Mb_more_than_10kb/train_set_upperTriangle_noDiag_reads_less_than_1Mb_more_than_10kb.npy')\n",
    "y_train = get_labels('/users/mtaranov/NN_all_data/less_than_1Mb_more_than_10kb/labels_train_upperTriangle_noDiag_less_than_1Mb_more_than_10kb.npy')\n",
    "X_valid = get_features('/users/mtaranov/NN_all_data/less_than_1Mb_more_than_10kb/vali_set_upperTriangle_noDiag_reads_less_than_1Mb_more_than_10kb.npy')\n",
    "y_valid = get_labels('/users/mtaranov/NN_all_data/less_than_1Mb_more_than_10kb/labels_vali_upperTriangle_noDiag_less_than_1Mb_more_than_10kb.npy')\n",
    "X_test = get_features('/users/mtaranov/NN_all_data/less_than_1Mb_more_than_10kb/test_set_upperTriangle_noDiag_reads_less_than_1Mb_more_than_10kb.npy')\n",
    "y_test = get_labels('/users/mtaranov/NN_all_data/less_than_1Mb_more_than_10kb/labels_test_upperTriangle_noDiag_less_than_1Mb_more_than_10kb.npy')\n",
    "\n",
    "\"\"\"\n",
    "X_train = get_features(data_path+'train_set_upperTriangle_noDiag_reads.npy')\n",
    "y_train = get_labels(data_path+'labels_train_upperTriangle_noDiag.npy')\n",
    "X_valid = get_features(data_path+'vali_set_upperTriangle_noDiag_reads.npy')\n",
    "y_valid = get_labels(data_path+'labels_vali_upperTriangle_noDiag.npy')\n",
    "X_test = get_features(data_path+'test_set_upperTriangle_noDiag_reads.npy')\n",
    "y_test = get_labels(data_path+'labels_test_upperTriangle_noDiag.npy')\n",
    "\n",
    "X_train = get_features('NN_datasets/train_set_all_reads.npy')\n",
    "y_train = get_labels('NN_datasets/labels_train_all.npy')\n",
    "X_valid = get_features('NN_datasets/vali_set_all_reads.npy')\n",
    "y_valid = get_labels('NN_datasets/labels_vali_all.npy')\n",
    "X_test = get_features('NN_datasets/test_set_all_reads.npy')\n",
    "y_test = get_labels('NN_datasets/labels_test_all.npy')\n",
    "\n",
    "X_train_subsampled, y_train_subsampled = subsample_data(X_train, y_train)\n",
    "X_valid_subsampled, y_valid_subsampled = subsample_data(X_valid, y_valid)\n",
    "X_test_subsampled, y_test_subsampled = subsample_data(X_test, y_test)\n",
    "\"\"\""
   ]
  },
  {
   "cell_type": "code",
   "execution_count": 100,
   "metadata": {
    "collapsed": false
   },
   "outputs": [
    {
     "data": {
      "text/plain": [
       "'\\nX_train_normalized_subsampled, y_train_subsampled = subsample_data(X_train_normalized, y_train)\\nX_valid_normalized_subsampled, y_valid_subsampled = subsample_data(X_valid_normalized, y_valid)\\nX_test_normalized_subsampled, y_test_subsampled = subsample_data(X_test_normalized, y_test)\\n\\nX_train_scaled_subsampled, y_train_subsampled = subsample_data(X_train_scaled, y_train)\\nX_valid_scaled_subsampled, y_valid_subsampled = subsample_data(X_valid_scaled, y_valid)\\nX_test_scaled_subsampled, y_test_subsampled = subsample_data(X_test_scaled, y_test)\\n'"
      ]
     },
     "execution_count": 100,
     "metadata": {},
     "output_type": "execute_result"
    }
   ],
   "source": [
    "\"\"\"\n",
    "X_train_normalized_subsampled, y_train_subsampled = subsample_data(X_train_normalized, y_train)\n",
    "X_valid_normalized_subsampled, y_valid_subsampled = subsample_data(X_valid_normalized, y_valid)\n",
    "X_test_normalized_subsampled, y_test_subsampled = subsample_data(X_test_normalized, y_test)\n",
    "\n",
    "X_train_scaled_subsampled, y_train_subsampled = subsample_data(X_train_scaled, y_train)\n",
    "X_valid_scaled_subsampled, y_valid_subsampled = subsample_data(X_valid_scaled, y_valid)\n",
    "X_test_scaled_subsampled, y_test_subsampled = subsample_data(X_test_scaled, y_test)\n",
    "\"\"\""
   ]
  },
  {
   "cell_type": "code",
   "execution_count": 101,
   "metadata": {
    "collapsed": false
   },
   "outputs": [],
   "source": [
    "X_train_normalized, X_valid_normalized, X_test_normalized = normalize_features(X_train, X_valid, X_test)\n",
    "\n",
    "X_train_normalized_subsampled, y_train_subsampled = subsample_data(X_train_normalized, y_train)\n",
    "X_valid_normalized_subsampled, y_valid_subsampled = subsample_data(X_valid_normalized, y_valid)\n",
    "X_test_normalized_subsampled, y_test_subsampled = subsample_data(X_test_normalized, y_test)\n",
    "\n",
    "\n",
    "#X_train_scaled_subsampled, y_train_subsampled = subsample_data(X_train_scaled, y_train)\n",
    "#X_valid_scaled_subsampled, y_valid_subsampled = subsample_data(X_valid_scaled, y_valid)\n",
    "#X_test_scaled_subsampled, y_test_subsampled = subsample_data(X_test_scaled, y_test)\n"
   ]
  },
  {
   "cell_type": "markdown",
   "metadata": {},
   "source": [
    "# without distance"
   ]
  },
  {
   "cell_type": "code",
   "execution_count": 102,
   "metadata": {
    "collapsed": true
   },
   "outputs": [],
   "source": [
    "dnn_normalized = LongRangeDNN(num_features=10, use_deep_CNN=True)"
   ]
  },
  {
   "cell_type": "code",
   "execution_count": 103,
   "metadata": {
    "collapsed": false
   },
   "outputs": [
    {
     "name": "stdout",
     "output_type": "stream",
     "text": [
      "Training model...\n",
      "Train on 16089 samples, validate on 9801 samples\n",
      "Epoch 1/100\n",
      "16089/16089 [==============================] - 0s - loss: 0.9450 - val_loss: 0.7064\n",
      "Epoch 0: validation loss: 0.706\n",
      "Balanced Accuracy: 51.04%\t auROC: 0.538\t auPRC: 0.665\t auPRG: 0.061\n",
      "Recall at 5%|10%|20% FDR: 0.0%|0.0%|0.2%\t Num Positives: 6275\t Num Negatives: 3526\t \n",
      "\n",
      "Epoch 2/100\n",
      "16089/16089 [==============================] - 0s - loss: 0.9365 - val_loss: 0.7110\n",
      "Epoch 1: validation loss: 0.711\n",
      "Balanced Accuracy: 50.58%\t auROC: 0.547\t auPRC: 0.669\t auPRG: 0.070\n",
      "Recall at 5%|10%|20% FDR: 0.0%|0.0%|0.0%\t Num Positives: 6275\t Num Negatives: 3526\t \n",
      "\n",
      "Epoch 3/100\n",
      "16089/16089 [==============================] - 0s - loss: 0.9344 - val_loss: 0.7003\n",
      "Epoch 2: validation loss: 0.700\n",
      "Balanced Accuracy: 53.36%\t auROC: 0.551\t auPRC: 0.675\t auPRG: 0.071\n",
      "Recall at 5%|10%|20% FDR: 0.0%|0.0%|0.0%\t Num Positives: 6275\t Num Negatives: 3526\t \n",
      "\n",
      "Epoch 4/100\n",
      "16089/16089 [==============================] - 0s - loss: 0.9324 - val_loss: 0.7122\n",
      "Epoch 3: validation loss: 0.712\n",
      "Balanced Accuracy: 53.41%\t auROC: 0.558\t auPRC: 0.685\t auPRG: 0.075\n",
      "Recall at 5%|10%|20% FDR: 0.0%|0.0%|0.0%\t Num Positives: 6275\t Num Negatives: 3526\t \n",
      "\n",
      "Epoch 5/100\n",
      "16089/16089 [==============================] - 0s - loss: 0.9310 - val_loss: 0.7077\n",
      "Epoch 4: validation loss: 0.708\n",
      "Balanced Accuracy: 53.86%\t auROC: 0.559\t auPRC: 0.687\t auPRG: 0.073\n",
      "Recall at 5%|10%|20% FDR: 0.0%|0.0%|0.0%\t Num Positives: 6275\t Num Negatives: 3526\t \n",
      "\n",
      "Epoch 6/100\n",
      "16089/16089 [==============================] - 0s - loss: 0.9279 - val_loss: 0.6988\n",
      "Epoch 5: validation loss: 0.699\n",
      "Balanced Accuracy: 53.58%\t auROC: 0.556\t auPRC: 0.680\t auPRG: 0.072\n",
      "Recall at 5%|10%|20% FDR: 0.1%|0.1%|0.2%\t Num Positives: 6275\t Num Negatives: 3526\t \n",
      "\n",
      "Epoch 7/100\n",
      "16089/16089 [==============================] - 0s - loss: 0.9248 - val_loss: 0.7093\n",
      "Epoch 6: validation loss: 0.709\n",
      "Balanced Accuracy: 54.43%\t auROC: 0.565\t auPRC: 0.692\t auPRG: 0.081\n",
      "Recall at 5%|10%|20% FDR: 0.0%|0.0%|0.1%\t Num Positives: 6275\t Num Negatives: 3526\t \n",
      "\n",
      "Epoch 8/100\n",
      "16089/16089 [==============================] - 0s - loss: 0.9231 - val_loss: 0.7041\n",
      "Epoch 7: validation loss: 0.704\n",
      "Balanced Accuracy: 54.05%\t auROC: 0.565\t auPRC: 0.692\t auPRG: 0.087\n",
      "Recall at 5%|10%|20% FDR: 0.2%|0.2%|1.4%\t Num Positives: 6275\t Num Negatives: 3526\t \n",
      "\n",
      "Epoch 9/100\n",
      "16089/16089 [==============================] - 0s - loss: 0.9213 - val_loss: 0.7076\n",
      "Epoch 8: validation loss: 0.708\n",
      "Balanced Accuracy: 54.87%\t auROC: 0.570\t auPRC: 0.695\t auPRG: 0.091\n",
      "Recall at 5%|10%|20% FDR: 0.0%|0.0%|4.2%\t Num Positives: 6275\t Num Negatives: 3526\t \n",
      "\n",
      "Epoch 10/100\n",
      "16089/16089 [==============================] - 0s - loss: 0.9175 - val_loss: 0.6995\n",
      "Epoch 9: validation loss: 0.700\n",
      "Balanced Accuracy: 54.40%\t auROC: 0.570\t auPRC: 0.698\t auPRG: 0.091\n",
      "Recall at 5%|10%|20% FDR: 0.1%|0.1%|3.9%\t Num Positives: 6275\t Num Negatives: 3526\t \n",
      "\n",
      "Epoch 11/100\n",
      "16089/16089 [==============================] - 0s - loss: 0.9155 - val_loss: 0.6989\n",
      "Epoch 10: validation loss: 0.699\n",
      "Balanced Accuracy: 54.34%\t auROC: 0.570\t auPRC: 0.692\t auPRG: 0.100\n",
      "Recall at 5%|10%|20% FDR: 0.1%|0.1%|0.3%\t Num Positives: 6275\t Num Negatives: 3526\t \n",
      "\n",
      "Epoch 12/100\n",
      "16089/16089 [==============================] - 0s - loss: 0.9137 - val_loss: 0.6994\n",
      "Epoch 11: validation loss: 0.699\n",
      "Balanced Accuracy: 54.10%\t auROC: 0.569\t auPRC: 0.693\t auPRG: 0.097\n",
      "Recall at 5%|10%|20% FDR: 0.0%|0.0%|1.2%\t Num Positives: 6275\t Num Negatives: 3526\t \n",
      "\n",
      "Epoch 13/100\n",
      "16089/16089 [==============================] - 0s - loss: 0.9119 - val_loss: 0.7231\n",
      "Epoch 12: validation loss: 0.723\n",
      "Balanced Accuracy: 54.80%\t auROC: 0.576\t auPRC: 0.700\t auPRG: 0.104\n",
      "Recall at 5%|10%|20% FDR: 0.1%|0.1%|1.2%\t Num Positives: 6275\t Num Negatives: 3526\t \n",
      "\n",
      "Epoch 14/100\n",
      "16089/16089 [==============================] - 0s - loss: 0.9094 - val_loss: 0.6904\n",
      "Epoch 13: validation loss: 0.690\n",
      "Balanced Accuracy: 54.71%\t auROC: 0.575\t auPRC: 0.699\t auPRG: 0.104\n",
      "Recall at 5%|10%|20% FDR: 0.0%|0.0%|3.6%\t Num Positives: 6275\t Num Negatives: 3526\t \n",
      "\n",
      "Epoch 15/100\n",
      "16089/16089 [==============================] - 0s - loss: 0.9062 - val_loss: 0.7034\n",
      "Epoch 14: validation loss: 0.703\n",
      "Balanced Accuracy: 54.91%\t auROC: 0.578\t auPRC: 0.701\t auPRG: 0.109\n",
      "Recall at 5%|10%|20% FDR: 0.1%|0.1%|4.3%\t Num Positives: 6275\t Num Negatives: 3526\t \n",
      "\n",
      "Epoch 16/100\n",
      "16089/16089 [==============================] - 0s - loss: 0.9036 - val_loss: 0.7203\n",
      "Epoch 15: validation loss: 0.720\n",
      "Balanced Accuracy: 54.60%\t auROC: 0.574\t auPRC: 0.696\t auPRG: 0.101\n",
      "Recall at 5%|10%|20% FDR: 0.1%|0.1%|0.2%\t Num Positives: 6275\t Num Negatives: 3526\t \n",
      "\n",
      "Epoch 17/100\n",
      "16089/16089 [==============================] - 0s - loss: 0.9027 - val_loss: 0.6986\n",
      "Epoch 16: validation loss: 0.699\n",
      "Balanced Accuracy: 54.61%\t auROC: 0.574\t auPRC: 0.694\t auPRG: 0.111\n",
      "Recall at 5%|10%|20% FDR: 0.1%|0.1%|0.4%\t Num Positives: 6275\t Num Negatives: 3526\t \n",
      "\n",
      "Epoch 18/100\n",
      "16089/16089 [==============================] - 0s - loss: 0.9019 - val_loss: 0.7252\n",
      "Epoch 17: validation loss: 0.725\n",
      "Balanced Accuracy: 55.07%\t auROC: 0.580\t auPRC: 0.702\t auPRG: 0.105\n",
      "Recall at 5%|10%|20% FDR: 0.1%|0.2%|0.3%\t Num Positives: 6275\t Num Negatives: 3526\t \n",
      "\n",
      "Epoch 19/100\n",
      "16089/16089 [==============================] - 0s - loss: 0.8998 - val_loss: 0.7059\n",
      "Epoch 18: validation loss: 0.706\n",
      "Balanced Accuracy: 55.03%\t auROC: 0.577\t auPRC: 0.698\t auPRG: 0.112\n",
      "Recall at 5%|10%|20% FDR: 0.1%|0.1%|0.8%\t Num Positives: 6275\t Num Negatives: 3526\t \n",
      "\n",
      "Epoch 20/100\n",
      "16089/16089 [==============================] - 0s - loss: 0.8949 - val_loss: 0.6932\n",
      "Epoch 19: validation loss: 0.693\n",
      "Balanced Accuracy: 55.79%\t auROC: 0.581\t auPRC: 0.701\t auPRG: 0.119\n",
      "Recall at 5%|10%|20% FDR: 0.1%|0.2%|1.5%\t Num Positives: 6275\t Num Negatives: 3526\t \n",
      "\n",
      "Epoch 21/100\n",
      "16089/16089 [==============================] - 0s - loss: 0.8926 - val_loss: 0.7072\n",
      "Epoch 20: validation loss: 0.707\n",
      "Balanced Accuracy: 55.04%\t auROC: 0.580\t auPRC: 0.701\t auPRG: 0.116\n",
      "Recall at 5%|10%|20% FDR: 0.1%|0.1%|4.8%\t Num Positives: 6275\t Num Negatives: 3526\t \n",
      "\n",
      "Epoch 22/100\n",
      "16089/16089 [==============================] - 0s - loss: 0.8901 - val_loss: 0.7001\n",
      "Epoch 21: validation loss: 0.700\n",
      "Balanced Accuracy: 55.52%\t auROC: 0.578\t auPRC: 0.697\t auPRG: 0.116\n",
      "Recall at 5%|10%|20% FDR: 0.0%|0.0%|3.1%\t Num Positives: 6275\t Num Negatives: 3526\t \n",
      "\n",
      "Epoch 23/100\n",
      "16089/16089 [==============================] - 0s - loss: 0.8891 - val_loss: 0.7220\n",
      "Epoch 22: validation loss: 0.722\n",
      "Balanced Accuracy: 54.62%\t auROC: 0.583\t auPRC: 0.704\t auPRG: 0.121\n",
      "Recall at 5%|10%|20% FDR: 0.1%|0.1%|3.4%\t Num Positives: 6275\t Num Negatives: 3526\t \n",
      "\n",
      "Epoch 24/100\n",
      "16089/16089 [==============================] - 0s - loss: 0.8873 - val_loss: 0.7054\n",
      "Epoch 23: validation loss: 0.705\n",
      "Balanced Accuracy: 55.75%\t auROC: 0.582\t auPRC: 0.700\t auPRG: 0.119\n",
      "Recall at 5%|10%|20% FDR: 0.0%|0.0%|1.2%\t Num Positives: 6275\t Num Negatives: 3526\t \n",
      "\n",
      "Epoch 25/100\n",
      "16089/16089 [==============================] - 0s - loss: 0.8836 - val_loss: 0.6955\n",
      "Epoch 24: validation loss: 0.696\n",
      "Balanced Accuracy: 55.86%\t auROC: 0.584\t auPRC: 0.702\t auPRG: 0.122\n",
      "Recall at 5%|10%|20% FDR: 0.1%|0.2%|1.7%\t Num Positives: 6275\t Num Negatives: 3526\t \n",
      "\n"
     ]
    }
   ],
   "source": [
    "#validation_data = (X_valid_normalized_subsampled[:, :, :10, :], y_valid_subsampled)\n",
    "#dnn_normalized.train(X_train_normalized_subsampled[:, :, :10, :], y_train_subsampled, validation_data)\n",
    "validation_data = (X_valid_normalized[:, :, :10, :], y_valid)\n",
    "dnn_normalized.train(X_train_normalized[:, :, :10, :], y_train, validation_data)"
   ]
  },
  {
   "cell_type": "code",
   "execution_count": 104,
   "metadata": {
    "collapsed": false
   },
   "outputs": [
    {
     "name": "stdout",
     "output_type": "stream",
     "text": [
      "Balanced Accuracy: 55.70%\t auROC: 0.580\t auPRC: 0.707\t auPRG: 0.103\n",
      "Recall at 5%|10%|20% FDR: 0.1%|0.1%|5.3%\t Num Positives: 4174\t Num Negatives: 2316\t \n"
     ]
    }
   ],
   "source": [
    "print(dnn_normalized.test(X_test_normalized[:, :, :10, :], y_test))"
   ]
  },
  {
   "cell_type": "markdown",
   "metadata": {},
   "source": [
    "# with genomic locations"
   ]
  },
  {
   "cell_type": "code",
   "execution_count": 105,
   "metadata": {
    "collapsed": true
   },
   "outputs": [],
   "source": [
    "dnn_normalized = LongRangeDNN(num_features=11, use_deep_CNN=True)"
   ]
  },
  {
   "cell_type": "code",
   "execution_count": 106,
   "metadata": {
    "collapsed": false
   },
   "outputs": [
    {
     "name": "stdout",
     "output_type": "stream",
     "text": [
      "Training model...\n",
      "Train on 16089 samples, validate on 9801 samples\n",
      "Epoch 1/100\n",
      "16089/16089 [==============================] - 0s - loss: 0.9433 - val_loss: 0.7062\n",
      "Epoch 0: validation loss: 0.706\n",
      "Balanced Accuracy: 50.50%\t auROC: 0.539\t auPRC: 0.663\t auPRG: 0.056\n",
      "Recall at 5%|10%|20% FDR: 0.0%|0.0%|0.0%\t Num Positives: 6275\t Num Negatives: 3526\t \n",
      "\n",
      "Epoch 2/100\n",
      "16089/16089 [==============================] - 0s - loss: 0.9374 - val_loss: 0.7087\n",
      "Epoch 1: validation loss: 0.709\n",
      "Balanced Accuracy: 51.38%\t auROC: 0.543\t auPRC: 0.664\t auPRG: 0.065\n",
      "Recall at 5%|10%|20% FDR: 0.0%|0.0%|0.0%\t Num Positives: 6275\t Num Negatives: 3526\t \n",
      "\n",
      "Epoch 3/100\n",
      "16089/16089 [==============================] - 0s - loss: 0.9345 - val_loss: 0.6980\n",
      "Epoch 2: validation loss: 0.698\n",
      "Balanced Accuracy: 53.22%\t auROC: 0.548\t auPRC: 0.669\t auPRG: 0.064\n",
      "Recall at 5%|10%|20% FDR: 0.0%|0.0%|0.0%\t Num Positives: 6275\t Num Negatives: 3526\t \n",
      "\n",
      "Epoch 4/100\n",
      "16089/16089 [==============================] - 0s - loss: 0.9318 - val_loss: 0.7070\n",
      "Epoch 3: validation loss: 0.707\n",
      "Balanced Accuracy: 53.11%\t auROC: 0.553\t auPRC: 0.675\t auPRG: 0.076\n",
      "Recall at 5%|10%|20% FDR: 0.0%|0.0%|0.0%\t Num Positives: 6275\t Num Negatives: 3526\t \n",
      "\n",
      "Epoch 5/100\n",
      "16089/16089 [==============================] - 0s - loss: 0.9290 - val_loss: 0.6971\n",
      "Epoch 4: validation loss: 0.697\n",
      "Balanced Accuracy: 54.01%\t auROC: 0.558\t auPRC: 0.682\t auPRG: 0.080\n",
      "Recall at 5%|10%|20% FDR: 0.0%|0.0%|0.0%\t Num Positives: 6275\t Num Negatives: 3526\t \n",
      "\n",
      "Epoch 6/100\n",
      "16089/16089 [==============================] - 0s - loss: 0.9261 - val_loss: 0.6965\n",
      "Epoch 5: validation loss: 0.697\n",
      "Balanced Accuracy: 54.34%\t auROC: 0.562\t auPRC: 0.685\t auPRG: 0.084\n",
      "Recall at 5%|10%|20% FDR: 0.1%|0.1%|0.1%\t Num Positives: 6275\t Num Negatives: 3526\t \n",
      "\n",
      "Epoch 7/100\n",
      "16089/16089 [==============================] - 0s - loss: 0.9233 - val_loss: 0.7114\n",
      "Epoch 6: validation loss: 0.711\n",
      "Balanced Accuracy: 54.50%\t auROC: 0.562\t auPRC: 0.684\t auPRG: 0.078\n",
      "Recall at 5%|10%|20% FDR: 0.0%|0.0%|0.0%\t Num Positives: 6275\t Num Negatives: 3526\t \n",
      "\n",
      "Epoch 8/100\n",
      "16089/16089 [==============================] - 0s - loss: 0.9213 - val_loss: 0.7079\n",
      "Epoch 7: validation loss: 0.708\n",
      "Balanced Accuracy: 54.38%\t auROC: 0.565\t auPRC: 0.689\t auPRG: 0.090\n",
      "Recall at 5%|10%|20% FDR: 0.0%|0.0%|0.0%\t Num Positives: 6275\t Num Negatives: 3526\t \n",
      "\n",
      "Epoch 9/100\n",
      "16089/16089 [==============================] - 0s - loss: 0.9211 - val_loss: 0.7172\n",
      "Epoch 8: validation loss: 0.717\n",
      "Balanced Accuracy: 53.94%\t auROC: 0.564\t auPRC: 0.686\t auPRG: 0.084\n",
      "Recall at 5%|10%|20% FDR: 0.0%|0.0%|0.0%\t Num Positives: 6275\t Num Negatives: 3526\t \n",
      "\n",
      "Epoch 10/100\n",
      "16089/16089 [==============================] - 0s - loss: 0.9180 - val_loss: 0.6931\n",
      "Epoch 9: validation loss: 0.693\n",
      "Balanced Accuracy: 54.65%\t auROC: 0.565\t auPRC: 0.690\t auPRG: 0.086\n",
      "Recall at 5%|10%|20% FDR: 0.1%|0.1%|0.2%\t Num Positives: 6275\t Num Negatives: 3526\t \n",
      "\n",
      "Epoch 11/100\n",
      "16089/16089 [==============================] - 0s - loss: 0.9152 - val_loss: 0.7162\n",
      "Epoch 10: validation loss: 0.716\n",
      "Balanced Accuracy: 53.92%\t auROC: 0.568\t auPRC: 0.695\t auPRG: 0.091\n",
      "Recall at 5%|10%|20% FDR: 0.0%|0.0%|2.5%\t Num Positives: 6275\t Num Negatives: 3526\t \n",
      "\n",
      "Epoch 12/100\n",
      "16089/16089 [==============================] - 0s - loss: 0.9126 - val_loss: 0.7069\n",
      "Epoch 11: validation loss: 0.707\n",
      "Balanced Accuracy: 54.68%\t auROC: 0.571\t auPRC: 0.699\t auPRG: 0.096\n",
      "Recall at 5%|10%|20% FDR: 0.0%|0.0%|2.7%\t Num Positives: 6275\t Num Negatives: 3526\t \n",
      "\n",
      "Epoch 13/100\n",
      "16089/16089 [==============================] - 0s - loss: 0.9102 - val_loss: 0.7016\n",
      "Epoch 12: validation loss: 0.702\n",
      "Balanced Accuracy: 54.51%\t auROC: 0.569\t auPRC: 0.696\t auPRG: 0.089\n",
      "Recall at 5%|10%|20% FDR: 0.1%|0.1%|2.2%\t Num Positives: 6275\t Num Negatives: 3526\t \n",
      "\n",
      "Epoch 14/100\n",
      "16089/16089 [==============================] - 0s - loss: 0.9075 - val_loss: 0.7023\n",
      "Epoch 13: validation loss: 0.702\n",
      "Balanced Accuracy: 54.86%\t auROC: 0.570\t auPRC: 0.693\t auPRG: 0.093\n",
      "Recall at 5%|10%|20% FDR: 0.1%|0.1%|0.1%\t Num Positives: 6275\t Num Negatives: 3526\t \n",
      "\n",
      "Epoch 15/100\n",
      "16089/16089 [==============================] - 0s - loss: 0.9066 - val_loss: 0.6905\n",
      "Epoch 14: validation loss: 0.690\n",
      "Balanced Accuracy: 55.26%\t auROC: 0.574\t auPRC: 0.701\t auPRG: 0.101\n",
      "Recall at 5%|10%|20% FDR: 0.1%|1.3%|4.0%\t Num Positives: 6275\t Num Negatives: 3526\t \n",
      "\n",
      "Epoch 16/100\n",
      "16089/16089 [==============================] - 0s - loss: 0.9042 - val_loss: 0.6908\n",
      "Epoch 15: validation loss: 0.691\n",
      "Balanced Accuracy: 55.13%\t auROC: 0.573\t auPRC: 0.695\t auPRG: 0.099\n",
      "Recall at 5%|10%|20% FDR: 0.1%|0.1%|1.0%\t Num Positives: 6275\t Num Negatives: 3526\t \n",
      "\n",
      "Epoch 17/100\n",
      "16089/16089 [==============================] - 0s - loss: 0.9044 - val_loss: 0.6852\n",
      "Epoch 16: validation loss: 0.685\n",
      "Balanced Accuracy: 54.79%\t auROC: 0.570\t auPRC: 0.696\t auPRG: 0.092\n",
      "Recall at 5%|10%|20% FDR: 0.1%|0.1%|1.7%\t Num Positives: 6275\t Num Negatives: 3526\t \n",
      "\n",
      "Epoch 18/100\n",
      "16089/16089 [==============================] - 0s - loss: 0.8989 - val_loss: 0.6967\n",
      "Epoch 17: validation loss: 0.697\n",
      "Balanced Accuracy: 55.15%\t auROC: 0.576\t auPRC: 0.702\t auPRG: 0.105\n",
      "Recall at 5%|10%|20% FDR: 0.2%|0.2%|4.6%\t Num Positives: 6275\t Num Negatives: 3526\t \n",
      "\n",
      "Epoch 19/100\n",
      "16089/16089 [==============================] - 0s - loss: 0.8969 - val_loss: 0.6846\n",
      "Epoch 18: validation loss: 0.685\n",
      "Balanced Accuracy: 55.10%\t auROC: 0.572\t auPRC: 0.698\t auPRG: 0.099\n",
      "Recall at 5%|10%|20% FDR: 0.1%|0.1%|2.4%\t Num Positives: 6275\t Num Negatives: 3526\t \n",
      "\n",
      "Epoch 20/100\n",
      "16089/16089 [==============================] - 0s - loss: 0.8963 - val_loss: 0.6885\n",
      "Epoch 19: validation loss: 0.688\n",
      "Balanced Accuracy: 55.22%\t auROC: 0.572\t auPRC: 0.700\t auPRG: 0.098\n",
      "Recall at 5%|10%|20% FDR: 0.1%|0.1%|5.7%\t Num Positives: 6275\t Num Negatives: 3526\t \n",
      "\n",
      "Epoch 21/100\n",
      "16089/16089 [==============================] - 0s - loss: 0.8928 - val_loss: 0.6845\n",
      "Epoch 20: validation loss: 0.685\n",
      "Balanced Accuracy: 55.17%\t auROC: 0.573\t auPRC: 0.700\t auPRG: 0.098\n",
      "Recall at 5%|10%|20% FDR: 0.1%|0.1%|4.6%\t Num Positives: 6275\t Num Negatives: 3526\t \n",
      "\n",
      "Epoch 22/100\n",
      "16089/16089 [==============================] - 0s - loss: 0.8903 - val_loss: 0.6927\n",
      "Epoch 21: validation loss: 0.693\n",
      "Balanced Accuracy: 55.24%\t auROC: 0.578\t auPRC: 0.706\t auPRG: 0.106\n",
      "Recall at 5%|10%|20% FDR: 0.1%|0.1%|7.1%\t Num Positives: 6275\t Num Negatives: 3526\t \n",
      "\n",
      "Epoch 23/100\n",
      "16089/16089 [==============================] - 0s - loss: 0.8868 - val_loss: 0.7160\n",
      "Epoch 22: validation loss: 0.716\n",
      "Balanced Accuracy: 54.97%\t auROC: 0.581\t auPRC: 0.708\t auPRG: 0.109\n",
      "Recall at 5%|10%|20% FDR: 0.0%|0.0%|8.0%\t Num Positives: 6275\t Num Negatives: 3526\t \n",
      "\n",
      "Epoch 24/100\n",
      "16089/16089 [==============================] - 0s - loss: 0.8857 - val_loss: 0.7248\n",
      "Epoch 23: validation loss: 0.725\n",
      "Balanced Accuracy: 54.68%\t auROC: 0.578\t auPRC: 0.704\t auPRG: 0.110\n",
      "Recall at 5%|10%|20% FDR: 0.1%|0.1%|6.1%\t Num Positives: 6275\t Num Negatives: 3526\t \n",
      "\n",
      "Epoch 25/100\n",
      "16089/16089 [==============================] - 0s - loss: 0.8827 - val_loss: 0.6876\n",
      "Epoch 24: validation loss: 0.688\n",
      "Balanced Accuracy: 54.96%\t auROC: 0.573\t auPRC: 0.699\t auPRG: 0.102\n",
      "Recall at 5%|10%|20% FDR: 0.1%|0.1%|2.0%\t Num Positives: 6275\t Num Negatives: 3526\t \n",
      "\n",
      "Epoch 26/100\n",
      "16089/16089 [==============================] - 0s - loss: 0.8814 - val_loss: 0.7078\n",
      "Epoch 25: validation loss: 0.708\n",
      "Balanced Accuracy: 55.36%\t auROC: 0.580\t auPRC: 0.705\t auPRG: 0.111\n",
      "Recall at 5%|10%|20% FDR: 0.1%|0.1%|4.7%\t Num Positives: 6275\t Num Negatives: 3526\t \n",
      "\n",
      "Epoch 27/100\n",
      "16089/16089 [==============================] - 0s - loss: 0.8788 - val_loss: 0.7562\n",
      "Epoch 26: validation loss: 0.756\n",
      "Balanced Accuracy: 54.34%\t auROC: 0.581\t auPRC: 0.705\t auPRG: 0.116\n",
      "Recall at 5%|10%|20% FDR: 0.1%|0.1%|4.1%\t Num Positives: 6275\t Num Negatives: 3526\t \n",
      "\n",
      "Epoch 28/100\n",
      "16089/16089 [==============================] - 0s - loss: 0.8790 - val_loss: 0.7041\n",
      "Epoch 27: validation loss: 0.704\n",
      "Balanced Accuracy: 55.21%\t auROC: 0.579\t auPRC: 0.706\t auPRG: 0.108\n",
      "Recall at 5%|10%|20% FDR: 0.1%|0.1%|6.7%\t Num Positives: 6275\t Num Negatives: 3526\t \n",
      "\n",
      "Epoch 29/100\n",
      "16089/16089 [==============================] - 0s - loss: 0.8738 - val_loss: 0.7113\n",
      "Epoch 28: validation loss: 0.711\n",
      "Balanced Accuracy: 55.33%\t auROC: 0.581\t auPRC: 0.707\t auPRG: 0.116\n",
      "Recall at 5%|10%|20% FDR: 0.1%|0.9%|7.5%\t Num Positives: 6275\t Num Negatives: 3526\t \n",
      "\n",
      "Epoch 30/100\n",
      "16089/16089 [==============================] - 0s - loss: 0.8738 - val_loss: 0.7149\n",
      "Epoch 29: validation loss: 0.715\n",
      "Balanced Accuracy: 55.27%\t auROC: 0.579\t auPRC: 0.704\t auPRG: 0.111\n",
      "Recall at 5%|10%|20% FDR: 0.1%|0.1%|5.2%\t Num Positives: 6275\t Num Negatives: 3526\t \n",
      "\n",
      "Epoch 31/100\n",
      "16089/16089 [==============================] - 0s - loss: 0.8747 - val_loss: 0.6894\n",
      "Epoch 30: validation loss: 0.689\n",
      "Balanced Accuracy: 55.65%\t auROC: 0.581\t auPRC: 0.708\t auPRG: 0.114\n",
      "Recall at 5%|10%|20% FDR: 0.2%|0.4%|6.6%\t Num Positives: 6275\t Num Negatives: 3526\t \n",
      "\n",
      "Epoch 32/100\n",
      "16089/16089 [==============================] - 0s - loss: 0.8703 - val_loss: 0.7196\n",
      "Epoch 31: validation loss: 0.720\n",
      "Balanced Accuracy: 55.64%\t auROC: 0.582\t auPRC: 0.706\t auPRG: 0.116\n",
      "Recall at 5%|10%|20% FDR: 0.0%|0.0%|5.5%\t Num Positives: 6275\t Num Negatives: 3526\t \n",
      "\n"
     ]
    }
   ],
   "source": [
    "#validation_data = (X_valid_normalized_subsampled[:, :, :11, :], y_valid_subsampled)\n",
    "#dnn_normalized.train(X_train_normalized_subsampled[:, :, :11, :], y_train_subsampled, validation_data)\n",
    "validation_data = (X_valid_normalized[:, :, :11, :], y_valid)\n",
    "dnn_normalized.train(X_train_normalized[:, :, :11, :], y_train, validation_data)"
   ]
  },
  {
   "cell_type": "code",
   "execution_count": 107,
   "metadata": {
    "collapsed": false
   },
   "outputs": [
    {
     "name": "stdout",
     "output_type": "stream",
     "text": [
      "Balanced Accuracy: 54.57%\t auROC: 0.566\t auPRC: 0.695\t auPRG: 0.088\n",
      "Recall at 5%|10%|20% FDR: 0.0%|0.0%|1.9%\t Num Positives: 4174\t Num Negatives: 2316\t \n"
     ]
    }
   ],
   "source": [
    "print(dnn_normalized.test(X_test_normalized[:, :, :11, :], y_test))"
   ]
  },
  {
   "cell_type": "markdown",
   "metadata": {},
   "source": [
    "# Print prediction"
   ]
  },
  {
   "cell_type": "code",
   "execution_count": 108,
   "metadata": {
    "collapsed": false
   },
   "outputs": [],
   "source": [
    "indx_test=np.load('/users/mtaranov/NN_all_data/indx_test_upperTriangle_noDiag.npy')\n",
    "indx_valid=np.load('/users/mtaranov/NN_all_data/indx_vali_upperTriangle_noDiag.npy')\n",
    "indx_train=np.load('/users/mtaranov/NN_all_data/indx_train_upperTriangle_noDiag.npy')"
   ]
  },
  {
   "cell_type": "code",
   "execution_count": 109,
   "metadata": {
    "collapsed": false
   },
   "outputs": [
    {
     "ename": "NameError",
     "evalue": "name 'pred_probs_train' is not defined",
     "output_type": "error",
     "traceback": [
      "\u001b[1;31m---------------------------------------------------------------------------\u001b[0m",
      "\u001b[1;31mNameError\u001b[0m                                 Traceback (most recent call last)",
      "\u001b[1;32m<ipython-input-109-8d7c7eba4406>\u001b[0m in \u001b[0;36m<module>\u001b[1;34m()\u001b[0m\n\u001b[0;32m      1\u001b[0m \u001b[0mlabels_all\u001b[0m\u001b[1;33m=\u001b[0m\u001b[1;33m(\u001b[0m\u001b[0mnp\u001b[0m\u001b[1;33m.\u001b[0m\u001b[0mconcatenate\u001b[0m\u001b[1;33m(\u001b[0m\u001b[1;33m(\u001b[0m\u001b[0my_train\u001b[0m\u001b[1;33m,\u001b[0m \u001b[0my_valid\u001b[0m\u001b[1;33m,\u001b[0m \u001b[0my_test\u001b[0m\u001b[1;33m)\u001b[0m\u001b[1;33m,\u001b[0m \u001b[0maxis\u001b[0m\u001b[1;33m=\u001b[0m\u001b[1;36m0\u001b[0m\u001b[1;33m)\u001b[0m\u001b[1;33m)\u001b[0m\u001b[1;33m.\u001b[0m\u001b[0mastype\u001b[0m\u001b[1;33m(\u001b[0m\u001b[0mint\u001b[0m\u001b[1;33m)\u001b[0m\u001b[1;33m\u001b[0m\u001b[0m\n\u001b[1;32m----> 2\u001b[1;33m \u001b[0mpreds_all\u001b[0m\u001b[1;33m=\u001b[0m\u001b[1;33m(\u001b[0m\u001b[0mnp\u001b[0m\u001b[1;33m.\u001b[0m\u001b[0mconcatenate\u001b[0m\u001b[1;33m(\u001b[0m\u001b[1;33m(\u001b[0m\u001b[0mpred_probs_train\u001b[0m\u001b[1;33m,\u001b[0m \u001b[0mpred_probs_valid\u001b[0m\u001b[1;33m,\u001b[0m \u001b[0mpred_probs_test\u001b[0m\u001b[1;33m)\u001b[0m\u001b[1;33m,\u001b[0m \u001b[0maxis\u001b[0m\u001b[1;33m=\u001b[0m\u001b[1;36m0\u001b[0m\u001b[1;33m)\u001b[0m\u001b[1;33m)\u001b[0m\u001b[1;33m\u001b[0m\u001b[0m\n\u001b[0m\u001b[0;32m      3\u001b[0m \u001b[0mindx_all\u001b[0m\u001b[1;33m=\u001b[0m\u001b[1;33m(\u001b[0m\u001b[0mnp\u001b[0m\u001b[1;33m.\u001b[0m\u001b[0mconcatenate\u001b[0m\u001b[1;33m(\u001b[0m\u001b[1;33m(\u001b[0m\u001b[0mindx_train\u001b[0m\u001b[1;33m,\u001b[0m \u001b[0mindx_valid\u001b[0m\u001b[1;33m,\u001b[0m \u001b[0mindx_test\u001b[0m\u001b[1;33m)\u001b[0m\u001b[1;33m,\u001b[0m \u001b[0maxis\u001b[0m\u001b[1;33m=\u001b[0m\u001b[1;36m0\u001b[0m\u001b[1;33m)\u001b[0m\u001b[1;33m)\u001b[0m\u001b[1;33m\u001b[0m\u001b[0m\n\u001b[0;32m      4\u001b[0m \u001b[1;33m\u001b[0m\u001b[0m\n\u001b[0;32m      5\u001b[0m \u001b[0mlabels_test\u001b[0m \u001b[1;33m=\u001b[0m \u001b[0my_test\u001b[0m\u001b[1;33m\u001b[0m\u001b[0m\n",
      "\u001b[1;31mNameError\u001b[0m: name 'pred_probs_train' is not defined"
     ]
    }
   ],
   "source": [
    "labels_all=(np.concatenate((y_train, y_valid, y_test), axis=0)).astype(int)\n",
    "preds_all=(np.concatenate((pred_probs_train, pred_probs_valid, pred_probs_test), axis=0))\n",
    "indx_all=(np.concatenate((indx_train, indx_valid, indx_test), axis=0))\n",
    "\n",
    "labels_test = y_test\n",
    "preds_test = pred_probs_test\n",
    "indx_test = indx_test"
   ]
  },
  {
   "cell_type": "code",
   "execution_count": null,
   "metadata": {
    "collapsed": false
   },
   "outputs": [],
   "source": [
    "NumberOfNodes=2272\n",
    "preds_all_2d, labels_all_2d = get_2D(indx_all, preds_all, labels_all, NumberOfNodes)\n",
    "preds_test_2d, labels_test_2d = get_2D(indx_test, preds_test, labels_test, NumberOfNodes)"
   ]
  },
  {
   "cell_type": "code",
   "execution_count": null,
   "metadata": {
    "collapsed": false
   },
   "outputs": [],
   "source": [
    "printMatrix(preds_all_2d, '', 1, 1, title='preds')\n",
    "printMatrix(labels_all_2d, '', 1, 1, title='Captures')"
   ]
  },
  {
   "cell_type": "code",
   "execution_count": null,
   "metadata": {
    "collapsed": false
   },
   "outputs": [],
   "source": [
    "zoomIn_window = (0,2272)\n",
    "preds_thres = 0.99\n",
    "NumberOfNodes=2272\n",
    "plot_prediction(preds_all_2d, labels_all_2d, zoomIn_window, preds_thres)"
   ]
  },
  {
   "cell_type": "code",
   "execution_count": null,
   "metadata": {
    "collapsed": false
   },
   "outputs": [],
   "source": [
    "zoomIn_window = (0,200)\n",
    "preds_thres = 0.999\n",
    "NumberOfNodes=2272\n",
    "plot_prediction(preds_all_2d, labels_all_2d, zoomIn_window, preds_thres)"
   ]
  },
  {
   "cell_type": "code",
   "execution_count": null,
   "metadata": {
    "collapsed": false
   },
   "outputs": [],
   "source": [
    "zoomIn_window = (1500,1700)\n",
    "preds_thres = 0.98\n",
    "NumberOfNodes=2272\n",
    "plot_prediction(preds_all_2d, labels_all_2d, zoomIn_window, preds_thres)"
   ]
  },
  {
   "cell_type": "code",
   "execution_count": null,
   "metadata": {
    "collapsed": false
   },
   "outputs": [],
   "source": [
    "zoomIn_window = (1550,1650)\n",
    "preds_thres = 0.98\n",
    "NumberOfNodes=2272\n",
    "plot_prediction(preds_all_2d, labels_all_2d, zoomIn_window, preds_thres)"
   ]
  },
  {
   "cell_type": "code",
   "execution_count": null,
   "metadata": {
    "collapsed": true
   },
   "outputs": [],
   "source": []
  }
 ],
 "metadata": {
  "kernelspec": {
   "display_name": "Python 2",
   "language": "python",
   "name": "python2"
  },
  "language_info": {
   "codemirror_mode": {
    "name": "ipython",
    "version": 2
   },
   "file_extension": ".py",
   "mimetype": "text/x-python",
   "name": "python",
   "nbconvert_exporter": "python",
   "pygments_lexer": "ipython2",
   "version": "2.7.11"
  }
 },
 "nbformat": 4,
 "nbformat_minor": 0
}
