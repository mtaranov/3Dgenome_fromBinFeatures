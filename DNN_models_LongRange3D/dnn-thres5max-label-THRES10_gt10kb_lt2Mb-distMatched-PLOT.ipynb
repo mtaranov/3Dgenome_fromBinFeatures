{
 "cells": [
  {
   "cell_type": "code",
   "execution_count": 3,
   "metadata": {
    "collapsed": false
   },
   "outputs": [
    {
     "name": "stdout",
     "output_type": "stream",
     "text": [
      "The autoreload extension is already loaded. To reload it, use:\n",
      "  %reload_ext autoreload\n"
     ]
    }
   ],
   "source": [
    "%matplotlib inline\n",
    "%load_ext autoreload\n",
    "%autoreload 2\n",
    "\n",
    "import numpy as np\n",
    "import matplotlib.pyplot as plt\n",
    "from sklearn.preprocessing import MinMaxScaler, StandardScaler\n",
    "import copy\n",
    "from models import LongRangeDNN\n",
    "from utils import get_features, get_labels, subsample_data, normalize_features, reconstruct_2d, printMatrix, binarize, zscore, get_2D, plot_prediction, change_scale \n",
    "#from sklearn.preprocessing import MinMaxScaler, StandardScaler\n",
    "#from dragonn.models import Model, SequenceDNN\n",
    "#from keras.models import Sequential\n",
    "#from keras.callbacks import Callback, EarlyStopping\n",
    "#from keras.layers.core import (\n",
    "#    Activation, Dense, Dropout, Flatten,\n",
    "#    Permute, Reshape, TimeDistributedDense\n",
    "#)\n",
    "#from keras.layers.convolutional import Convolution2D, MaxPooling2D\n",
    "#from keras.layers.recurrent import GRU\n",
    "#from keras.regularizers import l1\n",
    "\n",
    "#from deeplift import keras_conversion as kc\n",
    "#from deeplift.blobs import MxtsMode"
   ]
  },
  {
   "cell_type": "code",
   "execution_count": 4,
   "metadata": {
    "collapsed": false
   },
   "outputs": [
    {
     "data": {
      "text/plain": [
       "\"\\nX_train = get_features(data_path+'train_set_upperTriangle_noDiag_reads.npy')\\ny_train = get_labels(data_path+'labels_train_upperTriangle_noDiag.npy')\\nX_valid = get_features(data_path+'vali_set_upperTriangle_noDiag_reads.npy')\\ny_valid = get_labels(data_path+'labels_vali_upperTriangle_noDiag.npy')\\nX_test = get_features(data_path+'test_set_upperTriangle_noDiag_reads.npy')\\ny_test = get_labels(data_path+'labels_test_upperTriangle_noDiag.npy')\\n\\nX_train = get_features('NN_datasets/train_set_all_reads.npy')\\ny_train = get_labels('NN_datasets/labels_train_all.npy')\\nX_valid = get_features('NN_datasets/vali_set_all_reads.npy')\\ny_valid = get_labels('NN_datasets/labels_vali_all.npy')\\nX_test = get_features('NN_datasets/test_set_all_reads.npy')\\ny_test = get_labels('NN_datasets/labels_test_all.npy')\\n\\nX_train_subsampled, y_train_subsampled = subsample_data(X_train, y_train)\\nX_valid_subsampled, y_valid_subsampled = subsample_data(X_valid, y_valid)\\nX_test_subsampled, y_test_subsampled = subsample_data(X_test, y_test)\\n\""
      ]
     },
     "execution_count": 4,
     "metadata": {},
     "output_type": "execute_result"
    }
   ],
   "source": [
    "data_path='/users/mtaranov/NN_all_data/'\n",
    "\n",
    "X_train = get_features('/users/mtaranov/NN_thres5max_datasets/dist_matched/X_train_thres_10.npy')\n",
    "y_train = get_labels('/users/mtaranov/NN_thres5max_datasets/dist_matched/y_train_thres_10.npy')\n",
    "X_valid = get_features('/users/mtaranov/NN_thres5max_datasets/dist_matched/X_valid_thres_10.npy')\n",
    "y_valid = get_labels('/users/mtaranov/NN_thres5max_datasets/dist_matched/y_valid_thres_10.npy')\n",
    "X_test = get_features('/users/mtaranov/NN_thres5max_datasets/dist_matched/X_test_thres_10.npy')\n",
    "y_test = get_labels('/users/mtaranov/NN_thres5max_datasets/dist_matched/y_test_thres_10.npy')\n",
    "\n",
    "\"\"\"\n",
    "X_train = get_features(data_path+'train_set_upperTriangle_noDiag_reads.npy')\n",
    "y_train = get_labels(data_path+'labels_train_upperTriangle_noDiag.npy')\n",
    "X_valid = get_features(data_path+'vali_set_upperTriangle_noDiag_reads.npy')\n",
    "y_valid = get_labels(data_path+'labels_vali_upperTriangle_noDiag.npy')\n",
    "X_test = get_features(data_path+'test_set_upperTriangle_noDiag_reads.npy')\n",
    "y_test = get_labels(data_path+'labels_test_upperTriangle_noDiag.npy')\n",
    "\n",
    "X_train = get_features('NN_datasets/train_set_all_reads.npy')\n",
    "y_train = get_labels('NN_datasets/labels_train_all.npy')\n",
    "X_valid = get_features('NN_datasets/vali_set_all_reads.npy')\n",
    "y_valid = get_labels('NN_datasets/labels_vali_all.npy')\n",
    "X_test = get_features('NN_datasets/test_set_all_reads.npy')\n",
    "y_test = get_labels('NN_datasets/labels_test_all.npy')\n",
    "\n",
    "X_train_subsampled, y_train_subsampled = subsample_data(X_train, y_train)\n",
    "X_valid_subsampled, y_valid_subsampled = subsample_data(X_valid, y_valid)\n",
    "X_test_subsampled, y_test_subsampled = subsample_data(X_test, y_test)\n",
    "\"\"\""
   ]
  },
  {
   "cell_type": "code",
   "execution_count": 5,
   "metadata": {
    "collapsed": false
   },
   "outputs": [],
   "source": [
    "X_train_normalized, X_valid_normalized, X_test_normalized = normalize_features(X_train, X_valid, X_test)\n",
    "\n",
    "#X_train_normalized_subsampled, y_train_subsampled = subsample_data(X_train_normalized, y_train)\n",
    "#X_valid_normalized_subsampled, y_valid_subsampled = subsample_data(X_valid_normalized, y_valid)\n",
    "#X_test_normalized_subsampled, y_test_subsampled = subsample_data(X_test_normalized, y_test)\n",
    "\n",
    "#X_train_scaled_subsampled, y_train_subsampled = subsample_data(X_train_scaled, y_train)\n",
    "#X_valid_scaled_subsampled, y_valid_subsampled = subsample_data(X_valid_scaled, y_valid)\n",
    "#X_test_scaled_subsampled, y_test_subsampled = subsample_data(X_test_scaled, y_test)\n"
   ]
  },
  {
   "cell_type": "markdown",
   "metadata": {},
   "source": [
    "# without distance"
   ]
  },
  {
   "cell_type": "code",
   "execution_count": 6,
   "metadata": {
    "collapsed": true
   },
   "outputs": [],
   "source": [
    "dnn_normalized = LongRangeDNN(num_features=10, use_deep_CNN=True)"
   ]
  },
  {
   "cell_type": "code",
   "execution_count": 8,
   "metadata": {
    "collapsed": false
   },
   "outputs": [
    {
     "name": "stdout",
     "output_type": "stream",
     "text": [
      "Training model...\n",
      "Train on 1178 samples, validate on 700 samples\n",
      "Epoch 1/100\n",
      "1178/1178 [==============================] - 0s - loss: 1.0967 - val_loss: 0.6062\n",
      "Epoch 0: validation loss: 0.606\n",
      "Balanced Accuracy: 67.00%\t auROC: 0.736\t auPRC: 0.748\t auPRG: 0.471\n",
      "Recall at 5%|10%|20% FDR: 8.0%|22.6%|38.9%\t Num Positives: 350\t Num Negatives: 350\t \n",
      "\n",
      "Epoch 2/100\n",
      "1178/1178 [==============================] - 0s - loss: 1.0788 - val_loss: 0.6048\n",
      "Epoch 1: validation loss: 0.605\n",
      "Balanced Accuracy: 67.43%\t auROC: 0.741\t auPRC: 0.752\t auPRG: 0.483\n",
      "Recall at 5%|10%|20% FDR: 8.0%|22.3%|31.4%\t Num Positives: 350\t Num Negatives: 350\t \n",
      "\n",
      "Epoch 3/100\n",
      "1178/1178 [==============================] - 0s - loss: 1.0645 - val_loss: 0.6019\n",
      "Epoch 2: validation loss: 0.602\n",
      "Balanced Accuracy: 68.71%\t auROC: 0.746\t auPRC: 0.756\t auPRG: 0.502\n",
      "Recall at 5%|10%|20% FDR: 7.1%|21.7%|31.7%\t Num Positives: 350\t Num Negatives: 350\t \n",
      "\n",
      "Epoch 4/100\n",
      "1178/1178 [==============================] - 0s - loss: 1.0410 - val_loss: 0.6007\n",
      "Epoch 3: validation loss: 0.601\n",
      "Balanced Accuracy: 68.29%\t auROC: 0.753\t auPRC: 0.763\t auPRG: 0.514\n",
      "Recall at 5%|10%|20% FDR: 7.7%|22.9%|40.3%\t Num Positives: 350\t Num Negatives: 350\t \n",
      "\n",
      "Epoch 5/100\n",
      "1178/1178 [==============================] - 0s - loss: 1.0300 - val_loss: 0.5970\n",
      "Epoch 4: validation loss: 0.597\n",
      "Balanced Accuracy: 69.14%\t auROC: 0.756\t auPRC: 0.764\t auPRG: 0.528\n",
      "Recall at 5%|10%|20% FDR: 6.0%|19.7%|38.9%\t Num Positives: 350\t Num Negatives: 350\t \n",
      "\n",
      "Epoch 6/100\n",
      "1178/1178 [==============================] - 0s - loss: 1.0099 - val_loss: 0.5932\n",
      "Epoch 5: validation loss: 0.593\n",
      "Balanced Accuracy: 69.57%\t auROC: 0.759\t auPRC: 0.769\t auPRG: 0.536\n",
      "Recall at 5%|10%|20% FDR: 6.3%|23.4%|50.6%\t Num Positives: 350\t Num Negatives: 350\t \n",
      "\n",
      "Epoch 7/100\n",
      "1178/1178 [==============================] - 0s - loss: 0.9946 - val_loss: 0.5901\n",
      "Epoch 6: validation loss: 0.590\n",
      "Balanced Accuracy: 69.43%\t auROC: 0.761\t auPRC: 0.771\t auPRG: 0.540\n",
      "Recall at 5%|10%|20% FDR: 6.3%|22.9%|50.9%\t Num Positives: 350\t Num Negatives: 350\t \n",
      "\n",
      "Epoch 8/100\n",
      "1178/1178 [==============================] - 0s - loss: 0.9784 - val_loss: 0.5873\n",
      "Epoch 7: validation loss: 0.587\n",
      "Balanced Accuracy: 70.00%\t auROC: 0.765\t auPRC: 0.774\t auPRG: 0.547\n",
      "Recall at 5%|10%|20% FDR: 6.3%|22.9%|52.0%\t Num Positives: 350\t Num Negatives: 350\t \n",
      "\n",
      "Epoch 9/100\n",
      "1178/1178 [==============================] - 0s - loss: 0.9626 - val_loss: 0.5873\n",
      "Epoch 8: validation loss: 0.587\n",
      "Balanced Accuracy: 69.57%\t auROC: 0.765\t auPRC: 0.776\t auPRG: 0.549\n",
      "Recall at 5%|10%|20% FDR: 12.0%|22.6%|53.7%\t Num Positives: 350\t Num Negatives: 350\t \n",
      "\n",
      "Epoch 10/100\n",
      "1178/1178 [==============================] - 0s - loss: 0.9465 - val_loss: 0.5865\n",
      "Epoch 9: validation loss: 0.587\n",
      "Balanced Accuracy: 71.00%\t auROC: 0.768\t auPRC: 0.779\t auPRG: 0.555\n",
      "Recall at 5%|10%|20% FDR: 6.0%|22.0%|54.3%\t Num Positives: 350\t Num Negatives: 350\t \n",
      "\n",
      "Epoch 11/100\n",
      "1178/1178 [==============================] - 0s - loss: 0.9307 - val_loss: 0.5871\n",
      "Epoch 10: validation loss: 0.587\n",
      "Balanced Accuracy: 70.14%\t auROC: 0.770\t auPRC: 0.781\t auPRG: 0.555\n",
      "Recall at 5%|10%|20% FDR: 5.1%|24.9%|52.9%\t Num Positives: 350\t Num Negatives: 350\t \n",
      "\n",
      "Epoch 12/100\n",
      "1178/1178 [==============================] - 0s - loss: 0.9230 - val_loss: 0.5875\n",
      "Epoch 11: validation loss: 0.588\n",
      "Balanced Accuracy: 70.86%\t auROC: 0.770\t auPRC: 0.782\t auPRG: 0.559\n",
      "Recall at 5%|10%|20% FDR: 5.7%|22.3%|55.4%\t Num Positives: 350\t Num Negatives: 350\t \n",
      "\n",
      "Epoch 13/100\n",
      "1178/1178 [==============================] - 0s - loss: 0.9146 - val_loss: 0.5899\n",
      "Epoch 12: validation loss: 0.590\n",
      "Balanced Accuracy: 69.86%\t auROC: 0.770\t auPRC: 0.783\t auPRG: 0.556\n",
      "Recall at 5%|10%|20% FDR: 5.7%|26.3%|54.6%\t Num Positives: 350\t Num Negatives: 350\t \n",
      "\n",
      "Epoch 14/100\n",
      "1178/1178 [==============================] - 0s - loss: 0.8969 - val_loss: 0.5899\n",
      "Epoch 13: validation loss: 0.590\n",
      "Balanced Accuracy: 70.86%\t auROC: 0.771\t auPRC: 0.784\t auPRG: 0.562\n",
      "Recall at 5%|10%|20% FDR: 6.0%|21.7%|55.7%\t Num Positives: 350\t Num Negatives: 350\t \n",
      "\n",
      "Epoch 15/100\n",
      "1178/1178 [==============================] - 0s - loss: 0.8820 - val_loss: 0.5858\n",
      "Epoch 14: validation loss: 0.586\n",
      "Balanced Accuracy: 70.71%\t auROC: 0.774\t auPRC: 0.787\t auPRG: 0.565\n",
      "Recall at 5%|10%|20% FDR: 6.3%|29.4%|55.1%\t Num Positives: 350\t Num Negatives: 350\t \n",
      "\n",
      "Epoch 16/100\n",
      "1178/1178 [==============================] - 0s - loss: 0.8693 - val_loss: 0.5902\n",
      "Epoch 15: validation loss: 0.590\n",
      "Balanced Accuracy: 70.57%\t auROC: 0.773\t auPRC: 0.786\t auPRG: 0.565\n",
      "Recall at 5%|10%|20% FDR: 6.9%|26.6%|55.4%\t Num Positives: 350\t Num Negatives: 350\t \n",
      "\n",
      "Epoch 17/100\n",
      "1178/1178 [==============================] - 0s - loss: 0.8598 - val_loss: 0.5964\n",
      "Epoch 16: validation loss: 0.596\n",
      "Balanced Accuracy: 70.57%\t auROC: 0.771\t auPRC: 0.784\t auPRG: 0.561\n",
      "Recall at 5%|10%|20% FDR: 7.1%|23.1%|54.9%\t Num Positives: 350\t Num Negatives: 350\t \n",
      "\n",
      "Epoch 18/100\n",
      "1178/1178 [==============================] - 0s - loss: 0.8458 - val_loss: 0.5926\n",
      "Epoch 17: validation loss: 0.593\n",
      "Balanced Accuracy: 71.14%\t auROC: 0.775\t auPRC: 0.790\t auPRG: 0.568\n",
      "Recall at 5%|10%|20% FDR: 7.1%|26.3%|55.1%\t Num Positives: 350\t Num Negatives: 350\t \n",
      "\n",
      "Epoch 19/100\n",
      "1178/1178 [==============================] - 0s - loss: 0.8364 - val_loss: 0.5945\n",
      "Epoch 18: validation loss: 0.594\n",
      "Balanced Accuracy: 70.86%\t auROC: 0.774\t auPRC: 0.790\t auPRG: 0.564\n",
      "Recall at 5%|10%|20% FDR: 7.4%|27.7%|54.9%\t Num Positives: 350\t Num Negatives: 350\t \n",
      "\n",
      "Epoch 20/100\n",
      "1178/1178 [==============================] - 0s - loss: 0.8269 - val_loss: 0.5998\n",
      "Epoch 19: validation loss: 0.600\n",
      "Balanced Accuracy: 69.14%\t auROC: 0.771\t auPRC: 0.787\t auPRG: 0.558\n",
      "Recall at 5%|10%|20% FDR: 7.4%|24.9%|54.0%\t Num Positives: 350\t Num Negatives: 350\t \n",
      "\n",
      "Epoch 21/100\n",
      "1178/1178 [==============================] - 0s - loss: 0.8256 - val_loss: 0.5986\n",
      "Epoch 20: validation loss: 0.599\n",
      "Balanced Accuracy: 71.29%\t auROC: 0.773\t auPRC: 0.788\t auPRG: 0.557\n",
      "Recall at 5%|10%|20% FDR: 8.0%|28.3%|52.9%\t Num Positives: 350\t Num Negatives: 350\t \n",
      "\n",
      "Epoch 22/100\n",
      "1178/1178 [==============================] - 0s - loss: 0.8052 - val_loss: 0.5989\n",
      "Epoch 21: validation loss: 0.599\n",
      "Balanced Accuracy: 69.57%\t auROC: 0.774\t auPRC: 0.790\t auPRG: 0.562\n",
      "Recall at 5%|10%|20% FDR: 7.7%|26.6%|54.6%\t Num Positives: 350\t Num Negatives: 350\t \n",
      "\n",
      "Epoch 23/100\n",
      "1178/1178 [==============================] - 0s - loss: 0.7966 - val_loss: 0.6021\n",
      "Epoch 22: validation loss: 0.602\n",
      "Balanced Accuracy: 70.86%\t auROC: 0.774\t auPRC: 0.790\t auPRG: 0.561\n",
      "Recall at 5%|10%|20% FDR: 8.3%|29.4%|54.9%\t Num Positives: 350\t Num Negatives: 350\t \n",
      "\n",
      "Epoch 24/100\n",
      "1178/1178 [==============================] - 0s - loss: 0.7838 - val_loss: 0.6025\n",
      "Epoch 23: validation loss: 0.603\n",
      "Balanced Accuracy: 69.00%\t auROC: 0.774\t auPRC: 0.788\t auPRG: 0.557\n",
      "Recall at 5%|10%|20% FDR: 7.7%|30.6%|54.6%\t Num Positives: 350\t Num Negatives: 350\t \n",
      "\n",
      "Epoch 25/100\n",
      "1178/1178 [==============================] - 0s - loss: 0.7743 - val_loss: 0.6017\n",
      "Epoch 24: validation loss: 0.602\n",
      "Balanced Accuracy: 70.71%\t auROC: 0.777\t auPRC: 0.792\t auPRG: 0.559\n",
      "Recall at 5%|10%|20% FDR: 8.0%|32.3%|53.7%\t Num Positives: 350\t Num Negatives: 350\t \n",
      "\n",
      "Epoch 26/100\n",
      "1178/1178 [==============================] - 0s - loss: 0.7732 - val_loss: 0.6043\n",
      "Epoch 25: validation loss: 0.604\n",
      "Balanced Accuracy: 69.00%\t auROC: 0.777\t auPRC: 0.790\t auPRG: 0.561\n",
      "Recall at 5%|10%|20% FDR: 6.6%|31.4%|53.1%\t Num Positives: 350\t Num Negatives: 350\t \n",
      "\n"
     ]
    }
   ],
   "source": [
    "#validation_data = (X_valid_normalized_subsampled[:, :, :10, :], y_valid_subsampled)\n",
    "#dnn_normalized.train(X_train_normalized_subsampled[:, :, :10, :], y_train_subsampled, validation_data)\n",
    "validation_data = (X_valid_normalized[:, :, :10, :], y_valid)\n",
    "dnn_normalized.train(X_train_normalized[:, :, :10, :], y_train, validation_data)"
   ]
  },
  {
   "cell_type": "code",
   "execution_count": 9,
   "metadata": {
    "collapsed": false
   },
   "outputs": [
    {
     "name": "stdout",
     "output_type": "stream",
     "text": [
      "Balanced Accuracy: 69.20%\t auROC: 0.764\t auPRC: 0.771\t auPRG: 0.538\n",
      "Recall at 5%|10%|20% FDR: 4.5%|9.4%|51.3%\t Num Positives: 224\t Num Negatives: 224\t \n"
     ]
    }
   ],
   "source": [
    "print(dnn_normalized.test(X_test_normalized[:, :, :10, :], y_test))"
   ]
  },
  {
   "cell_type": "code",
   "execution_count": 10,
   "metadata": {
    "collapsed": false
   },
   "outputs": [
    {
     "name": "stdout",
     "output_type": "stream",
     "text": [
      "Balanced Accuracy: 82.60%\t auROC: 0.913\t auPRC: 0.922\t auPRG: 0.865\n",
      "Recall at 5%|10%|20% FDR: 63.7%|73.7%|86.1%\t Num Positives: 589\t Num Negatives: 589\t \n"
     ]
    }
   ],
   "source": [
    "print(dnn_normalized.test(X_train_normalized[:, :, :10:, :], y_train))"
   ]
  },
  {
   "cell_type": "code",
   "execution_count": 11,
   "metadata": {
    "collapsed": false
   },
   "outputs": [
    {
     "name": "stdout",
     "output_type": "stream",
     "text": [
      "Balanced Accuracy: 69.00%\t auROC: 0.777\t auPRC: 0.790\t auPRG: 0.561\n",
      "Recall at 5%|10%|20% FDR: 6.6%|31.4%|53.1%\t Num Positives: 350\t Num Negatives: 350\t \n"
     ]
    }
   ],
   "source": [
    "print(dnn_normalized.test(X_valid_normalized[:, :, :10, :], y_valid))"
   ]
  },
  {
   "cell_type": "code",
   "execution_count": 12,
   "metadata": {
    "collapsed": true
   },
   "outputs": [],
   "source": [
    "pred_probs_test = dnn_normalized.predict(X_test_normalized[:, :, :10, :])\n",
    "#np.save(\"model_predictions/test_set_upperTriangle_noDiag_reads_with_distances_full_valid.npy\", pred_probs_test)\n",
    "pred_probs_valid = dnn_normalized.predict(X_valid_normalized[:, :, :10, :])\n",
    "#np.save(\"model_predictions/valid_set_upperTriangle_noDiag_reads_with_distances_full_valid.npy\", pred_probs_valid)\n",
    "pred_probs_train = dnn_normalized.predict(X_train_normalized[:, :, :10, :])\n",
    "#np.save(\"model_predictions/train_set_upperTriangle_noDiag_reads_with_distances_full_valid.npy\", pred_probs_train)"
   ]
  },
  {
   "cell_type": "markdown",
   "metadata": {},
   "source": [
    "# with genomic locations"
   ]
  },
  {
   "cell_type": "code",
   "execution_count": 13,
   "metadata": {
    "collapsed": true
   },
   "outputs": [],
   "source": [
    "dnn_normalized = LongRangeDNN(num_features=11, use_deep_CNN=True)"
   ]
  },
  {
   "cell_type": "code",
   "execution_count": 14,
   "metadata": {
    "collapsed": false
   },
   "outputs": [
    {
     "name": "stdout",
     "output_type": "stream",
     "text": [
      "Training model...\n",
      "Train on 1178 samples, validate on 700 samples\n",
      "Epoch 1/100\n",
      "1178/1178 [==============================] - 0s - loss: 1.4485 - val_loss: 0.7005\n",
      "Epoch 0: validation loss: 0.701\n",
      "Balanced Accuracy: 48.14%\t auROC: 0.503\t auPRC: 0.527\t auPRG: -0.056\n",
      "Recall at 5%|10%|20% FDR: 0.0%|0.0%|0.0%\t Num Positives: 350\t Num Negatives: 350\t \n",
      "\n",
      "Epoch 2/100\n",
      "1178/1178 [==============================] - 0s - loss: 1.3940 - val_loss: 0.6935\n",
      "Epoch 1: validation loss: 0.693\n",
      "Balanced Accuracy: 51.14%\t auROC: 0.550\t auPRC: 0.552\t auPRG: 0.083\n",
      "Recall at 5%|10%|20% FDR: 0.0%|0.0%|0.0%\t Num Positives: 350\t Num Negatives: 350\t \n",
      "\n",
      "Epoch 3/100\n",
      "1178/1178 [==============================] - 0s - loss: 1.3584 - val_loss: 0.6807\n",
      "Epoch 2: validation loss: 0.681\n",
      "Balanced Accuracy: 56.86%\t auROC: 0.598\t auPRC: 0.587\t auPRG: 0.174\n",
      "Recall at 5%|10%|20% FDR: 0.0%|0.0%|0.0%\t Num Positives: 350\t Num Negatives: 350\t \n",
      "\n",
      "Epoch 4/100\n",
      "1178/1178 [==============================] - 0s - loss: 1.3246 - val_loss: 0.6718\n",
      "Epoch 3: validation loss: 0.672\n",
      "Balanced Accuracy: 60.43%\t auROC: 0.634\t auPRC: 0.608\t auPRG: 0.250\n",
      "Recall at 5%|10%|20% FDR: 0.0%|0.0%|0.0%\t Num Positives: 350\t Num Negatives: 350\t \n",
      "\n",
      "Epoch 5/100\n",
      "1178/1178 [==============================] - 0s - loss: 1.2985 - val_loss: 0.6643\n",
      "Epoch 4: validation loss: 0.664\n",
      "Balanced Accuracy: 59.86%\t auROC: 0.654\t auPRC: 0.621\t auPRG: 0.308\n",
      "Recall at 5%|10%|20% FDR: 0.0%|0.0%|0.0%\t Num Positives: 350\t Num Negatives: 350\t \n",
      "\n",
      "Epoch 6/100\n",
      "1178/1178 [==============================] - 0s - loss: 1.2671 - val_loss: 0.6574\n",
      "Epoch 5: validation loss: 0.657\n",
      "Balanced Accuracy: 61.86%\t auROC: 0.664\t auPRC: 0.625\t auPRG: 0.328\n",
      "Recall at 5%|10%|20% FDR: 0.0%|0.0%|0.0%\t Num Positives: 350\t Num Negatives: 350\t \n",
      "\n",
      "Epoch 7/100\n",
      "1178/1178 [==============================] - 0s - loss: 1.2341 - val_loss: 0.6526\n",
      "Epoch 6: validation loss: 0.653\n",
      "Balanced Accuracy: 62.71%\t auROC: 0.672\t auPRC: 0.632\t auPRG: 0.341\n",
      "Recall at 5%|10%|20% FDR: 0.0%|0.0%|0.0%\t Num Positives: 350\t Num Negatives: 350\t \n",
      "\n",
      "Epoch 8/100\n",
      "1178/1178 [==============================] - 0s - loss: 1.2026 - val_loss: 0.6466\n",
      "Epoch 7: validation loss: 0.647\n",
      "Balanced Accuracy: 63.71%\t auROC: 0.681\t auPRC: 0.641\t auPRG: 0.366\n",
      "Recall at 5%|10%|20% FDR: 0.0%|0.0%|0.0%\t Num Positives: 350\t Num Negatives: 350\t \n",
      "\n",
      "Epoch 9/100\n",
      "1178/1178 [==============================] - 0s - loss: 1.1678 - val_loss: 0.6434\n",
      "Epoch 8: validation loss: 0.643\n",
      "Balanced Accuracy: 64.71%\t auROC: 0.689\t auPRC: 0.650\t auPRG: 0.387\n",
      "Recall at 5%|10%|20% FDR: 0.0%|0.0%|0.0%\t Num Positives: 350\t Num Negatives: 350\t \n",
      "\n",
      "Epoch 10/100\n",
      "1178/1178 [==============================] - 0s - loss: 1.1387 - val_loss: 0.6416\n",
      "Epoch 9: validation loss: 0.642\n",
      "Balanced Accuracy: 64.57%\t auROC: 0.696\t auPRC: 0.657\t auPRG: 0.401\n",
      "Recall at 5%|10%|20% FDR: 0.0%|0.0%|0.0%\t Num Positives: 350\t Num Negatives: 350\t \n",
      "\n",
      "Epoch 11/100\n",
      "1178/1178 [==============================] - 0s - loss: 1.1138 - val_loss: 0.6392\n",
      "Epoch 10: validation loss: 0.639\n",
      "Balanced Accuracy: 64.57%\t auROC: 0.704\t auPRC: 0.665\t auPRG: 0.419\n",
      "Recall at 5%|10%|20% FDR: 0.0%|0.0%|0.0%\t Num Positives: 350\t Num Negatives: 350\t \n",
      "\n",
      "Epoch 12/100\n",
      "1178/1178 [==============================] - 0s - loss: 1.0947 - val_loss: 0.6375\n",
      "Epoch 11: validation loss: 0.637\n",
      "Balanced Accuracy: 64.57%\t auROC: 0.711\t auPRC: 0.673\t auPRG: 0.432\n",
      "Recall at 5%|10%|20% FDR: 0.0%|0.0%|0.0%\t Num Positives: 350\t Num Negatives: 350\t \n",
      "\n",
      "Epoch 13/100\n",
      "1178/1178 [==============================] - 0s - loss: 1.0721 - val_loss: 0.6341\n",
      "Epoch 12: validation loss: 0.634\n",
      "Balanced Accuracy: 66.14%\t auROC: 0.717\t auPRC: 0.681\t auPRG: 0.443\n",
      "Recall at 5%|10%|20% FDR: 0.0%|0.0%|0.0%\t Num Positives: 350\t Num Negatives: 350\t \n",
      "\n",
      "Epoch 14/100\n",
      "1178/1178 [==============================] - 0s - loss: 1.0535 - val_loss: 0.6323\n",
      "Epoch 13: validation loss: 0.632\n",
      "Balanced Accuracy: 66.00%\t auROC: 0.721\t auPRC: 0.687\t auPRG: 0.452\n",
      "Recall at 5%|10%|20% FDR: 0.0%|0.0%|0.0%\t Num Positives: 350\t Num Negatives: 350\t \n",
      "\n",
      "Epoch 15/100\n",
      "1178/1178 [==============================] - 0s - loss: 1.0399 - val_loss: 0.6302\n",
      "Epoch 14: validation loss: 0.630\n",
      "Balanced Accuracy: 66.57%\t auROC: 0.726\t auPRC: 0.695\t auPRG: 0.460\n",
      "Recall at 5%|10%|20% FDR: 0.3%|0.3%|26.9%\t Num Positives: 350\t Num Negatives: 350\t \n",
      "\n",
      "Epoch 16/100\n",
      "1178/1178 [==============================] - 0s - loss: 1.0266 - val_loss: 0.6283\n",
      "Epoch 15: validation loss: 0.628\n",
      "Balanced Accuracy: 67.00%\t auROC: 0.729\t auPRC: 0.700\t auPRG: 0.464\n",
      "Recall at 5%|10%|20% FDR: 0.3%|0.3%|40.0%\t Num Positives: 350\t Num Negatives: 350\t \n",
      "\n",
      "Epoch 17/100\n",
      "1178/1178 [==============================] - 0s - loss: 1.0096 - val_loss: 0.6263\n",
      "Epoch 16: validation loss: 0.626\n",
      "Balanced Accuracy: 67.43%\t auROC: 0.731\t auPRC: 0.705\t auPRG: 0.468\n",
      "Recall at 5%|10%|20% FDR: 0.3%|0.3%|29.1%\t Num Positives: 350\t Num Negatives: 350\t \n",
      "\n",
      "Epoch 18/100\n",
      "1178/1178 [==============================] - 0s - loss: 0.9911 - val_loss: 0.6251\n",
      "Epoch 17: validation loss: 0.625\n",
      "Balanced Accuracy: 67.29%\t auROC: 0.736\t auPRC: 0.711\t auPRG: 0.470\n",
      "Recall at 5%|10%|20% FDR: 0.3%|0.3%|42.9%\t Num Positives: 350\t Num Negatives: 350\t \n",
      "\n",
      "Epoch 19/100\n",
      "1178/1178 [==============================] - 0s - loss: 0.9789 - val_loss: 0.6253\n",
      "Epoch 18: validation loss: 0.625\n",
      "Balanced Accuracy: 67.86%\t auROC: 0.736\t auPRC: 0.710\t auPRG: 0.474\n",
      "Recall at 5%|10%|20% FDR: 0.3%|0.3%|44.0%\t Num Positives: 350\t Num Negatives: 350\t \n",
      "\n",
      "Epoch 20/100\n",
      "1178/1178 [==============================] - 0s - loss: 0.9659 - val_loss: 0.6209\n",
      "Epoch 19: validation loss: 0.621\n",
      "Balanced Accuracy: 67.71%\t auROC: 0.738\t auPRC: 0.722\t auPRG: 0.478\n",
      "Recall at 5%|10%|20% FDR: 0.3%|0.3%|39.1%\t Num Positives: 350\t Num Negatives: 350\t \n",
      "\n",
      "Epoch 21/100\n",
      "1178/1178 [==============================] - 0s - loss: 0.9507 - val_loss: 0.6257\n",
      "Epoch 20: validation loss: 0.626\n",
      "Balanced Accuracy: 67.57%\t auROC: 0.739\t auPRC: 0.720\t auPRG: 0.483\n",
      "Recall at 5%|10%|20% FDR: 0.3%|0.3%|43.7%\t Num Positives: 350\t Num Negatives: 350\t \n",
      "\n",
      "Epoch 22/100\n",
      "1178/1178 [==============================] - 0s - loss: 0.9386 - val_loss: 0.6255\n",
      "Epoch 21: validation loss: 0.625\n",
      "Balanced Accuracy: 67.86%\t auROC: 0.740\t auPRC: 0.724\t auPRG: 0.487\n",
      "Recall at 5%|10%|20% FDR: 0.3%|0.3%|47.1%\t Num Positives: 350\t Num Negatives: 350\t \n",
      "\n",
      "Epoch 23/100\n",
      "1178/1178 [==============================] - 0s - loss: 0.9231 - val_loss: 0.6294\n",
      "Epoch 22: validation loss: 0.629\n",
      "Balanced Accuracy: 67.14%\t auROC: 0.739\t auPRC: 0.729\t auPRG: 0.479\n",
      "Recall at 5%|10%|20% FDR: 0.3%|0.3%|44.6%\t Num Positives: 350\t Num Negatives: 350\t \n",
      "\n",
      "Epoch 24/100\n",
      "1178/1178 [==============================] - 0s - loss: 0.9139 - val_loss: 0.6296\n",
      "Epoch 23: validation loss: 0.630\n",
      "Balanced Accuracy: 66.71%\t auROC: 0.740\t auPRC: 0.730\t auPRG: 0.483\n",
      "Recall at 5%|10%|20% FDR: 0.3%|0.3%|46.0%\t Num Positives: 350\t Num Negatives: 350\t \n",
      "\n",
      "Epoch 25/100\n",
      "1178/1178 [==============================] - 0s - loss: 0.8991 - val_loss: 0.6344\n",
      "Epoch 24: validation loss: 0.634\n",
      "Balanced Accuracy: 67.57%\t auROC: 0.740\t auPRC: 0.726\t auPRG: 0.491\n",
      "Recall at 5%|10%|20% FDR: 0.3%|0.3%|48.6%\t Num Positives: 350\t Num Negatives: 350\t \n",
      "\n",
      "Epoch 26/100\n",
      "1178/1178 [==============================] - 0s - loss: 0.8910 - val_loss: 0.6326\n",
      "Epoch 25: validation loss: 0.633\n",
      "Balanced Accuracy: 67.29%\t auROC: 0.742\t auPRC: 0.733\t auPRG: 0.490\n",
      "Recall at 5%|10%|20% FDR: 0.3%|0.3%|47.1%\t Num Positives: 350\t Num Negatives: 350\t \n",
      "\n",
      "Epoch 27/100\n",
      "1178/1178 [==============================] - 0s - loss: 0.8872 - val_loss: 0.6323\n",
      "Epoch 26: validation loss: 0.632\n",
      "Balanced Accuracy: 67.57%\t auROC: 0.741\t auPRC: 0.739\t auPRG: 0.481\n",
      "Recall at 5%|10%|20% FDR: 0.6%|6.3%|47.7%\t Num Positives: 350\t Num Negatives: 350\t \n",
      "\n",
      "Epoch 28/100\n",
      "1178/1178 [==============================] - 0s - loss: 0.8690 - val_loss: 0.6376\n",
      "Epoch 27: validation loss: 0.638\n",
      "Balanced Accuracy: 68.71%\t auROC: 0.744\t auPRC: 0.734\t auPRG: 0.497\n",
      "Recall at 5%|10%|20% FDR: 0.3%|0.3%|48.9%\t Num Positives: 350\t Num Negatives: 350\t \n",
      "\n",
      "Epoch 29/100\n",
      "1178/1178 [==============================] - 0s - loss: 0.8558 - val_loss: 0.6445\n",
      "Epoch 28: validation loss: 0.644\n",
      "Balanced Accuracy: 66.86%\t auROC: 0.742\t auPRC: 0.735\t auPRG: 0.486\n",
      "Recall at 5%|10%|20% FDR: 0.6%|0.6%|46.9%\t Num Positives: 350\t Num Negatives: 350\t \n",
      "\n",
      "Epoch 30/100\n",
      "1178/1178 [==============================] - 0s - loss: 0.8460 - val_loss: 0.6450\n",
      "Epoch 29: validation loss: 0.645\n",
      "Balanced Accuracy: 68.14%\t auROC: 0.743\t auPRC: 0.739\t auPRG: 0.491\n",
      "Recall at 5%|10%|20% FDR: 0.9%|0.9%|48.3%\t Num Positives: 350\t Num Negatives: 350\t \n",
      "\n",
      "Epoch 31/100\n",
      "1178/1178 [==============================] - 0s - loss: 0.8350 - val_loss: 0.6478\n",
      "Epoch 30: validation loss: 0.648\n",
      "Balanced Accuracy: 66.14%\t auROC: 0.742\t auPRC: 0.739\t auPRG: 0.484\n",
      "Recall at 5%|10%|20% FDR: 0.9%|0.9%|44.9%\t Num Positives: 350\t Num Negatives: 350\t \n",
      "\n"
     ]
    }
   ],
   "source": [
    "#validation_data = (X_valid_normalized_subsampled[:, :, :11, :], y_valid_subsampled)\n",
    "#dnn_normalized.train(X_train_normalized_subsampled[:, :, :11, :], y_train_subsampled, validation_data)\n",
    "validation_data = (X_valid_normalized[:, :, :11, :], y_valid)\n",
    "dnn_normalized.train(X_train_normalized[:, :, :11, :], y_train, validation_data)"
   ]
  },
  {
   "cell_type": "code",
   "execution_count": 15,
   "metadata": {
    "collapsed": false
   },
   "outputs": [
    {
     "name": "stdout",
     "output_type": "stream",
     "text": [
      "Balanced Accuracy: 71.21%\t auROC: 0.790\t auPRC: 0.790\t auPRG: 0.597\n",
      "Recall at 5%|10%|20% FDR: 2.2%|19.2%|57.1%\t Num Positives: 224\t Num Negatives: 224\t \n"
     ]
    }
   ],
   "source": [
    "print(dnn_normalized.test(X_test_normalized[:, :, :11, :], y_test))"
   ]
  },
  {
   "cell_type": "markdown",
   "metadata": {},
   "source": [
    "# with distance only"
   ]
  },
  {
   "cell_type": "code",
   "execution_count": 16,
   "metadata": {
    "collapsed": true
   },
   "outputs": [],
   "source": [
    "dnn_normalized = LongRangeDNN(num_features=1, use_deep_CNN=True)"
   ]
  },
  {
   "cell_type": "code",
   "execution_count": 17,
   "metadata": {
    "collapsed": false
   },
   "outputs": [
    {
     "name": "stdout",
     "output_type": "stream",
     "text": [
      "Training model...\n",
      "Train on 1178 samples, validate on 700 samples\n",
      "Epoch 1/100\n",
      "1178/1178 [==============================] - 0s - loss: 1.3633 - val_loss: 0.6834\n",
      "Epoch 0: validation loss: 0.683\n",
      "Balanced Accuracy: 57.43%\t auROC: 0.582\t auPRC: 0.550\t auPRG: 0.175\n",
      "Recall at 5%|10%|20% FDR: 0.0%|0.0%|0.0%\t Num Positives: 350\t Num Negatives: 350\t \n",
      "\n",
      "Epoch 2/100\n",
      "1178/1178 [==============================] - 0s - loss: 1.3558 - val_loss: 0.6867\n",
      "Epoch 1: validation loss: 0.687\n",
      "Balanced Accuracy: 57.57%\t auROC: 0.582\t auPRC: 0.551\t auPRG: 0.175\n",
      "Recall at 5%|10%|20% FDR: 0.0%|0.0%|0.0%\t Num Positives: 350\t Num Negatives: 350\t \n",
      "\n",
      "Epoch 3/100\n",
      "1178/1178 [==============================] - 0s - loss: 1.3532 - val_loss: 0.6853\n",
      "Epoch 2: validation loss: 0.685\n",
      "Balanced Accuracy: 57.57%\t auROC: 0.582\t auPRC: 0.551\t auPRG: 0.175\n",
      "Recall at 5%|10%|20% FDR: 0.0%|0.0%|0.0%\t Num Positives: 350\t Num Negatives: 350\t \n",
      "\n",
      "Epoch 4/100\n",
      "1178/1178 [==============================] - 0s - loss: 1.3541 - val_loss: 0.6853\n",
      "Epoch 3: validation loss: 0.685\n",
      "Balanced Accuracy: 58.00%\t auROC: 0.582\t auPRC: 0.551\t auPRG: 0.174\n",
      "Recall at 5%|10%|20% FDR: 0.0%|0.0%|0.0%\t Num Positives: 350\t Num Negatives: 350\t \n",
      "\n",
      "Epoch 5/100\n",
      "1178/1178 [==============================] - 0s - loss: 1.3533 - val_loss: 0.6847\n",
      "Epoch 4: validation loss: 0.685\n",
      "Balanced Accuracy: 57.71%\t auROC: 0.582\t auPRC: 0.551\t auPRG: 0.175\n",
      "Recall at 5%|10%|20% FDR: 0.0%|0.0%|0.0%\t Num Positives: 350\t Num Negatives: 350\t \n",
      "\n",
      "Epoch 6/100\n",
      "1178/1178 [==============================] - 0s - loss: 1.3521 - val_loss: 0.6848\n",
      "Epoch 5: validation loss: 0.685\n",
      "Balanced Accuracy: 57.86%\t auROC: 0.582\t auPRC: 0.551\t auPRG: 0.175\n",
      "Recall at 5%|10%|20% FDR: 0.0%|0.0%|0.0%\t Num Positives: 350\t Num Negatives: 350\t \n",
      "\n",
      "Epoch 7/100\n",
      "1178/1178 [==============================] - 0s - loss: 1.3518 - val_loss: 0.6853\n",
      "Epoch 6: validation loss: 0.685\n",
      "Balanced Accuracy: 57.86%\t auROC: 0.582\t auPRC: 0.551\t auPRG: 0.175\n",
      "Recall at 5%|10%|20% FDR: 0.0%|0.0%|0.0%\t Num Positives: 350\t Num Negatives: 350\t \n",
      "\n",
      "Epoch 8/100\n",
      "1178/1178 [==============================] - 0s - loss: 1.3523 - val_loss: 0.6846\n",
      "Epoch 7: validation loss: 0.685\n",
      "Balanced Accuracy: 57.86%\t auROC: 0.582\t auPRC: 0.551\t auPRG: 0.175\n",
      "Recall at 5%|10%|20% FDR: 0.0%|0.0%|0.0%\t Num Positives: 350\t Num Negatives: 350\t \n",
      "\n",
      "Epoch 9/100\n",
      "1178/1178 [==============================] - 0s - loss: 1.3514 - val_loss: 0.6839\n",
      "Epoch 8: validation loss: 0.684\n",
      "Balanced Accuracy: 58.00%\t auROC: 0.582\t auPRC: 0.551\t auPRG: 0.175\n",
      "Recall at 5%|10%|20% FDR: 0.0%|0.0%|0.0%\t Num Positives: 350\t Num Negatives: 350\t \n",
      "\n",
      "Epoch 10/100\n",
      "1178/1178 [==============================] - 0s - loss: 1.3515 - val_loss: 0.6834\n",
      "Epoch 9: validation loss: 0.683\n",
      "Balanced Accuracy: 58.00%\t auROC: 0.582\t auPRC: 0.551\t auPRG: 0.175\n",
      "Recall at 5%|10%|20% FDR: 0.0%|0.0%|0.0%\t Num Positives: 350\t Num Negatives: 350\t \n",
      "\n",
      "Epoch 11/100\n",
      "1178/1178 [==============================] - 0s - loss: 1.3506 - val_loss: 0.6839\n",
      "Epoch 10: validation loss: 0.684\n",
      "Balanced Accuracy: 58.00%\t auROC: 0.582\t auPRC: 0.551\t auPRG: 0.175\n",
      "Recall at 5%|10%|20% FDR: 0.0%|0.0%|0.0%\t Num Positives: 350\t Num Negatives: 350\t \n",
      "\n",
      "Epoch 12/100\n",
      "1178/1178 [==============================] - 0s - loss: 1.3505 - val_loss: 0.6840\n",
      "Epoch 11: validation loss: 0.684\n",
      "Balanced Accuracy: 58.00%\t auROC: 0.582\t auPRC: 0.551\t auPRG: 0.175\n",
      "Recall at 5%|10%|20% FDR: 0.0%|0.0%|0.0%\t Num Positives: 350\t Num Negatives: 350\t \n",
      "\n",
      "Epoch 13/100\n",
      "1178/1178 [==============================] - 0s - loss: 1.3504 - val_loss: 0.6841\n",
      "Epoch 12: validation loss: 0.684\n",
      "Balanced Accuracy: 57.71%\t auROC: 0.582\t auPRC: 0.551\t auPRG: 0.175\n",
      "Recall at 5%|10%|20% FDR: 0.0%|0.0%|0.0%\t Num Positives: 350\t Num Negatives: 350\t \n",
      "\n",
      "Epoch 14/100\n",
      "1178/1178 [==============================] - 0s - loss: 1.3501 - val_loss: 0.6837\n",
      "Epoch 13: validation loss: 0.684\n",
      "Balanced Accuracy: 57.86%\t auROC: 0.582\t auPRC: 0.551\t auPRG: 0.175\n",
      "Recall at 5%|10%|20% FDR: 0.0%|0.0%|0.0%\t Num Positives: 350\t Num Negatives: 350\t \n",
      "\n",
      "Epoch 15/100\n",
      "1178/1178 [==============================] - 0s - loss: 1.3503 - val_loss: 0.6836\n",
      "Epoch 14: validation loss: 0.684\n",
      "Balanced Accuracy: 57.86%\t auROC: 0.582\t auPRC: 0.551\t auPRG: 0.175\n",
      "Recall at 5%|10%|20% FDR: 0.0%|0.0%|0.0%\t Num Positives: 350\t Num Negatives: 350\t \n",
      "\n",
      "Epoch 16/100\n",
      "1178/1178 [==============================] - 0s - loss: 1.3509 - val_loss: 0.6830\n",
      "Epoch 15: validation loss: 0.683\n",
      "Balanced Accuracy: 57.57%\t auROC: 0.582\t auPRC: 0.551\t auPRG: 0.175\n",
      "Recall at 5%|10%|20% FDR: 0.0%|0.0%|0.0%\t Num Positives: 350\t Num Negatives: 350\t \n",
      "\n",
      "Epoch 17/100\n",
      "1178/1178 [==============================] - 0s - loss: 1.3506 - val_loss: 0.6831\n",
      "Epoch 16: validation loss: 0.683\n",
      "Balanced Accuracy: 57.57%\t auROC: 0.582\t auPRC: 0.551\t auPRG: 0.175\n",
      "Recall at 5%|10%|20% FDR: 0.0%|0.0%|0.0%\t Num Positives: 350\t Num Negatives: 350\t \n",
      "\n",
      "Epoch 18/100\n",
      "1178/1178 [==============================] - 0s - loss: 1.3504 - val_loss: 0.6836\n",
      "Epoch 17: validation loss: 0.684\n",
      "Balanced Accuracy: 57.86%\t auROC: 0.582\t auPRC: 0.551\t auPRG: 0.175\n",
      "Recall at 5%|10%|20% FDR: 0.0%|0.0%|0.0%\t Num Positives: 350\t Num Negatives: 350\t \n",
      "\n",
      "Epoch 19/100\n",
      "1178/1178 [==============================] - 0s - loss: 1.3499 - val_loss: 0.6837\n",
      "Epoch 18: validation loss: 0.684\n",
      "Balanced Accuracy: 57.86%\t auROC: 0.582\t auPRC: 0.551\t auPRG: 0.175\n",
      "Recall at 5%|10%|20% FDR: 0.0%|0.0%|0.0%\t Num Positives: 350\t Num Negatives: 350\t \n",
      "\n",
      "Epoch 20/100\n",
      "1178/1178 [==============================] - 0s - loss: 1.3493 - val_loss: 0.6836\n",
      "Epoch 19: validation loss: 0.684\n",
      "Balanced Accuracy: 57.57%\t auROC: 0.582\t auPRC: 0.551\t auPRG: 0.175\n",
      "Recall at 5%|10%|20% FDR: 0.0%|0.0%|0.0%\t Num Positives: 350\t Num Negatives: 350\t \n",
      "\n",
      "Epoch 21/100\n",
      "1178/1178 [==============================] - 0s - loss: 1.3491 - val_loss: 0.6830\n",
      "Epoch 20: validation loss: 0.683\n",
      "Balanced Accuracy: 57.57%\t auROC: 0.582\t auPRC: 0.551\t auPRG: 0.175\n",
      "Recall at 5%|10%|20% FDR: 0.0%|0.0%|0.0%\t Num Positives: 350\t Num Negatives: 350\t \n",
      "\n",
      "Epoch 22/100\n",
      "1178/1178 [==============================] - 0s - loss: 1.3496 - val_loss: 0.6828\n",
      "Epoch 21: validation loss: 0.683\n",
      "Balanced Accuracy: 57.57%\t auROC: 0.582\t auPRC: 0.551\t auPRG: 0.175\n",
      "Recall at 5%|10%|20% FDR: 0.0%|0.0%|0.0%\t Num Positives: 350\t Num Negatives: 350\t \n",
      "\n",
      "Epoch 23/100\n",
      "1178/1178 [==============================] - 0s - loss: 1.3502 - val_loss: 0.6828\n",
      "Epoch 22: validation loss: 0.683\n",
      "Balanced Accuracy: 57.57%\t auROC: 0.582\t auPRC: 0.551\t auPRG: 0.175\n",
      "Recall at 5%|10%|20% FDR: 0.0%|0.0%|0.0%\t Num Positives: 350\t Num Negatives: 350\t \n",
      "\n",
      "Epoch 24/100\n",
      "1178/1178 [==============================] - 0s - loss: 1.3494 - val_loss: 0.6835\n",
      "Epoch 23: validation loss: 0.683\n",
      "Balanced Accuracy: 57.57%\t auROC: 0.582\t auPRC: 0.551\t auPRG: 0.175\n",
      "Recall at 5%|10%|20% FDR: 0.0%|0.0%|0.0%\t Num Positives: 350\t Num Negatives: 350\t \n",
      "\n",
      "Epoch 25/100\n",
      "1178/1178 [==============================] - 0s - loss: 1.3494 - val_loss: 0.6841\n",
      "Epoch 24: validation loss: 0.684\n",
      "Balanced Accuracy: 57.57%\t auROC: 0.582\t auPRC: 0.551\t auPRG: 0.175\n",
      "Recall at 5%|10%|20% FDR: 0.0%|0.0%|0.0%\t Num Positives: 350\t Num Negatives: 350\t \n",
      "\n",
      "Epoch 26/100\n",
      "1178/1178 [==============================] - 0s - loss: 1.3490 - val_loss: 0.6832\n",
      "Epoch 25: validation loss: 0.683\n",
      "Balanced Accuracy: 57.57%\t auROC: 0.582\t auPRC: 0.551\t auPRG: 0.175\n",
      "Recall at 5%|10%|20% FDR: 0.0%|0.0%|0.0%\t Num Positives: 350\t Num Negatives: 350\t \n",
      "\n",
      "Epoch 27/100\n",
      "1178/1178 [==============================] - 0s - loss: 1.3484 - val_loss: 0.6824\n",
      "Epoch 26: validation loss: 0.682\n",
      "Balanced Accuracy: 57.57%\t auROC: 0.582\t auPRC: 0.551\t auPRG: 0.175\n",
      "Recall at 5%|10%|20% FDR: 0.0%|0.0%|0.0%\t Num Positives: 350\t Num Negatives: 350\t \n",
      "\n",
      "Epoch 28/100\n",
      "1178/1178 [==============================] - 0s - loss: 1.3499 - val_loss: 0.6822\n",
      "Epoch 27: validation loss: 0.682\n",
      "Balanced Accuracy: 57.57%\t auROC: 0.582\t auPRC: 0.551\t auPRG: 0.176\n",
      "Recall at 5%|10%|20% FDR: 0.0%|0.0%|0.0%\t Num Positives: 350\t Num Negatives: 350\t \n",
      "\n",
      "Epoch 29/100\n",
      "1178/1178 [==============================] - 0s - loss: 1.3484 - val_loss: 0.6828\n",
      "Epoch 28: validation loss: 0.683\n",
      "Balanced Accuracy: 57.57%\t auROC: 0.581\t auPRC: 0.550\t auPRG: 0.175\n",
      "Recall at 5%|10%|20% FDR: 0.0%|0.0%|0.0%\t Num Positives: 350\t Num Negatives: 350\t \n",
      "\n",
      "Epoch 30/100\n",
      "1178/1178 [==============================] - 0s - loss: 1.3482 - val_loss: 0.6834\n",
      "Epoch 29: validation loss: 0.683\n",
      "Balanced Accuracy: 57.57%\t auROC: 0.582\t auPRC: 0.551\t auPRG: 0.175\n",
      "Recall at 5%|10%|20% FDR: 0.0%|0.0%|0.0%\t Num Positives: 350\t Num Negatives: 350\t \n",
      "\n",
      "Epoch 31/100\n",
      "1178/1178 [==============================] - 0s - loss: 1.3489 - val_loss: 0.6832\n",
      "Epoch 30: validation loss: 0.683\n",
      "Balanced Accuracy: 57.57%\t auROC: 0.581\t auPRC: 0.550\t auPRG: 0.175\n",
      "Recall at 5%|10%|20% FDR: 0.0%|0.0%|0.0%\t Num Positives: 350\t Num Negatives: 350\t \n",
      "\n",
      "Epoch 32/100\n",
      "1178/1178 [==============================] - 0s - loss: 1.3479 - val_loss: 0.6829\n",
      "Epoch 31: validation loss: 0.683\n",
      "Balanced Accuracy: 57.57%\t auROC: 0.581\t auPRC: 0.550\t auPRG: 0.174\n",
      "Recall at 5%|10%|20% FDR: 0.0%|0.0%|0.0%\t Num Positives: 350\t Num Negatives: 350\t \n",
      "\n",
      "Epoch 33/100\n",
      "1178/1178 [==============================] - 0s - loss: 1.3484 - val_loss: 0.6827\n",
      "Epoch 32: validation loss: 0.683\n",
      "Balanced Accuracy: 57.57%\t auROC: 0.582\t auPRC: 0.551\t auPRG: 0.176\n",
      "Recall at 5%|10%|20% FDR: 0.0%|0.0%|0.0%\t Num Positives: 350\t Num Negatives: 350\t \n",
      "\n",
      "Epoch 34/100\n",
      "1178/1178 [==============================] - 0s - loss: 1.3485 - val_loss: 0.6819\n",
      "Epoch 33: validation loss: 0.682\n",
      "Balanced Accuracy: 57.57%\t auROC: 0.582\t auPRC: 0.551\t auPRG: 0.175\n",
      "Recall at 5%|10%|20% FDR: 0.0%|0.0%|0.0%\t Num Positives: 350\t Num Negatives: 350\t \n",
      "\n",
      "Epoch 35/100\n",
      "1178/1178 [==============================] - 0s - loss: 1.3480 - val_loss: 0.6820\n",
      "Epoch 34: validation loss: 0.682\n",
      "Balanced Accuracy: 57.57%\t auROC: 0.581\t auPRC: 0.550\t auPRG: 0.174\n",
      "Recall at 5%|10%|20% FDR: 0.0%|0.0%|0.0%\t Num Positives: 350\t Num Negatives: 350\t \n",
      "\n",
      "Epoch 36/100\n",
      "1178/1178 [==============================] - 0s - loss: 1.3479 - val_loss: 0.6821\n",
      "Epoch 35: validation loss: 0.682\n",
      "Balanced Accuracy: 57.57%\t auROC: 0.581\t auPRC: 0.550\t auPRG: 0.174\n",
      "Recall at 5%|10%|20% FDR: 0.0%|0.0%|0.0%\t Num Positives: 350\t Num Negatives: 350\t \n",
      "\n",
      "Epoch 37/100\n",
      "1178/1178 [==============================] - 0s - loss: 1.3472 - val_loss: 0.6828\n",
      "Epoch 36: validation loss: 0.683\n",
      "Balanced Accuracy: 57.57%\t auROC: 0.581\t auPRC: 0.550\t auPRG: 0.175\n",
      "Recall at 5%|10%|20% FDR: 0.0%|0.0%|0.0%\t Num Positives: 350\t Num Negatives: 350\t \n",
      "\n",
      "Epoch 38/100\n",
      "1178/1178 [==============================] - 0s - loss: 1.3479 - val_loss: 0.6837\n",
      "Epoch 37: validation loss: 0.684\n",
      "Balanced Accuracy: 57.57%\t auROC: 0.581\t auPRC: 0.550\t auPRG: 0.174\n",
      "Recall at 5%|10%|20% FDR: 0.0%|0.0%|0.0%\t Num Positives: 350\t Num Negatives: 350\t \n",
      "\n",
      "Epoch 39/100\n",
      "1178/1178 [==============================] - 0s - loss: 1.3482 - val_loss: 0.6827\n",
      "Epoch 38: validation loss: 0.683\n",
      "Balanced Accuracy: 57.57%\t auROC: 0.582\t auPRC: 0.551\t auPRG: 0.176\n",
      "Recall at 5%|10%|20% FDR: 0.0%|0.0%|0.0%\t Num Positives: 350\t Num Negatives: 350\t \n",
      "\n",
      "Epoch 40/100\n",
      "1178/1178 [==============================] - 0s - loss: 1.3478 - val_loss: 0.6826\n",
      "Epoch 39: validation loss: 0.683\n",
      "Balanced Accuracy: 57.57%\t auROC: 0.582\t auPRC: 0.551\t auPRG: 0.176\n",
      "Recall at 5%|10%|20% FDR: 0.0%|0.0%|0.0%\t Num Positives: 350\t Num Negatives: 350\t \n",
      "\n",
      "Epoch 41/100\n",
      "1178/1178 [==============================] - 0s - loss: 1.3474 - val_loss: 0.6824\n",
      "Epoch 40: validation loss: 0.682\n",
      "Balanced Accuracy: 57.57%\t auROC: 0.582\t auPRC: 0.550\t auPRG: 0.176\n",
      "Recall at 5%|10%|20% FDR: 0.0%|0.0%|0.0%\t Num Positives: 350\t Num Negatives: 350\t \n",
      "\n",
      "Epoch 42/100\n",
      "1178/1178 [==============================] - 0s - loss: 1.3480 - val_loss: 0.6818\n",
      "Epoch 41: validation loss: 0.682\n",
      "Balanced Accuracy: 57.57%\t auROC: 0.582\t auPRC: 0.551\t auPRG: 0.174\n",
      "Recall at 5%|10%|20% FDR: 0.0%|0.0%|0.0%\t Num Positives: 350\t Num Negatives: 350\t \n",
      "\n",
      "Epoch 43/100\n",
      "1178/1178 [==============================] - 0s - loss: 1.3474 - val_loss: 0.6822\n",
      "Epoch 42: validation loss: 0.682\n",
      "Balanced Accuracy: 57.57%\t auROC: 0.582\t auPRC: 0.551\t auPRG: 0.174\n",
      "Recall at 5%|10%|20% FDR: 0.0%|0.0%|0.0%\t Num Positives: 350\t Num Negatives: 350\t \n",
      "\n",
      "Epoch 44/100\n",
      "1178/1178 [==============================] - 0s - loss: 1.3470 - val_loss: 0.6827\n",
      "Epoch 43: validation loss: 0.683\n",
      "Balanced Accuracy: 57.57%\t auROC: 0.581\t auPRC: 0.550\t auPRG: 0.175\n",
      "Recall at 5%|10%|20% FDR: 0.0%|0.0%|0.0%\t Num Positives: 350\t Num Negatives: 350\t \n",
      "\n",
      "Epoch 45/100\n",
      "1178/1178 [==============================] - 0s - loss: 1.3478 - val_loss: 0.6836\n",
      "Epoch 44: validation loss: 0.684\n",
      "Balanced Accuracy: 57.57%\t auROC: 0.581\t auPRC: 0.550\t auPRG: 0.176\n",
      "Recall at 5%|10%|20% FDR: 0.0%|0.0%|0.0%\t Num Positives: 350\t Num Negatives: 350\t \n",
      "\n",
      "Epoch 46/100\n",
      "1178/1178 [==============================] - 0s - loss: 1.3474 - val_loss: 0.6829\n",
      "Epoch 45: validation loss: 0.683\n",
      "Balanced Accuracy: 57.57%\t auROC: 0.582\t auPRC: 0.551\t auPRG: 0.176\n",
      "Recall at 5%|10%|20% FDR: 0.0%|0.0%|0.0%\t Num Positives: 350\t Num Negatives: 350\t \n",
      "\n",
      "Epoch 47/100\n",
      "1178/1178 [==============================] - 0s - loss: 1.3473 - val_loss: 0.6819\n",
      "Epoch 46: validation loss: 0.682\n",
      "Balanced Accuracy: 57.43%\t auROC: 0.582\t auPRC: 0.551\t auPRG: 0.176\n",
      "Recall at 5%|10%|20% FDR: 0.0%|0.0%|0.0%\t Num Positives: 350\t Num Negatives: 350\t \n",
      "\n",
      "Epoch 48/100\n",
      "1178/1178 [==============================] - 0s - loss: 1.3475 - val_loss: 0.6817\n",
      "Epoch 47: validation loss: 0.682\n",
      "Balanced Accuracy: 57.43%\t auROC: 0.581\t auPRC: 0.549\t auPRG: 0.175\n",
      "Recall at 5%|10%|20% FDR: 0.0%|0.0%|0.0%\t Num Positives: 350\t Num Negatives: 350\t \n",
      "\n",
      "Epoch 49/100\n",
      "1178/1178 [==============================] - 0s - loss: 1.3472 - val_loss: 0.6820\n",
      "Epoch 48: validation loss: 0.682\n",
      "Balanced Accuracy: 57.57%\t auROC: 0.580\t auPRC: 0.548\t auPRG: 0.176\n",
      "Recall at 5%|10%|20% FDR: 0.0%|0.0%|0.0%\t Num Positives: 350\t Num Negatives: 350\t \n",
      "\n",
      "Epoch 50/100\n",
      "1178/1178 [==============================] - 0s - loss: 1.3473 - val_loss: 0.6827\n",
      "Epoch 49: validation loss: 0.683\n",
      "Balanced Accuracy: 57.57%\t auROC: 0.582\t auPRC: 0.551\t auPRG: 0.175\n",
      "Recall at 5%|10%|20% FDR: 0.0%|0.0%|0.0%\t Num Positives: 350\t Num Negatives: 350\t \n",
      "\n",
      "Epoch 51/100\n",
      "1178/1178 [==============================] - 0s - loss: 1.3474 - val_loss: 0.6825\n",
      "Epoch 50: validation loss: 0.682\n",
      "Balanced Accuracy: 57.43%\t auROC: 0.580\t auPRC: 0.548\t auPRG: 0.175\n",
      "Recall at 5%|10%|20% FDR: 0.0%|0.0%|0.0%\t Num Positives: 350\t Num Negatives: 350\t \n",
      "\n",
      "Epoch 52/100\n",
      "1178/1178 [==============================] - 0s - loss: 1.3467 - val_loss: 0.6823\n",
      "Epoch 51: validation loss: 0.682\n",
      "Balanced Accuracy: 57.43%\t auROC: 0.580\t auPRC: 0.548\t auPRG: 0.177\n",
      "Recall at 5%|10%|20% FDR: 0.0%|0.0%|0.0%\t Num Positives: 350\t Num Negatives: 350\t \n",
      "\n",
      "Epoch 53/100\n",
      "1178/1178 [==============================] - 0s - loss: 1.3469 - val_loss: 0.6824\n",
      "Epoch 52: validation loss: 0.682\n",
      "Balanced Accuracy: 57.43%\t auROC: 0.580\t auPRC: 0.548\t auPRG: 0.177\n",
      "Recall at 5%|10%|20% FDR: 0.0%|0.0%|0.0%\t Num Positives: 350\t Num Negatives: 350\t \n",
      "\n",
      "Epoch 54/100\n",
      "1178/1178 [==============================] - 0s - loss: 1.3470 - val_loss: 0.6829\n",
      "Epoch 53: validation loss: 0.683\n",
      "Balanced Accuracy: 57.43%\t auROC: 0.580\t auPRC: 0.548\t auPRG: 0.177\n",
      "Recall at 5%|10%|20% FDR: 0.0%|0.0%|0.0%\t Num Positives: 350\t Num Negatives: 350\t \n",
      "\n",
      "Epoch 55/100\n",
      "1178/1178 [==============================] - 0s - loss: 1.3466 - val_loss: 0.6819\n",
      "Epoch 54: validation loss: 0.682\n",
      "Balanced Accuracy: 57.43%\t auROC: 0.582\t auPRC: 0.551\t auPRG: 0.178\n",
      "Recall at 5%|10%|20% FDR: 0.0%|0.0%|0.0%\t Num Positives: 350\t Num Negatives: 350\t \n",
      "\n",
      "Epoch 56/100\n",
      "1178/1178 [==============================] - 0s - loss: 1.3467 - val_loss: 0.6819\n",
      "Epoch 55: validation loss: 0.682\n",
      "Balanced Accuracy: 57.43%\t auROC: 0.582\t auPRC: 0.551\t auPRG: 0.179\n",
      "Recall at 5%|10%|20% FDR: 0.0%|0.0%|0.0%\t Num Positives: 350\t Num Negatives: 350\t \n",
      "\n",
      "Epoch 57/100\n",
      "1178/1178 [==============================] - 0s - loss: 1.3481 - val_loss: 0.6819\n",
      "Epoch 56: validation loss: 0.682\n",
      "Balanced Accuracy: 57.43%\t auROC: 0.580\t auPRC: 0.549\t auPRG: 0.178\n",
      "Recall at 5%|10%|20% FDR: 0.0%|0.0%|0.0%\t Num Positives: 350\t Num Negatives: 350\t \n",
      "\n",
      "Epoch 58/100\n",
      "1178/1178 [==============================] - 0s - loss: 1.3464 - val_loss: 0.6829\n",
      "Epoch 57: validation loss: 0.683\n",
      "Balanced Accuracy: 57.43%\t auROC: 0.579\t auPRC: 0.547\t auPRG: 0.177\n",
      "Recall at 5%|10%|20% FDR: 0.0%|0.0%|0.0%\t Num Positives: 350\t Num Negatives: 350\t \n",
      "\n",
      "Epoch 59/100\n",
      "1178/1178 [==============================] - 0s - loss: 1.3465 - val_loss: 0.6826\n",
      "Epoch 58: validation loss: 0.683\n",
      "Balanced Accuracy: 57.43%\t auROC: 0.581\t auPRC: 0.550\t auPRG: 0.177\n",
      "Recall at 5%|10%|20% FDR: 0.0%|0.0%|0.0%\t Num Positives: 350\t Num Negatives: 350\t \n",
      "\n"
     ]
    }
   ],
   "source": [
    "#validation_data = (X_valid_normalized_subsampled[:, :, :11, :], y_valid_subsampled)\n",
    "#dnn_normalized.train(X_train_normalized_subsampled[:, :, :11, :], y_train_subsampled, validation_data)\n",
    "validation_data = (X_valid_normalized[:, :, 10:, :], y_valid)\n",
    "dnn_normalized.train(X_train_normalized[:, :, 10:, :], y_train, validation_data)"
   ]
  },
  {
   "cell_type": "code",
   "execution_count": 18,
   "metadata": {
    "collapsed": false
   },
   "outputs": [
    {
     "name": "stdout",
     "output_type": "stream",
     "text": [
      "Balanced Accuracy: 58.93%\t auROC: 0.601\t auPRC: 0.566\t auPRG: 0.189\n",
      "Recall at 5%|10%|20% FDR: 0.0%|0.0%|0.0%\t Num Positives: 224\t Num Negatives: 224\t \n"
     ]
    }
   ],
   "source": [
    "print(dnn_normalized.test(X_test_normalized[:, :,  10:, :], y_test))"
   ]
  },
  {
   "cell_type": "markdown",
   "metadata": {},
   "source": [
    "# Print prediction"
   ]
  },
  {
   "cell_type": "code",
   "execution_count": 20,
   "metadata": {
    "collapsed": false
   },
   "outputs": [],
   "source": [
    "indx_train = np.load('/users/mtaranov/NN_thres5max_datasets/dist_matched/indx_train_thres_10.npy')\n",
    "indx_valid = np.load('/users/mtaranov/NN_thres5max_datasets/dist_matched/indx_valid_thres_10.npy')\n",
    "indx_test = np.load ('/users/mtaranov/NN_thres5max_datasets/dist_matched/indx_test_thres_10.npy')"
   ]
  },
  {
   "cell_type": "code",
   "execution_count": 21,
   "metadata": {
    "collapsed": false
   },
   "outputs": [],
   "source": [
    "labels_all=(np.concatenate((y_train, y_valid, y_test), axis=0)).astype(int)\n",
    "preds_all=(np.concatenate((pred_probs_train, pred_probs_valid, pred_probs_test), axis=0))\n",
    "indx_all=np.concatenate((indx_train, indx_valid, indx_test), axis=0)\n",
    "\n",
    "labels_chr1 = labels_all[np.ravel(np.where(indx_all[:,2]==1))]\n",
    "preds_chr1 = preds_all[np.ravel(np.where(indx_all[:,2]==1))]\n",
    "indx_chr1 = indx_all[np.ravel(np.where(indx_all[:,2]==1))]"
   ]
  },
  {
   "cell_type": "code",
   "execution_count": 22,
   "metadata": {
    "collapsed": false
   },
   "outputs": [
    {
     "name": "stdout",
     "output_type": "stream",
     "text": [
      "Some tests on adjacency matrix:\n",
      "Some tests on adjacency matrix:\n"
     ]
    }
   ],
   "source": [
    "NumberOfNodes=2272\n",
    "preds_chr1_2d, labels_chr1_2d = get_2D(indx_chr1, preds_chr1, labels_chr1, NumberOfNodes)\n",
    "# preds_test_2d, labels_test_2d = get_2D(indx_test, preds_test, labels_test, NumberOfNodes)"
   ]
  },
  {
   "cell_type": "code",
   "execution_count": 23,
   "metadata": {
    "collapsed": false
   },
   "outputs": [],
   "source": [
    "# printMatrix(preds_chr1_2d, '', 1, 1, title='preds')\n",
    "# printMatrix(labels_chr1_2d, '', 1, 1, title='Captures')"
   ]
  },
  {
   "cell_type": "code",
   "execution_count": 24,
   "metadata": {
    "collapsed": false
   },
   "outputs": [
    {
     "name": "stdout",
     "output_type": "stream",
     "text": [
      "1.0\n",
      "(60, 60)\n",
      "Limit: 1.0\n"
     ]
    },
    {
     "data": {
      "image/png": "[encoded data removed]",
      "text/plain": [
       "<matplotlib.figure.Figure at 0x7f74d1263c90>"
      ]
     },
     "metadata": {},
     "output_type": "display_data"
    },
    {
     "name": "stdout",
     "output_type": "stream",
     "text": [
      "0.9769500494\n",
      "(60, 60)\n",
      "Limit: 0.9769500494\n"
     ]
    },
    {
     "data": {
      "image/png": "[encoded data removed]",
      "text/plain": [
       "<matplotlib.figure.Figure at 0x7f74b1a231d0>"
      ]
     },
     "metadata": {},
     "output_type": "display_data"
    }
   ],
   "source": [
    "zoomIn_window = (400,460)\n",
    "NumberOfNodes=2272\n",
    "plot_prediction(change_scale(preds_chr1_2d)+change_scale(preds_chr1_2d).T, change_scale(labels_chr1_2d)+change_scale(labels_chr1_2d).T, zoomIn_window, )"
   ]
  },
  {
   "cell_type": "code",
   "execution_count": null,
   "metadata": {
    "collapsed": true
   },
   "outputs": [],
   "source": []
  },
  {
   "cell_type": "code",
   "execution_count": null,
   "metadata": {
    "collapsed": true
   },
   "outputs": [],
   "source": []
  }
 ],
 "metadata": {
  "kernelspec": {
   "display_name": "Python 2",
   "language": "python",
   "name": "python2"
  },
  "language_info": {
   "codemirror_mode": {
    "name": "ipython",
    "version": 2
   },
   "file_extension": ".py",
   "mimetype": "text/x-python",
   "name": "python",
   "nbconvert_exporter": "python",
   "pygments_lexer": "ipython2",
   "version": "2.7.11"
  }
 },
 "nbformat": 4,
 "nbformat_minor": 0
}
