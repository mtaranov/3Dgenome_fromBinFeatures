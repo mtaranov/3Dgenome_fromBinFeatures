{
 "cells": [
  {
   "cell_type": "code",
   "execution_count": 12,
   "metadata": {
    "collapsed": false
   },
   "outputs": [
    {
     "name": "stdout",
     "output_type": "stream",
     "text": [
      "The autoreload extension is already loaded. To reload it, use:\n",
      "  %reload_ext autoreload\n"
     ]
    }
   ],
   "source": [
    "%matplotlib inline\n",
    "%load_ext autoreload\n",
    "%autoreload 2\n",
    "\n",
    "import numpy as np\n",
    "import matplotlib.pyplot as plt\n",
    "from sklearn.preprocessing import MinMaxScaler, StandardScaler\n",
    "import copy\n",
    "from models import LongRangeDNN\n",
    "from utils import get_features, get_labels, subsample_data, normalize_features, reconstruct_2d, printMatrix, binarize, zscore, get_2D, plot_prediction\n",
    "#from sklearn.preprocessing import MinMaxScaler, StandardScaler\n",
    "#from dragonn.models import Model, SequenceDNN\n",
    "#from keras.models import Sequential\n",
    "#from keras.callbacks import Callback, EarlyStopping\n",
    "#from keras.layers.core import (\n",
    "#    Activation, Dense, Dropout, Flatten,\n",
    "#    Permute, Reshape, TimeDistributedDense\n",
    "#)\n",
    "#from keras.layers.convolutional import Convolution2D, MaxPooling2D\n",
    "#from keras.layers.recurrent import GRU\n",
    "#from keras.regularizers import l1\n",
    "\n",
    "#from deeplift import keras_conversion as kc\n",
    "#from deeplift.blobs import MxtsMode"
   ]
  },
  {
   "cell_type": "code",
   "execution_count": 13,
   "metadata": {
    "collapsed": false
   },
   "outputs": [
    {
     "data": {
      "text/plain": [
       "\"\\nX_train = get_features(data_path+'train_set_upperTriangle_noDiag_reads.npy')\\ny_train = get_labels(data_path+'labels_train_upperTriangle_noDiag.npy')\\nX_valid = get_features(data_path+'vali_set_upperTriangle_noDiag_reads.npy')\\ny_valid = get_labels(data_path+'labels_vali_upperTriangle_noDiag.npy')\\nX_test = get_features(data_path+'test_set_upperTriangle_noDiag_reads.npy')\\ny_test = get_labels(data_path+'labels_test_upperTriangle_noDiag.npy')\\n\\nX_train = get_features('NN_datasets/train_set_all_reads.npy')\\ny_train = get_labels('NN_datasets/labels_train_all.npy')\\nX_valid = get_features('NN_datasets/vali_set_all_reads.npy')\\ny_valid = get_labels('NN_datasets/labels_vali_all.npy')\\nX_test = get_features('NN_datasets/test_set_all_reads.npy')\\ny_test = get_labels('NN_datasets/labels_test_all.npy')\\n\\nX_train_subsampled, y_train_subsampled = subsample_data(X_train, y_train)\\nX_valid_subsampled, y_valid_subsampled = subsample_data(X_valid, y_valid)\\nX_test_subsampled, y_test_subsampled = subsample_data(X_test, y_test)\\n\""
      ]
     },
     "execution_count": 13,
     "metadata": {},
     "output_type": "execute_result"
    }
   ],
   "source": [
    "data_path='/users/mtaranov/NN_all_data/'\n",
    "\n",
    "X_train = get_features('/users/mtaranov/NN_all_data/less_than_5Mb/distMatched_data_train_set_upperTriangle_noDiag_reads_less_5Mb.npy')\n",
    "y_train = get_labels('/users/mtaranov/NN_all_data/less_than_5Mb/distMatched_labels_train_upperTriangle_noDiag_reads_less_5Mb.npy')\n",
    "X_valid = get_features('/users/mtaranov/NN_all_data/less_than_5Mb/distMatched_data_vali_set_upperTriangle_noDiag_reads_less_5Mb.npy')\n",
    "y_valid = get_labels('/users/mtaranov/NN_all_data/less_than_5Mb/distMatched_labels_vali_upperTriangle_noDiag_reads_less_5Mb.npy')\n",
    "X_test = get_features('/users/mtaranov/NN_all_data/less_than_5Mb/distMatched_data_test_set_upperTriangle_noDiag_reads_less_5Mb.npy')\n",
    "y_test = get_labels('/users/mtaranov/NN_all_data/less_than_5Mb/distMatched_labels_test_upperTriangle_noDiag_reads_less_5Mb.npy')\n",
    "\n",
    "\"\"\"\n",
    "X_train = get_features(data_path+'train_set_upperTriangle_noDiag_reads.npy')\n",
    "y_train = get_labels(data_path+'labels_train_upperTriangle_noDiag.npy')\n",
    "X_valid = get_features(data_path+'vali_set_upperTriangle_noDiag_reads.npy')\n",
    "y_valid = get_labels(data_path+'labels_vali_upperTriangle_noDiag.npy')\n",
    "X_test = get_features(data_path+'test_set_upperTriangle_noDiag_reads.npy')\n",
    "y_test = get_labels(data_path+'labels_test_upperTriangle_noDiag.npy')\n",
    "\n",
    "X_train = get_features('NN_datasets/train_set_all_reads.npy')\n",
    "y_train = get_labels('NN_datasets/labels_train_all.npy')\n",
    "X_valid = get_features('NN_datasets/vali_set_all_reads.npy')\n",
    "y_valid = get_labels('NN_datasets/labels_vali_all.npy')\n",
    "X_test = get_features('NN_datasets/test_set_all_reads.npy')\n",
    "y_test = get_labels('NN_datasets/labels_test_all.npy')\n",
    "\n",
    "X_train_subsampled, y_train_subsampled = subsample_data(X_train, y_train)\n",
    "X_valid_subsampled, y_valid_subsampled = subsample_data(X_valid, y_valid)\n",
    "X_test_subsampled, y_test_subsampled = subsample_data(X_test, y_test)\n",
    "\"\"\""
   ]
  },
  {
   "cell_type": "code",
   "execution_count": 14,
   "metadata": {
    "collapsed": false
   },
   "outputs": [],
   "source": [
    "X_train_normalized, X_valid_normalized, X_test_normalized = normalize_features(X_train, X_valid, X_test)\n",
    "\n",
    "#X_train_normalized_subsampled, y_train_subsampled = subsample_data(X_train_normalized, y_train)\n",
    "#X_valid_normalized_subsampled, y_valid_subsampled = subsample_data(X_valid_normalized, y_valid)\n",
    "#X_test_normalized_subsampled, y_test_subsampled = subsample_data(X_test_normalized, y_test)\n",
    "\n",
    "#X_train_scaled_subsampled, y_train_subsampled = subsample_data(X_train_scaled, y_train)\n",
    "#X_valid_scaled_subsampled, y_valid_subsampled = subsample_data(X_valid_scaled, y_valid)\n",
    "#X_test_scaled_subsampled, y_test_subsampled = subsample_data(X_test_scaled, y_test)\n"
   ]
  },
  {
   "cell_type": "markdown",
   "metadata": {},
   "source": [
    "# without distance"
   ]
  },
  {
   "cell_type": "code",
   "execution_count": 15,
   "metadata": {
    "collapsed": true
   },
   "outputs": [],
   "source": [
    "dnn_normalized = LongRangeDNN(num_features=10, use_deep_CNN=True)"
   ]
  },
  {
   "cell_type": "code",
   "execution_count": 16,
   "metadata": {
    "collapsed": false
   },
   "outputs": [
    {
     "name": "stdout",
     "output_type": "stream",
     "text": [
      "Training model...\n",
      "Train on 7416 samples, validate on 4528 samples\n",
      "Epoch 1/100\n",
      "7416/7416 [==============================] - 1s - loss: 1.3831 - val_loss: 0.6894\n",
      "Epoch 0: validation loss: 0.689\n",
      "Balanced Accuracy: 54.51%\t auROC: 0.555\t auPRC: 0.547\t auPRG: 0.109\n",
      "Recall at 5%|10%|20% FDR: 0.0%|0.0%|0.0%\t Num Positives: 2264\t Num Negatives: 2264\t \n",
      "\n",
      "Epoch 2/100\n",
      "7416/7416 [==============================] - 1s - loss: 1.3720 - val_loss: 0.6863\n",
      "Epoch 1: validation loss: 0.686\n",
      "Balanced Accuracy: 55.21%\t auROC: 0.574\t auPRC: 0.567\t auPRG: 0.140\n",
      "Recall at 5%|10%|20% FDR: 0.0%|0.0%|0.0%\t Num Positives: 2264\t Num Negatives: 2264\t \n",
      "\n",
      "Epoch 3/100\n",
      "7416/7416 [==============================] - 0s - loss: 1.3648 - val_loss: 0.6852\n",
      "Epoch 2: validation loss: 0.685\n",
      "Balanced Accuracy: 55.32%\t auROC: 0.576\t auPRC: 0.572\t auPRG: 0.143\n",
      "Recall at 5%|10%|20% FDR: 0.0%|0.0%|0.0%\t Num Positives: 2264\t Num Negatives: 2264\t \n",
      "\n",
      "Epoch 4/100\n",
      "7416/7416 [==============================] - 1s - loss: 1.3576 - val_loss: 0.6821\n",
      "Epoch 3: validation loss: 0.682\n",
      "Balanced Accuracy: 56.60%\t auROC: 0.587\t auPRC: 0.585\t auPRG: 0.162\n",
      "Recall at 5%|10%|20% FDR: 0.0%|0.0%|0.0%\t Num Positives: 2264\t Num Negatives: 2264\t \n",
      "\n",
      "Epoch 5/100\n",
      "7416/7416 [==============================] - 0s - loss: 1.3489 - val_loss: 0.6795\n",
      "Epoch 4: validation loss: 0.680\n",
      "Balanced Accuracy: 55.79%\t auROC: 0.588\t auPRC: 0.596\t auPRG: 0.156\n",
      "Recall at 5%|10%|20% FDR: 0.2%|0.2%|5.8%\t Num Positives: 2264\t Num Negatives: 2264\t \n",
      "\n",
      "Epoch 6/100\n",
      "7416/7416 [==============================] - 0s - loss: 1.3383 - val_loss: 0.6787\n",
      "Epoch 5: validation loss: 0.679\n",
      "Balanced Accuracy: 56.78%\t auROC: 0.594\t auPRC: 0.602\t auPRG: 0.175\n",
      "Recall at 5%|10%|20% FDR: 0.8%|0.9%|2.1%\t Num Positives: 2264\t Num Negatives: 2264\t \n",
      "\n",
      "Epoch 7/100\n",
      "7416/7416 [==============================] - 1s - loss: 1.3307 - val_loss: 0.6786\n",
      "Epoch 6: validation loss: 0.679\n",
      "Balanced Accuracy: 56.10%\t auROC: 0.593\t auPRC: 0.605\t auPRG: 0.159\n",
      "Recall at 5%|10%|20% FDR: 1.2%|1.7%|6.6%\t Num Positives: 2264\t Num Negatives: 2264\t \n",
      "\n",
      "Epoch 8/100\n",
      "7416/7416 [==============================] - 1s - loss: 1.3235 - val_loss: 0.6838\n",
      "Epoch 7: validation loss: 0.684\n",
      "Balanced Accuracy: 55.15%\t auROC: 0.591\t auPRC: 0.600\t auPRG: 0.154\n",
      "Recall at 5%|10%|20% FDR: 0.0%|1.5%|5.3%\t Num Positives: 2264\t Num Negatives: 2264\t \n",
      "\n",
      "Epoch 9/100\n",
      "7416/7416 [==============================] - 0s - loss: 1.3190 - val_loss: 0.6760\n",
      "Epoch 8: validation loss: 0.676\n",
      "Balanced Accuracy: 56.67%\t auROC: 0.602\t auPRC: 0.611\t auPRG: 0.173\n",
      "Recall at 5%|10%|20% FDR: 0.2%|0.2%|8.6%\t Num Positives: 2264\t Num Negatives: 2264\t \n",
      "\n",
      "Epoch 10/100\n",
      "7416/7416 [==============================] - 0s - loss: 1.3121 - val_loss: 0.6780\n",
      "Epoch 9: validation loss: 0.678\n",
      "Balanced Accuracy: 57.00%\t auROC: 0.602\t auPRC: 0.610\t auPRG: 0.180\n",
      "Recall at 5%|10%|20% FDR: 0.0%|1.7%|7.7%\t Num Positives: 2264\t Num Negatives: 2264\t \n",
      "\n",
      "Epoch 11/100\n",
      "7416/7416 [==============================] - 0s - loss: 1.3074 - val_loss: 0.6765\n",
      "Epoch 10: validation loss: 0.677\n",
      "Balanced Accuracy: 56.80%\t auROC: 0.602\t auPRC: 0.613\t auPRG: 0.177\n",
      "Recall at 5%|10%|20% FDR: 0.7%|0.9%|6.8%\t Num Positives: 2264\t Num Negatives: 2264\t \n",
      "\n",
      "Epoch 12/100\n",
      "7416/7416 [==============================] - 2s - loss: 1.3001 - val_loss: 0.6772\n",
      "Epoch 11: validation loss: 0.677\n",
      "Balanced Accuracy: 56.93%\t auROC: 0.603\t auPRC: 0.616\t auPRG: 0.180\n",
      "Recall at 5%|10%|20% FDR: 1.1%|3.0%|8.7%\t Num Positives: 2264\t Num Negatives: 2264\t \n",
      "\n",
      "Epoch 13/100\n",
      "7416/7416 [==============================] - 0s - loss: 1.2949 - val_loss: 0.6762\n",
      "Epoch 12: validation loss: 0.676\n",
      "Balanced Accuracy: 56.58%\t auROC: 0.603\t auPRC: 0.614\t auPRG: 0.178\n",
      "Recall at 5%|10%|20% FDR: 1.1%|3.0%|8.4%\t Num Positives: 2264\t Num Negatives: 2264\t \n",
      "\n",
      "Epoch 14/100\n",
      "7416/7416 [==============================] - 0s - loss: 1.2885 - val_loss: 0.6771\n",
      "Epoch 13: validation loss: 0.677\n",
      "Balanced Accuracy: 56.32%\t auROC: 0.604\t auPRC: 0.611\t auPRG: 0.179\n",
      "Recall at 5%|10%|20% FDR: 0.1%|0.1%|6.0%\t Num Positives: 2264\t Num Negatives: 2264\t \n",
      "\n",
      "Epoch 15/100\n",
      "7416/7416 [==============================] - 0s - loss: 1.2838 - val_loss: 0.6773\n",
      "Epoch 14: validation loss: 0.677\n",
      "Balanced Accuracy: 56.69%\t auROC: 0.606\t auPRC: 0.615\t auPRG: 0.187\n",
      "Recall at 5%|10%|20% FDR: 0.9%|0.9%|7.7%\t Num Positives: 2264\t Num Negatives: 2264\t \n",
      "\n",
      "Epoch 16/100\n",
      "7416/7416 [==============================] - 0s - loss: 1.2755 - val_loss: 0.6805\n",
      "Epoch 15: validation loss: 0.681\n",
      "Balanced Accuracy: 57.02%\t auROC: 0.601\t auPRC: 0.611\t auPRG: 0.183\n",
      "Recall at 5%|10%|20% FDR: 0.9%|1.9%|5.7%\t Num Positives: 2264\t Num Negatives: 2264\t \n",
      "\n",
      "Epoch 17/100\n",
      "7416/7416 [==============================] - 0s - loss: 1.2772 - val_loss: 0.6775\n",
      "Epoch 16: validation loss: 0.678\n",
      "Balanced Accuracy: 57.02%\t auROC: 0.607\t auPRC: 0.616\t auPRG: 0.189\n",
      "Recall at 5%|10%|20% FDR: 1.2%|1.7%|8.5%\t Num Positives: 2264\t Num Negatives: 2264\t \n",
      "\n",
      "Epoch 18/100\n",
      "7416/7416 [==============================] - 0s - loss: 1.2666 - val_loss: 0.6812\n",
      "Epoch 17: validation loss: 0.681\n",
      "Balanced Accuracy: 57.18%\t auROC: 0.608\t auPRC: 0.614\t auPRG: 0.194\n",
      "Recall at 5%|10%|20% FDR: 0.1%|0.1%|7.7%\t Num Positives: 2264\t Num Negatives: 2264\t \n",
      "\n",
      "Epoch 19/100\n",
      "7416/7416 [==============================] - 1s - loss: 1.2596 - val_loss: 0.6824\n",
      "Epoch 18: validation loss: 0.682\n",
      "Balanced Accuracy: 57.95%\t auROC: 0.610\t auPRC: 0.616\t auPRG: 0.203\n",
      "Recall at 5%|10%|20% FDR: 0.4%|0.5%|8.3%\t Num Positives: 2264\t Num Negatives: 2264\t \n",
      "\n",
      "Epoch 20/100\n",
      "7416/7416 [==============================] - 0s - loss: 1.2531 - val_loss: 0.6789\n",
      "Epoch 19: validation loss: 0.679\n",
      "Balanced Accuracy: 57.38%\t auROC: 0.610\t auPRC: 0.618\t auPRG: 0.201\n",
      "Recall at 5%|10%|20% FDR: 0.9%|1.4%|7.2%\t Num Positives: 2264\t Num Negatives: 2264\t \n",
      "\n"
     ]
    }
   ],
   "source": [
    "#validation_data = (X_valid_normalized_subsampled[:, :, :10, :], y_valid_subsampled)\n",
    "#dnn_normalized.train(X_train_normalized_subsampled[:, :, :10, :], y_train_subsampled, validation_data)\n",
    "validation_data = (X_valid_normalized[:, :, :10, :], y_valid)\n",
    "dnn_normalized.train(X_train_normalized[:, :, :10, :], y_train, validation_data)"
   ]
  },
  {
   "cell_type": "code",
   "execution_count": 17,
   "metadata": {
    "collapsed": false
   },
   "outputs": [
    {
     "name": "stdout",
     "output_type": "stream",
     "text": [
      "Balanced Accuracy: 57.36%\t auROC: 0.607\t auPRC: 0.610\t auPRG: 0.193\n",
      "Recall at 5%|10%|20% FDR: 0.2%|0.2%|3.5%\t Num Positives: 1529\t Num Negatives: 1529\t \n"
     ]
    }
   ],
   "source": [
    "print(dnn_normalized.test(X_test_normalized[:, :, :10, :], y_test))"
   ]
  },
  {
   "cell_type": "markdown",
   "metadata": {},
   "source": [
    "# with genomic locations"
   ]
  },
  {
   "cell_type": "code",
   "execution_count": 18,
   "metadata": {
    "collapsed": true
   },
   "outputs": [],
   "source": [
    "dnn_normalized = LongRangeDNN(num_features=11, use_deep_CNN=True)"
   ]
  },
  {
   "cell_type": "code",
   "execution_count": 19,
   "metadata": {
    "collapsed": false
   },
   "outputs": [
    {
     "name": "stdout",
     "output_type": "stream",
     "text": [
      "Training model...\n",
      "Train on 7416 samples, validate on 4528 samples\n",
      "Epoch 1/100\n",
      "7416/7416 [==============================] - 0s - loss: 1.3984 - val_loss: 0.6908\n",
      "Epoch 0: validation loss: 0.691\n",
      "Balanced Accuracy: 52.14%\t auROC: 0.540\t auPRC: 0.522\t auPRG: 0.085\n",
      "Recall at 5%|10%|20% FDR: 0.2%|0.2%|0.2%\t Num Positives: 2264\t Num Negatives: 2264\t \n",
      "\n",
      "Epoch 2/100\n",
      "7416/7416 [==============================] - 1s - loss: 1.3764 - val_loss: 0.6885\n",
      "Epoch 1: validation loss: 0.688\n",
      "Balanced Accuracy: 53.98%\t auROC: 0.556\t auPRC: 0.539\t auPRG: 0.111\n",
      "Recall at 5%|10%|20% FDR: 0.0%|0.0%|0.0%\t Num Positives: 2264\t Num Negatives: 2264\t \n",
      "\n",
      "Epoch 3/100\n",
      "7416/7416 [==============================] - 0s - loss: 1.3658 - val_loss: 0.6846\n",
      "Epoch 2: validation loss: 0.685\n",
      "Balanced Accuracy: 55.01%\t auROC: 0.573\t auPRC: 0.571\t auPRG: 0.135\n",
      "Recall at 5%|10%|20% FDR: 0.1%|0.1%|0.8%\t Num Positives: 2264\t Num Negatives: 2264\t \n",
      "\n",
      "Epoch 4/100\n",
      "7416/7416 [==============================] - 0s - loss: 1.3535 - val_loss: 0.6870\n",
      "Epoch 3: validation loss: 0.687\n",
      "Balanced Accuracy: 54.51%\t auROC: 0.577\t auPRC: 0.567\t auPRG: 0.145\n",
      "Recall at 5%|10%|20% FDR: 0.0%|0.0%|0.0%\t Num Positives: 2264\t Num Negatives: 2264\t \n",
      "\n",
      "Epoch 5/100\n",
      "7416/7416 [==============================] - 0s - loss: 1.3431 - val_loss: 0.6801\n",
      "Epoch 4: validation loss: 0.680\n",
      "Balanced Accuracy: 55.15%\t auROC: 0.585\t auPRC: 0.590\t auPRG: 0.146\n",
      "Recall at 5%|10%|20% FDR: 0.2%|1.7%|3.5%\t Num Positives: 2264\t Num Negatives: 2264\t \n",
      "\n",
      "Epoch 6/100\n",
      "7416/7416 [==============================] - 0s - loss: 1.3301 - val_loss: 0.6823\n",
      "Epoch 5: validation loss: 0.682\n",
      "Balanced Accuracy: 55.37%\t auROC: 0.586\t auPRC: 0.583\t auPRG: 0.157\n",
      "Recall at 5%|10%|20% FDR: 0.0%|0.0%|2.9%\t Num Positives: 2264\t Num Negatives: 2264\t \n",
      "\n",
      "Epoch 7/100\n",
      "7416/7416 [==============================] - 0s - loss: 1.3220 - val_loss: 0.6780\n",
      "Epoch 6: validation loss: 0.678\n",
      "Balanced Accuracy: 56.29%\t auROC: 0.597\t auPRC: 0.609\t auPRG: 0.166\n",
      "Recall at 5%|10%|20% FDR: 0.6%|2.0%|7.3%\t Num Positives: 2264\t Num Negatives: 2264\t \n",
      "\n",
      "Epoch 8/100\n",
      "7416/7416 [==============================] - 1s - loss: 1.3128 - val_loss: 0.6774\n",
      "Epoch 7: validation loss: 0.677\n",
      "Balanced Accuracy: 56.56%\t auROC: 0.599\t auPRC: 0.607\t auPRG: 0.174\n",
      "Recall at 5%|10%|20% FDR: 0.5%|1.4%|4.4%\t Num Positives: 2264\t Num Negatives: 2264\t \n",
      "\n",
      "Epoch 9/100\n",
      "7416/7416 [==============================] - 1s - loss: 1.3019 - val_loss: 0.6804\n",
      "Epoch 8: validation loss: 0.680\n",
      "Balanced Accuracy: 56.93%\t auROC: 0.598\t auPRC: 0.606\t auPRG: 0.174\n",
      "Recall at 5%|10%|20% FDR: 0.5%|1.5%|4.3%\t Num Positives: 2264\t Num Negatives: 2264\t \n",
      "\n",
      "Epoch 10/100\n",
      "7416/7416 [==============================] - 0s - loss: 1.2938 - val_loss: 0.6782\n",
      "Epoch 9: validation loss: 0.678\n",
      "Balanced Accuracy: 57.35%\t auROC: 0.604\t auPRC: 0.611\t auPRG: 0.183\n",
      "Recall at 5%|10%|20% FDR: 0.6%|2.1%|4.3%\t Num Positives: 2264\t Num Negatives: 2264\t \n",
      "\n",
      "Epoch 11/100\n",
      "7416/7416 [==============================] - 0s - loss: 1.2907 - val_loss: 0.6791\n",
      "Epoch 10: validation loss: 0.679\n",
      "Balanced Accuracy: 57.02%\t auROC: 0.604\t auPRC: 0.610\t auPRG: 0.184\n",
      "Recall at 5%|10%|20% FDR: 0.9%|2.1%|5.0%\t Num Positives: 2264\t Num Negatives: 2264\t \n",
      "\n",
      "Epoch 12/100\n",
      "7416/7416 [==============================] - 2s - loss: 1.2792 - val_loss: 0.6799\n",
      "Epoch 11: validation loss: 0.680\n",
      "Balanced Accuracy: 57.66%\t auROC: 0.604\t auPRC: 0.605\t auPRG: 0.192\n",
      "Recall at 5%|10%|20% FDR: 0.4%|0.5%|2.8%\t Num Positives: 2264\t Num Negatives: 2264\t \n",
      "\n",
      "Epoch 13/100\n",
      "7416/7416 [==============================] - 1s - loss: 1.2712 - val_loss: 0.6832\n",
      "Epoch 12: validation loss: 0.683\n",
      "Balanced Accuracy: 57.42%\t auROC: 0.604\t auPRC: 0.606\t auPRG: 0.186\n",
      "Recall at 5%|10%|20% FDR: 0.7%|1.0%|3.0%\t Num Positives: 2264\t Num Negatives: 2264\t \n",
      "\n",
      "Epoch 14/100\n",
      "7416/7416 [==============================] - 1s - loss: 1.2671 - val_loss: 0.6841\n",
      "Epoch 13: validation loss: 0.684\n",
      "Balanced Accuracy: 56.82%\t auROC: 0.606\t auPRC: 0.611\t auPRG: 0.187\n",
      "Recall at 5%|10%|20% FDR: 0.4%|1.8%|3.1%\t Num Positives: 2264\t Num Negatives: 2264\t \n",
      "\n",
      "Epoch 15/100\n",
      "7416/7416 [==============================] - 1s - loss: 1.2629 - val_loss: 0.6812\n",
      "Epoch 14: validation loss: 0.681\n",
      "Balanced Accuracy: 57.44%\t auROC: 0.610\t auPRC: 0.612\t auPRG: 0.193\n",
      "Recall at 5%|10%|20% FDR: 0.7%|0.8%|4.1%\t Num Positives: 2264\t Num Negatives: 2264\t \n",
      "\n",
      "Epoch 16/100\n",
      "7416/7416 [==============================] - 0s - loss: 1.2538 - val_loss: 0.6819\n",
      "Epoch 15: validation loss: 0.682\n",
      "Balanced Accuracy: 57.75%\t auROC: 0.610\t auPRC: 0.613\t auPRG: 0.196\n",
      "Recall at 5%|10%|20% FDR: 0.5%|1.1%|4.1%\t Num Positives: 2264\t Num Negatives: 2264\t \n",
      "\n",
      "Epoch 17/100\n",
      "7416/7416 [==============================] - 1s - loss: 1.2497 - val_loss: 0.6839\n",
      "Epoch 16: validation loss: 0.684\n",
      "Balanced Accuracy: 57.58%\t auROC: 0.608\t auPRC: 0.610\t auPRG: 0.189\n",
      "Recall at 5%|10%|20% FDR: 0.9%|1.5%|4.5%\t Num Positives: 2264\t Num Negatives: 2264\t \n",
      "\n",
      "Epoch 18/100\n",
      "7416/7416 [==============================] - 0s - loss: 1.2444 - val_loss: 0.6830\n",
      "Epoch 17: validation loss: 0.683\n",
      "Balanced Accuracy: 57.69%\t auROC: 0.608\t auPRC: 0.613\t auPRG: 0.194\n",
      "Recall at 5%|10%|20% FDR: 0.6%|3.6%|5.1%\t Num Positives: 2264\t Num Negatives: 2264\t \n",
      "\n",
      "Epoch 19/100\n",
      "7416/7416 [==============================] - 1s - loss: 1.2364 - val_loss: 0.6817\n",
      "Epoch 18: validation loss: 0.682\n",
      "Balanced Accuracy: 57.73%\t auROC: 0.614\t auPRC: 0.618\t auPRG: 0.201\n",
      "Recall at 5%|10%|20% FDR: 0.6%|2.5%|5.3%\t Num Positives: 2264\t Num Negatives: 2264\t \n",
      "\n"
     ]
    }
   ],
   "source": [
    "#validation_data = (X_valid_normalized_subsampled[:, :, :11, :], y_valid_subsampled)\n",
    "#dnn_normalized.train(X_train_normalized_subsampled[:, :, :11, :], y_train_subsampled, validation_data)\n",
    "validation_data = (X_valid_normalized[:, :, :11, :], y_valid)\n",
    "dnn_normalized.train(X_train_normalized[:, :, :11, :], y_train, validation_data)"
   ]
  },
  {
   "cell_type": "code",
   "execution_count": 20,
   "metadata": {
    "collapsed": false
   },
   "outputs": [
    {
     "name": "stdout",
     "output_type": "stream",
     "text": [
      "Balanced Accuracy: 56.64%\t auROC: 0.597\t auPRC: 0.605\t auPRG: 0.171\n",
      "Recall at 5%|10%|20% FDR: 0.7%|1.0%|7.2%\t Num Positives: 1529\t Num Negatives: 1529\t \n"
     ]
    }
   ],
   "source": [
    "print(dnn_normalized.test(X_test_normalized[:, :, :11, :], y_test))"
   ]
  },
  {
   "cell_type": "markdown",
   "metadata": {},
   "source": [
    "# Print prediction"
   ]
  },
  {
   "cell_type": "code",
   "execution_count": 21,
   "metadata": {
    "collapsed": false
   },
   "outputs": [],
   "source": [
    "indx_test=np.load('/users/mtaranov/NN_all_data/indx_test_upperTriangle_noDiag.npy')\n",
    "indx_valid=np.load('/users/mtaranov/NN_all_data/indx_vali_upperTriangle_noDiag.npy')\n",
    "indx_train=np.load('/users/mtaranov/NN_all_data/indx_train_upperTriangle_noDiag.npy')"
   ]
  },
  {
   "cell_type": "code",
   "execution_count": 22,
   "metadata": {
    "collapsed": false
   },
   "outputs": [
    {
     "ename": "NameError",
     "evalue": "name 'pred_probs_train' is not defined",
     "output_type": "error",
     "traceback": [
      "\u001b[1;31m---------------------------------------------------------------------------\u001b[0m",
      "\u001b[1;31mNameError\u001b[0m                                 Traceback (most recent call last)",
      "\u001b[1;32m<ipython-input-22-8d7c7eba4406>\u001b[0m in \u001b[0;36m<module>\u001b[1;34m()\u001b[0m\n\u001b[0;32m      1\u001b[0m \u001b[0mlabels_all\u001b[0m\u001b[1;33m=\u001b[0m\u001b[1;33m(\u001b[0m\u001b[0mnp\u001b[0m\u001b[1;33m.\u001b[0m\u001b[0mconcatenate\u001b[0m\u001b[1;33m(\u001b[0m\u001b[1;33m(\u001b[0m\u001b[0my_train\u001b[0m\u001b[1;33m,\u001b[0m \u001b[0my_valid\u001b[0m\u001b[1;33m,\u001b[0m \u001b[0my_test\u001b[0m\u001b[1;33m)\u001b[0m\u001b[1;33m,\u001b[0m \u001b[0maxis\u001b[0m\u001b[1;33m=\u001b[0m\u001b[1;36m0\u001b[0m\u001b[1;33m)\u001b[0m\u001b[1;33m)\u001b[0m\u001b[1;33m.\u001b[0m\u001b[0mastype\u001b[0m\u001b[1;33m(\u001b[0m\u001b[0mint\u001b[0m\u001b[1;33m)\u001b[0m\u001b[1;33m\u001b[0m\u001b[0m\n\u001b[1;32m----> 2\u001b[1;33m \u001b[0mpreds_all\u001b[0m\u001b[1;33m=\u001b[0m\u001b[1;33m(\u001b[0m\u001b[0mnp\u001b[0m\u001b[1;33m.\u001b[0m\u001b[0mconcatenate\u001b[0m\u001b[1;33m(\u001b[0m\u001b[1;33m(\u001b[0m\u001b[0mpred_probs_train\u001b[0m\u001b[1;33m,\u001b[0m \u001b[0mpred_probs_valid\u001b[0m\u001b[1;33m,\u001b[0m \u001b[0mpred_probs_test\u001b[0m\u001b[1;33m)\u001b[0m\u001b[1;33m,\u001b[0m \u001b[0maxis\u001b[0m\u001b[1;33m=\u001b[0m\u001b[1;36m0\u001b[0m\u001b[1;33m)\u001b[0m\u001b[1;33m)\u001b[0m\u001b[1;33m\u001b[0m\u001b[0m\n\u001b[0m\u001b[0;32m      3\u001b[0m \u001b[0mindx_all\u001b[0m\u001b[1;33m=\u001b[0m\u001b[1;33m(\u001b[0m\u001b[0mnp\u001b[0m\u001b[1;33m.\u001b[0m\u001b[0mconcatenate\u001b[0m\u001b[1;33m(\u001b[0m\u001b[1;33m(\u001b[0m\u001b[0mindx_train\u001b[0m\u001b[1;33m,\u001b[0m \u001b[0mindx_valid\u001b[0m\u001b[1;33m,\u001b[0m \u001b[0mindx_test\u001b[0m\u001b[1;33m)\u001b[0m\u001b[1;33m,\u001b[0m \u001b[0maxis\u001b[0m\u001b[1;33m=\u001b[0m\u001b[1;36m0\u001b[0m\u001b[1;33m)\u001b[0m\u001b[1;33m)\u001b[0m\u001b[1;33m\u001b[0m\u001b[0m\n\u001b[0;32m      4\u001b[0m \u001b[1;33m\u001b[0m\u001b[0m\n\u001b[0;32m      5\u001b[0m \u001b[0mlabels_test\u001b[0m \u001b[1;33m=\u001b[0m \u001b[0my_test\u001b[0m\u001b[1;33m\u001b[0m\u001b[0m\n",
      "\u001b[1;31mNameError\u001b[0m: name 'pred_probs_train' is not defined"
     ]
    }
   ],
   "source": [
    "labels_all=(np.concatenate((y_train, y_valid, y_test), axis=0)).astype(int)\n",
    "preds_all=(np.concatenate((pred_probs_train, pred_probs_valid, pred_probs_test), axis=0))\n",
    "indx_all=(np.concatenate((indx_train, indx_valid, indx_test), axis=0))\n",
    "\n",
    "labels_test = y_test\n",
    "preds_test = pred_probs_test\n",
    "indx_test = indx_test"
   ]
  },
  {
   "cell_type": "code",
   "execution_count": null,
   "metadata": {
    "collapsed": false
   },
   "outputs": [],
   "source": [
    "NumberOfNodes=2272\n",
    "preds_all_2d, labels_all_2d = get_2D(indx_all, preds_all, labels_all, NumberOfNodes)\n",
    "preds_test_2d, labels_test_2d = get_2D(indx_test, preds_test, labels_test, NumberOfNodes)"
   ]
  },
  {
   "cell_type": "code",
   "execution_count": null,
   "metadata": {
    "collapsed": false
   },
   "outputs": [],
   "source": [
    "printMatrix(preds_all_2d, '', 1, 1, title='preds')\n",
    "printMatrix(labels_all_2d, '', 1, 1, title='Captures')"
   ]
  },
  {
   "cell_type": "code",
   "execution_count": null,
   "metadata": {
    "collapsed": false
   },
   "outputs": [],
   "source": [
    "zoomIn_window = (0,2272)\n",
    "preds_thres = 0.99\n",
    "NumberOfNodes=2272\n",
    "plot_prediction(preds_all_2d, labels_all_2d, zoomIn_window, preds_thres)"
   ]
  },
  {
   "cell_type": "code",
   "execution_count": null,
   "metadata": {
    "collapsed": false
   },
   "outputs": [],
   "source": [
    "zoomIn_window = (0,200)\n",
    "preds_thres = 0.999\n",
    "NumberOfNodes=2272\n",
    "plot_prediction(preds_all_2d, labels_all_2d, zoomIn_window, preds_thres)"
   ]
  },
  {
   "cell_type": "code",
   "execution_count": null,
   "metadata": {
    "collapsed": false
   },
   "outputs": [],
   "source": [
    "zoomIn_window = (1500,1700)\n",
    "preds_thres = 0.98\n",
    "NumberOfNodes=2272\n",
    "plot_prediction(preds_all_2d, labels_all_2d, zoomIn_window, preds_thres)"
   ]
  },
  {
   "cell_type": "code",
   "execution_count": null,
   "metadata": {
    "collapsed": false
   },
   "outputs": [],
   "source": [
    "zoomIn_window = (1550,1650)\n",
    "preds_thres = 0.98\n",
    "NumberOfNodes=2272\n",
    "plot_prediction(preds_all_2d, labels_all_2d, zoomIn_window, preds_thres)"
   ]
  },
  {
   "cell_type": "code",
   "execution_count": null,
   "metadata": {
    "collapsed": true
   },
   "outputs": [],
   "source": []
  }
 ],
 "metadata": {
  "kernelspec": {
   "display_name": "Python 2",
   "language": "python",
   "name": "python2"
  },
  "language_info": {
   "codemirror_mode": {
    "name": "ipython",
    "version": 2
   },
   "file_extension": ".py",
   "mimetype": "text/x-python",
   "name": "python",
   "nbconvert_exporter": "python",
   "pygments_lexer": "ipython2",
   "version": "2.7.11"
  }
 },
 "nbformat": 4,
 "nbformat_minor": 0
}
