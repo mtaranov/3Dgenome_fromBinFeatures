{
 "cells": [
  {
   "cell_type": "code",
   "execution_count": 12,
   "metadata": {
    "collapsed": false
   },
   "outputs": [
    {
     "name": "stdout",
     "output_type": "stream",
     "text": [
      "The autoreload extension is already loaded. To reload it, use:\n",
      "  %reload_ext autoreload\n"
     ]
    }
   ],
   "source": [
    "%matplotlib inline\n",
    "%load_ext autoreload\n",
    "%autoreload 2\n",
    "\n",
    "import numpy as np\n",
    "import matplotlib.pyplot as plt\n",
    "from sklearn.preprocessing import MinMaxScaler, StandardScaler\n",
    "import copy\n",
    "from models import LongRangeDNN\n",
    "from utils import get_features, get_labels, subsample_data, normalize_features, reconstruct_2d, printMatrix, binarize, zscore, get_2D, plot_prediction\n",
    "#from sklearn.preprocessing import MinMaxScaler, StandardScaler\n",
    "#from dragonn.models import Model, SequenceDNN\n",
    "#from keras.models import Sequential\n",
    "#from keras.callbacks import Callback, EarlyStopping\n",
    "#from keras.layers.core import (\n",
    "#    Activation, Dense, Dropout, Flatten,\n",
    "#    Permute, Reshape, TimeDistributedDense\n",
    "#)\n",
    "#from keras.layers.convolutional import Convolution2D, MaxPooling2D\n",
    "#from keras.layers.recurrent import GRU\n",
    "#from keras.regularizers import l1\n",
    "\n",
    "#from deeplift import keras_conversion as kc\n",
    "#from deeplift.blobs import MxtsMode"
   ]
  },
  {
   "cell_type": "code",
   "execution_count": 13,
   "metadata": {
    "collapsed": false
   },
   "outputs": [
    {
     "data": {
      "text/plain": [
       "\"\\nX_train = get_features(data_path+'train_set_upperTriangle_noDiag_reads.npy')\\ny_train = get_labels(data_path+'labels_train_upperTriangle_noDiag.npy')\\nX_valid = get_features(data_path+'vali_set_upperTriangle_noDiag_reads.npy')\\ny_valid = get_labels(data_path+'labels_vali_upperTriangle_noDiag.npy')\\nX_test = get_features(data_path+'test_set_upperTriangle_noDiag_reads.npy')\\ny_test = get_labels(data_path+'labels_test_upperTriangle_noDiag.npy')\\n\\nX_train = get_features('NN_datasets/train_set_all_reads.npy')\\ny_train = get_labels('NN_datasets/labels_train_all.npy')\\nX_valid = get_features('NN_datasets/vali_set_all_reads.npy')\\ny_valid = get_labels('NN_datasets/labels_vali_all.npy')\\nX_test = get_features('NN_datasets/test_set_all_reads.npy')\\ny_test = get_labels('NN_datasets/labels_test_all.npy')\\n\\nX_train_subsampled, y_train_subsampled = subsample_data(X_train, y_train)\\nX_valid_subsampled, y_valid_subsampled = subsample_data(X_valid, y_valid)\\nX_test_subsampled, y_test_subsampled = subsample_data(X_test, y_test)\\n\""
      ]
     },
     "execution_count": 13,
     "metadata": {},
     "output_type": "execute_result"
    }
   ],
   "source": [
    "data_path='/users/mtaranov/NN_all_data/'\n",
    "\n",
    "X_train = get_features('/users/mtaranov/NN_all_data/less_than_2Mb/distMatched_data_train_set_upperTriangle_noDiag_reads_less_2Mb.npy')\n",
    "y_train = get_labels('/users/mtaranov/NN_all_data/less_than_2Mb/distMatched_labels_train_upperTriangle_noDiag_reads_less_2Mb.npy')\n",
    "X_valid = get_features('/users/mtaranov/NN_all_data/less_than_2Mb/distMatched_data_vali_set_upperTriangle_noDiag_reads_less_2Mb.npy')\n",
    "y_valid = get_labels('/users/mtaranov/NN_all_data/less_than_2Mb/distMatched_labels_vali_upperTriangle_noDiag_reads_less_2Mb.npy')\n",
    "X_test = get_features('/users/mtaranov/NN_all_data/less_than_2Mb/distMatched_data_test_set_upperTriangle_noDiag_reads_less_2Mb.npy')\n",
    "y_test = get_labels('/users/mtaranov/NN_all_data/less_than_2Mb/distMatched_labels_test_upperTriangle_noDiag_reads_less_2Mb.npy')\n",
    "\n",
    "\"\"\"\n",
    "X_train = get_features(data_path+'train_set_upperTriangle_noDiag_reads.npy')\n",
    "y_train = get_labels(data_path+'labels_train_upperTriangle_noDiag.npy')\n",
    "X_valid = get_features(data_path+'vali_set_upperTriangle_noDiag_reads.npy')\n",
    "y_valid = get_labels(data_path+'labels_vali_upperTriangle_noDiag.npy')\n",
    "X_test = get_features(data_path+'test_set_upperTriangle_noDiag_reads.npy')\n",
    "y_test = get_labels(data_path+'labels_test_upperTriangle_noDiag.npy')\n",
    "\n",
    "X_train = get_features('NN_datasets/train_set_all_reads.npy')\n",
    "y_train = get_labels('NN_datasets/labels_train_all.npy')\n",
    "X_valid = get_features('NN_datasets/vali_set_all_reads.npy')\n",
    "y_valid = get_labels('NN_datasets/labels_vali_all.npy')\n",
    "X_test = get_features('NN_datasets/test_set_all_reads.npy')\n",
    "y_test = get_labels('NN_datasets/labels_test_all.npy')\n",
    "\n",
    "X_train_subsampled, y_train_subsampled = subsample_data(X_train, y_train)\n",
    "X_valid_subsampled, y_valid_subsampled = subsample_data(X_valid, y_valid)\n",
    "X_test_subsampled, y_test_subsampled = subsample_data(X_test, y_test)\n",
    "\"\"\""
   ]
  },
  {
   "cell_type": "code",
   "execution_count": 14,
   "metadata": {
    "collapsed": false
   },
   "outputs": [],
   "source": [
    "X_train_normalized, X_valid_normalized, X_test_normalized = normalize_features(X_train, X_valid, X_test)\n",
    "\n",
    "#X_train_normalized_subsampled, y_train_subsampled = subsample_data(X_train_normalized, y_train)\n",
    "#X_valid_normalized_subsampled, y_valid_subsampled = subsample_data(X_valid_normalized, y_valid)\n",
    "#X_test_normalized_subsampled, y_test_subsampled = subsample_data(X_test_normalized, y_test)\n",
    "\n",
    "#X_train_scaled_subsampled, y_train_subsampled = subsample_data(X_train_scaled, y_train)\n",
    "#X_valid_scaled_subsampled, y_valid_subsampled = subsample_data(X_valid_scaled, y_valid)\n",
    "#X_test_scaled_subsampled, y_test_subsampled = subsample_data(X_test_scaled, y_test)\n"
   ]
  },
  {
   "cell_type": "markdown",
   "metadata": {},
   "source": [
    "# without distance"
   ]
  },
  {
   "cell_type": "code",
   "execution_count": 15,
   "metadata": {
    "collapsed": true
   },
   "outputs": [],
   "source": [
    "dnn_normalized = LongRangeDNN(num_features=10, use_deep_CNN=True)"
   ]
  },
  {
   "cell_type": "code",
   "execution_count": 16,
   "metadata": {
    "collapsed": false
   },
   "outputs": [
    {
     "name": "stdout",
     "output_type": "stream",
     "text": [
      "Training model...\n",
      "Train on 7238 samples, validate on 4416 samples\n",
      "Epoch 1/100\n",
      "7238/7238 [==============================] - 2s - loss: 1.3889 - val_loss: 0.6885\n",
      "Epoch 0: validation loss: 0.689\n",
      "Balanced Accuracy: 54.35%\t auROC: 0.555\t auPRC: 0.539\t auPRG: 0.114\n",
      "Recall at 5%|10%|20% FDR: 0.0%|0.0%|0.0%\t Num Positives: 2208\t Num Negatives: 2208\t \n",
      "\n",
      "Epoch 2/100\n",
      "7238/7238 [==============================] - 1s - loss: 1.3737 - val_loss: 0.6864\n",
      "Epoch 1: validation loss: 0.686\n",
      "Balanced Accuracy: 54.85%\t auROC: 0.566\t auPRC: 0.547\t auPRG: 0.138\n",
      "Recall at 5%|10%|20% FDR: 0.0%|0.0%|0.0%\t Num Positives: 2208\t Num Negatives: 2208\t \n",
      "\n",
      "Epoch 3/100\n",
      "7238/7238 [==============================] - 1s - loss: 1.3644 - val_loss: 0.6827\n",
      "Epoch 2: validation loss: 0.683\n",
      "Balanced Accuracy: 55.82%\t auROC: 0.584\t auPRC: 0.566\t auPRG: 0.163\n",
      "Recall at 5%|10%|20% FDR: 0.0%|0.0%|0.0%\t Num Positives: 2208\t Num Negatives: 2208\t \n",
      "\n",
      "Epoch 4/100\n",
      "7238/7238 [==============================] - 0s - loss: 1.3557 - val_loss: 0.6800\n",
      "Epoch 3: validation loss: 0.680\n",
      "Balanced Accuracy: 56.39%\t auROC: 0.595\t auPRC: 0.587\t auPRG: 0.174\n",
      "Recall at 5%|10%|20% FDR: 0.0%|0.0%|0.0%\t Num Positives: 2208\t Num Negatives: 2208\t \n",
      "\n",
      "Epoch 5/100\n",
      "7238/7238 [==============================] - 2s - loss: 1.3490 - val_loss: 0.6775\n",
      "Epoch 4: validation loss: 0.678\n",
      "Balanced Accuracy: 56.63%\t auROC: 0.601\t auPRC: 0.597\t auPRG: 0.182\n",
      "Recall at 5%|10%|20% FDR: 0.0%|0.0%|3.8%\t Num Positives: 2208\t Num Negatives: 2208\t \n",
      "\n",
      "Epoch 6/100\n",
      "7238/7238 [==============================] - 0s - loss: 1.3382 - val_loss: 0.6758\n",
      "Epoch 5: validation loss: 0.676\n",
      "Balanced Accuracy: 57.31%\t auROC: 0.606\t auPRC: 0.601\t auPRG: 0.196\n",
      "Recall at 5%|10%|20% FDR: 0.1%|0.1%|0.1%\t Num Positives: 2208\t Num Negatives: 2208\t \n",
      "\n",
      "Epoch 7/100\n",
      "7238/7238 [==============================] - 0s - loss: 1.3302 - val_loss: 0.6762\n",
      "Epoch 6: validation loss: 0.676\n",
      "Balanced Accuracy: 57.34%\t auROC: 0.608\t auPRC: 0.600\t auPRG: 0.201\n",
      "Recall at 5%|10%|20% FDR: 0.0%|0.0%|0.0%\t Num Positives: 2208\t Num Negatives: 2208\t \n",
      "\n",
      "Epoch 8/100\n",
      "7238/7238 [==============================] - 1s - loss: 1.3215 - val_loss: 0.6741\n",
      "Epoch 7: validation loss: 0.674\n",
      "Balanced Accuracy: 57.52%\t auROC: 0.609\t auPRC: 0.603\t auPRG: 0.200\n",
      "Recall at 5%|10%|20% FDR: 0.0%|0.0%|2.7%\t Num Positives: 2208\t Num Negatives: 2208\t \n",
      "\n",
      "Epoch 9/100\n",
      "7238/7238 [==============================] - 0s - loss: 1.3171 - val_loss: 0.6759\n",
      "Epoch 8: validation loss: 0.676\n",
      "Balanced Accuracy: 56.97%\t auROC: 0.606\t auPRC: 0.603\t auPRG: 0.198\n",
      "Recall at 5%|10%|20% FDR: 0.0%|0.0%|0.7%\t Num Positives: 2208\t Num Negatives: 2208\t \n",
      "\n",
      "Epoch 10/100\n",
      "7238/7238 [==============================] - 1s - loss: 1.3073 - val_loss: 0.6771\n",
      "Epoch 9: validation loss: 0.677\n",
      "Balanced Accuracy: 57.45%\t auROC: 0.605\t auPRC: 0.601\t auPRG: 0.195\n",
      "Recall at 5%|10%|20% FDR: 0.1%|0.1%|0.1%\t Num Positives: 2208\t Num Negatives: 2208\t \n",
      "\n",
      "Epoch 11/100\n",
      "7238/7238 [==============================] - 0s - loss: 1.3040 - val_loss: 0.6771\n",
      "Epoch 10: validation loss: 0.677\n",
      "Balanced Accuracy: 57.38%\t auROC: 0.608\t auPRC: 0.603\t auPRG: 0.202\n",
      "Recall at 5%|10%|20% FDR: 0.1%|0.1%|0.1%\t Num Positives: 2208\t Num Negatives: 2208\t \n",
      "\n",
      "Epoch 12/100\n",
      "7238/7238 [==============================] - 1s - loss: 1.2957 - val_loss: 0.6743\n",
      "Epoch 11: validation loss: 0.674\n",
      "Balanced Accuracy: 58.08%\t auROC: 0.613\t auPRC: 0.608\t auPRG: 0.211\n",
      "Recall at 5%|10%|20% FDR: 0.0%|0.0%|0.0%\t Num Positives: 2208\t Num Negatives: 2208\t \n",
      "\n",
      "Epoch 13/100\n",
      "7238/7238 [==============================] - 0s - loss: 1.2887 - val_loss: 0.6775\n",
      "Epoch 12: validation loss: 0.678\n",
      "Balanced Accuracy: 57.38%\t auROC: 0.606\t auPRC: 0.604\t auPRG: 0.198\n",
      "Recall at 5%|10%|20% FDR: 0.0%|0.0%|0.0%\t Num Positives: 2208\t Num Negatives: 2208\t \n",
      "\n",
      "Epoch 14/100\n",
      "7238/7238 [==============================] - 1s - loss: 1.2850 - val_loss: 0.6761\n",
      "Epoch 13: validation loss: 0.676\n",
      "Balanced Accuracy: 57.09%\t auROC: 0.611\t auPRC: 0.605\t auPRG: 0.203\n",
      "Recall at 5%|10%|20% FDR: 0.3%|0.3%|0.5%\t Num Positives: 2208\t Num Negatives: 2208\t \n",
      "\n",
      "Epoch 15/100\n",
      "7238/7238 [==============================] - 0s - loss: 1.2809 - val_loss: 0.6795\n",
      "Epoch 14: validation loss: 0.680\n",
      "Balanced Accuracy: 56.77%\t auROC: 0.604\t auPRC: 0.602\t auPRG: 0.188\n",
      "Recall at 5%|10%|20% FDR: 0.1%|0.1%|3.2%\t Num Positives: 2208\t Num Negatives: 2208\t \n",
      "\n",
      "Epoch 16/100\n",
      "7238/7238 [==============================] - 0s - loss: 1.2782 - val_loss: 0.6757\n",
      "Epoch 15: validation loss: 0.676\n",
      "Balanced Accuracy: 56.75%\t auROC: 0.612\t auPRC: 0.606\t auPRG: 0.196\n",
      "Recall at 5%|10%|20% FDR: 0.3%|0.3%|0.5%\t Num Positives: 2208\t Num Negatives: 2208\t \n",
      "\n",
      "Epoch 17/100\n",
      "7238/7238 [==============================] - 1s - loss: 1.2692 - val_loss: 0.6797\n",
      "Epoch 16: validation loss: 0.680\n",
      "Balanced Accuracy: 56.95%\t auROC: 0.610\t auPRC: 0.608\t auPRG: 0.199\n",
      "Recall at 5%|10%|20% FDR: 0.3%|0.3%|2.2%\t Num Positives: 2208\t Num Negatives: 2208\t \n",
      "\n",
      "Epoch 18/100\n",
      "7238/7238 [==============================] - 0s - loss: 1.2679 - val_loss: 0.6863\n",
      "Epoch 17: validation loss: 0.686\n",
      "Balanced Accuracy: 56.11%\t auROC: 0.599\t auPRC: 0.604\t auPRG: 0.170\n",
      "Recall at 5%|10%|20% FDR: 0.3%|0.3%|4.0%\t Num Positives: 2208\t Num Negatives: 2208\t \n",
      "\n",
      "Epoch 19/100\n",
      "7238/7238 [==============================] - 0s - loss: 1.2575 - val_loss: 0.6775\n",
      "Epoch 18: validation loss: 0.677\n",
      "Balanced Accuracy: 57.90%\t auROC: 0.611\t auPRC: 0.610\t auPRG: 0.204\n",
      "Recall at 5%|10%|20% FDR: 0.4%|0.6%|2.2%\t Num Positives: 2208\t Num Negatives: 2208\t \n",
      "\n"
     ]
    }
   ],
   "source": [
    "#validation_data = (X_valid_normalized_subsampled[:, :, :10, :], y_valid_subsampled)\n",
    "#dnn_normalized.train(X_train_normalized_subsampled[:, :, :10, :], y_train_subsampled, validation_data)\n",
    "validation_data = (X_valid_normalized[:, :, :10, :], y_valid)\n",
    "dnn_normalized.train(X_train_normalized[:, :, :10, :], y_train, validation_data)"
   ]
  },
  {
   "cell_type": "code",
   "execution_count": 17,
   "metadata": {
    "collapsed": false
   },
   "outputs": [
    {
     "name": "stdout",
     "output_type": "stream",
     "text": [
      "Balanced Accuracy: 57.95%\t auROC: 0.618\t auPRC: 0.613\t auPRG: 0.216\n",
      "Recall at 5%|10%|20% FDR: 0.0%|0.0%|0.6%\t Num Positives: 1485\t Num Negatives: 1485\t \n"
     ]
    }
   ],
   "source": [
    "print(dnn_normalized.test(X_test_normalized[:, :, :10, :], y_test))"
   ]
  },
  {
   "cell_type": "markdown",
   "metadata": {},
   "source": [
    "# with genomic locations"
   ]
  },
  {
   "cell_type": "code",
   "execution_count": 18,
   "metadata": {
    "collapsed": true
   },
   "outputs": [],
   "source": [
    "dnn_normalized = LongRangeDNN(num_features=11, use_deep_CNN=True)"
   ]
  },
  {
   "cell_type": "code",
   "execution_count": 19,
   "metadata": {
    "collapsed": false
   },
   "outputs": [
    {
     "name": "stdout",
     "output_type": "stream",
     "text": [
      "Training model...\n",
      "Train on 7238 samples, validate on 4416 samples\n",
      "Epoch 1/100\n",
      "7238/7238 [==============================] - 1s - loss: 1.3873 - val_loss: 0.6879\n",
      "Epoch 0: validation loss: 0.688\n",
      "Balanced Accuracy: 54.33%\t auROC: 0.556\t auPRC: 0.536\t auPRG: 0.116\n",
      "Recall at 5%|10%|20% FDR: 0.0%|0.0%|0.0%\t Num Positives: 2208\t Num Negatives: 2208\t \n",
      "\n",
      "Epoch 2/100\n",
      "7238/7238 [==============================] - 2s - loss: 1.3743 - val_loss: 0.6866\n",
      "Epoch 1: validation loss: 0.687\n",
      "Balanced Accuracy: 55.37%\t auROC: 0.569\t auPRC: 0.551\t auPRG: 0.151\n",
      "Recall at 5%|10%|20% FDR: 0.3%|0.3%|0.3%\t Num Positives: 2208\t Num Negatives: 2208\t \n",
      "\n",
      "Epoch 3/100\n",
      "7238/7238 [==============================] - 0s - loss: 1.3672 - val_loss: 0.6841\n",
      "Epoch 2: validation loss: 0.684\n",
      "Balanced Accuracy: 56.48%\t auROC: 0.577\t auPRC: 0.560\t auPRG: 0.163\n",
      "Recall at 5%|10%|20% FDR: 0.0%|0.0%|0.0%\t Num Positives: 2208\t Num Negatives: 2208\t \n",
      "\n",
      "Epoch 4/100\n",
      "7238/7238 [==============================] - 0s - loss: 1.3598 - val_loss: 0.6825\n",
      "Epoch 3: validation loss: 0.683\n",
      "Balanced Accuracy: 56.14%\t auROC: 0.581\t auPRC: 0.560\t auPRG: 0.163\n",
      "Recall at 5%|10%|20% FDR: 0.0%|0.0%|0.0%\t Num Positives: 2208\t Num Negatives: 2208\t \n",
      "\n",
      "Epoch 5/100\n",
      "7238/7238 [==============================] - 1s - loss: 1.3511 - val_loss: 0.6795\n",
      "Epoch 4: validation loss: 0.679\n",
      "Balanced Accuracy: 56.79%\t auROC: 0.591\t auPRC: 0.584\t auPRG: 0.180\n",
      "Recall at 5%|10%|20% FDR: 0.0%|0.0%|0.0%\t Num Positives: 2208\t Num Negatives: 2208\t \n",
      "\n",
      "Epoch 6/100\n",
      "7238/7238 [==============================] - 1s - loss: 1.3420 - val_loss: 0.6779\n",
      "Epoch 5: validation loss: 0.678\n",
      "Balanced Accuracy: 56.54%\t auROC: 0.597\t auPRC: 0.589\t auPRG: 0.187\n",
      "Recall at 5%|10%|20% FDR: 0.0%|0.0%|0.3%\t Num Positives: 2208\t Num Negatives: 2208\t \n",
      "\n",
      "Epoch 7/100\n",
      "7238/7238 [==============================] - 0s - loss: 1.3342 - val_loss: 0.6744\n",
      "Epoch 6: validation loss: 0.674\n",
      "Balanced Accuracy: 57.63%\t auROC: 0.604\t auPRC: 0.603\t auPRG: 0.196\n",
      "Recall at 5%|10%|20% FDR: 0.0%|0.0%|3.4%\t Num Positives: 2208\t Num Negatives: 2208\t \n",
      "\n",
      "Epoch 8/100\n",
      "7238/7238 [==============================] - 1s - loss: 1.3290 - val_loss: 0.6742\n",
      "Epoch 7: validation loss: 0.674\n",
      "Balanced Accuracy: 57.45%\t auROC: 0.604\t auPRC: 0.600\t auPRG: 0.196\n",
      "Recall at 5%|10%|20% FDR: 0.1%|0.1%|5.0%\t Num Positives: 2208\t Num Negatives: 2208\t \n",
      "\n",
      "Epoch 9/100\n",
      "7238/7238 [==============================] - 1s - loss: 1.3182 - val_loss: 0.6737\n",
      "Epoch 8: validation loss: 0.674\n",
      "Balanced Accuracy: 57.54%\t auROC: 0.610\t auPRC: 0.608\t auPRG: 0.204\n",
      "Recall at 5%|10%|20% FDR: 0.1%|0.1%|2.5%\t Num Positives: 2208\t Num Negatives: 2208\t \n",
      "\n",
      "Epoch 10/100\n",
      "7238/7238 [==============================] - 0s - loss: 1.3122 - val_loss: 0.6740\n",
      "Epoch 9: validation loss: 0.674\n",
      "Balanced Accuracy: 57.63%\t auROC: 0.608\t auPRC: 0.605\t auPRG: 0.201\n",
      "Recall at 5%|10%|20% FDR: 0.1%|0.1%|4.2%\t Num Positives: 2208\t Num Negatives: 2208\t \n",
      "\n",
      "Epoch 11/100\n",
      "7238/7238 [==============================] - 0s - loss: 1.3061 - val_loss: 0.6743\n",
      "Epoch 10: validation loss: 0.674\n",
      "Balanced Accuracy: 57.34%\t auROC: 0.610\t auPRC: 0.607\t auPRG: 0.205\n",
      "Recall at 5%|10%|20% FDR: 0.2%|0.2%|4.0%\t Num Positives: 2208\t Num Negatives: 2208\t \n",
      "\n",
      "Epoch 12/100\n",
      "7238/7238 [==============================] - 2s - loss: 1.2995 - val_loss: 0.6728\n",
      "Epoch 11: validation loss: 0.673\n",
      "Balanced Accuracy: 57.86%\t auROC: 0.618\t auPRC: 0.614\t auPRG: 0.221\n",
      "Recall at 5%|10%|20% FDR: 0.2%|0.2%|6.2%\t Num Positives: 2208\t Num Negatives: 2208\t \n",
      "\n",
      "Epoch 13/100\n",
      "7238/7238 [==============================] - 1s - loss: 1.2961 - val_loss: 0.6725\n",
      "Epoch 12: validation loss: 0.673\n",
      "Balanced Accuracy: 57.79%\t auROC: 0.614\t auPRC: 0.610\t auPRG: 0.210\n",
      "Recall at 5%|10%|20% FDR: 0.0%|0.0%|3.8%\t Num Positives: 2208\t Num Negatives: 2208\t \n",
      "\n",
      "Epoch 14/100\n",
      "7238/7238 [==============================] - 2s - loss: 1.2896 - val_loss: 0.6710\n",
      "Epoch 13: validation loss: 0.671\n",
      "Balanced Accuracy: 58.29%\t auROC: 0.623\t auPRC: 0.619\t auPRG: 0.227\n",
      "Recall at 5%|10%|20% FDR: 0.2%|0.2%|5.7%\t Num Positives: 2208\t Num Negatives: 2208\t \n",
      "\n",
      "Epoch 15/100\n",
      "7238/7238 [==============================] - 1s - loss: 1.2819 - val_loss: 0.6724\n",
      "Epoch 14: validation loss: 0.672\n",
      "Balanced Accuracy: 57.74%\t auROC: 0.618\t auPRC: 0.615\t auPRG: 0.217\n",
      "Recall at 5%|10%|20% FDR: 0.0%|0.0%|5.1%\t Num Positives: 2208\t Num Negatives: 2208\t \n",
      "\n",
      "Epoch 16/100\n",
      "7238/7238 [==============================] - 1s - loss: 1.2761 - val_loss: 0.6766\n",
      "Epoch 15: validation loss: 0.677\n",
      "Balanced Accuracy: 57.86%\t auROC: 0.615\t auPRC: 0.609\t auPRG: 0.213\n",
      "Recall at 5%|10%|20% FDR: 0.1%|0.1%|4.7%\t Num Positives: 2208\t Num Negatives: 2208\t \n",
      "\n",
      "Epoch 17/100\n",
      "7238/7238 [==============================] - 1s - loss: 1.2745 - val_loss: 0.6784\n",
      "Epoch 16: validation loss: 0.678\n",
      "Balanced Accuracy: 58.17%\t auROC: 0.618\t auPRC: 0.613\t auPRG: 0.218\n",
      "Recall at 5%|10%|20% FDR: 0.1%|0.1%|4.7%\t Num Positives: 2208\t Num Negatives: 2208\t \n",
      "\n",
      "Epoch 18/100\n",
      "7238/7238 [==============================] - 0s - loss: 1.2693 - val_loss: 0.6740\n",
      "Epoch 17: validation loss: 0.674\n",
      "Balanced Accuracy: 58.27%\t auROC: 0.620\t auPRC: 0.614\t auPRG: 0.224\n",
      "Recall at 5%|10%|20% FDR: 0.1%|0.1%|4.4%\t Num Positives: 2208\t Num Negatives: 2208\t \n",
      "\n",
      "Epoch 19/100\n",
      "7238/7238 [==============================] - 0s - loss: 1.2611 - val_loss: 0.6748\n",
      "Epoch 18: validation loss: 0.675\n",
      "Balanced Accuracy: 58.58%\t auROC: 0.625\t auPRC: 0.619\t auPRG: 0.236\n",
      "Recall at 5%|10%|20% FDR: 0.0%|0.0%|3.9%\t Num Positives: 2208\t Num Negatives: 2208\t \n",
      "\n",
      "Epoch 20/100\n",
      "7238/7238 [==============================] - 0s - loss: 1.2527 - val_loss: 0.6718\n",
      "Epoch 19: validation loss: 0.672\n",
      "Balanced Accuracy: 59.01%\t auROC: 0.628\t auPRC: 0.623\t auPRG: 0.241\n",
      "Recall at 5%|10%|20% FDR: 0.0%|0.0%|5.6%\t Num Positives: 2208\t Num Negatives: 2208\t \n",
      "\n",
      "Epoch 21/100\n",
      "7238/7238 [==============================] - 1s - loss: 1.2469 - val_loss: 0.6780\n",
      "Epoch 20: validation loss: 0.678\n",
      "Balanced Accuracy: 58.56%\t auROC: 0.625\t auPRC: 0.617\t auPRG: 0.232\n",
      "Recall at 5%|10%|20% FDR: 0.1%|0.1%|3.4%\t Num Positives: 2208\t Num Negatives: 2208\t \n",
      "\n",
      "Epoch 22/100\n",
      "7238/7238 [==============================] - 0s - loss: 1.2439 - val_loss: 0.6747\n",
      "Epoch 21: validation loss: 0.675\n",
      "Balanced Accuracy: 59.15%\t auROC: 0.628\t auPRC: 0.620\t auPRG: 0.243\n",
      "Recall at 5%|10%|20% FDR: 0.0%|0.0%|3.5%\t Num Positives: 2208\t Num Negatives: 2208\t \n",
      "\n",
      "Epoch 23/100\n",
      "7238/7238 [==============================] - 0s - loss: 1.2357 - val_loss: 0.6809\n",
      "Epoch 22: validation loss: 0.681\n",
      "Balanced Accuracy: 58.70%\t auROC: 0.628\t auPRC: 0.620\t auPRG: 0.242\n",
      "Recall at 5%|10%|20% FDR: 0.1%|0.1%|5.7%\t Num Positives: 2208\t Num Negatives: 2208\t \n",
      "\n",
      "Epoch 24/100\n",
      "7238/7238 [==============================] - 0s - loss: 1.2301 - val_loss: 0.6796\n",
      "Epoch 23: validation loss: 0.680\n",
      "Balanced Accuracy: 59.28%\t auROC: 0.627\t auPRC: 0.617\t auPRG: 0.243\n",
      "Recall at 5%|10%|20% FDR: 0.0%|0.0%|2.8%\t Num Positives: 2208\t Num Negatives: 2208\t \n",
      "\n",
      "Epoch 25/100\n",
      "7238/7238 [==============================] - 1s - loss: 1.2273 - val_loss: 0.6776\n",
      "Epoch 24: validation loss: 0.678\n",
      "Balanced Accuracy: 58.49%\t auROC: 0.626\t auPRC: 0.614\t auPRG: 0.241\n",
      "Recall at 5%|10%|20% FDR: 0.0%|0.0%|0.0%\t Num Positives: 2208\t Num Negatives: 2208\t \n",
      "\n"
     ]
    }
   ],
   "source": [
    "#validation_data = (X_valid_normalized_subsampled[:, :, :11, :], y_valid_subsampled)\n",
    "#dnn_normalized.train(X_train_normalized_subsampled[:, :, :11, :], y_train_subsampled, validation_data)\n",
    "validation_data = (X_valid_normalized[:, :, :11, :], y_valid)\n",
    "dnn_normalized.train(X_train_normalized[:, :, :11, :], y_train, validation_data)"
   ]
  },
  {
   "cell_type": "code",
   "execution_count": 20,
   "metadata": {
    "collapsed": false
   },
   "outputs": [
    {
     "name": "stdout",
     "output_type": "stream",
     "text": [
      "Balanced Accuracy: 58.55%\t auROC: 0.620\t auPRC: 0.612\t auPRG: 0.229\n",
      "Recall at 5%|10%|20% FDR: 0.1%|0.1%|3.6%\t Num Positives: 1485\t Num Negatives: 1485\t \n"
     ]
    }
   ],
   "source": [
    "print(dnn_normalized.test(X_test_normalized[:, :, :11, :], y_test))"
   ]
  },
  {
   "cell_type": "markdown",
   "metadata": {},
   "source": [
    "# Print prediction"
   ]
  },
  {
   "cell_type": "code",
   "execution_count": 21,
   "metadata": {
    "collapsed": false
   },
   "outputs": [],
   "source": [
    "indx_test=np.load('/users/mtaranov/NN_all_data/indx_test_upperTriangle_noDiag.npy')\n",
    "indx_valid=np.load('/users/mtaranov/NN_all_data/indx_vali_upperTriangle_noDiag.npy')\n",
    "indx_train=np.load('/users/mtaranov/NN_all_data/indx_train_upperTriangle_noDiag.npy')"
   ]
  },
  {
   "cell_type": "code",
   "execution_count": 22,
   "metadata": {
    "collapsed": false
   },
   "outputs": [
    {
     "ename": "NameError",
     "evalue": "name 'pred_probs_train' is not defined",
     "output_type": "error",
     "traceback": [
      "\u001b[1;31m---------------------------------------------------------------------------\u001b[0m",
      "\u001b[1;31mNameError\u001b[0m                                 Traceback (most recent call last)",
      "\u001b[1;32m<ipython-input-22-8d7c7eba4406>\u001b[0m in \u001b[0;36m<module>\u001b[1;34m()\u001b[0m\n\u001b[0;32m      1\u001b[0m \u001b[0mlabels_all\u001b[0m\u001b[1;33m=\u001b[0m\u001b[1;33m(\u001b[0m\u001b[0mnp\u001b[0m\u001b[1;33m.\u001b[0m\u001b[0mconcatenate\u001b[0m\u001b[1;33m(\u001b[0m\u001b[1;33m(\u001b[0m\u001b[0my_train\u001b[0m\u001b[1;33m,\u001b[0m \u001b[0my_valid\u001b[0m\u001b[1;33m,\u001b[0m \u001b[0my_test\u001b[0m\u001b[1;33m)\u001b[0m\u001b[1;33m,\u001b[0m \u001b[0maxis\u001b[0m\u001b[1;33m=\u001b[0m\u001b[1;36m0\u001b[0m\u001b[1;33m)\u001b[0m\u001b[1;33m)\u001b[0m\u001b[1;33m.\u001b[0m\u001b[0mastype\u001b[0m\u001b[1;33m(\u001b[0m\u001b[0mint\u001b[0m\u001b[1;33m)\u001b[0m\u001b[1;33m\u001b[0m\u001b[0m\n\u001b[1;32m----> 2\u001b[1;33m \u001b[0mpreds_all\u001b[0m\u001b[1;33m=\u001b[0m\u001b[1;33m(\u001b[0m\u001b[0mnp\u001b[0m\u001b[1;33m.\u001b[0m\u001b[0mconcatenate\u001b[0m\u001b[1;33m(\u001b[0m\u001b[1;33m(\u001b[0m\u001b[0mpred_probs_train\u001b[0m\u001b[1;33m,\u001b[0m \u001b[0mpred_probs_valid\u001b[0m\u001b[1;33m,\u001b[0m \u001b[0mpred_probs_test\u001b[0m\u001b[1;33m)\u001b[0m\u001b[1;33m,\u001b[0m \u001b[0maxis\u001b[0m\u001b[1;33m=\u001b[0m\u001b[1;36m0\u001b[0m\u001b[1;33m)\u001b[0m\u001b[1;33m)\u001b[0m\u001b[1;33m\u001b[0m\u001b[0m\n\u001b[0m\u001b[0;32m      3\u001b[0m \u001b[0mindx_all\u001b[0m\u001b[1;33m=\u001b[0m\u001b[1;33m(\u001b[0m\u001b[0mnp\u001b[0m\u001b[1;33m.\u001b[0m\u001b[0mconcatenate\u001b[0m\u001b[1;33m(\u001b[0m\u001b[1;33m(\u001b[0m\u001b[0mindx_train\u001b[0m\u001b[1;33m,\u001b[0m \u001b[0mindx_valid\u001b[0m\u001b[1;33m,\u001b[0m \u001b[0mindx_test\u001b[0m\u001b[1;33m)\u001b[0m\u001b[1;33m,\u001b[0m \u001b[0maxis\u001b[0m\u001b[1;33m=\u001b[0m\u001b[1;36m0\u001b[0m\u001b[1;33m)\u001b[0m\u001b[1;33m)\u001b[0m\u001b[1;33m\u001b[0m\u001b[0m\n\u001b[0;32m      4\u001b[0m \u001b[1;33m\u001b[0m\u001b[0m\n\u001b[0;32m      5\u001b[0m \u001b[0mlabels_test\u001b[0m \u001b[1;33m=\u001b[0m \u001b[0my_test\u001b[0m\u001b[1;33m\u001b[0m\u001b[0m\n",
      "\u001b[1;31mNameError\u001b[0m: name 'pred_probs_train' is not defined"
     ]
    }
   ],
   "source": [
    "labels_all=(np.concatenate((y_train, y_valid, y_test), axis=0)).astype(int)\n",
    "preds_all=(np.concatenate((pred_probs_train, pred_probs_valid, pred_probs_test), axis=0))\n",
    "indx_all=(np.concatenate((indx_train, indx_valid, indx_test), axis=0))\n",
    "\n",
    "labels_test = y_test\n",
    "preds_test = pred_probs_test\n",
    "indx_test = indx_test"
   ]
  },
  {
   "cell_type": "code",
   "execution_count": null,
   "metadata": {
    "collapsed": false
   },
   "outputs": [],
   "source": [
    "NumberOfNodes=2272\n",
    "preds_all_2d, labels_all_2d = get_2D(indx_all, preds_all, labels_all, NumberOfNodes)\n",
    "preds_test_2d, labels_test_2d = get_2D(indx_test, preds_test, labels_test, NumberOfNodes)"
   ]
  },
  {
   "cell_type": "code",
   "execution_count": null,
   "metadata": {
    "collapsed": false
   },
   "outputs": [],
   "source": [
    "printMatrix(preds_all_2d, '', 1, 1, title='preds')\n",
    "printMatrix(labels_all_2d, '', 1, 1, title='Captures')"
   ]
  },
  {
   "cell_type": "code",
   "execution_count": null,
   "metadata": {
    "collapsed": false
   },
   "outputs": [],
   "source": [
    "zoomIn_window = (0,2272)\n",
    "preds_thres = 0.99\n",
    "NumberOfNodes=2272\n",
    "plot_prediction(preds_all_2d, labels_all_2d, zoomIn_window, preds_thres)"
   ]
  },
  {
   "cell_type": "code",
   "execution_count": null,
   "metadata": {
    "collapsed": false
   },
   "outputs": [],
   "source": [
    "zoomIn_window = (0,200)\n",
    "preds_thres = 0.999\n",
    "NumberOfNodes=2272\n",
    "plot_prediction(preds_all_2d, labels_all_2d, zoomIn_window, preds_thres)"
   ]
  },
  {
   "cell_type": "code",
   "execution_count": null,
   "metadata": {
    "collapsed": false
   },
   "outputs": [],
   "source": [
    "zoomIn_window = (1500,1700)\n",
    "preds_thres = 0.98\n",
    "NumberOfNodes=2272\n",
    "plot_prediction(preds_all_2d, labels_all_2d, zoomIn_window, preds_thres)"
   ]
  },
  {
   "cell_type": "code",
   "execution_count": null,
   "metadata": {
    "collapsed": false
   },
   "outputs": [],
   "source": [
    "zoomIn_window = (1550,1650)\n",
    "preds_thres = 0.98\n",
    "NumberOfNodes=2272\n",
    "plot_prediction(preds_all_2d, labels_all_2d, zoomIn_window, preds_thres)"
   ]
  },
  {
   "cell_type": "code",
   "execution_count": null,
   "metadata": {
    "collapsed": true
   },
   "outputs": [],
   "source": []
  }
 ],
 "metadata": {
  "kernelspec": {
   "display_name": "Python 2",
   "language": "python",
   "name": "python2"
  },
  "language_info": {
   "codemirror_mode": {
    "name": "ipython",
    "version": 2
   },
   "file_extension": ".py",
   "mimetype": "text/x-python",
   "name": "python",
   "nbconvert_exporter": "python",
   "pygments_lexer": "ipython2",
   "version": "2.7.11"
  }
 },
 "nbformat": 4,
 "nbformat_minor": 0
}
