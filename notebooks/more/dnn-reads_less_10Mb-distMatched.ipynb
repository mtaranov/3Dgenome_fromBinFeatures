{
 "cells": [
  {
   "cell_type": "code",
   "execution_count": 1,
   "metadata": {
    "collapsed": false
   },
   "outputs": [
    {
     "name": "stderr",
     "output_type": "stream",
     "text": [
      "Using Theano backend.\n",
      "/users/mtaranov/local/anaconda2/lib/python2.7/site-packages/theano/tensor/signal/downsample.py:6: UserWarning: downsample module has been moved to the theano.tensor.signal.pool module.\n",
      "  \"downsample module has been moved to the theano.tensor.signal.pool module.\")\n"
     ]
    }
   ],
   "source": [
    "%matplotlib inline\n",
    "%load_ext autoreload\n",
    "%autoreload 2\n",
    "\n",
    "import numpy as np\n",
    "import matplotlib.pyplot as plt\n",
    "from sklearn.preprocessing import MinMaxScaler, StandardScaler\n",
    "import copy\n",
    "from models import LongRangeDNN\n",
    "from utils import get_features, get_labels, subsample_data, normalize_features, reconstruct_2d, printMatrix, binarize, zscore, get_2D, plot_prediction\n",
    "#from sklearn.preprocessing import MinMaxScaler, StandardScaler\n",
    "#from dragonn.models import Model, SequenceDNN\n",
    "#from keras.models import Sequential\n",
    "#from keras.callbacks import Callback, EarlyStopping\n",
    "#from keras.layers.core import (\n",
    "#    Activation, Dense, Dropout, Flatten,\n",
    "#    Permute, Reshape, TimeDistributedDense\n",
    "#)\n",
    "#from keras.layers.convolutional import Convolution2D, MaxPooling2D\n",
    "#from keras.layers.recurrent import GRU\n",
    "#from keras.regularizers import l1\n",
    "\n",
    "#from deeplift import keras_conversion as kc\n",
    "#from deeplift.blobs import MxtsMode"
   ]
  },
  {
   "cell_type": "code",
   "execution_count": 2,
   "metadata": {
    "collapsed": false
   },
   "outputs": [
    {
     "data": {
      "text/plain": [
       "\"\\nX_train = get_features(data_path+'train_set_upperTriangle_noDiag_reads.npy')\\ny_train = get_labels(data_path+'labels_train_upperTriangle_noDiag.npy')\\nX_valid = get_features(data_path+'vali_set_upperTriangle_noDiag_reads.npy')\\ny_valid = get_labels(data_path+'labels_vali_upperTriangle_noDiag.npy')\\nX_test = get_features(data_path+'test_set_upperTriangle_noDiag_reads.npy')\\ny_test = get_labels(data_path+'labels_test_upperTriangle_noDiag.npy')\\n\\nX_train = get_features('NN_datasets/train_set_all_reads.npy')\\ny_train = get_labels('NN_datasets/labels_train_all.npy')\\nX_valid = get_features('NN_datasets/vali_set_all_reads.npy')\\ny_valid = get_labels('NN_datasets/labels_vali_all.npy')\\nX_test = get_features('NN_datasets/test_set_all_reads.npy')\\ny_test = get_labels('NN_datasets/labels_test_all.npy')\\n\\nX_train_subsampled, y_train_subsampled = subsample_data(X_train, y_train)\\nX_valid_subsampled, y_valid_subsampled = subsample_data(X_valid, y_valid)\\nX_test_subsampled, y_test_subsampled = subsample_data(X_test, y_test)\\n\""
      ]
     },
     "execution_count": 2,
     "metadata": {},
     "output_type": "execute_result"
    }
   ],
   "source": [
    "data_path='/users/mtaranov/NN_all_data/'\n",
    "\n",
    "X_train = get_features('/users/mtaranov/NN_all_data/less_than_10Mb/distMatched_data_train_set_upperTriangle_noDiag_reads_less_10Mb.npy')\n",
    "y_train = get_labels('/users/mtaranov/NN_all_data/less_than_10Mb/distMatched_labels_train_upperTriangle_noDiag_reads_less_10Mb.npy')\n",
    "X_valid = get_features('/users/mtaranov/NN_all_data/less_than_10Mb/distMatched_data_vali_set_upperTriangle_noDiag_reads_less_10Mb.npy')\n",
    "y_valid = get_labels('/users/mtaranov/NN_all_data/less_than_10Mb/distMatched_labels_vali_upperTriangle_noDiag_reads_less_10Mb.npy')\n",
    "X_test = get_features('/users/mtaranov/NN_all_data/less_than_10Mb/distMatched_data_test_set_upperTriangle_noDiag_reads_less_10Mb.npy')\n",
    "y_test = get_labels('/users/mtaranov/NN_all_data/less_than_10Mb/distMatched_labels_test_upperTriangle_noDiag_reads_less_10Mb.npy')\n",
    "\n",
    "\"\"\"\n",
    "X_train = get_features(data_path+'train_set_upperTriangle_noDiag_reads.npy')\n",
    "y_train = get_labels(data_path+'labels_train_upperTriangle_noDiag.npy')\n",
    "X_valid = get_features(data_path+'vali_set_upperTriangle_noDiag_reads.npy')\n",
    "y_valid = get_labels(data_path+'labels_vali_upperTriangle_noDiag.npy')\n",
    "X_test = get_features(data_path+'test_set_upperTriangle_noDiag_reads.npy')\n",
    "y_test = get_labels(data_path+'labels_test_upperTriangle_noDiag.npy')\n",
    "\n",
    "X_train = get_features('NN_datasets/train_set_all_reads.npy')\n",
    "y_train = get_labels('NN_datasets/labels_train_all.npy')\n",
    "X_valid = get_features('NN_datasets/vali_set_all_reads.npy')\n",
    "y_valid = get_labels('NN_datasets/labels_vali_all.npy')\n",
    "X_test = get_features('NN_datasets/test_set_all_reads.npy')\n",
    "y_test = get_labels('NN_datasets/labels_test_all.npy')\n",
    "\n",
    "X_train_subsampled, y_train_subsampled = subsample_data(X_train, y_train)\n",
    "X_valid_subsampled, y_valid_subsampled = subsample_data(X_valid, y_valid)\n",
    "X_test_subsampled, y_test_subsampled = subsample_data(X_test, y_test)\n",
    "\"\"\""
   ]
  },
  {
   "cell_type": "code",
   "execution_count": 3,
   "metadata": {
    "collapsed": false
   },
   "outputs": [],
   "source": [
    "X_train_normalized, X_valid_normalized, X_test_normalized = normalize_features(X_train, X_valid, X_test)\n",
    "\n",
    "#X_train_normalized_subsampled, y_train_subsampled = subsample_data(X_train_normalized, y_train)\n",
    "#X_valid_normalized_subsampled, y_valid_subsampled = subsample_data(X_valid_normalized, y_valid)\n",
    "#X_test_normalized_subsampled, y_test_subsampled = subsample_data(X_test_normalized, y_test)\n",
    "\n",
    "#X_train_scaled_subsampled, y_train_subsampled = subsample_data(X_train_scaled, y_train)\n",
    "#X_valid_scaled_subsampled, y_valid_subsampled = subsample_data(X_valid_scaled, y_valid)\n",
    "#X_test_scaled_subsampled, y_test_subsampled = subsample_data(X_test_scaled, y_test)\n"
   ]
  },
  {
   "cell_type": "markdown",
   "metadata": {},
   "source": [
    "# without distance"
   ]
  },
  {
   "cell_type": "code",
   "execution_count": 4,
   "metadata": {
    "collapsed": true
   },
   "outputs": [],
   "source": [
    "dnn_normalized = LongRangeDNN(num_features=10, use_deep_CNN=True)"
   ]
  },
  {
   "cell_type": "code",
   "execution_count": 5,
   "metadata": {
    "collapsed": false
   },
   "outputs": [
    {
     "name": "stdout",
     "output_type": "stream",
     "text": [
      "Training model...\n",
      "Train on 7454 samples, validate on 4536 samples\n",
      "Epoch 1/100\n",
      "7454/7454 [==============================] - 4s - loss: 1.3823 - val_loss: 0.6864\n",
      "Epoch 0: validation loss: 0.686\n",
      "Balanced Accuracy: 55.36%\t auROC: 0.575\t auPRC: 0.567\t auPRG: 0.144\n",
      "Recall at 5%|10%|20% FDR: 0.1%|0.1%|0.2%\t Num Positives: 2268\t Num Negatives: 2268\t \n",
      "\n",
      "Epoch 2/100\n",
      "7454/7454 [==============================] - 0s - loss: 1.3654 - val_loss: 0.6826\n",
      "Epoch 1: validation loss: 0.683\n",
      "Balanced Accuracy: 56.66%\t auROC: 0.587\t auPRC: 0.588\t auPRG: 0.167\n",
      "Recall at 5%|10%|20% FDR: 0.6%|1.1%|4.7%\t Num Positives: 2268\t Num Negatives: 2268\t \n",
      "\n",
      "Epoch 3/100\n",
      "7454/7454 [==============================] - 0s - loss: 1.3541 - val_loss: 0.6813\n",
      "Epoch 2: validation loss: 0.681\n",
      "Balanced Accuracy: 56.33%\t auROC: 0.590\t auPRC: 0.595\t auPRG: 0.162\n",
      "Recall at 5%|10%|20% FDR: 0.9%|1.8%|4.8%\t Num Positives: 2268\t Num Negatives: 2268\t \n",
      "\n",
      "Epoch 4/100\n",
      "7454/7454 [==============================] - 0s - loss: 1.3451 - val_loss: 0.6800\n",
      "Epoch 3: validation loss: 0.680\n",
      "Balanced Accuracy: 56.44%\t auROC: 0.589\t auPRC: 0.596\t auPRG: 0.160\n",
      "Recall at 5%|10%|20% FDR: 1.5%|2.4%|4.9%\t Num Positives: 2268\t Num Negatives: 2268\t \n",
      "\n",
      "Epoch 5/100\n",
      "7454/7454 [==============================] - 0s - loss: 1.3340 - val_loss: 0.6786\n",
      "Epoch 4: validation loss: 0.679\n",
      "Balanced Accuracy: 56.50%\t auROC: 0.593\t auPRC: 0.601\t auPRG: 0.166\n",
      "Recall at 5%|10%|20% FDR: 1.2%|1.9%|5.2%\t Num Positives: 2268\t Num Negatives: 2268\t \n",
      "\n",
      "Epoch 6/100\n",
      "7454/7454 [==============================] - 0s - loss: 1.3262 - val_loss: 0.6780\n",
      "Epoch 5: validation loss: 0.678\n",
      "Balanced Accuracy: 56.19%\t auROC: 0.595\t auPRC: 0.602\t auPRG: 0.168\n",
      "Recall at 5%|10%|20% FDR: 1.6%|2.0%|5.2%\t Num Positives: 2268\t Num Negatives: 2268\t \n",
      "\n",
      "Epoch 7/100\n",
      "7454/7454 [==============================] - 1s - loss: 1.3201 - val_loss: 0.6779\n",
      "Epoch 6: validation loss: 0.678\n",
      "Balanced Accuracy: 57.01%\t auROC: 0.599\t auPRC: 0.605\t auPRG: 0.182\n",
      "Recall at 5%|10%|20% FDR: 1.4%|1.8%|6.1%\t Num Positives: 2268\t Num Negatives: 2268\t \n",
      "\n",
      "Epoch 8/100\n",
      "7454/7454 [==============================] - 0s - loss: 1.3163 - val_loss: 0.6773\n",
      "Epoch 7: validation loss: 0.677\n",
      "Balanced Accuracy: 56.88%\t auROC: 0.602\t auPRC: 0.608\t auPRG: 0.191\n",
      "Recall at 5%|10%|20% FDR: 1.9%|2.4%|6.2%\t Num Positives: 2268\t Num Negatives: 2268\t \n",
      "\n",
      "Epoch 9/100\n",
      "7454/7454 [==============================] - 1s - loss: 1.3088 - val_loss: 0.6780\n",
      "Epoch 8: validation loss: 0.678\n",
      "Balanced Accuracy: 56.79%\t auROC: 0.606\t auPRC: 0.610\t auPRG: 0.200\n",
      "Recall at 5%|10%|20% FDR: 1.5%|2.0%|6.0%\t Num Positives: 2268\t Num Negatives: 2268\t \n",
      "\n",
      "Epoch 10/100\n",
      "7454/7454 [==============================] - 0s - loss: 1.3030 - val_loss: 0.6741\n",
      "Epoch 9: validation loss: 0.674\n",
      "Balanced Accuracy: 57.89%\t auROC: 0.609\t auPRC: 0.613\t auPRG: 0.206\n",
      "Recall at 5%|10%|20% FDR: 1.7%|2.2%|5.9%\t Num Positives: 2268\t Num Negatives: 2268\t \n",
      "\n",
      "Epoch 11/100\n",
      "7454/7454 [==============================] - 0s - loss: 1.2965 - val_loss: 0.6757\n",
      "Epoch 10: validation loss: 0.676\n",
      "Balanced Accuracy: 57.01%\t auROC: 0.605\t auPRC: 0.611\t auPRG: 0.191\n",
      "Recall at 5%|10%|20% FDR: 1.9%|2.1%|6.5%\t Num Positives: 2268\t Num Negatives: 2268\t \n",
      "\n",
      "Epoch 12/100\n",
      "7454/7454 [==============================] - 0s - loss: 1.2889 - val_loss: 0.6747\n",
      "Epoch 11: validation loss: 0.675\n",
      "Balanced Accuracy: 56.94%\t auROC: 0.609\t auPRC: 0.613\t auPRG: 0.197\n",
      "Recall at 5%|10%|20% FDR: 2.1%|2.3%|5.3%\t Num Positives: 2268\t Num Negatives: 2268\t \n",
      "\n",
      "Epoch 13/100\n",
      "7454/7454 [==============================] - 0s - loss: 1.2866 - val_loss: 0.6736\n",
      "Epoch 12: validation loss: 0.674\n",
      "Balanced Accuracy: 58.44%\t auROC: 0.617\t auPRC: 0.619\t auPRG: 0.219\n",
      "Recall at 5%|10%|20% FDR: 1.9%|2.4%|4.7%\t Num Positives: 2268\t Num Negatives: 2268\t \n",
      "\n",
      "Epoch 14/100\n",
      "7454/7454 [==============================] - 1s - loss: 1.2803 - val_loss: 0.6718\n",
      "Epoch 13: validation loss: 0.672\n",
      "Balanced Accuracy: 57.74%\t auROC: 0.615\t auPRC: 0.621\t auPRG: 0.204\n",
      "Recall at 5%|10%|20% FDR: 2.0%|2.2%|4.9%\t Num Positives: 2268\t Num Negatives: 2268\t \n",
      "\n",
      "Epoch 15/100\n",
      "7454/7454 [==============================] - 0s - loss: 1.2764 - val_loss: 0.6783\n",
      "Epoch 14: validation loss: 0.678\n",
      "Balanced Accuracy: 58.33%\t auROC: 0.619\t auPRC: 0.623\t auPRG: 0.220\n",
      "Recall at 5%|10%|20% FDR: 1.5%|1.9%|6.0%\t Num Positives: 2268\t Num Negatives: 2268\t \n",
      "\n",
      "Epoch 16/100\n",
      "7454/7454 [==============================] - 0s - loss: 1.2736 - val_loss: 0.6750\n",
      "Epoch 15: validation loss: 0.675\n",
      "Balanced Accuracy: 58.07%\t auROC: 0.618\t auPRC: 0.621\t auPRG: 0.221\n",
      "Recall at 5%|10%|20% FDR: 1.9%|2.2%|4.7%\t Num Positives: 2268\t Num Negatives: 2268\t \n",
      "\n",
      "Epoch 17/100\n",
      "7454/7454 [==============================] - 0s - loss: 1.2659 - val_loss: 0.6787\n",
      "Epoch 16: validation loss: 0.679\n",
      "Balanced Accuracy: 57.98%\t auROC: 0.618\t auPRC: 0.624\t auPRG: 0.209\n",
      "Recall at 5%|10%|20% FDR: 1.8%|2.4%|5.4%\t Num Positives: 2268\t Num Negatives: 2268\t \n",
      "\n",
      "Epoch 18/100\n",
      "7454/7454 [==============================] - 0s - loss: 1.2664 - val_loss: 0.6715\n",
      "Epoch 17: validation loss: 0.672\n",
      "Balanced Accuracy: 57.96%\t auROC: 0.618\t auPRC: 0.624\t auPRG: 0.209\n",
      "Recall at 5%|10%|20% FDR: 2.3%|3.0%|4.8%\t Num Positives: 2268\t Num Negatives: 2268\t \n",
      "\n",
      "Epoch 19/100\n",
      "7454/7454 [==============================] - 0s - loss: 1.2573 - val_loss: 0.6768\n",
      "Epoch 18: validation loss: 0.677\n",
      "Balanced Accuracy: 57.78%\t auROC: 0.618\t auPRC: 0.622\t auPRG: 0.214\n",
      "Recall at 5%|10%|20% FDR: 2.0%|2.5%|5.0%\t Num Positives: 2268\t Num Negatives: 2268\t \n",
      "\n",
      "Epoch 20/100\n",
      "7454/7454 [==============================] - 1s - loss: 1.2566 - val_loss: 0.6748\n",
      "Epoch 19: validation loss: 0.675\n",
      "Balanced Accuracy: 57.72%\t auROC: 0.620\t auPRC: 0.624\t auPRG: 0.214\n",
      "Recall at 5%|10%|20% FDR: 2.1%|2.4%|4.8%\t Num Positives: 2268\t Num Negatives: 2268\t \n",
      "\n",
      "Epoch 21/100\n",
      "7454/7454 [==============================] - 0s - loss: 1.2462 - val_loss: 0.6769\n",
      "Epoch 20: validation loss: 0.677\n",
      "Balanced Accuracy: 57.34%\t auROC: 0.617\t auPRC: 0.620\t auPRG: 0.212\n",
      "Recall at 5%|10%|20% FDR: 1.9%|2.5%|5.3%\t Num Positives: 2268\t Num Negatives: 2268\t \n",
      "\n",
      "Epoch 22/100\n",
      "7454/7454 [==============================] - 0s - loss: 1.2406 - val_loss: 0.6817\n",
      "Epoch 21: validation loss: 0.682\n",
      "Balanced Accuracy: 57.50%\t auROC: 0.615\t auPRC: 0.619\t auPRG: 0.206\n",
      "Recall at 5%|10%|20% FDR: 2.1%|2.6%|4.6%\t Num Positives: 2268\t Num Negatives: 2268\t \n",
      "\n",
      "Epoch 23/100\n",
      "7454/7454 [==============================] - 0s - loss: 1.2393 - val_loss: 0.6836\n",
      "Epoch 22: validation loss: 0.684\n",
      "Balanced Accuracy: 58.18%\t auROC: 0.619\t auPRC: 0.619\t auPRG: 0.218\n",
      "Recall at 5%|10%|20% FDR: 1.9%|2.5%|3.4%\t Num Positives: 2268\t Num Negatives: 2268\t \n",
      "\n",
      "Epoch 24/100\n",
      "7454/7454 [==============================] - 0s - loss: 1.2299 - val_loss: 0.6799\n",
      "Epoch 23: validation loss: 0.680\n",
      "Balanced Accuracy: 57.83%\t auROC: 0.620\t auPRC: 0.623\t auPRG: 0.219\n",
      "Recall at 5%|10%|20% FDR: 1.2%|2.1%|4.0%\t Num Positives: 2268\t Num Negatives: 2268\t \n",
      "\n",
      "Epoch 25/100\n",
      "7454/7454 [==============================] - 1s - loss: 1.2283 - val_loss: 0.6809\n",
      "Epoch 24: validation loss: 0.681\n",
      "Balanced Accuracy: 57.52%\t auROC: 0.618\t auPRC: 0.620\t auPRG: 0.214\n",
      "Recall at 5%|10%|20% FDR: 1.8%|2.6%|4.1%\t Num Positives: 2268\t Num Negatives: 2268\t \n",
      "\n",
      "Epoch 26/100\n",
      "7454/7454 [==============================] - 1s - loss: 1.2190 - val_loss: 0.6847\n",
      "Epoch 25: validation loss: 0.685\n",
      "Balanced Accuracy: 57.78%\t auROC: 0.619\t auPRC: 0.619\t auPRG: 0.215\n",
      "Recall at 5%|10%|20% FDR: 1.2%|2.2%|3.6%\t Num Positives: 2268\t Num Negatives: 2268\t \n",
      "\n",
      "Epoch 27/100\n",
      "7454/7454 [==============================] - 0s - loss: 1.2170 - val_loss: 0.6818\n",
      "Epoch 26: validation loss: 0.682\n",
      "Balanced Accuracy: 58.18%\t auROC: 0.621\t auPRC: 0.622\t auPRG: 0.222\n",
      "Recall at 5%|10%|20% FDR: 1.2%|2.2%|4.5%\t Num Positives: 2268\t Num Negatives: 2268\t \n",
      "\n",
      "Epoch 28/100\n",
      "7454/7454 [==============================] - 0s - loss: 1.2092 - val_loss: 0.6920\n",
      "Epoch 27: validation loss: 0.692\n",
      "Balanced Accuracy: 57.03%\t auROC: 0.611\t auPRC: 0.611\t auPRG: 0.199\n",
      "Recall at 5%|10%|20% FDR: 1.5%|1.5%|3.1%\t Num Positives: 2268\t Num Negatives: 2268\t \n",
      "\n",
      "Epoch 29/100\n",
      "7454/7454 [==============================] - 0s - loss: 1.2087 - val_loss: 0.6855\n",
      "Epoch 28: validation loss: 0.685\n",
      "Balanced Accuracy: 58.00%\t auROC: 0.622\t auPRC: 0.623\t auPRG: 0.222\n",
      "Recall at 5%|10%|20% FDR: 2.1%|2.2%|4.1%\t Num Positives: 2268\t Num Negatives: 2268\t \n",
      "\n"
     ]
    }
   ],
   "source": [
    "#validation_data = (X_valid_normalized_subsampled[:, :, :10, :], y_valid_subsampled)\n",
    "#dnn_normalized.train(X_train_normalized_subsampled[:, :, :10, :], y_train_subsampled, validation_data)\n",
    "validation_data = (X_valid_normalized[:, :, :10, :], y_valid)\n",
    "dnn_normalized.train(X_train_normalized[:, :, :10, :], y_train, validation_data)"
   ]
  },
  {
   "cell_type": "code",
   "execution_count": 6,
   "metadata": {
    "collapsed": false
   },
   "outputs": [
    {
     "name": "stdout",
     "output_type": "stream",
     "text": [
      "Balanced Accuracy: 56.75%\t auROC: 0.610\t auPRC: 0.614\t auPRG: 0.186\n",
      "Recall at 5%|10%|20% FDR: 0.0%|0.0%|1.1%\t Num Positives: 1533\t Num Negatives: 1533\t \n"
     ]
    }
   ],
   "source": [
    "print(dnn_normalized.test(X_test_normalized[:, :, :10, :], y_test))"
   ]
  },
  {
   "cell_type": "markdown",
   "metadata": {},
   "source": [
    "# with genomic locations"
   ]
  },
  {
   "cell_type": "code",
   "execution_count": 7,
   "metadata": {
    "collapsed": true
   },
   "outputs": [],
   "source": [
    "dnn_normalized = LongRangeDNN(num_features=11, use_deep_CNN=True)"
   ]
  },
  {
   "cell_type": "code",
   "execution_count": 8,
   "metadata": {
    "collapsed": false
   },
   "outputs": [
    {
     "name": "stdout",
     "output_type": "stream",
     "text": [
      "Training model...\n",
      "Train on 7454 samples, validate on 4536 samples\n",
      "Epoch 1/100\n",
      "7454/7454 [==============================] - 1s - loss: 1.3878 - val_loss: 0.6896\n",
      "Epoch 0: validation loss: 0.690\n",
      "Balanced Accuracy: 53.44%\t auROC: 0.549\t auPRC: 0.539\t auPRG: 0.097\n",
      "Recall at 5%|10%|20% FDR: 0.0%|0.0%|0.0%\t Num Positives: 2268\t Num Negatives: 2268\t \n",
      "\n",
      "Epoch 2/100\n",
      "7454/7454 [==============================] - 0s - loss: 1.3721 - val_loss: 0.6878\n",
      "Epoch 1: validation loss: 0.688\n",
      "Balanced Accuracy: 53.53%\t auROC: 0.558\t auPRC: 0.551\t auPRG: 0.105\n",
      "Recall at 5%|10%|20% FDR: 0.0%|0.0%|0.0%\t Num Positives: 2268\t Num Negatives: 2268\t \n",
      "\n",
      "Epoch 3/100\n",
      "7454/7454 [==============================] - 0s - loss: 1.3653 - val_loss: 0.6865\n",
      "Epoch 2: validation loss: 0.686\n",
      "Balanced Accuracy: 54.37%\t auROC: 0.566\t auPRC: 0.557\t auPRG: 0.124\n",
      "Recall at 5%|10%|20% FDR: 0.4%|0.4%|0.4%\t Num Positives: 2268\t Num Negatives: 2268\t \n",
      "\n",
      "Epoch 4/100\n",
      "7454/7454 [==============================] - 0s - loss: 1.3587 - val_loss: 0.6853\n",
      "Epoch 3: validation loss: 0.685\n",
      "Balanced Accuracy: 55.14%\t auROC: 0.575\t auPRC: 0.565\t auPRG: 0.145\n",
      "Recall at 5%|10%|20% FDR: 0.2%|0.2%|0.6%\t Num Positives: 2268\t Num Negatives: 2268\t \n",
      "\n",
      "Epoch 5/100\n",
      "7454/7454 [==============================] - 1s - loss: 1.3513 - val_loss: 0.6842\n",
      "Epoch 4: validation loss: 0.684\n",
      "Balanced Accuracy: 55.42%\t auROC: 0.580\t auPRC: 0.574\t auPRG: 0.148\n",
      "Recall at 5%|10%|20% FDR: 0.3%|0.7%|1.2%\t Num Positives: 2268\t Num Negatives: 2268\t \n",
      "\n",
      "Epoch 6/100\n",
      "7454/7454 [==============================] - 0s - loss: 1.3395 - val_loss: 0.6805\n",
      "Epoch 5: validation loss: 0.680\n",
      "Balanced Accuracy: 55.95%\t auROC: 0.593\t auPRC: 0.592\t auPRG: 0.169\n",
      "Recall at 5%|10%|20% FDR: 0.4%|0.6%|1.6%\t Num Positives: 2268\t Num Negatives: 2268\t \n",
      "\n",
      "Epoch 7/100\n",
      "7454/7454 [==============================] - 0s - loss: 1.3316 - val_loss: 0.6794\n",
      "Epoch 6: validation loss: 0.679\n",
      "Balanced Accuracy: 57.32%\t auROC: 0.602\t auPRC: 0.603\t auPRG: 0.193\n",
      "Recall at 5%|10%|20% FDR: 0.3%|0.7%|7.3%\t Num Positives: 2268\t Num Negatives: 2268\t \n",
      "\n",
      "Epoch 8/100\n",
      "7454/7454 [==============================] - 0s - loss: 1.3202 - val_loss: 0.6806\n",
      "Epoch 7: validation loss: 0.681\n",
      "Balanced Accuracy: 56.50%\t auROC: 0.599\t auPRC: 0.602\t auPRG: 0.181\n",
      "Recall at 5%|10%|20% FDR: 0.5%|1.5%|2.7%\t Num Positives: 2268\t Num Negatives: 2268\t \n",
      "\n",
      "Epoch 9/100\n",
      "7454/7454 [==============================] - 0s - loss: 1.3112 - val_loss: 0.6764\n",
      "Epoch 8: validation loss: 0.676\n",
      "Balanced Accuracy: 57.19%\t auROC: 0.605\t auPRC: 0.611\t auPRG: 0.196\n",
      "Recall at 5%|10%|20% FDR: 0.4%|1.3%|5.3%\t Num Positives: 2268\t Num Negatives: 2268\t \n",
      "\n",
      "Epoch 10/100\n",
      "7454/7454 [==============================] - 0s - loss: 1.3055 - val_loss: 0.6776\n",
      "Epoch 9: validation loss: 0.678\n",
      "Balanced Accuracy: 56.90%\t auROC: 0.601\t auPRC: 0.608\t auPRG: 0.183\n",
      "Recall at 5%|10%|20% FDR: 0.9%|1.4%|5.4%\t Num Positives: 2268\t Num Negatives: 2268\t \n",
      "\n",
      "Epoch 11/100\n",
      "7454/7454 [==============================] - 0s - loss: 1.2936 - val_loss: 0.6759\n",
      "Epoch 10: validation loss: 0.676\n",
      "Balanced Accuracy: 57.01%\t auROC: 0.607\t auPRC: 0.614\t auPRG: 0.196\n",
      "Recall at 5%|10%|20% FDR: 0.6%|1.8%|6.7%\t Num Positives: 2268\t Num Negatives: 2268\t \n",
      "\n",
      "Epoch 12/100\n",
      "7454/7454 [==============================] - 1s - loss: 1.2871 - val_loss: 0.6763\n",
      "Epoch 11: validation loss: 0.676\n",
      "Balanced Accuracy: 56.90%\t auROC: 0.605\t auPRC: 0.613\t auPRG: 0.191\n",
      "Recall at 5%|10%|20% FDR: 0.8%|2.0%|7.7%\t Num Positives: 2268\t Num Negatives: 2268\t \n",
      "\n",
      "Epoch 13/100\n",
      "7454/7454 [==============================] - 0s - loss: 1.2794 - val_loss: 0.6790\n",
      "Epoch 12: validation loss: 0.679\n",
      "Balanced Accuracy: 56.97%\t auROC: 0.606\t auPRC: 0.615\t auPRG: 0.194\n",
      "Recall at 5%|10%|20% FDR: 0.7%|2.7%|8.4%\t Num Positives: 2268\t Num Negatives: 2268\t \n",
      "\n",
      "Epoch 14/100\n",
      "7454/7454 [==============================] - 0s - loss: 1.2767 - val_loss: 0.6802\n",
      "Epoch 13: validation loss: 0.680\n",
      "Balanced Accuracy: 56.64%\t auROC: 0.603\t auPRC: 0.611\t auPRG: 0.183\n",
      "Recall at 5%|10%|20% FDR: 0.9%|3.6%|7.2%\t Num Positives: 2268\t Num Negatives: 2268\t \n",
      "\n",
      "Epoch 15/100\n",
      "7454/7454 [==============================] - 0s - loss: 1.2677 - val_loss: 0.6858\n",
      "Epoch 14: validation loss: 0.686\n",
      "Balanced Accuracy: 56.86%\t auROC: 0.604\t auPRC: 0.610\t auPRG: 0.188\n",
      "Recall at 5%|10%|20% FDR: 0.9%|1.7%|7.6%\t Num Positives: 2268\t Num Negatives: 2268\t \n",
      "\n",
      "Epoch 16/100\n",
      "7454/7454 [==============================] - 0s - loss: 1.2623 - val_loss: 0.6839\n",
      "Epoch 15: validation loss: 0.684\n",
      "Balanced Accuracy: 56.99%\t auROC: 0.606\t auPRC: 0.613\t auPRG: 0.193\n",
      "Recall at 5%|10%|20% FDR: 0.8%|2.4%|8.2%\t Num Positives: 2268\t Num Negatives: 2268\t \n",
      "\n",
      "Epoch 17/100\n",
      "7454/7454 [==============================] - 0s - loss: 1.2593 - val_loss: 0.6826\n",
      "Epoch 16: validation loss: 0.683\n",
      "Balanced Accuracy: 56.35%\t auROC: 0.609\t auPRC: 0.617\t auPRG: 0.201\n",
      "Recall at 5%|10%|20% FDR: 0.9%|2.1%|7.8%\t Num Positives: 2268\t Num Negatives: 2268\t \n",
      "\n",
      "Epoch 18/100\n",
      "7454/7454 [==============================] - 0s - loss: 1.2513 - val_loss: 0.6803\n",
      "Epoch 17: validation loss: 0.680\n",
      "Balanced Accuracy: 57.01%\t auROC: 0.612\t auPRC: 0.620\t auPRG: 0.203\n",
      "Recall at 5%|10%|20% FDR: 0.6%|2.8%|8.5%\t Num Positives: 2268\t Num Negatives: 2268\t \n",
      "\n",
      "Epoch 19/100\n",
      "7454/7454 [==============================] - 0s - loss: 1.2464 - val_loss: 0.6797\n",
      "Epoch 18: validation loss: 0.680\n",
      "Balanced Accuracy: 57.47%\t auROC: 0.613\t auPRC: 0.620\t auPRG: 0.206\n",
      "Recall at 5%|10%|20% FDR: 0.6%|2.6%|7.7%\t Num Positives: 2268\t Num Negatives: 2268\t \n",
      "\n",
      "Epoch 20/100\n",
      "7454/7454 [==============================] - 0s - loss: 1.2339 - val_loss: 0.6875\n",
      "Epoch 19: validation loss: 0.687\n",
      "Balanced Accuracy: 57.10%\t auROC: 0.608\t auPRC: 0.613\t auPRG: 0.193\n",
      "Recall at 5%|10%|20% FDR: 0.8%|1.4%|7.8%\t Num Positives: 2268\t Num Negatives: 2268\t \n",
      "\n",
      "Epoch 21/100\n",
      "7454/7454 [==============================] - 0s - loss: 1.2361 - val_loss: 0.6861\n",
      "Epoch 20: validation loss: 0.686\n",
      "Balanced Accuracy: 57.12%\t auROC: 0.609\t auPRC: 0.610\t auPRG: 0.199\n",
      "Recall at 5%|10%|20% FDR: 0.9%|1.0%|6.6%\t Num Positives: 2268\t Num Negatives: 2268\t \n",
      "\n",
      "Epoch 22/100\n",
      "7454/7454 [==============================] - 0s - loss: 1.2259 - val_loss: 0.6849\n",
      "Epoch 21: validation loss: 0.685\n",
      "Balanced Accuracy: 57.19%\t auROC: 0.612\t auPRC: 0.617\t auPRG: 0.206\n",
      "Recall at 5%|10%|20% FDR: 0.7%|1.9%|8.0%\t Num Positives: 2268\t Num Negatives: 2268\t \n",
      "\n"
     ]
    }
   ],
   "source": [
    "#validation_data = (X_valid_normalized_subsampled[:, :, :11, :], y_valid_subsampled)\n",
    "#dnn_normalized.train(X_train_normalized_subsampled[:, :, :11, :], y_train_subsampled, validation_data)\n",
    "validation_data = (X_valid_normalized[:, :, :11, :], y_valid)\n",
    "dnn_normalized.train(X_train_normalized[:, :, :11, :], y_train, validation_data)"
   ]
  },
  {
   "cell_type": "code",
   "execution_count": 9,
   "metadata": {
    "collapsed": false
   },
   "outputs": [
    {
     "name": "stdout",
     "output_type": "stream",
     "text": [
      "Balanced Accuracy: 56.85%\t auROC: 0.604\t auPRC: 0.609\t auPRG: 0.182\n",
      "Recall at 5%|10%|20% FDR: 0.3%|0.3%|3.0%\t Num Positives: 1533\t Num Negatives: 1533\t \n"
     ]
    }
   ],
   "source": [
    "print(dnn_normalized.test(X_test_normalized[:, :, :11, :], y_test))"
   ]
  },
  {
   "cell_type": "markdown",
   "metadata": {},
   "source": [
    "# Print prediction"
   ]
  },
  {
   "cell_type": "code",
   "execution_count": 10,
   "metadata": {
    "collapsed": false
   },
   "outputs": [],
   "source": [
    "indx_test=np.load('/users/mtaranov/NN_all_data/indx_test_upperTriangle_noDiag.npy')\n",
    "indx_valid=np.load('/users/mtaranov/NN_all_data/indx_vali_upperTriangle_noDiag.npy')\n",
    "indx_train=np.load('/users/mtaranov/NN_all_data/indx_train_upperTriangle_noDiag.npy')"
   ]
  },
  {
   "cell_type": "code",
   "execution_count": 11,
   "metadata": {
    "collapsed": false
   },
   "outputs": [
    {
     "ename": "NameError",
     "evalue": "name 'pred_probs_train' is not defined",
     "output_type": "error",
     "traceback": [
      "\u001b[1;31m---------------------------------------------------------------------------\u001b[0m",
      "\u001b[1;31mNameError\u001b[0m                                 Traceback (most recent call last)",
      "\u001b[1;32m<ipython-input-11-8d7c7eba4406>\u001b[0m in \u001b[0;36m<module>\u001b[1;34m()\u001b[0m\n\u001b[0;32m      1\u001b[0m \u001b[0mlabels_all\u001b[0m\u001b[1;33m=\u001b[0m\u001b[1;33m(\u001b[0m\u001b[0mnp\u001b[0m\u001b[1;33m.\u001b[0m\u001b[0mconcatenate\u001b[0m\u001b[1;33m(\u001b[0m\u001b[1;33m(\u001b[0m\u001b[0my_train\u001b[0m\u001b[1;33m,\u001b[0m \u001b[0my_valid\u001b[0m\u001b[1;33m,\u001b[0m \u001b[0my_test\u001b[0m\u001b[1;33m)\u001b[0m\u001b[1;33m,\u001b[0m \u001b[0maxis\u001b[0m\u001b[1;33m=\u001b[0m\u001b[1;36m0\u001b[0m\u001b[1;33m)\u001b[0m\u001b[1;33m)\u001b[0m\u001b[1;33m.\u001b[0m\u001b[0mastype\u001b[0m\u001b[1;33m(\u001b[0m\u001b[0mint\u001b[0m\u001b[1;33m)\u001b[0m\u001b[1;33m\u001b[0m\u001b[0m\n\u001b[1;32m----> 2\u001b[1;33m \u001b[0mpreds_all\u001b[0m\u001b[1;33m=\u001b[0m\u001b[1;33m(\u001b[0m\u001b[0mnp\u001b[0m\u001b[1;33m.\u001b[0m\u001b[0mconcatenate\u001b[0m\u001b[1;33m(\u001b[0m\u001b[1;33m(\u001b[0m\u001b[0mpred_probs_train\u001b[0m\u001b[1;33m,\u001b[0m \u001b[0mpred_probs_valid\u001b[0m\u001b[1;33m,\u001b[0m \u001b[0mpred_probs_test\u001b[0m\u001b[1;33m)\u001b[0m\u001b[1;33m,\u001b[0m \u001b[0maxis\u001b[0m\u001b[1;33m=\u001b[0m\u001b[1;36m0\u001b[0m\u001b[1;33m)\u001b[0m\u001b[1;33m)\u001b[0m\u001b[1;33m\u001b[0m\u001b[0m\n\u001b[0m\u001b[0;32m      3\u001b[0m \u001b[0mindx_all\u001b[0m\u001b[1;33m=\u001b[0m\u001b[1;33m(\u001b[0m\u001b[0mnp\u001b[0m\u001b[1;33m.\u001b[0m\u001b[0mconcatenate\u001b[0m\u001b[1;33m(\u001b[0m\u001b[1;33m(\u001b[0m\u001b[0mindx_train\u001b[0m\u001b[1;33m,\u001b[0m \u001b[0mindx_valid\u001b[0m\u001b[1;33m,\u001b[0m \u001b[0mindx_test\u001b[0m\u001b[1;33m)\u001b[0m\u001b[1;33m,\u001b[0m \u001b[0maxis\u001b[0m\u001b[1;33m=\u001b[0m\u001b[1;36m0\u001b[0m\u001b[1;33m)\u001b[0m\u001b[1;33m)\u001b[0m\u001b[1;33m\u001b[0m\u001b[0m\n\u001b[0;32m      4\u001b[0m \u001b[1;33m\u001b[0m\u001b[0m\n\u001b[0;32m      5\u001b[0m \u001b[0mlabels_test\u001b[0m \u001b[1;33m=\u001b[0m \u001b[0my_test\u001b[0m\u001b[1;33m\u001b[0m\u001b[0m\n",
      "\u001b[1;31mNameError\u001b[0m: name 'pred_probs_train' is not defined"
     ]
    }
   ],
   "source": [
    "labels_all=(np.concatenate((y_train, y_valid, y_test), axis=0)).astype(int)\n",
    "preds_all=(np.concatenate((pred_probs_train, pred_probs_valid, pred_probs_test), axis=0))\n",
    "indx_all=(np.concatenate((indx_train, indx_valid, indx_test), axis=0))\n",
    "\n",
    "labels_test = y_test\n",
    "preds_test = pred_probs_test\n",
    "indx_test = indx_test"
   ]
  },
  {
   "cell_type": "code",
   "execution_count": null,
   "metadata": {
    "collapsed": false
   },
   "outputs": [],
   "source": [
    "NumberOfNodes=2272\n",
    "preds_all_2d, labels_all_2d = get_2D(indx_all, preds_all, labels_all, NumberOfNodes)\n",
    "preds_test_2d, labels_test_2d = get_2D(indx_test, preds_test, labels_test, NumberOfNodes)"
   ]
  },
  {
   "cell_type": "code",
   "execution_count": null,
   "metadata": {
    "collapsed": false
   },
   "outputs": [],
   "source": [
    "printMatrix(preds_all_2d, '', 1, 1, title='preds')\n",
    "printMatrix(labels_all_2d, '', 1, 1, title='Captures')"
   ]
  },
  {
   "cell_type": "code",
   "execution_count": null,
   "metadata": {
    "collapsed": false
   },
   "outputs": [],
   "source": [
    "zoomIn_window = (0,2272)\n",
    "preds_thres = 0.99\n",
    "NumberOfNodes=2272\n",
    "plot_prediction(preds_all_2d, labels_all_2d, zoomIn_window, preds_thres)"
   ]
  },
  {
   "cell_type": "code",
   "execution_count": null,
   "metadata": {
    "collapsed": false
   },
   "outputs": [],
   "source": [
    "zoomIn_window = (0,200)\n",
    "preds_thres = 0.999\n",
    "NumberOfNodes=2272\n",
    "plot_prediction(preds_all_2d, labels_all_2d, zoomIn_window, preds_thres)"
   ]
  },
  {
   "cell_type": "code",
   "execution_count": null,
   "metadata": {
    "collapsed": false
   },
   "outputs": [],
   "source": [
    "zoomIn_window = (1500,1700)\n",
    "preds_thres = 0.98\n",
    "NumberOfNodes=2272\n",
    "plot_prediction(preds_all_2d, labels_all_2d, zoomIn_window, preds_thres)"
   ]
  },
  {
   "cell_type": "code",
   "execution_count": null,
   "metadata": {
    "collapsed": false
   },
   "outputs": [],
   "source": [
    "zoomIn_window = (1550,1650)\n",
    "preds_thres = 0.98\n",
    "NumberOfNodes=2272\n",
    "plot_prediction(preds_all_2d, labels_all_2d, zoomIn_window, preds_thres)"
   ]
  },
  {
   "cell_type": "code",
   "execution_count": null,
   "metadata": {
    "collapsed": true
   },
   "outputs": [],
   "source": []
  }
 ],
 "metadata": {
  "kernelspec": {
   "display_name": "Python 2",
   "language": "python",
   "name": "python2"
  },
  "language_info": {
   "codemirror_mode": {
    "name": "ipython",
    "version": 2
   },
   "file_extension": ".py",
   "mimetype": "text/x-python",
   "name": "python",
   "nbconvert_exporter": "python",
   "pygments_lexer": "ipython2",
   "version": "2.7.11"
  }
 },
 "nbformat": 4,
 "nbformat_minor": 0
}
