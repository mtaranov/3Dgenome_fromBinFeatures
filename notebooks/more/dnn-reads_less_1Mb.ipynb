{
 "cells": [
  {
   "cell_type": "code",
   "execution_count": 1,
   "metadata": {
    "collapsed": false
   },
   "outputs": [
    {
     "name": "stderr",
     "output_type": "stream",
     "text": [
      "Using Theano backend.\n",
      "/users/mtaranov/local/anaconda2/lib/python2.7/site-packages/theano/tensor/signal/downsample.py:6: UserWarning: downsample module has been moved to the theano.tensor.signal.pool module.\n",
      "  \"downsample module has been moved to the theano.tensor.signal.pool module.\")\n"
     ]
    }
   ],
   "source": [
    "%matplotlib inline\n",
    "%load_ext autoreload\n",
    "%autoreload 2\n",
    "\n",
    "import numpy as np\n",
    "import matplotlib.pyplot as plt\n",
    "from sklearn.preprocessing import MinMaxScaler, StandardScaler\n",
    "import copy\n",
    "from models import LongRangeDNN\n",
    "from utils import get_features, get_labels, subsample_data, normalize_features, reconstruct_2d, printMatrix, binarize, zscore, get_2D, plot_prediction\n",
    "#from sklearn.preprocessing import MinMaxScaler, StandardScaler\n",
    "#from dragonn.models import Model, SequenceDNN\n",
    "#from keras.models import Sequential\n",
    "#from keras.callbacks import Callback, EarlyStopping\n",
    "#from keras.layers.core import (\n",
    "#    Activation, Dense, Dropout, Flatten,\n",
    "#    Permute, Reshape, TimeDistributedDense\n",
    "#)\n",
    "#from keras.layers.convolutional import Convolution2D, MaxPooling2D\n",
    "#from keras.layers.recurrent import GRU\n",
    "#from keras.regularizers import l1\n",
    "\n",
    "#from deeplift import keras_conversion as kc\n",
    "#from deeplift.blobs import MxtsMode"
   ]
  },
  {
   "cell_type": "code",
   "execution_count": 3,
   "metadata": {
    "collapsed": false
   },
   "outputs": [
    {
     "data": {
      "text/plain": [
       "\"\\nX_train = get_features(data_path+'train_set_upperTriangle_noDiag_reads.npy')\\ny_train = get_labels(data_path+'labels_train_upperTriangle_noDiag.npy')\\nX_valid = get_features(data_path+'vali_set_upperTriangle_noDiag_reads.npy')\\ny_valid = get_labels(data_path+'labels_vali_upperTriangle_noDiag.npy')\\nX_test = get_features(data_path+'test_set_upperTriangle_noDiag_reads.npy')\\ny_test = get_labels(data_path+'labels_test_upperTriangle_noDiag.npy')\\n\\nX_train = get_features('NN_datasets/train_set_all_reads.npy')\\ny_train = get_labels('NN_datasets/labels_train_all.npy')\\nX_valid = get_features('NN_datasets/vali_set_all_reads.npy')\\ny_valid = get_labels('NN_datasets/labels_vali_all.npy')\\nX_test = get_features('NN_datasets/test_set_all_reads.npy')\\ny_test = get_labels('NN_datasets/labels_test_all.npy')\\n\\nX_train_subsampled, y_train_subsampled = subsample_data(X_train, y_train)\\nX_valid_subsampled, y_valid_subsampled = subsample_data(X_valid, y_valid)\\nX_test_subsampled, y_test_subsampled = subsample_data(X_test, y_test)\\n\""
      ]
     },
     "execution_count": 3,
     "metadata": {},
     "output_type": "execute_result"
    }
   ],
   "source": [
    "data_path='/users/mtaranov/NN_all_data/'\n",
    "\n",
    "X_train = get_features('/users/mtaranov/NN_all_data/less_than_1Mb/train_set_upperTriangle_noDiag_reads_less_1Mb.npy')\n",
    "y_train = get_labels('/users/mtaranov/NN_all_data/less_than_1Mb/labels_train_upperTriangle_noDiag_reads_less_1Mb.npy')\n",
    "X_valid = get_features('/users/mtaranov/NN_all_data/less_than_1Mb/vali_set_upperTriangle_noDiag_reads_less_1Mb.npy')\n",
    "y_valid = get_labels('/users/mtaranov/NN_all_data/less_than_1Mb/labels_vali_upperTriangle_noDiag_reads_less_1Mb.npy')\n",
    "X_test = get_features('/users/mtaranov/NN_all_data/less_than_1Mb/test_set_upperTriangle_noDiag_reads_less_1Mb.npy')\n",
    "y_test = get_labels('/users/mtaranov/NN_all_data/less_than_1Mb/labels_test_upperTriangle_noDiag_reads_less_1Mb.npy')\n",
    "\n",
    "\"\"\"\n",
    "X_train = get_features(data_path+'train_set_upperTriangle_noDiag_reads.npy')\n",
    "y_train = get_labels(data_path+'labels_train_upperTriangle_noDiag.npy')\n",
    "X_valid = get_features(data_path+'vali_set_upperTriangle_noDiag_reads.npy')\n",
    "y_valid = get_labels(data_path+'labels_vali_upperTriangle_noDiag.npy')\n",
    "X_test = get_features(data_path+'test_set_upperTriangle_noDiag_reads.npy')\n",
    "y_test = get_labels(data_path+'labels_test_upperTriangle_noDiag.npy')\n",
    "\n",
    "X_train = get_features('NN_datasets/train_set_all_reads.npy')\n",
    "y_train = get_labels('NN_datasets/labels_train_all.npy')\n",
    "X_valid = get_features('NN_datasets/vali_set_all_reads.npy')\n",
    "y_valid = get_labels('NN_datasets/labels_vali_all.npy')\n",
    "X_test = get_features('NN_datasets/test_set_all_reads.npy')\n",
    "y_test = get_labels('NN_datasets/labels_test_all.npy')\n",
    "\n",
    "X_train_subsampled, y_train_subsampled = subsample_data(X_train, y_train)\n",
    "X_valid_subsampled, y_valid_subsampled = subsample_data(X_valid, y_valid)\n",
    "X_test_subsampled, y_test_subsampled = subsample_data(X_test, y_test)\n",
    "\"\"\""
   ]
  },
  {
   "cell_type": "code",
   "execution_count": null,
   "metadata": {
    "collapsed": false
   },
   "outputs": [],
   "source": [
    "\"\"\"\n",
    "X_train_normalized_subsampled, y_train_subsampled = subsample_data(X_train_normalized, y_train)\n",
    "X_valid_normalized_subsampled, y_valid_subsampled = subsample_data(X_valid_normalized, y_valid)\n",
    "X_test_normalized_subsampled, y_test_subsampled = subsample_data(X_test_normalized, y_test)\n",
    "\n",
    "X_train_scaled_subsampled, y_train_subsampled = subsample_data(X_train_scaled, y_train)\n",
    "X_valid_scaled_subsampled, y_valid_subsampled = subsample_data(X_valid_scaled, y_valid)\n",
    "X_test_scaled_subsampled, y_test_subsampled = subsample_data(X_test_scaled, y_test)\n",
    "\"\"\""
   ]
  },
  {
   "cell_type": "code",
   "execution_count": 4,
   "metadata": {
    "collapsed": false
   },
   "outputs": [],
   "source": [
    "X_train_normalized, X_valid_normalized, X_test_normalized = normalize_features(X_train, X_valid, X_test)\n",
    "\n",
    "X_train_normalized_subsampled, y_train_subsampled = subsample_data(X_train_normalized, y_train)\n",
    "X_valid_normalized_subsampled, y_valid_subsampled = subsample_data(X_valid_normalized, y_valid)\n",
    "X_test_normalized_subsampled, y_test_subsampled = subsample_data(X_test_normalized, y_test)\n",
    "\n",
    "\n",
    "#X_train_scaled_subsampled, y_train_subsampled = subsample_data(X_train_scaled, y_train)\n",
    "#X_valid_scaled_subsampled, y_valid_subsampled = subsample_data(X_valid_scaled, y_valid)\n",
    "#X_test_scaled_subsampled, y_test_subsampled = subsample_data(X_test_scaled, y_test)\n"
   ]
  },
  {
   "cell_type": "markdown",
   "metadata": {},
   "source": [
    "# without distance"
   ]
  },
  {
   "cell_type": "code",
   "execution_count": 5,
   "metadata": {
    "collapsed": true
   },
   "outputs": [],
   "source": [
    "dnn_normalized = LongRangeDNN(num_features=10, use_deep_CNN=True)"
   ]
  },
  {
   "cell_type": "code",
   "execution_count": 12,
   "metadata": {
    "collapsed": false
   },
   "outputs": [
    {
     "name": "stdout",
     "output_type": "stream",
     "text": [
      "Training model...\n",
      "Train on 16191 samples, validate on 9847 samples\n",
      "Epoch 1/100\n",
      "16191/16191 [==============================] - 0s - loss: 0.8368 - val_loss: 0.7289\n",
      "Epoch 0: validation loss: 0.729\n",
      "Balanced Accuracy: 54.85%\t auROC: 0.565\t auPRC: 0.692\t auPRG: 0.077\n",
      "Recall at 5%|10%|20% FDR: 0.2%|0.2%|1.4%\t Num Positives: 6292\t Num Negatives: 3555\t \n",
      "\n",
      "Epoch 2/100\n",
      "16191/16191 [==============================] - 0s - loss: 0.8394 - val_loss: 0.7472\n",
      "Epoch 1: validation loss: 0.747\n",
      "Balanced Accuracy: 54.61%\t auROC: 0.564\t auPRC: 0.691\t auPRG: 0.081\n",
      "Recall at 5%|10%|20% FDR: 0.1%|0.1%|2.2%\t Num Positives: 6292\t Num Negatives: 3555\t \n",
      "\n",
      "Epoch 3/100\n",
      "16191/16191 [==============================] - 0s - loss: 0.8345 - val_loss: 0.7331\n",
      "Epoch 2: validation loss: 0.733\n",
      "Balanced Accuracy: 54.43%\t auROC: 0.563\t auPRC: 0.690\t auPRG: 0.079\n",
      "Recall at 5%|10%|20% FDR: 0.2%|0.2%|1.4%\t Num Positives: 6292\t Num Negatives: 3555\t \n",
      "\n",
      "Epoch 4/100\n",
      "16191/16191 [==============================] - 0s - loss: 0.8307 - val_loss: 0.7351\n",
      "Epoch 3: validation loss: 0.735\n",
      "Balanced Accuracy: 54.71%\t auROC: 0.563\t auPRC: 0.691\t auPRG: 0.077\n",
      "Recall at 5%|10%|20% FDR: 0.2%|0.2%|1.6%\t Num Positives: 6292\t Num Negatives: 3555\t \n",
      "\n",
      "Epoch 5/100\n",
      "16191/16191 [==============================] - 0s - loss: 0.8292 - val_loss: 0.7455\n",
      "Epoch 4: validation loss: 0.746\n",
      "Balanced Accuracy: 54.66%\t auROC: 0.563\t auPRC: 0.690\t auPRG: 0.076\n",
      "Recall at 5%|10%|20% FDR: 0.1%|0.1%|1.6%\t Num Positives: 6292\t Num Negatives: 3555\t \n",
      "\n",
      "Epoch 6/100\n",
      "16191/16191 [==============================] - 0s - loss: 0.8293 - val_loss: 0.7320\n",
      "Epoch 5: validation loss: 0.732\n",
      "Balanced Accuracy: 54.39%\t auROC: 0.561\t auPRC: 0.688\t auPRG: 0.076\n",
      "Recall at 5%|10%|20% FDR: 0.1%|0.2%|1.2%\t Num Positives: 6292\t Num Negatives: 3555\t \n",
      "\n",
      "Epoch 7/100\n",
      "16191/16191 [==============================] - 0s - loss: 0.8247 - val_loss: 0.7472\n",
      "Epoch 6: validation loss: 0.747\n",
      "Balanced Accuracy: 54.70%\t auROC: 0.565\t auPRC: 0.693\t auPRG: 0.082\n",
      "Recall at 5%|10%|20% FDR: 0.1%|0.1%|1.5%\t Num Positives: 6292\t Num Negatives: 3555\t \n",
      "\n",
      "Epoch 8/100\n",
      "16191/16191 [==============================] - 0s - loss: 0.8218 - val_loss: 0.7282\n",
      "Epoch 7: validation loss: 0.728\n",
      "Balanced Accuracy: 54.21%\t auROC: 0.562\t auPRC: 0.689\t auPRG: 0.077\n",
      "Recall at 5%|10%|20% FDR: 0.1%|0.1%|0.2%\t Num Positives: 6292\t Num Negatives: 3555\t \n",
      "\n",
      "Epoch 9/100\n",
      "16191/16191 [==============================] - 0s - loss: 0.8199 - val_loss: 0.7476\n",
      "Epoch 8: validation loss: 0.748\n",
      "Balanced Accuracy: 54.68%\t auROC: 0.563\t auPRC: 0.691\t auPRG: 0.074\n",
      "Recall at 5%|10%|20% FDR: 0.1%|0.1%|0.9%\t Num Positives: 6292\t Num Negatives: 3555\t \n",
      "\n",
      "Epoch 10/100\n",
      "16191/16191 [==============================] - 0s - loss: 0.8210 - val_loss: 0.7605\n",
      "Epoch 9: validation loss: 0.761\n",
      "Balanced Accuracy: 54.89%\t auROC: 0.565\t auPRC: 0.691\t auPRG: 0.078\n",
      "Recall at 5%|10%|20% FDR: 0.1%|0.1%|0.6%\t Num Positives: 6292\t Num Negatives: 3555\t \n",
      "\n",
      "Epoch 11/100\n",
      "16191/16191 [==============================] - 0s - loss: 0.8193 - val_loss: 0.7585\n",
      "Epoch 10: validation loss: 0.758\n",
      "Balanced Accuracy: 54.30%\t auROC: 0.560\t auPRC: 0.689\t auPRG: 0.069\n",
      "Recall at 5%|10%|20% FDR: 0.1%|0.2%|0.5%\t Num Positives: 6292\t Num Negatives: 3555\t \n",
      "\n",
      "Epoch 12/100\n",
      "16191/16191 [==============================] - 0s - loss: 0.8174 - val_loss: 0.7911\n",
      "Epoch 11: validation loss: 0.791\n",
      "Balanced Accuracy: 54.78%\t auROC: 0.565\t auPRC: 0.693\t auPRG: 0.079\n",
      "Recall at 5%|10%|20% FDR: 0.1%|0.1%|1.4%\t Num Positives: 6292\t Num Negatives: 3555\t \n",
      "\n",
      "Epoch 13/100\n",
      "16191/16191 [==============================] - 0s - loss: 0.8140 - val_loss: 0.7722\n",
      "Epoch 12: validation loss: 0.772\n",
      "Balanced Accuracy: 54.56%\t auROC: 0.560\t auPRC: 0.690\t auPRG: 0.071\n",
      "Recall at 5%|10%|20% FDR: 0.1%|0.1%|1.2%\t Num Positives: 6292\t Num Negatives: 3555\t \n",
      "\n",
      "Epoch 14/100\n",
      "16191/16191 [==============================] - 0s - loss: 0.8116 - val_loss: 0.7622\n",
      "Epoch 13: validation loss: 0.762\n",
      "Balanced Accuracy: 54.93%\t auROC: 0.565\t auPRC: 0.691\t auPRG: 0.079\n",
      "Recall at 5%|10%|20% FDR: 0.1%|0.1%|0.3%\t Num Positives: 6292\t Num Negatives: 3555\t \n",
      "\n",
      "Epoch 15/100\n",
      "16191/16191 [==============================] - 0s - loss: 0.8114 - val_loss: 0.7553\n",
      "Epoch 14: validation loss: 0.755\n",
      "Balanced Accuracy: 55.07%\t auROC: 0.564\t auPRC: 0.689\t auPRG: 0.081\n",
      "Recall at 5%|10%|20% FDR: 0.0%|0.0%|0.3%\t Num Positives: 6292\t Num Negatives: 3555\t \n",
      "\n",
      "Epoch 16/100\n",
      "16191/16191 [==============================] - 0s - loss: 0.8074 - val_loss: 0.7624\n",
      "Epoch 15: validation loss: 0.762\n",
      "Balanced Accuracy: 54.36%\t auROC: 0.560\t auPRC: 0.687\t auPRG: 0.075\n",
      "Recall at 5%|10%|20% FDR: 0.1%|0.1%|0.3%\t Num Positives: 6292\t Num Negatives: 3555\t \n",
      "\n",
      "Epoch 17/100\n",
      "16191/16191 [==============================] - 0s - loss: 0.8058 - val_loss: 0.7736\n",
      "Epoch 16: validation loss: 0.774\n",
      "Balanced Accuracy: 54.76%\t auROC: 0.566\t auPRC: 0.691\t auPRG: 0.085\n",
      "Recall at 5%|10%|20% FDR: 0.1%|0.2%|0.5%\t Num Positives: 6292\t Num Negatives: 3555\t \n",
      "\n",
      "Epoch 18/100\n",
      "16191/16191 [==============================] - 0s - loss: 0.8061 - val_loss: 0.7573\n",
      "Epoch 17: validation loss: 0.757\n",
      "Balanced Accuracy: 54.29%\t auROC: 0.564\t auPRC: 0.689\t auPRG: 0.085\n",
      "Recall at 5%|10%|20% FDR: 0.1%|0.1%|0.1%\t Num Positives: 6292\t Num Negatives: 3555\t \n",
      "\n",
      "Epoch 19/100\n",
      "16191/16191 [==============================] - 0s - loss: 0.8043 - val_loss: 0.7513\n",
      "Epoch 18: validation loss: 0.751\n",
      "Balanced Accuracy: 54.83%\t auROC: 0.565\t auPRC: 0.690\t auPRG: 0.085\n",
      "Recall at 5%|10%|20% FDR: 0.1%|0.1%|0.4%\t Num Positives: 6292\t Num Negatives: 3555\t \n",
      "\n"
     ]
    }
   ],
   "source": [
    "#validation_data = (X_valid_normalized_subsampled[:, :, :10, :], y_valid_subsampled)\n",
    "#dnn_normalized.train(X_train_normalized_subsampled[:, :, :10, :], y_train_subsampled, validation_data)\n",
    "validation_data = (X_valid_normalized[:, :, :10, :], y_valid)\n",
    "dnn_normalized.train(X_train_normalized[:, :, :10, :], y_train, validation_data)"
   ]
  },
  {
   "cell_type": "code",
   "execution_count": 14,
   "metadata": {
    "collapsed": false
   },
   "outputs": [
    {
     "name": "stdout",
     "output_type": "stream",
     "text": [
      "Balanced Accuracy: 55.41%\t auROC: 0.572\t auPRC: 0.700\t auPRG: 0.091\n",
      "Recall at 5%|10%|20% FDR: 0.1%|0.1%|2.4%\t Num Positives: 4189\t Num Negatives: 2333\t \n"
     ]
    }
   ],
   "source": [
    "print(dnn_normalized.test(X_test_normalized[:, :, :10, :], y_test))"
   ]
  },
  {
   "cell_type": "markdown",
   "metadata": {},
   "source": [
    "# with genomic locations"
   ]
  },
  {
   "cell_type": "code",
   "execution_count": 16,
   "metadata": {
    "collapsed": true
   },
   "outputs": [],
   "source": [
    "dnn_normalized = LongRangeDNN(num_features=11, use_deep_CNN=True)"
   ]
  },
  {
   "cell_type": "code",
   "execution_count": 18,
   "metadata": {
    "collapsed": false
   },
   "outputs": [
    {
     "name": "stdout",
     "output_type": "stream",
     "text": [
      "Training model...\n",
      "Train on 16191 samples, validate on 9847 samples\n",
      "Epoch 1/100\n",
      "16191/16191 [==============================] - 0s - loss: 0.9225 - val_loss: 0.7026\n",
      "Epoch 0: validation loss: 0.703\n",
      "Balanced Accuracy: 53.31%\t auROC: 0.555\t auPRC: 0.683\t auPRG: 0.078\n",
      "Recall at 5%|10%|20% FDR: 0.0%|0.0%|1.2%\t Num Positives: 6292\t Num Negatives: 3555\t \n",
      "\n",
      "Epoch 2/100\n",
      "16191/16191 [==============================] - 0s - loss: 0.9197 - val_loss: 0.7038\n",
      "Epoch 1: validation loss: 0.704\n",
      "Balanced Accuracy: 53.21%\t auROC: 0.556\t auPRC: 0.685\t auPRG: 0.080\n",
      "Recall at 5%|10%|20% FDR: 0.1%|0.1%|1.0%\t Num Positives: 6292\t Num Negatives: 3555\t \n",
      "\n",
      "Epoch 3/100\n",
      "16191/16191 [==============================] - 0s - loss: 0.9183 - val_loss: 0.7125\n",
      "Epoch 2: validation loss: 0.712\n",
      "Balanced Accuracy: 53.04%\t auROC: 0.554\t auPRC: 0.682\t auPRG: 0.075\n",
      "Recall at 5%|10%|20% FDR: 0.1%|0.1%|0.7%\t Num Positives: 6292\t Num Negatives: 3555\t \n",
      "\n",
      "Epoch 4/100\n",
      "16191/16191 [==============================] - 0s - loss: 0.9145 - val_loss: 0.7035\n",
      "Epoch 3: validation loss: 0.703\n",
      "Balanced Accuracy: 53.15%\t auROC: 0.557\t auPRC: 0.684\t auPRG: 0.085\n",
      "Recall at 5%|10%|20% FDR: 0.1%|0.1%|0.3%\t Num Positives: 6292\t Num Negatives: 3555\t \n",
      "\n",
      "Epoch 5/100\n",
      "16191/16191 [==============================] - 0s - loss: 0.9140 - val_loss: 0.7244\n",
      "Epoch 4: validation loss: 0.724\n",
      "Balanced Accuracy: 53.07%\t auROC: 0.555\t auPRC: 0.684\t auPRG: 0.072\n",
      "Recall at 5%|10%|20% FDR: 0.1%|0.2%|0.2%\t Num Positives: 6292\t Num Negatives: 3555\t \n",
      "\n",
      "Epoch 6/100\n",
      "16191/16191 [==============================] - 0s - loss: 0.9118 - val_loss: 0.7187\n",
      "Epoch 5: validation loss: 0.719\n",
      "Balanced Accuracy: 53.31%\t auROC: 0.558\t auPRC: 0.685\t auPRG: 0.079\n",
      "Recall at 5%|10%|20% FDR: 0.0%|0.0%|0.3%\t Num Positives: 6292\t Num Negatives: 3555\t \n",
      "\n",
      "Epoch 7/100\n",
      "16191/16191 [==============================] - 0s - loss: 0.9097 - val_loss: 0.7001\n",
      "Epoch 6: validation loss: 0.700\n",
      "Balanced Accuracy: 54.08%\t auROC: 0.561\t auPRC: 0.686\t auPRG: 0.087\n",
      "Recall at 5%|10%|20% FDR: 0.1%|0.1%|0.1%\t Num Positives: 6292\t Num Negatives: 3555\t \n",
      "\n",
      "Epoch 8/100\n",
      "16191/16191 [==============================] - 0s - loss: 0.9067 - val_loss: 0.7009\n",
      "Epoch 7: validation loss: 0.701\n",
      "Balanced Accuracy: 54.23%\t auROC: 0.564\t auPRC: 0.690\t auPRG: 0.092\n",
      "Recall at 5%|10%|20% FDR: 0.2%|0.3%|0.3%\t Num Positives: 6292\t Num Negatives: 3555\t \n",
      "\n",
      "Epoch 9/100\n",
      "16191/16191 [==============================] - 0s - loss: 0.9035 - val_loss: 0.7296\n",
      "Epoch 8: validation loss: 0.730\n",
      "Balanced Accuracy: 53.47%\t auROC: 0.566\t auPRC: 0.690\t auPRG: 0.093\n",
      "Recall at 5%|10%|20% FDR: 0.1%|0.2%|0.2%\t Num Positives: 6292\t Num Negatives: 3555\t \n",
      "\n",
      "Epoch 10/100\n",
      "16191/16191 [==============================] - 0s - loss: 0.9027 - val_loss: 0.7016\n",
      "Epoch 9: validation loss: 0.702\n",
      "Balanced Accuracy: 54.73%\t auROC: 0.563\t auPRC: 0.687\t auPRG: 0.088\n",
      "Recall at 5%|10%|20% FDR: 0.2%|0.2%|0.5%\t Num Positives: 6292\t Num Negatives: 3555\t \n",
      "\n",
      "Epoch 11/100\n",
      "16191/16191 [==============================] - 0s - loss: 0.8998 - val_loss: 0.6923\n",
      "Epoch 10: validation loss: 0.692\n",
      "Balanced Accuracy: 54.14%\t auROC: 0.566\t auPRC: 0.691\t auPRG: 0.099\n",
      "Recall at 5%|10%|20% FDR: 0.3%|0.3%|0.3%\t Num Positives: 6292\t Num Negatives: 3555\t \n",
      "\n",
      "Epoch 12/100\n",
      "16191/16191 [==============================] - 0s - loss: 0.8989 - val_loss: 0.7133\n",
      "Epoch 11: validation loss: 0.713\n",
      "Balanced Accuracy: 53.93%\t auROC: 0.566\t auPRC: 0.690\t auPRG: 0.094\n",
      "Recall at 5%|10%|20% FDR: 0.2%|0.2%|0.3%\t Num Positives: 6292\t Num Negatives: 3555\t \n",
      "\n",
      "Epoch 13/100\n",
      "16191/16191 [==============================] - 0s - loss: 0.8944 - val_loss: 0.7115\n",
      "Epoch 12: validation loss: 0.711\n",
      "Balanced Accuracy: 54.02%\t auROC: 0.568\t auPRC: 0.691\t auPRG: 0.103\n",
      "Recall at 5%|10%|20% FDR: 0.1%|0.1%|0.6%\t Num Positives: 6292\t Num Negatives: 3555\t \n",
      "\n",
      "Epoch 14/100\n",
      "16191/16191 [==============================] - 0s - loss: 0.8934 - val_loss: 0.7085\n",
      "Epoch 13: validation loss: 0.709\n",
      "Balanced Accuracy: 53.99%\t auROC: 0.568\t auPRC: 0.690\t auPRG: 0.103\n",
      "Recall at 5%|10%|20% FDR: 0.1%|0.2%|0.4%\t Num Positives: 6292\t Num Negatives: 3555\t \n",
      "\n",
      "Epoch 15/100\n",
      "16191/16191 [==============================] - 0s - loss: 0.8893 - val_loss: 0.7166\n",
      "Epoch 14: validation loss: 0.717\n",
      "Balanced Accuracy: 54.03%\t auROC: 0.569\t auPRC: 0.692\t auPRG: 0.102\n",
      "Recall at 5%|10%|20% FDR: 0.3%|0.3%|0.5%\t Num Positives: 6292\t Num Negatives: 3555\t \n",
      "\n",
      "Epoch 16/100\n",
      "16191/16191 [==============================] - 0s - loss: 0.8856 - val_loss: 0.6940\n",
      "Epoch 15: validation loss: 0.694\n",
      "Balanced Accuracy: 54.31%\t auROC: 0.564\t auPRC: 0.688\t auPRG: 0.094\n",
      "Recall at 5%|10%|20% FDR: 0.0%|0.0%|0.4%\t Num Positives: 6292\t Num Negatives: 3555\t \n",
      "\n",
      "Epoch 17/100\n",
      "16191/16191 [==============================] - 0s - loss: 0.8851 - val_loss: 0.7241\n",
      "Epoch 16: validation loss: 0.724\n",
      "Balanced Accuracy: 53.88%\t auROC: 0.568\t auPRC: 0.690\t auPRG: 0.096\n",
      "Recall at 5%|10%|20% FDR: 0.1%|0.1%|0.4%\t Num Positives: 6292\t Num Negatives: 3555\t \n",
      "\n",
      "Epoch 18/100\n",
      "16191/16191 [==============================] - 0s - loss: 0.8822 - val_loss: 0.6929\n",
      "Epoch 17: validation loss: 0.693\n",
      "Balanced Accuracy: 54.55%\t auROC: 0.566\t auPRC: 0.687\t auPRG: 0.099\n",
      "Recall at 5%|10%|20% FDR: 0.1%|0.1%|0.1%\t Num Positives: 6292\t Num Negatives: 3555\t \n",
      "\n",
      "Epoch 19/100\n",
      "16191/16191 [==============================] - 0s - loss: 0.8790 - val_loss: 0.7071\n",
      "Epoch 18: validation loss: 0.707\n",
      "Balanced Accuracy: 54.85%\t auROC: 0.570\t auPRC: 0.690\t auPRG: 0.106\n",
      "Recall at 5%|10%|20% FDR: 0.1%|0.1%|1.7%\t Num Positives: 6292\t Num Negatives: 3555\t \n",
      "\n",
      "Epoch 20/100\n",
      "16191/16191 [==============================] - 0s - loss: 0.8782 - val_loss: 0.7301\n",
      "Epoch 19: validation loss: 0.730\n",
      "Balanced Accuracy: 54.23%\t auROC: 0.572\t auPRC: 0.691\t auPRG: 0.107\n",
      "Recall at 5%|10%|20% FDR: 0.0%|0.0%|0.9%\t Num Positives: 6292\t Num Negatives: 3555\t \n",
      "\n",
      "Epoch 21/100\n",
      "16191/16191 [==============================] - 0s - loss: 0.8744 - val_loss: 0.7363\n",
      "Epoch 20: validation loss: 0.736\n",
      "Balanced Accuracy: 54.91%\t auROC: 0.572\t auPRC: 0.695\t auPRG: 0.095\n",
      "Recall at 5%|10%|20% FDR: 0.0%|0.0%|1.9%\t Num Positives: 6292\t Num Negatives: 3555\t \n",
      "\n",
      "Epoch 22/100\n",
      "16191/16191 [==============================] - 0s - loss: 0.8716 - val_loss: 0.7337\n",
      "Epoch 21: validation loss: 0.734\n",
      "Balanced Accuracy: 53.83%\t auROC: 0.570\t auPRC: 0.692\t auPRG: 0.106\n",
      "Recall at 5%|10%|20% FDR: 0.1%|0.1%|1.5%\t Num Positives: 6292\t Num Negatives: 3555\t \n",
      "\n"
     ]
    }
   ],
   "source": [
    "#validation_data = (X_valid_normalized_subsampled[:, :, :11, :], y_valid_subsampled)\n",
    "#dnn_normalized.train(X_train_normalized_subsampled[:, :, :11, :], y_train_subsampled, validation_data)\n",
    "validation_data = (X_valid_normalized[:, :, :11, :], y_valid)\n",
    "dnn_normalized.train(X_train_normalized[:, :, :11, :], y_train, validation_data)"
   ]
  },
  {
   "cell_type": "code",
   "execution_count": 19,
   "metadata": {
    "collapsed": false
   },
   "outputs": [
    {
     "name": "stdout",
     "output_type": "stream",
     "text": [
      "Balanced Accuracy: 54.71%\t auROC: 0.567\t auPRC: 0.695\t auPRG: 0.080\n",
      "Recall at 5%|10%|20% FDR: 0.1%|0.1%|1.3%\t Num Positives: 4189\t Num Negatives: 2333\t \n"
     ]
    }
   ],
   "source": [
    "print(dnn_normalized.test(X_test_normalized[:, :, :11, :], y_test))"
   ]
  },
  {
   "cell_type": "markdown",
   "metadata": {},
   "source": [
    "# Print prediction"
   ]
  },
  {
   "cell_type": "code",
   "execution_count": 241,
   "metadata": {
    "collapsed": false
   },
   "outputs": [],
   "source": [
    "indx_test=np.load('/users/mtaranov/NN_all_data/indx_test_upperTriangle_noDiag.npy')\n",
    "indx_valid=np.load('/users/mtaranov/NN_all_data/indx_vali_upperTriangle_noDiag.npy')\n",
    "indx_train=np.load('/users/mtaranov/NN_all_data/indx_train_upperTriangle_noDiag.npy')"
   ]
  },
  {
   "cell_type": "code",
   "execution_count": 347,
   "metadata": {
    "collapsed": false
   },
   "outputs": [],
   "source": [
    "labels_all=(np.concatenate((y_train, y_valid, y_test), axis=0)).astype(int)\n",
    "preds_all=(np.concatenate((pred_probs_train, pred_probs_valid, pred_probs_test), axis=0))\n",
    "indx_all=(np.concatenate((indx_train, indx_valid, indx_test), axis=0))\n",
    "\n",
    "labels_test = y_test\n",
    "preds_test = pred_probs_test\n",
    "indx_test = indx_test"
   ]
  },
  {
   "cell_type": "code",
   "execution_count": 372,
   "metadata": {
    "collapsed": false
   },
   "outputs": [
    {
     "name": "stdout",
     "output_type": "stream",
     "text": [
      "Some tests on adjacency matrix:\n",
      "Some tests on adjacency matrix:\n",
      "Some tests on adjacency matrix:\n",
      "Some tests on adjacency matrix:\n"
     ]
    }
   ],
   "source": [
    "NumberOfNodes=2272\n",
    "preds_all_2d, labels_all_2d = get_2D(indx_all, preds_all, labels_all, NumberOfNodes)\n",
    "preds_test_2d, labels_test_2d = get_2D(indx_test, preds_test, labels_test, NumberOfNodes)"
   ]
  },
  {
   "cell_type": "code",
   "execution_count": 417,
   "metadata": {
    "collapsed": false
   },
   "outputs": [
    {
     "name": "stdout",
     "output_type": "stream",
     "text": [
      "1.0\n",
      "(2272, 2272)\n",
      "Limit: 1.0\n"
     ]
    },
    {
     "data": {
      "image/png": "[encoded data removed]",
      "text/plain": [
       "<matplotlib.figure.Figure at 0x7f23711e2190>"
      ]
     },
     "metadata": {},
     "output_type": "display_data"
    },
    {
     "name": "stdout",
     "output_type": "stream",
     "text": [
      "1.0\n",
      "(2272, 2272)\n",
      "Limit: 1.0\n"
     ]
    },
    {
     "data": {
      "image/png": "[encoded data removed]",
      "text/plain": [
       "<matplotlib.figure.Figure at 0x7f231de13110>"
      ]
     },
     "metadata": {},
     "output_type": "display_data"
    }
   ],
   "source": [
    "printMatrix(preds_all_2d, '', 1, 1, title='preds')\n",
    "printMatrix(labels_all_2d, '', 1, 1, title='Captures')"
   ]
  },
  {
   "cell_type": "code",
   "execution_count": 404,
   "metadata": {
    "collapsed": false
   },
   "outputs": [
    {
     "name": "stdout",
     "output_type": "stream",
     "text": [
      "1.0\n",
      "(2272, 2272)\n",
      "Limit: 1.0\n"
     ]
    },
    {
     "data": {
      "image/png": "[encoded data removed]",
      "text/plain": [
       "<matplotlib.figure.Figure at 0x7f2320122910>"
      ]
     },
     "metadata": {},
     "output_type": "display_data"
    },
    {
     "name": "stdout",
     "output_type": "stream",
     "text": [
      "1.0\n",
      "(2272, 2272)\n",
      "Limit: 1.0\n"
     ]
    },
    {
     "data": {
      "image/png": "[encoded data removed]",
      "text/plain": [
       "<matplotlib.figure.Figure at 0x7f23684160d0>"
      ]
     },
     "metadata": {},
     "output_type": "display_data"
    }
   ],
   "source": [
    "zoomIn_window = (0,2272)\n",
    "preds_thres = 0.99\n",
    "NumberOfNodes=2272\n",
    "plot_prediction(preds_all_2d, labels_all_2d, zoomIn_window, preds_thres)"
   ]
  },
  {
   "cell_type": "code",
   "execution_count": 410,
   "metadata": {
    "collapsed": false
   },
   "outputs": [
    {
     "name": "stdout",
     "output_type": "stream",
     "text": [
      "1.0\n",
      "(200, 200)\n",
      "Limit: 1.0\n"
     ]
    },
    {
     "data": {
      "image/png": "[encoded data removed]",
      "text/plain": [
       "<matplotlib.figure.Figure at 0x7f231e8ec250>"
      ]
     },
     "metadata": {},
     "output_type": "display_data"
    },
    {
     "name": "stdout",
     "output_type": "stream",
     "text": [
      "1.0\n",
      "(200, 200)\n",
      "Limit: 1.0\n"
     ]
    },
    {
     "data": {
      "image/png": "[encoded data removed]",
      "text/plain": [
       "<matplotlib.figure.Figure at 0x7f231d94d610>"
      ]
     },
     "metadata": {},
     "output_type": "display_data"
    }
   ],
   "source": [
    "zoomIn_window = (0,200)\n",
    "preds_thres = 0.999\n",
    "NumberOfNodes=2272\n",
    "plot_prediction(preds_all_2d, labels_all_2d, zoomIn_window, preds_thres)"
   ]
  },
  {
   "cell_type": "code",
   "execution_count": 420,
   "metadata": {
    "collapsed": false
   },
   "outputs": [
    {
     "name": "stdout",
     "output_type": "stream",
     "text": [
      "1.0\n",
      "(200, 200)\n",
      "Limit: 1.0\n"
     ]
    },
    {
     "data": {
      "image/png": "[encoded data removed]",
      "text/plain": [
       "<matplotlib.figure.Figure at 0x7f2383ec73d0>"
      ]
     },
     "metadata": {},
     "output_type": "display_data"
    },
    {
     "name": "stdout",
     "output_type": "stream",
     "text": [
      "1.0\n",
      "(200, 200)\n",
      "Limit: 1.0\n"
     ]
    },
    {
     "data": {
      "image/png": "[encoded data removed]",
      "text/plain": [
       "<matplotlib.figure.Figure at 0x7f2374610510>"
      ]
     },
     "metadata": {},
     "output_type": "display_data"
    }
   ],
   "source": [
    "zoomIn_window = (1500,1700)\n",
    "preds_thres = 0.98\n",
    "NumberOfNodes=2272\n",
    "plot_prediction(preds_all_2d, labels_all_2d, zoomIn_window, preds_thres)"
   ]
  },
  {
   "cell_type": "code",
   "execution_count": 421,
   "metadata": {
    "collapsed": false
   },
   "outputs": [
    {
     "name": "stdout",
     "output_type": "stream",
     "text": [
      "1.0\n",
      "(100, 100)\n",
      "Limit: 1.0\n"
     ]
    },
    {
     "data": {
      "image/png": "[encoded data removed]",
      "text/plain": [
       "<matplotlib.figure.Figure at 0x7f231efcde90>"
      ]
     },
     "metadata": {},
     "output_type": "display_data"
    },
    {
     "name": "stdout",
     "output_type": "stream",
     "text": [
      "1.0\n",
      "(100, 100)\n",
      "Limit: 1.0\n"
     ]
    },
    {
     "data": {
      "image/png": "[encoded data removed]",
      "text/plain": [
       "<matplotlib.figure.Figure at 0x7f2370a4bc90>"
      ]
     },
     "metadata": {},
     "output_type": "display_data"
    }
   ],
   "source": [
    "zoomIn_window = (1550,1650)\n",
    "preds_thres = 0.98\n",
    "NumberOfNodes=2272\n",
    "plot_prediction(preds_all_2d, labels_all_2d, zoomIn_window, preds_thres)"
   ]
  },
  {
   "cell_type": "code",
   "execution_count": null,
   "metadata": {
    "collapsed": true
   },
   "outputs": [],
   "source": []
  }
 ],
 "metadata": {
  "kernelspec": {
   "display_name": "Python 2",
   "language": "python",
   "name": "python2"
  },
  "language_info": {
   "codemirror_mode": {
    "name": "ipython",
    "version": 2
   },
   "file_extension": ".py",
   "mimetype": "text/x-python",
   "name": "python",
   "nbconvert_exporter": "python",
   "pygments_lexer": "ipython2",
   "version": "2.7.11"
  }
 },
 "nbformat": 4,
 "nbformat_minor": 0
}
