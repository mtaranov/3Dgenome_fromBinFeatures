{
 "cells": [
  {
   "cell_type": "code",
   "execution_count": 1,
   "metadata": {
    "collapsed": false
   },
   "outputs": [
    {
     "name": "stderr",
     "output_type": "stream",
     "text": [
      "Using Theano backend.\n",
      "Using gpu device 1: GeForce GTX TITAN X (CNMeM is enabled with initial size: 2500 MB, cuDNN 5004)\n",
      "/users/jisraeli/local/anaconda/lib/python2.7/site-packages/theano/tensor/signal/downsample.py:6: UserWarning: downsample module has been moved to the theano.tensor.signal.pool module.\n",
      "  \"downsample module has been moved to the theano.tensor.signal.pool module.\")\n"
     ]
    }
   ],
   "source": [
    "%load_ext autoreload\n",
    "%autoreload 2\n",
    "import numpy as np\n",
    "from sklearn.preprocessing import MinMaxScaler, StandardScaler\n",
    "from dragonn.models import Model, SequenceDNN\n",
    "from keras.models import Sequential\n",
    "from keras.callbacks import Callback, EarlyStopping\n",
    "from keras.layers.core import (\n",
    "    Activation, Dense, Dropout, Flatten,\n",
    "    Permute, Reshape, TimeDistributedDense\n",
    ")\n",
    "from keras.layers.convolutional import Convolution2D, MaxPooling2D\n",
    "from keras.layers.recurrent import GRU\n",
    "from keras.regularizers import l1\n",
    "\n",
    "from deeplift import keras_conversion as kc\n",
    "from deeplift.blobs import MxtsMode"
   ]
  },
  {
   "cell_type": "code",
   "execution_count": 122,
   "metadata": {
    "collapsed": false
   },
   "outputs": [],
   "source": [
    "class LongRangeDNN(SequenceDNN):\n",
    "    def __init__(self, num_features=11, num_nodes=2, use_deep_CNN=False,\n",
    "                  num_tasks=1, num_filters=25,\n",
    "                  num_filters_2=25, num_filters_3=25,\n",
    "                  L1=0, dropout=0.0, verbose=2):\n",
    "        self.num_features = num_features\n",
    "        self.num_nodes = num_nodes\n",
    "        self.input_shape = (1, num_features, num_nodes)\n",
    "        self.num_tasks = num_tasks\n",
    "        self.verbose = verbose\n",
    "        self.model = Sequential()\n",
    "        self.model.add(Convolution2D(\n",
    "            nb_filter=num_filters, nb_row=num_features,\n",
    "            nb_col=1, activation='linear',\n",
    "            init='he_normal', input_shape=self.input_shape))\n",
    "        self.model.add(Activation('relu'))\n",
    "        self.model.add(Dropout(dropout))\n",
    "        if use_deep_CNN:\n",
    "            self.model.add(Convolution2D(\n",
    "                nb_filter=num_filters_2, nb_row=1,\n",
    "                nb_col=1, activation='relu',\n",
    "                init='he_normal', W_regularizer=l1(L1)))\n",
    "            self.model.add(Dropout(dropout))\n",
    "            self.model.add(Convolution2D(\n",
    "                nb_filter=num_filters_3, nb_row=1,\n",
    "                nb_col=1, activation='relu',\n",
    "                init='he_normal', W_regularizer=l1(L1)))\n",
    "            self.model.add(Dropout(dropout))\n",
    "        self.model.add(Flatten())\n",
    "        self.model.add(Dense(output_dim=25, activation='relu'))\n",
    "        self.model.add(Dense(output_dim=25, activation='relu'))\n",
    "        self.model.add(Dense(output_dim=25, activation='relu'))\n",
    "        self.model.add(Dense(output_dim=self.num_tasks))\n",
    "        self.model.add(Activation('sigmoid'))\n",
    "        self.model.compile(optimizer='adam', loss='binary_crossentropy')\n",
    "        self.train_losses = None\n",
    "        self.valid_losses = None\n",
    "    \n",
    "    def train(self, X, y, validation_data):\n",
    "        if y.dtype != bool:\n",
    "            assert len(np.unique(y)) == 2\n",
    "            y = y.astype(bool)\n",
    "        multitask = y.shape[1] > 1\n",
    "        if not multitask:\n",
    "            num_positives = y.sum()\n",
    "            num_sequences = len(y)\n",
    "            num_negatives = num_sequences - num_positives\n",
    "        self.callbacks = [EarlyStopping(monitor='val_loss', patience=10)]\n",
    "        if self.verbose >= 1:\n",
    "            self.callbacks.append(self.PrintMetrics(validation_data, self))\n",
    "            print('Training model...')\n",
    "        self.callbacks.append(self.LossHistory(X, y, validation_data, self))\n",
    "        self.model.fit(\n",
    "            X, y, batch_size=250, nb_epoch=100,\n",
    "            validation_data=validation_data,\n",
    "            class_weight={True: num_sequences / num_positives,\n",
    "                          False: num_sequences / num_negatives}\n",
    "            if not multitask else None,\n",
    "            callbacks=self.callbacks, verbose=self.verbose >= 2)\n",
    "        self.train_losses = self.callbacks[-1].train_losses\n",
    "        self.valid_losses = self.callbacks[-1].valid_losses\n",
    "        \n",
    "    def deeplift(self, X, batch_size=200):\n",
    "        \"\"\"\n",
    "        Returns (num_task, num_samples, input_shape) deeplift score array.\n",
    "        \"\"\"\n",
    "        # run deeplift\n",
    "        deeplift_model = kc.convert_sequential_model(\n",
    "            self.model, mxts_mode=MxtsMode.DeepLIFT)\n",
    "        target_contribs_func = deeplift_model.get_target_contribs_func(\n",
    "            find_scores_layer_idx=0)\n",
    "        return np.asarray([\n",
    "            target_contribs_func(task_idx=i, input_data_list=[X],\n",
    "                                 batch_size=batch_size, progress_update=10000)\n",
    "            for i in range(self.num_tasks)])\n",
    "\n",
    "\n",
    "def get_features(X_path):\n",
    "    # load data\n",
    "    X = np.load(X_path)\n",
    "    # reshape data\n",
    "    _, num_features, num_nodes = X.shape\n",
    "    return X.reshape(len(X), 1, num_features, num_nodes)\n",
    "\n",
    "    \n",
    "def get_labels(y_path):\n",
    "    # load data\n",
    "    y = np.load(y_path)\n",
    "    # reshape data\n",
    "    return y.reshape((len(y)), 1).astype(bool)\n",
    "\n",
    "def subsample_data(X, y, imbalance_ratio=10):\n",
    "    neg_indxs = np.where(y==False)[0]\n",
    "    pos_indxs = np.where(y==True)[0]\n",
    "    num_negatives = len(pos_indxs)*imbalance_ratio\n",
    "    y_subsampled = np.array([y[i] for i in np.concatenate((pos_indxs, neg_indxs[:num_negatives]))])\n",
    "    X_subsampled = np.array([X[i] for i in np.concatenate((pos_indxs, neg_indxs[:num_negatives]))])\n",
    "    \n",
    "    return (X_subsampled, y_subsampled)\n",
    "\n",
    "def normalize_features(X_train, X_valid, X_test, normalizer=MinMaxScaler):\n",
    "    # fit normalizer\n",
    "    normalizer = normalizer().fit(X_train[:, 0, :, 0])\n",
    "    # transform features\n",
    "    X_train[:, 0, :, 0] = normalizer.transform(X_train[:, 0, :, 0])\n",
    "    X_train[:, 0, :, 1] = normalizer.transform(X_train[:, 0, :, 1])\n",
    "    X_valid[:, 0, :, 0] = normalizer.transform(X_valid[:, 0, :, 0])\n",
    "    X_valid[:, 0, :, 1] = normalizer.transform(X_valid[:, 0, :, 1])\n",
    "    X_test[:, 0, :, 0] = normalizer.transform(X_test[:, 0, :, 0])\n",
    "    X_test[:, 0, :, 1] = normalizer.transform(X_test[:, 0, :, 1])\n",
    "    \n",
    "    return (X_train, X_valid, X_test) "
   ]
  },
  {
   "cell_type": "code",
   "execution_count": 94,
   "metadata": {
    "collapsed": false
   },
   "outputs": [],
   "source": [
    "X_train = get_features('NN_all_data/train_set_upperTriangle_noDiag_reads.npy')\n",
    "y_train = get_labels('NN_all_data/labels_train_upperTriangle_noDiag.npy')\n",
    "X_valid = get_features('NN_all_data/vali_set_upperTriangle_noDiag_reads.npy')\n",
    "y_valid = get_labels('NN_all_data/labels_vali_upperTriangle_noDiag.npy')\n",
    "X_test = get_features('NN_all_data/test_set_upperTriangle_noDiag_reads.npy')\n",
    "y_test = get_labels('NN_all_data/labels_test_upperTriangle_noDiag.npy')\n",
    "\"\"\"\n",
    "X_train = get_features('NN_datasets/train_set_all_reads.npy')\n",
    "y_train = get_labels('NN_datasets/labels_train_all.npy')\n",
    "X_valid = get_features('NN_datasets/vali_set_all_reads.npy')\n",
    "y_valid = get_labels('NN_datasets/labels_vali_all.npy')\n",
    "X_test = get_features('NN_datasets/test_set_all_reads.npy')\n",
    "y_test = get_labels('NN_datasets/labels_test_all.npy')\n",
    "\"\"\"\n",
    "X_train_subsampled, y_train_subsampled = subsample_data(X_train, y_train)\n",
    "X_valid_subsampled, y_valid_subsampled = subsample_data(X_valid, y_valid)\n",
    "X_test_subsampled, y_test_subsampled = subsample_data(X_test, y_test)"
   ]
  },
  {
   "cell_type": "code",
   "execution_count": 74,
   "metadata": {
    "collapsed": true
   },
   "outputs": [],
   "source": [
    "X_train_scaled, X_valid_scaled, X_test_scaled = normalize_features(X_train, X_valid, X_test)\n",
    "X_train_normalized, X_valid_normalized, X_test_normalized = normalize_features(X_train, X_valid, X_test,\n",
    "                                                                               normalizer=StandardScaler)"
   ]
  },
  {
   "cell_type": "code",
   "execution_count": 75,
   "metadata": {
    "collapsed": true
   },
   "outputs": [],
   "source": [
    "X_train_normalized_subsampled, y_train_subsampled = subsample_data(X_train_normalized, y_train)\n",
    "X_valid_normalized_subsampled, y_valid_subsampled = subsample_data(X_valid_normalized, y_valid)\n",
    "X_test_normalized_subsampled, y_test_subsampled = subsample_data(X_test_normalized, y_test)\n",
    "\n",
    "X_train_scaled_subsampled, y_train_subsampled = subsample_data(X_train_scaled, y_train)\n",
    "X_valid_scaled_subsampled, y_valid_subsampled = subsample_data(X_valid_scaled, y_valid)\n",
    "X_test_scaled_subsampled, y_test_subsampled = subsample_data(X_test_scaled, y_test)"
   ]
  },
  {
   "cell_type": "code",
   "execution_count": 123,
   "metadata": {
    "collapsed": true
   },
   "outputs": [],
   "source": [
    "dnn_normalized = LongRangeDNN(num_features=10, use_deep_CNN=True)"
   ]
  },
  {
   "cell_type": "code",
   "execution_count": 127,
   "metadata": {
    "collapsed": false,
    "scrolled": false
   },
   "outputs": [
    {
     "name": "stdout",
     "output_type": "stream",
     "text": [
      "Training model...\n",
      "Train on 121011 samples, validate on 74063 samples\n",
      "Epoch 1/100\n",
      "121011/121011 [==============================] - 1s - loss: 1.1073 - val_loss: 0.6387\n",
      "Epoch 0: validation loss: 0.639\n",
      "Balanced Accuracy: 65.53%\t auROC: 0.720\t auPRC: 0.214\t auPRG: 0.687\n",
      "Recall at 5%|10%|20% FDR: 0.1%|0.1%|1.0%\t Num Positives: 6733\t Num Negatives: 67330\t \n",
      "\n",
      "Epoch 2/100\n",
      "121011/121011 [==============================] - 0s - loss: 1.1034 - val_loss: 0.6187\n",
      "Epoch 1: validation loss: 0.619\n",
      "Balanced Accuracy: 66.24%\t auROC: 0.724\t auPRC: 0.216\t auPRG: 0.698\n",
      "Recall at 5%|10%|20% FDR: 0.0%|0.0%|0.8%\t Num Positives: 6733\t Num Negatives: 67330\t \n",
      "\n",
      "Epoch 3/100\n",
      "121011/121011 [==============================] - 0s - loss: 1.1007 - val_loss: 0.6382\n",
      "Epoch 2: validation loss: 0.638\n",
      "Balanced Accuracy: 65.95%\t auROC: 0.724\t auPRC: 0.216\t auPRG: 0.702\n",
      "Recall at 5%|10%|20% FDR: 0.0%|0.0%|0.6%\t Num Positives: 6733\t Num Negatives: 67330\t \n",
      "\n",
      "Epoch 4/100\n",
      "121011/121011 [==============================] - 0s - loss: 1.0980 - val_loss: 0.6223\n",
      "Epoch 3: validation loss: 0.622\n",
      "Balanced Accuracy: 65.70%\t auROC: 0.723\t auPRC: 0.221\t auPRG: 0.707\n",
      "Recall at 5%|10%|20% FDR: 0.0%|0.2%|1.5%\t Num Positives: 6733\t Num Negatives: 67330\t \n",
      "\n",
      "Epoch 5/100\n",
      "121011/121011 [==============================] - 0s - loss: 1.0991 - val_loss: 0.6604\n",
      "Epoch 4: validation loss: 0.660\n",
      "Balanced Accuracy: 66.07%\t auROC: 0.722\t auPRC: 0.218\t auPRG: 0.700\n",
      "Recall at 5%|10%|20% FDR: 0.0%|1.1%|1.4%\t Num Positives: 6733\t Num Negatives: 67330\t \n",
      "\n",
      "Epoch 6/100\n",
      "121011/121011 [==============================] - 0s - loss: 1.0947 - val_loss: 0.6207\n",
      "Epoch 5: validation loss: 0.621\n",
      "Balanced Accuracy: 65.65%\t auROC: 0.720\t auPRC: 0.210\t auPRG: 0.686\n",
      "Recall at 5%|10%|20% FDR: 0.0%|0.0%|0.7%\t Num Positives: 6733\t Num Negatives: 67330\t \n",
      "\n",
      "Epoch 7/100\n",
      "121011/121011 [==============================] - 0s - loss: 1.1018 - val_loss: 0.5894\n",
      "Epoch 6: validation loss: 0.589\n",
      "Balanced Accuracy: 66.29%\t auROC: 0.726\t auPRC: 0.220\t auPRG: 0.702\n",
      "Recall at 5%|10%|20% FDR: 0.1%|0.9%|1.4%\t Num Positives: 6733\t Num Negatives: 67330\t \n",
      "\n",
      "Epoch 8/100\n",
      "121011/121011 [==============================] - 0s - loss: 1.0932 - val_loss: 0.6368\n",
      "Epoch 7: validation loss: 0.637\n",
      "Balanced Accuracy: 66.04%\t auROC: 0.727\t auPRC: 0.224\t auPRG: 0.717\n",
      "Recall at 5%|10%|20% FDR: 0.0%|0.4%|1.0%\t Num Positives: 6733\t Num Negatives: 67330\t \n",
      "\n",
      "Epoch 9/100\n",
      "121011/121011 [==============================] - 0s - loss: 1.0900 - val_loss: 0.6303\n",
      "Epoch 8: validation loss: 0.630\n",
      "Balanced Accuracy: 65.97%\t auROC: 0.724\t auPRC: 0.222\t auPRG: 0.713\n",
      "Recall at 5%|10%|20% FDR: 0.0%|0.0%|0.9%\t Num Positives: 6733\t Num Negatives: 67330\t \n",
      "\n",
      "Epoch 10/100\n",
      "121011/121011 [==============================] - 0s - loss: 1.0934 - val_loss: 0.6120\n",
      "Epoch 9: validation loss: 0.612\n",
      "Balanced Accuracy: 66.32%\t auROC: 0.727\t auPRC: 0.218\t auPRG: 0.704\n",
      "Recall at 5%|10%|20% FDR: 0.0%|0.0%|1.1%\t Num Positives: 6733\t Num Negatives: 67330\t \n",
      "\n",
      "Epoch 11/100\n",
      "121011/121011 [==============================] - 0s - loss: 1.0853 - val_loss: 0.6147\n",
      "Epoch 10: validation loss: 0.615\n",
      "Balanced Accuracy: 66.41%\t auROC: 0.730\t auPRC: 0.226\t auPRG: 0.723\n",
      "Recall at 5%|10%|20% FDR: 0.0%|0.8%|1.2%\t Num Positives: 6733\t Num Negatives: 67330\t \n",
      "\n",
      "Epoch 12/100\n",
      "121011/121011 [==============================] - 0s - loss: 1.0820 - val_loss: 0.6505\n",
      "Epoch 11: validation loss: 0.651\n",
      "Balanced Accuracy: 66.60%\t auROC: 0.731\t auPRC: 0.225\t auPRG: 0.715\n",
      "Recall at 5%|10%|20% FDR: 0.0%|0.0%|1.0%\t Num Positives: 6733\t Num Negatives: 67330\t \n",
      "\n",
      "Epoch 13/100\n",
      "121011/121011 [==============================] - 0s - loss: 1.0811 - val_loss: 0.5930\n",
      "Epoch 12: validation loss: 0.593\n",
      "Balanced Accuracy: 66.95%\t auROC: 0.731\t auPRC: 0.224\t auPRG: 0.714\n",
      "Recall at 5%|10%|20% FDR: 0.0%|0.0%|1.2%\t Num Positives: 6733\t Num Negatives: 67330\t \n",
      "\n",
      "Epoch 14/100\n",
      "121011/121011 [==============================] - 0s - loss: 1.0804 - val_loss: 0.6272\n",
      "Epoch 13: validation loss: 0.627\n",
      "Balanced Accuracy: 66.57%\t auROC: 0.728\t auPRC: 0.223\t auPRG: 0.714\n",
      "Recall at 5%|10%|20% FDR: 0.0%|0.0%|0.9%\t Num Positives: 6733\t Num Negatives: 67330\t \n",
      "\n",
      "Epoch 15/100\n",
      "121011/121011 [==============================] - 0s - loss: 1.0778 - val_loss: 0.6350\n",
      "Epoch 14: validation loss: 0.635\n",
      "Balanced Accuracy: 66.41%\t auROC: 0.728\t auPRC: 0.220\t auPRG: 0.713\n",
      "Recall at 5%|10%|20% FDR: 0.0%|0.6%|1.0%\t Num Positives: 6733\t Num Negatives: 67330\t \n",
      "\n",
      "Epoch 16/100\n",
      "121011/121011 [==============================] - 0s - loss: 1.0793 - val_loss: 0.6442\n",
      "Epoch 15: validation loss: 0.644\n",
      "Balanced Accuracy: 66.42%\t auROC: 0.728\t auPRC: 0.220\t auPRG: 0.708\n",
      "Recall at 5%|10%|20% FDR: 0.0%|0.0%|0.6%\t Num Positives: 6733\t Num Negatives: 67330\t \n",
      "\n",
      "Epoch 17/100\n",
      "121011/121011 [==============================] - 0s - loss: 1.0784 - val_loss: 0.6103\n",
      "Epoch 16: validation loss: 0.610\n",
      "Balanced Accuracy: 66.61%\t auROC: 0.728\t auPRC: 0.224\t auPRG: 0.714\n",
      "Recall at 5%|10%|20% FDR: 0.0%|0.0%|1.1%\t Num Positives: 6733\t Num Negatives: 67330\t \n",
      "\n",
      "Epoch 18/100\n",
      "121011/121011 [==============================] - 0s - loss: 1.0744 - val_loss: 0.5878\n",
      "Epoch 17: validation loss: 0.588\n",
      "Balanced Accuracy: 66.59%\t auROC: 0.731\t auPRC: 0.224\t auPRG: 0.719\n",
      "Recall at 5%|10%|20% FDR: 0.1%|0.1%|1.2%\t Num Positives: 6733\t Num Negatives: 67330\t \n",
      "\n",
      "Epoch 19/100\n",
      "121011/121011 [==============================] - 0s - loss: 1.0723 - val_loss: 0.6598\n",
      "Epoch 18: validation loss: 0.660\n",
      "Balanced Accuracy: 66.09%\t auROC: 0.724\t auPRC: 0.220\t auPRG: 0.707\n",
      "Recall at 5%|10%|20% FDR: 0.0%|0.0%|1.3%\t Num Positives: 6733\t Num Negatives: 67330\t \n",
      "\n",
      "Epoch 20/100\n",
      "121011/121011 [==============================] - 0s - loss: 1.0745 - val_loss: 0.6134\n",
      "Epoch 19: validation loss: 0.613\n",
      "Balanced Accuracy: 66.94%\t auROC: 0.731\t auPRC: 0.221\t auPRG: 0.709\n",
      "Recall at 5%|10%|20% FDR: 0.0%|0.0%|1.1%\t Num Positives: 6733\t Num Negatives: 67330\t \n",
      "\n",
      "Epoch 21/100\n",
      "121011/121011 [==============================] - 0s - loss: 1.0657 - val_loss: 0.5829\n",
      "Epoch 20: validation loss: 0.583\n",
      "Balanced Accuracy: 66.95%\t auROC: 0.733\t auPRC: 0.226\t auPRG: 0.721\n",
      "Recall at 5%|10%|20% FDR: 0.0%|0.0%|1.4%\t Num Positives: 6733\t Num Negatives: 67330\t \n",
      "\n",
      "Epoch 22/100\n",
      "121011/121011 [==============================] - 0s - loss: 1.0673 - val_loss: 0.5778\n",
      "Epoch 21: validation loss: 0.578\n",
      "Balanced Accuracy: 66.66%\t auROC: 0.732\t auPRC: 0.228\t auPRG: 0.724\n",
      "Recall at 5%|10%|20% FDR: 0.0%|0.0%|1.3%\t Num Positives: 6733\t Num Negatives: 67330\t \n",
      "\n",
      "Epoch 23/100\n",
      "121011/121011 [==============================] - 0s - loss: 1.0854 - val_loss: 0.6347\n",
      "Epoch 22: validation loss: 0.635\n",
      "Balanced Accuracy: 66.63%\t auROC: 0.731\t auPRC: 0.222\t auPRG: 0.717\n",
      "Recall at 5%|10%|20% FDR: 0.0%|0.0%|1.0%\t Num Positives: 6733\t Num Negatives: 67330\t \n",
      "\n",
      "Epoch 24/100\n",
      "121011/121011 [==============================] - 0s - loss: 1.0661 - val_loss: 0.5844\n",
      "Epoch 23: validation loss: 0.584\n",
      "Balanced Accuracy: 66.65%\t auROC: 0.733\t auPRC: 0.229\t auPRG: 0.725\n",
      "Recall at 5%|10%|20% FDR: 0.0%|0.0%|1.5%\t Num Positives: 6733\t Num Negatives: 67330\t \n",
      "\n",
      "Epoch 25/100\n",
      "121011/121011 [==============================] - 0s - loss: 1.0616 - val_loss: 0.6125\n",
      "Epoch 24: validation loss: 0.613\n",
      "Balanced Accuracy: 67.10%\t auROC: 0.734\t auPRC: 0.225\t auPRG: 0.714\n",
      "Recall at 5%|10%|20% FDR: 0.0%|0.0%|0.9%\t Num Positives: 6733\t Num Negatives: 67330\t \n",
      "\n",
      "Epoch 26/100\n",
      "121011/121011 [==============================] - 0s - loss: 1.0647 - val_loss: 0.6157\n",
      "Epoch 25: validation loss: 0.616\n",
      "Balanced Accuracy: 66.39%\t auROC: 0.730\t auPRC: 0.224\t auPRG: 0.713\n",
      "Recall at 5%|10%|20% FDR: 0.0%|0.0%|1.3%\t Num Positives: 6733\t Num Negatives: 67330\t \n",
      "\n",
      "Epoch 27/100\n",
      "121011/121011 [==============================] - 0s - loss: 1.0577 - val_loss: 0.6018\n",
      "Epoch 26: validation loss: 0.602\n",
      "Balanced Accuracy: 66.58%\t auROC: 0.732\t auPRC: 0.232\t auPRG: 0.731\n",
      "Recall at 5%|10%|20% FDR: 0.0%|0.5%|1.6%\t Num Positives: 6733\t Num Negatives: 67330\t \n",
      "\n",
      "Epoch 28/100\n",
      "121011/121011 [==============================] - 0s - loss: 1.0587 - val_loss: 0.6554\n",
      "Epoch 27: validation loss: 0.655\n",
      "Balanced Accuracy: 66.83%\t auROC: 0.735\t auPRC: 0.224\t auPRG: 0.716\n",
      "Recall at 5%|10%|20% FDR: 0.0%|0.0%|0.2%\t Num Positives: 6733\t Num Negatives: 67330\t \n",
      "\n",
      "Epoch 29/100\n",
      "121011/121011 [==============================] - 0s - loss: 1.0561 - val_loss: 0.6294\n",
      "Epoch 28: validation loss: 0.629\n",
      "Balanced Accuracy: 66.63%\t auROC: 0.731\t auPRC: 0.223\t auPRG: 0.711\n",
      "Recall at 5%|10%|20% FDR: 0.0%|0.0%|1.3%\t Num Positives: 6733\t Num Negatives: 67330\t \n",
      "\n",
      "Epoch 30/100\n",
      "121011/121011 [==============================] - 0s - loss: 1.0596 - val_loss: 0.6544\n",
      "Epoch 29: validation loss: 0.654\n",
      "Balanced Accuracy: 66.38%\t auROC: 0.731\t auPRC: 0.226\t auPRG: 0.714\n",
      "Recall at 5%|10%|20% FDR: 0.0%|0.5%|1.2%\t Num Positives: 6733\t Num Negatives: 67330\t \n",
      "\n",
      "Epoch 31/100\n",
      "121011/121011 [==============================] - 0s - loss: 1.0633 - val_loss: 0.6158\n",
      "Epoch 30: validation loss: 0.616\n",
      "Balanced Accuracy: 66.36%\t auROC: 0.731\t auPRC: 0.228\t auPRG: 0.724\n",
      "Recall at 5%|10%|20% FDR: 0.0%|0.0%|1.5%\t Num Positives: 6733\t Num Negatives: 67330\t \n",
      "\n",
      "Epoch 32/100\n",
      "121011/121011 [==============================] - 0s - loss: 1.0548 - val_loss: 0.5875\n",
      "Epoch 31: validation loss: 0.587\n",
      "Balanced Accuracy: 66.51%\t auROC: 0.730\t auPRC: 0.223\t auPRG: 0.716\n",
      "Recall at 5%|10%|20% FDR: 0.0%|0.0%|0.9%\t Num Positives: 6733\t Num Negatives: 67330\t \n",
      "\n",
      "Epoch 33/100\n",
      "121011/121011 [==============================] - 0s - loss: 1.0532 - val_loss: 0.6057\n",
      "Epoch 32: validation loss: 0.606\n",
      "Balanced Accuracy: 66.89%\t auROC: 0.735\t auPRC: 0.228\t auPRG: 0.725\n",
      "Recall at 5%|10%|20% FDR: 0.0%|0.0%|1.0%\t Num Positives: 6733\t Num Negatives: 67330\t \n",
      "\n"
     ]
    }
   ],
   "source": [
    "validation_data = (X_valid_subsampled[:, :, :10, :], y_valid_subsampled)\n",
    "#validation_data = (X_test_normalized_subsampled[:, :, :10, :], y_test_subsampled)\n",
    "#validation_data = (X_test_subsampled[:, :, :10, :], y_test_subsampled)\n",
    "\n",
    "dnn_normalized.train(X_train_subsampled[:, :, :10, :], y_train_subsampled, validation_data)\n",
    "#dnn_normalized.train(X_test_normalized_subsampled[:, :, :10, :], y_test_subsampled, validation_data)\n",
    "#dnn_normalized.train(X_test_subsampled[:, :, :10, :], y_test_subsampled, validation_data)"
   ]
  },
  {
   "cell_type": "code",
   "execution_count": 128,
   "metadata": {
    "collapsed": false
   },
   "outputs": [
    {
     "name": "stdout",
     "output_type": "stream",
     "text": [
      "Balanced Accuracy: 66.48%\t auROC: 0.735\t auPRC: 0.030\t auPRG: 0.932\n",
      "Recall at 5%|10%|20% FDR: 0.0%|0.0%|0.0%\t Num Positives: 4467\t Num Negatives: 511505\t \n"
     ]
    }
   ],
   "source": [
    "print(dnn_normalized.test(X_test[:, :, :10, :], y_test))"
   ]
  },
  {
   "cell_type": "code",
   "execution_count": null,
   "metadata": {
    "collapsed": true
   },
   "outputs": [],
   "source": [
    "pred_probs = dnn_normalized.predict(X_test_normalized[:, :, :10, :])\n",
    "np.save(\"model_predictions/test_set_upperTriangle_noDiag_reads_without_distances.npy\", pred_probs)"
   ]
  },
  {
   "cell_type": "code",
   "execution_count": 113,
   "metadata": {
    "collapsed": false
   },
   "outputs": [
    {
     "name": "stdout",
     "output_type": "stream",
     "text": [
      "Balanced Accuracy: 64.36%\t auROC: 0.696\t auPRC: 0.021\t auPRG: 0.855\n",
      "Recall at 5%|10%|20% FDR: 0.0%|0.0%|0.0%\t Num Positives: 6733\t Num Negatives: 767223\t \n"
     ]
    }
   ],
   "source": [
    "print(dnn_normalized.test(X_valid[:, :, :10, :], y_valid))"
   ]
  },
  {
   "cell_type": "code",
   "execution_count": 105,
   "metadata": {
    "collapsed": false
   },
   "outputs": [
    {
     "name": "stdout",
     "output_type": "stream",
     "text": [
      "Balanced Accuracy: 64.16%\t auROC: 0.696\t auPRC: 0.018\t auPRG: 0.809\n",
      "Recall at 5%|10%|20% FDR: 0.0%|0.0%|0.0%\t Num Positives: 11001\t Num Negatives: 1278927\t \n"
     ]
    }
   ],
   "source": [
    "print(dnn_normalized.test(X_train[:, :, :10, :], y_train))"
   ]
  },
  {
   "cell_type": "code",
   "execution_count": 51,
   "metadata": {
    "collapsed": false
   },
   "outputs": [
    {
     "name": "stdout",
     "output_type": "stream",
     "text": [
      "Training model...\n",
      "Train on 1289928 samples, validate on 773956 samples\n",
      "Epoch 1/100\n",
      " 548750/1289928 [===========>..................] - ETA: 4s - loss: 1.1940"
     ]
    },
    {
     "ename": "KeyboardInterrupt",
     "evalue": "",
     "output_type": "error",
     "traceback": [
      "\u001b[1;31m---------------------------------------------------------------------------\u001b[0m",
      "\u001b[1;31mKeyboardInterrupt\u001b[0m                         Traceback (most recent call last)",
      "\u001b[1;32m<ipython-input-51-d2f94ff1b4ef>\u001b[0m in \u001b[0;36m<module>\u001b[1;34m()\u001b[0m\n\u001b[0;32m      1\u001b[0m dnn_normalized.train(X_train_normalized[:, :, :10, :], y_train,\n\u001b[1;32m----> 2\u001b[1;33m                      (X_valid_normalized[:, :, :10, :], y_valid))\n\u001b[0m",
      "\u001b[1;32m<ipython-input-48-3af4ebd2251f>\u001b[0m in \u001b[0;36mtrain\u001b[1;34m(self, X, y, validation_data)\u001b[0m\n\u001b[0;32m     55\u001b[0m                           False: num_sequences / num_negatives}\n\u001b[0;32m     56\u001b[0m             \u001b[1;32mif\u001b[0m \u001b[1;32mnot\u001b[0m \u001b[0mmultitask\u001b[0m \u001b[1;32melse\u001b[0m \u001b[0mNone\u001b[0m\u001b[1;33m,\u001b[0m\u001b[1;33m\u001b[0m\u001b[0m\n\u001b[1;32m---> 57\u001b[1;33m             callbacks=self.callbacks, verbose=self.verbose >= 2)\n\u001b[0m\u001b[0;32m     58\u001b[0m         \u001b[0mself\u001b[0m\u001b[1;33m.\u001b[0m\u001b[0mtrain_losses\u001b[0m \u001b[1;33m=\u001b[0m \u001b[0mself\u001b[0m\u001b[1;33m.\u001b[0m\u001b[0mcallbacks\u001b[0m\u001b[1;33m[\u001b[0m\u001b[1;33m-\u001b[0m\u001b[1;36m1\u001b[0m\u001b[1;33m]\u001b[0m\u001b[1;33m.\u001b[0m\u001b[0mtrain_losses\u001b[0m\u001b[1;33m\u001b[0m\u001b[0m\n\u001b[0;32m     59\u001b[0m         \u001b[0mself\u001b[0m\u001b[1;33m.\u001b[0m\u001b[0mvalid_losses\u001b[0m \u001b[1;33m=\u001b[0m \u001b[0mself\u001b[0m\u001b[1;33m.\u001b[0m\u001b[0mcallbacks\u001b[0m\u001b[1;33m[\u001b[0m\u001b[1;33m-\u001b[0m\u001b[1;36m1\u001b[0m\u001b[1;33m]\u001b[0m\u001b[1;33m.\u001b[0m\u001b[0mvalid_losses\u001b[0m\u001b[1;33m\u001b[0m\u001b[0m\n",
      "\u001b[1;32m/users/jisraeli/local/anaconda/lib/python2.7/site-packages/Keras-0.3.2-py2.7.egg/keras/models.pyc\u001b[0m in \u001b[0;36mfit\u001b[1;34m(self, X, y, batch_size, nb_epoch, verbose, callbacks, validation_split, validation_data, shuffle, show_accuracy, class_weight, sample_weight)\u001b[0m\n\u001b[0;32m    644\u001b[0m                          \u001b[0mverbose\u001b[0m\u001b[1;33m=\u001b[0m\u001b[0mverbose\u001b[0m\u001b[1;33m,\u001b[0m \u001b[0mcallbacks\u001b[0m\u001b[1;33m=\u001b[0m\u001b[0mcallbacks\u001b[0m\u001b[1;33m,\u001b[0m\u001b[1;33m\u001b[0m\u001b[0m\n\u001b[0;32m    645\u001b[0m                          \u001b[0mval_f\u001b[0m\u001b[1;33m=\u001b[0m\u001b[0mval_f\u001b[0m\u001b[1;33m,\u001b[0m \u001b[0mval_ins\u001b[0m\u001b[1;33m=\u001b[0m\u001b[0mval_ins\u001b[0m\u001b[1;33m,\u001b[0m\u001b[1;33m\u001b[0m\u001b[0m\n\u001b[1;32m--> 646\u001b[1;33m                          shuffle=shuffle, metrics=metrics)\n\u001b[0m\u001b[0;32m    647\u001b[0m \u001b[1;33m\u001b[0m\u001b[0m\n\u001b[0;32m    648\u001b[0m     \u001b[1;32mdef\u001b[0m \u001b[0mpredict\u001b[0m\u001b[1;33m(\u001b[0m\u001b[0mself\u001b[0m\u001b[1;33m,\u001b[0m \u001b[0mX\u001b[0m\u001b[1;33m,\u001b[0m \u001b[0mbatch_size\u001b[0m\u001b[1;33m=\u001b[0m\u001b[1;36m128\u001b[0m\u001b[1;33m,\u001b[0m \u001b[0mverbose\u001b[0m\u001b[1;33m=\u001b[0m\u001b[1;36m0\u001b[0m\u001b[1;33m)\u001b[0m\u001b[1;33m:\u001b[0m\u001b[1;33m\u001b[0m\u001b[0m\n",
      "\u001b[1;32m/users/jisraeli/local/anaconda/lib/python2.7/site-packages/Keras-0.3.2-py2.7.egg/keras/models.pyc\u001b[0m in \u001b[0;36m_fit\u001b[1;34m(self, f, ins, out_labels, batch_size, nb_epoch, verbose, callbacks, val_f, val_ins, shuffle, metrics)\u001b[0m\n\u001b[0;32m    278\u001b[0m                 \u001b[0mbatch_logs\u001b[0m\u001b[1;33m[\u001b[0m\u001b[1;34m'size'\u001b[0m\u001b[1;33m]\u001b[0m \u001b[1;33m=\u001b[0m \u001b[0mlen\u001b[0m\u001b[1;33m(\u001b[0m\u001b[0mbatch_ids\u001b[0m\u001b[1;33m)\u001b[0m\u001b[1;33m\u001b[0m\u001b[0m\n\u001b[0;32m    279\u001b[0m                 \u001b[0mcallbacks\u001b[0m\u001b[1;33m.\u001b[0m\u001b[0mon_batch_begin\u001b[0m\u001b[1;33m(\u001b[0m\u001b[0mbatch_index\u001b[0m\u001b[1;33m,\u001b[0m \u001b[0mbatch_logs\u001b[0m\u001b[1;33m)\u001b[0m\u001b[1;33m\u001b[0m\u001b[0m\n\u001b[1;32m--> 280\u001b[1;33m                 \u001b[0mouts\u001b[0m \u001b[1;33m=\u001b[0m \u001b[0mf\u001b[0m\u001b[1;33m(\u001b[0m\u001b[0mins_batch\u001b[0m\u001b[1;33m)\u001b[0m\u001b[1;33m\u001b[0m\u001b[0m\n\u001b[0m\u001b[0;32m    281\u001b[0m                 \u001b[1;32mif\u001b[0m \u001b[0mtype\u001b[0m\u001b[1;33m(\u001b[0m\u001b[0mouts\u001b[0m\u001b[1;33m)\u001b[0m \u001b[1;33m!=\u001b[0m \u001b[0mlist\u001b[0m\u001b[1;33m:\u001b[0m\u001b[1;33m\u001b[0m\u001b[0m\n\u001b[0;32m    282\u001b[0m                     \u001b[0mouts\u001b[0m \u001b[1;33m=\u001b[0m \u001b[1;33m[\u001b[0m\u001b[0mouts\u001b[0m\u001b[1;33m]\u001b[0m\u001b[1;33m\u001b[0m\u001b[0m\n",
      "\u001b[1;32m/users/jisraeli/local/anaconda/lib/python2.7/site-packages/Keras-0.3.2-py2.7.egg/keras/backend/theano_backend.pyc\u001b[0m in \u001b[0;36m__call__\u001b[1;34m(self, inputs)\u001b[0m\n\u001b[0;32m    382\u001b[0m     \u001b[1;32mdef\u001b[0m \u001b[0m__call__\u001b[0m\u001b[1;33m(\u001b[0m\u001b[0mself\u001b[0m\u001b[1;33m,\u001b[0m \u001b[0minputs\u001b[0m\u001b[1;33m)\u001b[0m\u001b[1;33m:\u001b[0m\u001b[1;33m\u001b[0m\u001b[0m\n\u001b[0;32m    383\u001b[0m         \u001b[1;32massert\u001b[0m \u001b[0mtype\u001b[0m\u001b[1;33m(\u001b[0m\u001b[0minputs\u001b[0m\u001b[1;33m)\u001b[0m \u001b[1;32min\u001b[0m \u001b[1;33m{\u001b[0m\u001b[0mlist\u001b[0m\u001b[1;33m,\u001b[0m \u001b[0mtuple\u001b[0m\u001b[1;33m}\u001b[0m\u001b[1;33m\u001b[0m\u001b[0m\n\u001b[1;32m--> 384\u001b[1;33m         \u001b[1;32mreturn\u001b[0m \u001b[0mself\u001b[0m\u001b[1;33m.\u001b[0m\u001b[0mfunction\u001b[0m\u001b[1;33m(\u001b[0m\u001b[1;33m*\u001b[0m\u001b[0minputs\u001b[0m\u001b[1;33m)\u001b[0m\u001b[1;33m\u001b[0m\u001b[0m\n\u001b[0m\u001b[0;32m    385\u001b[0m \u001b[1;33m\u001b[0m\u001b[0m\n\u001b[0;32m    386\u001b[0m \u001b[1;33m\u001b[0m\u001b[0m\n",
      "\u001b[1;32m/users/jisraeli/local/anaconda/lib/python2.7/site-packages/theano/compile/function_module.pyc\u001b[0m in \u001b[0;36m__call__\u001b[1;34m(self, *args, **kwargs)\u001b[0m\n\u001b[0;32m    938\u001b[0m                     \u001b[0mo_container\u001b[0m\u001b[1;33m.\u001b[0m\u001b[0mstorage\u001b[0m\u001b[1;33m[\u001b[0m\u001b[1;36m0\u001b[0m\u001b[1;33m]\u001b[0m \u001b[1;33m=\u001b[0m \u001b[0mNone\u001b[0m\u001b[1;33m\u001b[0m\u001b[0m\n\u001b[0;32m    939\u001b[0m \u001b[1;33m\u001b[0m\u001b[0m\n\u001b[1;32m--> 940\u001b[1;33m         \u001b[1;32mif\u001b[0m \u001b[0mgetattr\u001b[0m\u001b[1;33m(\u001b[0m\u001b[0mself\u001b[0m\u001b[1;33m.\u001b[0m\u001b[0mfn\u001b[0m\u001b[1;33m,\u001b[0m \u001b[1;34m'need_update_inputs'\u001b[0m\u001b[1;33m,\u001b[0m \u001b[0mTrue\u001b[0m\u001b[1;33m)\u001b[0m\u001b[1;33m:\u001b[0m\u001b[1;33m\u001b[0m\u001b[0m\n\u001b[0m\u001b[0;32m    941\u001b[0m             \u001b[1;31m# Update the inputs that have an update function\u001b[0m\u001b[1;33m\u001b[0m\u001b[1;33m\u001b[0m\u001b[0m\n\u001b[0;32m    942\u001b[0m             for input, storage in reversed(list(zip(self.maker.expanded_inputs,\n",
      "\u001b[1;31mKeyboardInterrupt\u001b[0m: "
     ]
    }
   ],
   "source": [
    "dnn_normalized.train(X_train_normalized[:, :, :10, :], y_train,\n",
    "                     (X_valid_normalized[:, :, :10, :], y_valid))"
   ]
  },
  {
   "cell_type": "code",
   "execution_count": 52,
   "metadata": {
    "collapsed": false
   },
   "outputs": [
    {
     "name": "stdout",
     "output_type": "stream",
     "text": [
      "reads_normalized_full_result...\n",
      "Balanced Accuracy: 65.52%\t auROC: 0.718\t auPRC: 0.022\t auPRG: 0.840\n",
      "Recall at 5%|10%|20% FDR: 0.0%|0.0%|0.0%\t Num Positives: 6733\t Num Negatives: 767223\t \n"
     ]
    }
   ],
   "source": [
    "reads_normalized_full_result = dnn_normalized.test(X_valid_normalized[:, :, :10, :], y_valid)\n",
    "print(\"reads_normalized_full_result...\")\n",
    "print(reads_normalized_full_result)"
   ]
  },
  {
   "cell_type": "code",
   "execution_count": 54,
   "metadata": {
    "collapsed": false
   },
   "outputs": [
    {
     "name": "stdout",
     "output_type": "stream",
     "text": [
      "reads_normalized_full_test_result...\n",
      "Balanced Accuracy: 50.87%\t auROC: 0.510\t auPRC: 0.222\t auPRG: -0.013\n",
      "Recall at 5%|10%|20% FDR: 0.0%|0.0%|0.0%\t Num Positives: 4467\t Num Negatives: 511505\t \n"
     ]
    }
   ],
   "source": [
    "reads_normalized_full_test_result = dnn_normalized.test(X_test_normalized[:, :, :10, :], y_test)\n",
    "print(\"reads_normalized_full_test_result...\")\n",
    "print(reads_normalized_full_test_result)"
   ]
  },
  {
   "cell_type": "code",
   "execution_count": 56,
   "metadata": {
    "collapsed": false
   },
   "outputs": [],
   "source": [
    "pred_probs = dnn_normalized.predict(X_test_normalized[:, :, :10, :])\n",
    "np.save(\"model_predictions/test_set_upperTriangle_noDiag_reads_without_distances.npy\", pred_probs)"
   ]
  },
  {
   "cell_type": "code",
   "execution_count": 60,
   "metadata": {
    "collapsed": false
   },
   "outputs": [],
   "source": []
  },
  {
   "cell_type": "code",
   "execution_count": 12,
   "metadata": {
    "collapsed": true
   },
   "outputs": [],
   "source": [
    "dnn_scaled = LongRangeDNN(num_features=10, use_deep_CNN=True)"
   ]
  },
  {
   "cell_type": "code",
   "execution_count": 15,
   "metadata": {
    "collapsed": false
   },
   "outputs": [
    {
     "name": "stdout",
     "output_type": "stream",
     "text": [
      "Training model...\n",
      "Train on 256685 samples, validate on 153131 samples\n",
      "Epoch 1/100\n",
      "256685/256685 [==============================] - 3s - loss: 1.1474 - val_loss: 0.5901\n",
      "Epoch 0: validation loss: 0.590\n",
      "Balanced Accuracy: 67.81%\t auROC: 0.751\t auPRC: 0.236\t auPRG: 0.749\n",
      "Recall at 5%|10%|20% FDR: 0.1%|0.1%|0.3%\t Num Positives: 13921\t Num Negatives: 139210\t \n",
      "\n",
      "Epoch 2/100\n",
      "256685/256685 [==============================] - 3s - loss: 1.1404 - val_loss: 0.5817\n",
      "Epoch 1: validation loss: 0.582\n",
      "Balanced Accuracy: 68.00%\t auROC: 0.753\t auPRC: 0.241\t auPRG: 0.753\n",
      "Recall at 5%|10%|20% FDR: 0.1%|0.1%|0.4%\t Num Positives: 13921\t Num Negatives: 139210\t \n",
      "\n",
      "Epoch 3/100\n",
      "256685/256685 [==============================] - 3s - loss: 1.1364 - val_loss: 0.5742\n",
      "Epoch 2: validation loss: 0.574\n",
      "Balanced Accuracy: 67.64%\t auROC: 0.749\t auPRC: 0.239\t auPRG: 0.752\n",
      "Recall at 5%|10%|20% FDR: 0.1%|0.1%|0.4%\t Num Positives: 13921\t Num Negatives: 139210\t \n",
      "\n",
      "Epoch 4/100\n",
      "256685/256685 [==============================] - 3s - loss: 1.1307 - val_loss: 0.5865\n",
      "Epoch 3: validation loss: 0.586\n",
      "Balanced Accuracy: 67.61%\t auROC: 0.750\t auPRC: 0.241\t auPRG: 0.752\n",
      "Recall at 5%|10%|20% FDR: 0.1%|0.2%|0.4%\t Num Positives: 13921\t Num Negatives: 139210\t \n",
      "\n",
      "Epoch 5/100\n",
      "256685/256685 [==============================] - 3s - loss: 1.1252 - val_loss: 0.5888\n",
      "Epoch 4: validation loss: 0.589\n",
      "Balanced Accuracy: 68.30%\t auROC: 0.756\t auPRC: 0.247\t auPRG: 0.764\n",
      "Recall at 5%|10%|20% FDR: 0.0%|0.0%|0.2%\t Num Positives: 13921\t Num Negatives: 139210\t \n",
      "\n",
      "Epoch 6/100\n",
      "256685/256685 [==============================] - 3s - loss: 1.1208 - val_loss: 0.5679\n",
      "Epoch 5: validation loss: 0.568\n",
      "Balanced Accuracy: 68.65%\t auROC: 0.761\t auPRC: 0.248\t auPRG: 0.766\n",
      "Recall at 5%|10%|20% FDR: 0.0%|0.5%|1.0%\t Num Positives: 13921\t Num Negatives: 139210\t \n",
      "\n",
      "Epoch 7/100\n",
      "256685/256685 [==============================] - 3s - loss: 1.1169 - val_loss: 0.5677\n",
      "Epoch 6: validation loss: 0.568\n",
      "Balanced Accuracy: 68.83%\t auROC: 0.763\t auPRC: 0.255\t auPRG: 0.775\n",
      "Recall at 5%|10%|20% FDR: 0.1%|0.1%|0.9%\t Num Positives: 13921\t Num Negatives: 139210\t \n",
      "\n",
      "Epoch 8/100\n",
      "256685/256685 [==============================] - 3s - loss: 1.1112 - val_loss: 0.5554\n",
      "Epoch 7: validation loss: 0.555\n",
      "Balanced Accuracy: 69.13%\t auROC: 0.767\t auPRC: 0.261\t auPRG: 0.785\n",
      "Recall at 5%|10%|20% FDR: 0.0%|0.2%|0.6%\t Num Positives: 13921\t Num Negatives: 139210\t \n",
      "\n",
      "Epoch 9/100\n",
      "256685/256685 [==============================] - 3s - loss: 1.1087 - val_loss: 0.5913\n",
      "Epoch 8: validation loss: 0.591\n",
      "Balanced Accuracy: 69.25%\t auROC: 0.767\t auPRC: 0.257\t auPRG: 0.780\n",
      "Recall at 5%|10%|20% FDR: 0.0%|0.0%|0.8%\t Num Positives: 13921\t Num Negatives: 139210\t \n",
      "\n",
      "Epoch 10/100\n",
      "256685/256685 [==============================] - 3s - loss: 1.1030 - val_loss: 0.5888\n",
      "Epoch 9: validation loss: 0.589\n",
      "Balanced Accuracy: 69.03%\t auROC: 0.763\t auPRC: 0.252\t auPRG: 0.770\n",
      "Recall at 5%|10%|20% FDR: 0.0%|0.0%|0.1%\t Num Positives: 13921\t Num Negatives: 139210\t \n",
      "\n",
      "Epoch 11/100\n",
      "256685/256685 [==============================] - 3s - loss: 1.1005 - val_loss: 0.5192\n",
      "Epoch 10: validation loss: 0.519\n",
      "Balanced Accuracy: 68.66%\t auROC: 0.766\t auPRC: 0.254\t auPRG: 0.773\n",
      "Recall at 5%|10%|20% FDR: 0.0%|0.0%|0.4%\t Num Positives: 13921\t Num Negatives: 139210\t \n",
      "\n",
      "Epoch 12/100\n",
      "256685/256685 [==============================] - 3s - loss: 1.0973 - val_loss: 0.5927\n",
      "Epoch 11: validation loss: 0.593\n",
      "Balanced Accuracy: 69.35%\t auROC: 0.768\t auPRC: 0.255\t auPRG: 0.778\n",
      "Recall at 5%|10%|20% FDR: 0.0%|0.0%|0.1%\t Num Positives: 13921\t Num Negatives: 139210\t \n",
      "\n",
      "Epoch 13/100\n",
      "256685/256685 [==============================] - 3s - loss: 1.0942 - val_loss: 0.5378\n",
      "Epoch 12: validation loss: 0.538\n",
      "Balanced Accuracy: 69.23%\t auROC: 0.769\t auPRC: 0.263\t auPRG: 0.789\n",
      "Recall at 5%|10%|20% FDR: 0.0%|0.0%|0.2%\t Num Positives: 13921\t Num Negatives: 139210\t \n",
      "\n",
      "Epoch 14/100\n",
      "256685/256685 [==============================] - 3s - loss: 1.0906 - val_loss: 0.5866\n",
      "Epoch 13: validation loss: 0.587\n",
      "Balanced Accuracy: 69.62%\t auROC: 0.773\t auPRC: 0.266\t auPRG: 0.794\n",
      "Recall at 5%|10%|20% FDR: 0.0%|0.1%|0.5%\t Num Positives: 13921\t Num Negatives: 139210\t \n",
      "\n",
      "Epoch 15/100\n",
      "256685/256685 [==============================] - 3s - loss: 1.0892 - val_loss: 0.5547\n",
      "Epoch 14: validation loss: 0.555\n",
      "Balanced Accuracy: 69.63%\t auROC: 0.772\t auPRC: 0.264\t auPRG: 0.794\n",
      "Recall at 5%|10%|20% FDR: 0.0%|0.0%|0.3%\t Num Positives: 13921\t Num Negatives: 139210\t \n",
      "\n",
      "Epoch 16/100\n",
      "256685/256685 [==============================] - 3s - loss: 1.0863 - val_loss: 0.5323\n",
      "Epoch 15: validation loss: 0.532\n",
      "Balanced Accuracy: 68.62%\t auROC: 0.766\t auPRC: 0.256\t auPRG: 0.778\n",
      "Recall at 5%|10%|20% FDR: 0.0%|0.1%|0.2%\t Num Positives: 13921\t Num Negatives: 139210\t \n",
      "\n",
      "Epoch 17/100\n",
      "256685/256685 [==============================] - 3s - loss: 1.0826 - val_loss: 0.5731\n",
      "Epoch 16: validation loss: 0.573\n",
      "Balanced Accuracy: 69.44%\t auROC: 0.772\t auPRC: 0.266\t auPRG: 0.795\n",
      "Recall at 5%|10%|20% FDR: 0.0%|0.0%|0.4%\t Num Positives: 13921\t Num Negatives: 139210\t \n",
      "\n"
     ]
    }
   ],
   "source": [
    "reads_scaled_validation_data = (X_valid_scaled_subsampled[:, :, :10, :], y_valid_subsampled)\n",
    "dnn_scaled.train(X_train_scaled_subsampled[:, :, :10, :], y_train_subsampled, reads_scaled_validation_data)"
   ]
  },
  {
   "cell_type": "code",
   "execution_count": 43,
   "metadata": {
    "collapsed": true
   },
   "outputs": [],
   "source": [
    "X_train_scaled, X_test_scaled = normalize_features(X_train, X_test)"
   ]
  },
  {
   "cell_type": "code",
   "execution_count": 44,
   "metadata": {
    "collapsed": false
   },
   "outputs": [
    {
     "name": "stdout",
     "output_type": "stream",
     "text": [
      "reads_scaled_full_test_result...\n",
      "Balanced Accuracy: 55.85%\t auROC: 0.562\t auPRC: 0.119\t auPRG: -0.127\n",
      "Recall at 5%|10%|20% FDR: 0.0%|0.0%|0.0%\t Num Positives: 9418\t Num Negatives: 1022979\t \n"
     ]
    }
   ],
   "source": [
    "reads_scaled_full_test_result = dnn_scaled.test(X_test_scaled[:, :, :10, :], y_test)\n",
    "print(\"reads_scaled_full_test_result...\")\n",
    "print(reads_scaled_full_test_result)"
   ]
  },
  {
   "cell_type": "code",
   "execution_count": 77,
   "metadata": {
    "collapsed": true
   },
   "outputs": [],
   "source": [
    "X_train_normalized_2, X_valid_normalized_2 = normalize_features(X_train, X_valid, normalizer=StandardScaler)"
   ]
  },
  {
   "cell_type": "code",
   "execution_count": 78,
   "metadata": {
    "collapsed": true
   },
   "outputs": [],
   "source": [
    "X_train_subsampled_2, y_train_subsampled_2 = subsample_data(X_train_normalized_2, y_train)\n",
    "X_valid_subsampled_2, y_valid_subsampled_2 = subsample_data(X_valid_normalized_2, y_valid)"
   ]
  },
  {
   "cell_type": "code",
   "execution_count": 88,
   "metadata": {
    "collapsed": true
   },
   "outputs": [],
   "source": [
    "dnn_normalized_2 = LongRangeDNN(num_features=10, use_deep_CNN=True)"
   ]
  },
  {
   "cell_type": "code",
   "execution_count": 89,
   "metadata": {
    "collapsed": false
   },
   "outputs": [
    {
     "name": "stdout",
     "output_type": "stream",
     "text": [
      "Training model...\n",
      "Train on 153428 samples, validate on 153428 samples\n",
      "Epoch 1/100\n",
      "153428/153428 [==============================] - 2s - loss: 1.3800 - val_loss: 0.6948\n",
      "Epoch 0: validation loss: 0.695\n",
      "Balanced Accuracy: 56.34%\t auROC: 0.587\t auPRC: 0.126\t auPRG: 0.408\n",
      "Recall at 5%|10%|20% FDR: 0.0%|0.0%|0.0%\t Num Positives: 13948\t Num Negatives: 139480\t \n",
      "\n",
      "Epoch 2/100\n",
      "153428/153428 [==============================] - 2s - loss: 1.3605 - val_loss: 0.6620\n",
      "Epoch 1: validation loss: 0.662\n",
      "Balanced Accuracy: 58.22%\t auROC: 0.610\t auPRC: 0.139\t auPRG: 0.480\n",
      "Recall at 5%|10%|20% FDR: 0.0%|0.0%|0.0%\t Num Positives: 13948\t Num Negatives: 139480\t \n",
      "\n",
      "Epoch 3/100\n",
      "153428/153428 [==============================] - 2s - loss: 1.3474 - val_loss: 0.6812\n",
      "Epoch 2: validation loss: 0.681\n",
      "Balanced Accuracy: 58.77%\t auROC: 0.621\t auPRC: 0.145\t auPRG: 0.513\n",
      "Recall at 5%|10%|20% FDR: 0.0%|0.0%|0.0%\t Num Positives: 13948\t Num Negatives: 139480\t \n",
      "\n",
      "Epoch 4/100\n",
      "153428/153428 [==============================] - 2s - loss: 1.3401 - val_loss: 0.6566\n",
      "Epoch 3: validation loss: 0.657\n",
      "Balanced Accuracy: 59.35%\t auROC: 0.631\t auPRC: 0.149\t auPRG: 0.526\n",
      "Recall at 5%|10%|20% FDR: 0.0%|0.0%|0.0%\t Num Positives: 13948\t Num Negatives: 139480\t \n",
      "\n",
      "Epoch 5/100\n",
      "153428/153428 [==============================] - 2s - loss: 1.3340 - val_loss: 0.6692\n",
      "Epoch 4: validation loss: 0.669\n",
      "Balanced Accuracy: 59.58%\t auROC: 0.635\t auPRC: 0.153\t auPRG: 0.547\n",
      "Recall at 5%|10%|20% FDR: 0.0%|0.0%|0.0%\t Num Positives: 13948\t Num Negatives: 139480\t \n",
      "\n",
      "Epoch 6/100\n",
      "153428/153428 [==============================] - 2s - loss: 1.3289 - val_loss: 0.6911\n",
      "Epoch 5: validation loss: 0.691\n",
      "Balanced Accuracy: 59.85%\t auROC: 0.643\t auPRC: 0.157\t auPRG: 0.566\n",
      "Recall at 5%|10%|20% FDR: 0.0%|0.0%|0.0%\t Num Positives: 13948\t Num Negatives: 139480\t \n",
      "\n",
      "Epoch 7/100\n",
      "153428/153428 [==============================] - 2s - loss: 1.3249 - val_loss: 0.6155\n",
      "Epoch 6: validation loss: 0.616\n",
      "Balanced Accuracy: 60.14%\t auROC: 0.646\t auPRC: 0.160\t auPRG: 0.567\n",
      "Recall at 5%|10%|20% FDR: 0.0%|0.0%|0.0%\t Num Positives: 13948\t Num Negatives: 139480\t \n",
      "\n",
      "Epoch 8/100\n",
      "153428/153428 [==============================] - 2s - loss: 1.3195 - val_loss: 0.6048\n",
      "Epoch 7: validation loss: 0.605\n",
      "Balanced Accuracy: 59.91%\t auROC: 0.644\t auPRC: 0.159\t auPRG: 0.569\n",
      "Recall at 5%|10%|20% FDR: 0.0%|0.0%|0.0%\t Num Positives: 13948\t Num Negatives: 139480\t \n",
      "\n",
      "Epoch 9/100\n",
      "153428/153428 [==============================] - 2s - loss: 1.3166 - val_loss: 0.6436\n",
      "Epoch 8: validation loss: 0.644\n",
      "Balanced Accuracy: 61.08%\t auROC: 0.656\t auPRC: 0.165\t auPRG: 0.590\n",
      "Recall at 5%|10%|20% FDR: 0.0%|0.0%|0.0%\t Num Positives: 13948\t Num Negatives: 139480\t \n",
      "\n",
      "Epoch 10/100\n",
      "153428/153428 [==============================] - 2s - loss: 1.3115 - val_loss: 0.6262\n",
      "Epoch 9: validation loss: 0.626\n",
      "Balanced Accuracy: 61.30%\t auROC: 0.658\t auPRC: 0.167\t auPRG: 0.600\n",
      "Recall at 5%|10%|20% FDR: 0.0%|0.0%|0.0%\t Num Positives: 13948\t Num Negatives: 139480\t \n",
      "\n",
      "Epoch 11/100\n",
      "153428/153428 [==============================] - 2s - loss: 1.3070 - val_loss: 0.6243\n",
      "Epoch 10: validation loss: 0.624\n",
      "Balanced Accuracy: 60.82%\t auROC: 0.658\t auPRC: 0.167\t auPRG: 0.601\n",
      "Recall at 5%|10%|20% FDR: 0.0%|0.0%|0.0%\t Num Positives: 13948\t Num Negatives: 139480\t \n",
      "\n",
      "Epoch 12/100\n",
      "153428/153428 [==============================] - 2s - loss: 1.3045 - val_loss: 0.6732\n",
      "Epoch 11: validation loss: 0.673\n",
      "Balanced Accuracy: 62.03%\t auROC: 0.668\t auPRC: 0.172\t auPRG: 0.619\n",
      "Recall at 5%|10%|20% FDR: 0.0%|0.0%|0.0%\t Num Positives: 13948\t Num Negatives: 139480\t \n",
      "\n",
      "Epoch 13/100\n",
      "153428/153428 [==============================] - 2s - loss: 1.3009 - val_loss: 0.6326\n",
      "Epoch 12: validation loss: 0.633\n",
      "Balanced Accuracy: 61.82%\t auROC: 0.668\t auPRC: 0.172\t auPRG: 0.614\n",
      "Recall at 5%|10%|20% FDR: 0.0%|0.0%|0.0%\t Num Positives: 13948\t Num Negatives: 139480\t \n",
      "\n",
      "Epoch 14/100\n",
      "153428/153428 [==============================] - 2s - loss: 1.2980 - val_loss: 0.6342\n",
      "Epoch 13: validation loss: 0.634\n",
      "Balanced Accuracy: 62.10%\t auROC: 0.672\t auPRC: 0.176\t auPRG: 0.631\n",
      "Recall at 5%|10%|20% FDR: 0.0%|0.0%|0.0%\t Num Positives: 13948\t Num Negatives: 139480\t \n",
      "\n",
      "Epoch 15/100\n",
      "153428/153428 [==============================] - 2s - loss: 1.2939 - val_loss: 0.6166\n",
      "Epoch 14: validation loss: 0.617\n",
      "Balanced Accuracy: 62.18%\t auROC: 0.675\t auPRC: 0.178\t auPRG: 0.635\n",
      "Recall at 5%|10%|20% FDR: 0.0%|0.0%|0.0%\t Num Positives: 13948\t Num Negatives: 139480\t \n",
      "\n",
      "Epoch 16/100\n",
      "153428/153428 [==============================] - 2s - loss: 1.2905 - val_loss: 0.6474\n",
      "Epoch 15: validation loss: 0.647\n",
      "Balanced Accuracy: 62.54%\t auROC: 0.677\t auPRC: 0.180\t auPRG: 0.640\n",
      "Recall at 5%|10%|20% FDR: 0.0%|0.0%|0.0%\t Num Positives: 13948\t Num Negatives: 139480\t \n",
      "\n",
      "Epoch 17/100\n",
      "153428/153428 [==============================] - 2s - loss: 1.2869 - val_loss: 0.6511\n",
      "Epoch 16: validation loss: 0.651\n",
      "Balanced Accuracy: 62.92%\t auROC: 0.682\t auPRC: 0.182\t auPRG: 0.643\n",
      "Recall at 5%|10%|20% FDR: 0.0%|0.0%|0.0%\t Num Positives: 13948\t Num Negatives: 139480\t \n",
      "\n",
      "Epoch 18/100\n",
      "153428/153428 [==============================] - 2s - loss: 1.2851 - val_loss: 0.6551\n",
      "Epoch 17: validation loss: 0.655\n",
      "Balanced Accuracy: 62.72%\t auROC: 0.683\t auPRC: 0.182\t auPRG: 0.644\n",
      "Recall at 5%|10%|20% FDR: 0.0%|0.0%|0.0%\t Num Positives: 13948\t Num Negatives: 139480\t \n",
      "\n",
      "Epoch 19/100\n",
      "153428/153428 [==============================] - 2s - loss: 1.2803 - val_loss: 0.6757\n",
      "Epoch 18: validation loss: 0.676\n",
      "Balanced Accuracy: 62.16%\t auROC: 0.678\t auPRC: 0.181\t auPRG: 0.647\n",
      "Recall at 5%|10%|20% FDR: 0.0%|0.0%|0.0%\t Num Positives: 13948\t Num Negatives: 139480\t \n",
      "\n",
      "Epoch 20/100\n",
      "153428/153428 [==============================] - 2s - loss: 1.2793 - val_loss: 0.6176\n",
      "Epoch 19: validation loss: 0.618\n",
      "Balanced Accuracy: 63.24%\t auROC: 0.687\t auPRC: 0.186\t auPRG: 0.657\n",
      "Recall at 5%|10%|20% FDR: 0.0%|0.0%|0.0%\t Num Positives: 13948\t Num Negatives: 139480\t \n",
      "\n",
      "Epoch 21/100\n",
      "153428/153428 [==============================] - 2s - loss: 1.2758 - val_loss: 0.6215\n",
      "Epoch 20: validation loss: 0.621\n",
      "Balanced Accuracy: 63.32%\t auROC: 0.689\t auPRC: 0.188\t auPRG: 0.662\n",
      "Recall at 5%|10%|20% FDR: 0.0%|0.0%|0.0%\t Num Positives: 13948\t Num Negatives: 139480\t \n",
      "\n",
      "Epoch 22/100\n",
      "153428/153428 [==============================] - 2s - loss: 1.2731 - val_loss: 0.6828\n",
      "Epoch 21: validation loss: 0.683\n",
      "Balanced Accuracy: 63.33%\t auROC: 0.692\t auPRC: 0.189\t auPRG: 0.661\n",
      "Recall at 5%|10%|20% FDR: 0.0%|0.0%|0.0%\t Num Positives: 13948\t Num Negatives: 139480\t \n",
      "\n",
      "Epoch 23/100\n",
      "153428/153428 [==============================] - 2s - loss: 1.2704 - val_loss: 0.6467\n",
      "Epoch 22: validation loss: 0.647\n",
      "Balanced Accuracy: 63.57%\t auROC: 0.691\t auPRC: 0.189\t auPRG: 0.664\n",
      "Recall at 5%|10%|20% FDR: 0.0%|0.0%|0.0%\t Num Positives: 13948\t Num Negatives: 139480\t \n",
      "\n",
      "Epoch 24/100\n",
      "153428/153428 [==============================] - 2s - loss: 1.2680 - val_loss: 0.6535\n",
      "Epoch 23: validation loss: 0.653\n",
      "Balanced Accuracy: 62.81%\t auROC: 0.687\t auPRC: 0.188\t auPRG: 0.665\n",
      "Recall at 5%|10%|20% FDR: 0.0%|0.0%|0.0%\t Num Positives: 13948\t Num Negatives: 139480\t \n",
      "\n"
     ]
    }
   ],
   "source": [
    "validation_data = (X_valid_subsampled_2[:, :, :10, :], y_valid_subsampled_2)\n",
    "dnn_normalized_2.train(X_train_subsampled_2[:, :, :10, :], y_train_subsampled_2, validation_data)"
   ]
  },
  {
   "cell_type": "code",
   "execution_count": 94,
   "metadata": {
    "collapsed": true
   },
   "outputs": [],
   "source": [
    "preds = dnn_normalized_2.predict(X_valid_subsampled_2[:, :, :10, :])"
   ]
  },
  {
   "cell_type": "code",
   "execution_count": 100,
   "metadata": {
    "collapsed": false
   },
   "outputs": [
    {
     "data": {
      "text/plain": [
       "5339"
      ]
     },
     "execution_count": 100,
     "metadata": {},
     "output_type": "execute_result"
    }
   ],
   "source": [
    "(preds>0.75).sum()"
   ]
  },
  {
   "cell_type": "code",
   "execution_count": 102,
   "metadata": {
    "collapsed": false
   },
   "outputs": [],
   "source": [
    "pos_indxs = y_valid_subsampled_2==True\n",
    "pred_pos_indxs = preds > 0.5\n",
    "true_pos_indxs = pos_indxs*pred_pos_indxs"
   ]
  },
  {
   "cell_type": "code",
   "execution_count": 103,
   "metadata": {
    "collapsed": false
   },
   "outputs": [
    {
     "data": {
      "text/plain": [
       "array([[False],\n",
       "       [ True],\n",
       "       [False],\n",
       "       ..., \n",
       "       [False],\n",
       "       [False],\n",
       "       [False]], dtype=bool)"
      ]
     },
     "execution_count": 103,
     "metadata": {},
     "output_type": "execute_result"
    }
   ],
   "source": [
    "true_pos_indxs"
   ]
  },
  {
   "cell_type": "code",
   "execution_count": 105,
   "metadata": {
    "collapsed": false
   },
   "outputs": [
    {
     "name": "stdout",
     "output_type": "stream",
     "text": [
      "Done 0\n"
     ]
    }
   ],
   "source": [
    "dl_scores = dnn_normalized_2.deeplift(X_valid_subsampled_2[true_pos_indxs[:,0], :, :10, :])"
   ]
  },
  {
   "cell_type": "code",
   "execution_count": 106,
   "metadata": {
    "collapsed": false
   },
   "outputs": [
    {
     "data": {
      "text/plain": [
       "(1, 9293, 1, 10, 2)"
      ]
     },
     "execution_count": 106,
     "metadata": {},
     "output_type": "execute_result"
    }
   ],
   "source": [
    "dl_scores.shape"
   ]
  },
  {
   "cell_type": "code",
   "execution_count": 107,
   "metadata": {
    "collapsed": true
   },
   "outputs": [],
   "source": [
    "_, num_examples, _, num_features, num_nodes = dl_scores.shape\n",
    "concat_dl_scores = dl_scores[0, :, 0, :, :].reshape(num_examples, num_features*num_nodes)"
   ]
  },
  {
   "cell_type": "code",
   "execution_count": 114,
   "metadata": {
    "collapsed": true
   },
   "outputs": [],
   "source": [
    "from sklearn.manifold import TSNE\n",
    "from sklearn.decomposition import PCA"
   ]
  },
  {
   "cell_type": "code",
   "execution_count": 115,
   "metadata": {
    "collapsed": true
   },
   "outputs": [],
   "source": [
    "pca = PCA(n_components=2)"
   ]
  },
  {
   "cell_type": "code",
   "execution_count": 116,
   "metadata": {
    "collapsed": true
   },
   "outputs": [],
   "source": [
    "fit_pca = pca.fit(concat_dl_scores)"
   ]
  },
  {
   "cell_type": "code",
   "execution_count": 117,
   "metadata": {
    "collapsed": true
   },
   "outputs": [],
   "source": [
    "concat_dl_scores_reduced = pca.transform(concat_dl_scores)"
   ]
  },
  {
   "cell_type": "code",
   "execution_count": 131,
   "metadata": {
    "collapsed": false
   },
   "outputs": [
    {
     "data": {
      "image/png": "[encoded data removed]",
      "text/plain": [
       "<matplotlib.figure.Figure at 0x7fa0a68374d0>"
      ]
     },
     "metadata": {},
     "output_type": "display_data"
    }
   ],
   "source": [
    "from matplotlib import pyplot as plt\n",
    "plt.scatter(concat_dl_scores_reduced[:, 0], concat_dl_scores_reduced[:, 1], c=clusters2)\n",
    "plt.show()"
   ]
  },
  {
   "cell_type": "code",
   "execution_count": 122,
   "metadata": {
    "collapsed": true
   },
   "outputs": [],
   "source": [
    "from sklearn.cluster import KMeans"
   ]
  },
  {
   "cell_type": "code",
   "execution_count": 129,
   "metadata": {
    "collapsed": false
   },
   "outputs": [],
   "source": [
    "kmeans = KMeans(n_clusters=2).fit(concat_dl_scores)"
   ]
  },
  {
   "cell_type": "code",
   "execution_count": 130,
   "metadata": {
    "collapsed": true
   },
   "outputs": [],
   "source": [
    "clusters2 = kmeans.predict(concat_dl_scores)"
   ]
  },
  {
   "cell_type": "code",
   "execution_count": 132,
   "metadata": {
    "collapsed": true
   },
   "outputs": [],
   "source": [
    "tsne = TSNE(verbose=1)"
   ]
  },
  {
   "cell_type": "code",
   "execution_count": 133,
   "metadata": {
    "collapsed": false
   },
   "outputs": [
    {
     "name": "stdout",
     "output_type": "stream",
     "text": [
      "[t-SNE] Computing pairwise distances...\n",
      "[t-SNE] Computing 91 nearest neighbors...\n",
      "[t-SNE] Computed conditional probabilities for sample 1000 / 9293\n",
      "[t-SNE] Computed conditional probabilities for sample 2000 / 9293\n",
      "[t-SNE] Computed conditional probabilities for sample 3000 / 9293\n",
      "[t-SNE] Computed conditional probabilities for sample 4000 / 9293\n",
      "[t-SNE] Computed conditional probabilities for sample 5000 / 9293\n",
      "[t-SNE] Computed conditional probabilities for sample 6000 / 9293\n",
      "[t-SNE] Computed conditional probabilities for sample 7000 / 9293\n",
      "[t-SNE] Computed conditional probabilities for sample 8000 / 9293\n",
      "[t-SNE] Computed conditional probabilities for sample 9000 / 9293\n",
      "[t-SNE] Computed conditional probabilities for sample 9293 / 9293\n",
      "[t-SNE] Mean sigma: 0.000000\n",
      "[t-SNE] Error after 100 iterations with early exaggeration: 1.207627\n",
      "[t-SNE] Error after 350 iterations: 1.161084\n"
     ]
    }
   ],
   "source": [
    "fit_tsne = tsne.fit(concat_dl_scores)"
   ]
  },
  {
   "cell_type": "code",
   "execution_count": 135,
   "metadata": {
    "collapsed": false
   },
   "outputs": [
    {
     "name": "stdout",
     "output_type": "stream",
     "text": [
      "[t-SNE] Computing pairwise distances...\n",
      "[t-SNE] Computing 91 nearest neighbors...\n",
      "[t-SNE] Computed conditional probabilities for sample 1000 / 9293\n",
      "[t-SNE] Computed conditional probabilities for sample 2000 / 9293\n",
      "[t-SNE] Computed conditional probabilities for sample 3000 / 9293\n",
      "[t-SNE] Computed conditional probabilities for sample 4000 / 9293\n",
      "[t-SNE] Computed conditional probabilities for sample 5000 / 9293\n",
      "[t-SNE] Computed conditional probabilities for sample 6000 / 9293\n",
      "[t-SNE] Computed conditional probabilities for sample 7000 / 9293\n",
      "[t-SNE] Computed conditional probabilities for sample 8000 / 9293\n",
      "[t-SNE] Computed conditional probabilities for sample 9000 / 9293\n",
      "[t-SNE] Computed conditional probabilities for sample 9293 / 9293\n",
      "[t-SNE] Mean sigma: 0.000000\n",
      "[t-SNE] Error after 100 iterations with early exaggeration: 1.206784\n",
      "[t-SNE] Error after 425 iterations: 1.160552\n"
     ]
    }
   ],
   "source": [
    "concat_dl_scores_tsne = fit_tsne.fit_transform(concat_dl_scores)"
   ]
  },
  {
   "cell_type": "code",
   "execution_count": 136,
   "metadata": {
    "collapsed": false
   },
   "outputs": [
    {
     "data": {
      "image/png": "[encoded data removed]",
      "text/plain": [
       "<matplotlib.figure.Figure at 0x7fa0a6784a50>"
      ]
     },
     "metadata": {},
     "output_type": "display_data"
    }
   ],
   "source": [
    "plt.scatter(concat_dl_scores_tsne[:, 0], concat_dl_scores_tsne[:, 1], c=clusters2)\n",
    "plt.show()"
   ]
  },
  {
   "cell_type": "code",
   "execution_count": null,
   "metadata": {
    "collapsed": true
   },
   "outputs": [],
   "source": []
  }
 ],
 "metadata": {
  "kernelspec": {
   "display_name": "Python 2",
   "language": "python",
   "name": "python2"
  },
  "language_info": {
   "codemirror_mode": {
    "name": "ipython",
    "version": 2
   },
   "file_extension": ".py",
   "mimetype": "text/x-python",
   "name": "python",
   "nbconvert_exporter": "python",
   "pygments_lexer": "ipython2",
   "version": "2.7.11"
  }
 },
 "nbformat": 4,
 "nbformat_minor": 0
}
