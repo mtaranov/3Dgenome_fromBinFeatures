{
 "cells": [
  {
   "cell_type": "code",
   "execution_count": 1,
   "metadata": {
    "collapsed": false
   },
   "outputs": [
    {
     "name": "stderr",
     "output_type": "stream",
     "text": [
      "Using Theano backend.\n",
      "/users/mtaranov/local/anaconda2/lib/python2.7/site-packages/theano/tensor/signal/downsample.py:6: UserWarning: downsample module has been moved to the theano.tensor.signal.pool module.\n",
      "  \"downsample module has been moved to the theano.tensor.signal.pool module.\")\n"
     ]
    }
   ],
   "source": [
    "%matplotlib inline\n",
    "%load_ext autoreload\n",
    "%autoreload 2\n",
    "\n",
    "import numpy as np\n",
    "import matplotlib.pyplot as plt\n",
    "from sklearn.preprocessing import MinMaxScaler, StandardScaler\n",
    "import copy\n",
    "from models import LongRangeDNN\n",
    "from utils import get_features, get_labels, subsample_data, normalize_features, reconstruct_2d, printMatrix, binarize, zscore, get_2D, plot_prediction\n",
    "#from sklearn.preprocessing import MinMaxScaler, StandardScaler\n",
    "#from dragonn.models import Model, SequenceDNN\n",
    "#from keras.models import Sequential\n",
    "#from keras.callbacks import Callback, EarlyStopping\n",
    "#from keras.layers.core import (\n",
    "#    Activation, Dense, Dropout, Flatten,\n",
    "#    Permute, Reshape, TimeDistributedDense\n",
    "#)\n",
    "#from keras.layers.convolutional import Convolution2D, MaxPooling2D\n",
    "#from keras.layers.recurrent import GRU\n",
    "#from keras.regularizers import l1\n",
    "\n",
    "#from deeplift import keras_conversion as kc\n",
    "#from deeplift.blobs import MxtsMode"
   ]
  },
  {
   "cell_type": "code",
   "execution_count": 2,
   "metadata": {
    "collapsed": false
   },
   "outputs": [
    {
     "data": {
      "text/plain": [
       "\"\\nX_train = get_features(data_path+'train_set_upperTriangle_noDiag_reads.npy')\\ny_train = get_labels(data_path+'labels_train_upperTriangle_noDiag.npy')\\nX_valid = get_features(data_path+'vali_set_upperTriangle_noDiag_reads.npy')\\ny_valid = get_labels(data_path+'labels_vali_upperTriangle_noDiag.npy')\\nX_test = get_features(data_path+'test_set_upperTriangle_noDiag_reads.npy')\\ny_test = get_labels(data_path+'labels_test_upperTriangle_noDiag.npy')\\n\\nX_train = get_features('NN_datasets/train_set_all_reads.npy')\\ny_train = get_labels('NN_datasets/labels_train_all.npy')\\nX_valid = get_features('NN_datasets/vali_set_all_reads.npy')\\ny_valid = get_labels('NN_datasets/labels_vali_all.npy')\\nX_test = get_features('NN_datasets/test_set_all_reads.npy')\\ny_test = get_labels('NN_datasets/labels_test_all.npy')\\n\\nX_train_subsampled, y_train_subsampled = subsample_data(X_train, y_train)\\nX_valid_subsampled, y_valid_subsampled = subsample_data(X_valid, y_valid)\\nX_test_subsampled, y_test_subsampled = subsample_data(X_test, y_test)\\n\""
      ]
     },
     "execution_count": 2,
     "metadata": {},
     "output_type": "execute_result"
    }
   ],
   "source": [
    "data_path='/users/mtaranov/NN_all_data/'\n",
    "\n",
    "X_train = get_features('/users/mtaranov/NN_all_data/less_than_1Mb/train_set_upperTriangle_noDiag_reads_less_5Mb.npy')\n",
    "y_train = get_labels('/users/mtaranov/NN_all_data/less_than_1Mb/labels_train_upperTriangle_noDiag_reads_less_5Mb.npy')\n",
    "X_valid = get_features('/users/mtaranov/NN_all_data/less_than_1Mb/vali_set_upperTriangle_noDiag_reads_less_5Mb.npy')\n",
    "y_valid = get_labels('/users/mtaranov/NN_all_data/less_than_1Mb/labels_vali_upperTriangle_noDiag_reads_less_5Mb.npy')\n",
    "X_test = get_features('/users/mtaranov/NN_all_data/less_than_1Mb/test_set_upperTriangle_noDiag_reads_less_5Mb.npy')\n",
    "y_test = get_labels('/users/mtaranov/NN_all_data/less_than_1Mb/labels_test_upperTriangle_noDiag_reads_less_5Mb.npy')\n",
    "\n",
    "\"\"\"\n",
    "X_train = get_features(data_path+'train_set_upperTriangle_noDiag_reads.npy')\n",
    "y_train = get_labels(data_path+'labels_train_upperTriangle_noDiag.npy')\n",
    "X_valid = get_features(data_path+'vali_set_upperTriangle_noDiag_reads.npy')\n",
    "y_valid = get_labels(data_path+'labels_vali_upperTriangle_noDiag.npy')\n",
    "X_test = get_features(data_path+'test_set_upperTriangle_noDiag_reads.npy')\n",
    "y_test = get_labels(data_path+'labels_test_upperTriangle_noDiag.npy')\n",
    "\n",
    "X_train = get_features('NN_datasets/train_set_all_reads.npy')\n",
    "y_train = get_labels('NN_datasets/labels_train_all.npy')\n",
    "X_valid = get_features('NN_datasets/vali_set_all_reads.npy')\n",
    "y_valid = get_labels('NN_datasets/labels_vali_all.npy')\n",
    "X_test = get_features('NN_datasets/test_set_all_reads.npy')\n",
    "y_test = get_labels('NN_datasets/labels_test_all.npy')\n",
    "\n",
    "X_train_subsampled, y_train_subsampled = subsample_data(X_train, y_train)\n",
    "X_valid_subsampled, y_valid_subsampled = subsample_data(X_valid, y_valid)\n",
    "X_test_subsampled, y_test_subsampled = subsample_data(X_test, y_test)\n",
    "\"\"\""
   ]
  },
  {
   "cell_type": "code",
   "execution_count": 3,
   "metadata": {
    "collapsed": false
   },
   "outputs": [
    {
     "data": {
      "text/plain": [
       "'\\nX_train_normalized_subsampled, y_train_subsampled = subsample_data(X_train_normalized, y_train)\\nX_valid_normalized_subsampled, y_valid_subsampled = subsample_data(X_valid_normalized, y_valid)\\nX_test_normalized_subsampled, y_test_subsampled = subsample_data(X_test_normalized, y_test)\\n\\nX_train_scaled_subsampled, y_train_subsampled = subsample_data(X_train_scaled, y_train)\\nX_valid_scaled_subsampled, y_valid_subsampled = subsample_data(X_valid_scaled, y_valid)\\nX_test_scaled_subsampled, y_test_subsampled = subsample_data(X_test_scaled, y_test)\\n'"
      ]
     },
     "execution_count": 3,
     "metadata": {},
     "output_type": "execute_result"
    }
   ],
   "source": [
    "\"\"\"\n",
    "X_train_normalized_subsampled, y_train_subsampled = subsample_data(X_train_normalized, y_train)\n",
    "X_valid_normalized_subsampled, y_valid_subsampled = subsample_data(X_valid_normalized, y_valid)\n",
    "X_test_normalized_subsampled, y_test_subsampled = subsample_data(X_test_normalized, y_test)\n",
    "\n",
    "X_train_scaled_subsampled, y_train_subsampled = subsample_data(X_train_scaled, y_train)\n",
    "X_valid_scaled_subsampled, y_valid_subsampled = subsample_data(X_valid_scaled, y_valid)\n",
    "X_test_scaled_subsampled, y_test_subsampled = subsample_data(X_test_scaled, y_test)\n",
    "\"\"\""
   ]
  },
  {
   "cell_type": "code",
   "execution_count": 4,
   "metadata": {
    "collapsed": false
   },
   "outputs": [],
   "source": [
    "X_train_normalized, X_valid_normalized, X_test_normalized = normalize_features(X_train, X_valid, X_test)\n",
    "\n",
    "X_train_normalized_subsampled, y_train_subsampled = subsample_data(X_train_normalized, y_train)\n",
    "X_valid_normalized_subsampled, y_valid_subsampled = subsample_data(X_valid_normalized, y_valid)\n",
    "X_test_normalized_subsampled, y_test_subsampled = subsample_data(X_test_normalized, y_test)\n",
    "\n",
    "\n",
    "#X_train_scaled_subsampled, y_train_subsampled = subsample_data(X_train_scaled, y_train)\n",
    "#X_valid_scaled_subsampled, y_valid_subsampled = subsample_data(X_valid_scaled, y_valid)\n",
    "#X_test_scaled_subsampled, y_test_subsampled = subsample_data(X_test_scaled, y_test)\n"
   ]
  },
  {
   "cell_type": "markdown",
   "metadata": {},
   "source": [
    "# without distance"
   ]
  },
  {
   "cell_type": "code",
   "execution_count": 5,
   "metadata": {
    "collapsed": true
   },
   "outputs": [],
   "source": [
    "dnn_normalized = LongRangeDNN(num_features=10, use_deep_CNN=True)"
   ]
  },
  {
   "cell_type": "code",
   "execution_count": 6,
   "metadata": {
    "collapsed": false
   },
   "outputs": [
    {
     "name": "stdout",
     "output_type": "stream",
     "text": [
      "Training model...\n",
      "Train on 68623 samples, validate on 41816 samples\n",
      "Epoch 1/100\n",
      "68623/68623 [==============================] - 2s - loss: 1.2430 - val_loss: 0.7438\n",
      "Epoch 0: validation loss: 0.744\n",
      "Balanced Accuracy: 50.94%\t auROC: 0.536\t auPRC: 0.177\t auPRG: 0.108\n",
      "Recall at 5%|10%|20% FDR: 0.0%|0.0%|0.0%\t Num Positives: 6716\t Num Negatives: 35100\t \n",
      "\n",
      "Epoch 2/100\n",
      "68623/68623 [==============================] - 1s - loss: 1.2374 - val_loss: 0.7587\n",
      "Epoch 1: validation loss: 0.759\n",
      "Balanced Accuracy: 51.64%\t auROC: 0.549\t auPRC: 0.185\t auPRG: 0.174\n",
      "Recall at 5%|10%|20% FDR: 0.0%|0.0%|0.0%\t Num Positives: 6716\t Num Negatives: 35100\t \n",
      "\n",
      "Epoch 3/100\n",
      "68623/68623 [==============================] - 1s - loss: 1.2315 - val_loss: 0.7145\n",
      "Epoch 2: validation loss: 0.714\n",
      "Balanced Accuracy: 54.34%\t auROC: 0.565\t auPRC: 0.193\t auPRG: 0.232\n",
      "Recall at 5%|10%|20% FDR: 0.0%|0.0%|0.0%\t Num Positives: 6716\t Num Negatives: 35100\t \n",
      "\n",
      "Epoch 4/100\n",
      "68623/68623 [==============================] - 1s - loss: 1.2216 - val_loss: 0.6964\n",
      "Epoch 3: validation loss: 0.696\n",
      "Balanced Accuracy: 55.08%\t auROC: 0.574\t auPRC: 0.196\t auPRG: 0.253\n",
      "Recall at 5%|10%|20% FDR: 0.0%|0.0%|0.0%\t Num Positives: 6716\t Num Negatives: 35100\t \n",
      "\n",
      "Epoch 5/100\n",
      "68623/68623 [==============================] - 1s - loss: 1.2146 - val_loss: 0.7464\n",
      "Epoch 4: validation loss: 0.746\n",
      "Balanced Accuracy: 55.44%\t auROC: 0.590\t auPRC: 0.207\t auPRG: 0.301\n",
      "Recall at 5%|10%|20% FDR: 0.0%|0.0%|0.0%\t Num Positives: 6716\t Num Negatives: 35100\t \n",
      "\n",
      "Epoch 6/100\n",
      "68623/68623 [==============================] - 1s - loss: 1.2073 - val_loss: 0.6915\n",
      "Epoch 5: validation loss: 0.692\n",
      "Balanced Accuracy: 56.57%\t auROC: 0.592\t auPRC: 0.206\t auPRG: 0.297\n",
      "Recall at 5%|10%|20% FDR: 0.0%|0.0%|0.0%\t Num Positives: 6716\t Num Negatives: 35100\t \n",
      "\n",
      "Epoch 7/100\n",
      "68623/68623 [==============================] - 1s - loss: 1.2031 - val_loss: 0.6699\n",
      "Epoch 6: validation loss: 0.670\n",
      "Balanced Accuracy: 56.68%\t auROC: 0.598\t auPRC: 0.211\t auPRG: 0.324\n",
      "Recall at 5%|10%|20% FDR: 0.0%|0.0%|0.0%\t Num Positives: 6716\t Num Negatives: 35100\t \n",
      "\n",
      "Epoch 8/100\n",
      "68623/68623 [==============================] - 1s - loss: 1.1969 - val_loss: 0.7621\n",
      "Epoch 7: validation loss: 0.762\n",
      "Balanced Accuracy: 55.91%\t auROC: 0.601\t auPRC: 0.211\t auPRG: 0.327\n",
      "Recall at 5%|10%|20% FDR: 0.0%|0.0%|0.0%\t Num Positives: 6716\t Num Negatives: 35100\t \n",
      "\n",
      "Epoch 9/100\n",
      "68623/68623 [==============================] - 1s - loss: 1.1917 - val_loss: 0.6906\n",
      "Epoch 8: validation loss: 0.691\n",
      "Balanced Accuracy: 56.78%\t auROC: 0.603\t auPRC: 0.212\t auPRG: 0.337\n",
      "Recall at 5%|10%|20% FDR: 0.0%|0.0%|0.0%\t Num Positives: 6716\t Num Negatives: 35100\t \n",
      "\n",
      "Epoch 10/100\n",
      "68623/68623 [==============================] - 1s - loss: 1.1866 - val_loss: 0.7250\n",
      "Epoch 9: validation loss: 0.725\n",
      "Balanced Accuracy: 56.87%\t auROC: 0.605\t auPRC: 0.216\t auPRG: 0.346\n",
      "Recall at 5%|10%|20% FDR: 0.0%|0.0%|0.0%\t Num Positives: 6716\t Num Negatives: 35100\t \n",
      "\n",
      "Epoch 11/100\n",
      "68623/68623 [==============================] - 1s - loss: 1.1826 - val_loss: 0.7409\n",
      "Epoch 10: validation loss: 0.741\n",
      "Balanced Accuracy: 57.07%\t auROC: 0.610\t auPRC: 0.220\t auPRG: 0.367\n",
      "Recall at 5%|10%|20% FDR: 0.0%|0.0%|0.0%\t Num Positives: 6716\t Num Negatives: 35100\t \n",
      "\n",
      "Epoch 12/100\n",
      "68623/68623 [==============================] - 1s - loss: 1.1778 - val_loss: 0.7328\n",
      "Epoch 11: validation loss: 0.733\n",
      "Balanced Accuracy: 57.42%\t auROC: 0.611\t auPRC: 0.220\t auPRG: 0.366\n",
      "Recall at 5%|10%|20% FDR: 0.0%|0.0%|0.0%\t Num Positives: 6716\t Num Negatives: 35100\t \n",
      "\n",
      "Epoch 13/100\n",
      "68623/68623 [==============================] - 1s - loss: 1.1733 - val_loss: 0.7246\n",
      "Epoch 12: validation loss: 0.725\n",
      "Balanced Accuracy: 57.64%\t auROC: 0.617\t auPRC: 0.225\t auPRG: 0.383\n",
      "Recall at 5%|10%|20% FDR: 0.0%|0.0%|0.0%\t Num Positives: 6716\t Num Negatives: 35100\t \n",
      "\n",
      "Epoch 14/100\n",
      "68623/68623 [==============================] - 1s - loss: 1.1692 - val_loss: 0.6709\n",
      "Epoch 13: validation loss: 0.671\n",
      "Balanced Accuracy: 57.88%\t auROC: 0.616\t auPRC: 0.224\t auPRG: 0.370\n",
      "Recall at 5%|10%|20% FDR: 0.0%|0.0%|0.0%\t Num Positives: 6716\t Num Negatives: 35100\t \n",
      "\n",
      "Epoch 15/100\n",
      "68623/68623 [==============================] - 1s - loss: 1.1661 - val_loss: 0.6852\n",
      "Epoch 14: validation loss: 0.685\n",
      "Balanced Accuracy: 57.86%\t auROC: 0.616\t auPRC: 0.227\t auPRG: 0.385\n",
      "Recall at 5%|10%|20% FDR: 0.0%|0.0%|0.0%\t Num Positives: 6716\t Num Negatives: 35100\t \n",
      "\n",
      "Epoch 16/100\n",
      "68623/68623 [==============================] - 1s - loss: 1.1605 - val_loss: 0.7115\n",
      "Epoch 15: validation loss: 0.712\n",
      "Balanced Accuracy: 58.05%\t auROC: 0.618\t auPRC: 0.227\t auPRG: 0.381\n",
      "Recall at 5%|10%|20% FDR: 0.0%|0.0%|0.0%\t Num Positives: 6716\t Num Negatives: 35100\t \n",
      "\n",
      "Epoch 17/100\n",
      "68623/68623 [==============================] - 1s - loss: 1.1586 - val_loss: 0.7146\n",
      "Epoch 16: validation loss: 0.715\n",
      "Balanced Accuracy: 58.41%\t auROC: 0.621\t auPRC: 0.226\t auPRG: 0.383\n",
      "Recall at 5%|10%|20% FDR: 0.0%|0.0%|0.0%\t Num Positives: 6716\t Num Negatives: 35100\t \n",
      "\n",
      "Epoch 18/100\n",
      "68623/68623 [==============================] - 1s - loss: 1.1548 - val_loss: 0.7160\n",
      "Epoch 17: validation loss: 0.716\n",
      "Balanced Accuracy: 58.29%\t auROC: 0.621\t auPRC: 0.228\t auPRG: 0.386\n",
      "Recall at 5%|10%|20% FDR: 0.0%|0.0%|0.0%\t Num Positives: 6716\t Num Negatives: 35100\t \n",
      "\n"
     ]
    }
   ],
   "source": [
    "#validation_data = (X_valid_normalized_subsampled[:, :, :10, :], y_valid_subsampled)\n",
    "#dnn_normalized.train(X_train_normalized_subsampled[:, :, :10, :], y_train_subsampled, validation_data)\n",
    "validation_data = (X_valid_normalized[:, :, :10, :], y_valid)\n",
    "dnn_normalized.train(X_train_normalized[:, :, :10, :], y_train, validation_data)"
   ]
  },
  {
   "cell_type": "code",
   "execution_count": 7,
   "metadata": {
    "collapsed": false
   },
   "outputs": [
    {
     "name": "stdout",
     "output_type": "stream",
     "text": [
      "Balanced Accuracy: 57.88%\t auROC: 0.615\t auPRC: 0.231\t auPRG: 0.373\n",
      "Recall at 5%|10%|20% FDR: 0.0%|0.0%|0.0%\t Num Positives: 4455\t Num Negatives: 23179\t \n"
     ]
    }
   ],
   "source": [
    "print(dnn_normalized.test(X_test_normalized[:, :, :10, :], y_test))"
   ]
  },
  {
   "cell_type": "markdown",
   "metadata": {},
   "source": [
    "# with genomic locations"
   ]
  },
  {
   "cell_type": "code",
   "execution_count": 8,
   "metadata": {
    "collapsed": true
   },
   "outputs": [],
   "source": [
    "dnn_normalized = LongRangeDNN(num_features=11, use_deep_CNN=True)"
   ]
  },
  {
   "cell_type": "code",
   "execution_count": 9,
   "metadata": {
    "collapsed": false
   },
   "outputs": [
    {
     "name": "stdout",
     "output_type": "stream",
     "text": [
      "Training model...\n",
      "Train on 68623 samples, validate on 41816 samples\n",
      "Epoch 1/100\n",
      "68623/68623 [==============================] - 1s - loss: 1.2408 - val_loss: 0.7216\n",
      "Epoch 0: validation loss: 0.722\n",
      "Balanced Accuracy: 51.91%\t auROC: 0.541\t auPRC: 0.184\t auPRG: 0.153\n",
      "Recall at 5%|10%|20% FDR: 0.0%|0.0%|0.0%\t Num Positives: 6716\t Num Negatives: 35100\t \n",
      "\n",
      "Epoch 2/100\n",
      "68623/68623 [==============================] - 1s - loss: 1.2340 - val_loss: 0.7565\n",
      "Epoch 1: validation loss: 0.757\n",
      "Balanced Accuracy: 52.42%\t auROC: 0.556\t auPRC: 0.190\t auPRG: 0.213\n",
      "Recall at 5%|10%|20% FDR: 0.0%|0.0%|0.0%\t Num Positives: 6716\t Num Negatives: 35100\t \n",
      "\n",
      "Epoch 3/100\n",
      "68623/68623 [==============================] - 1s - loss: 1.2283 - val_loss: 0.7105\n",
      "Epoch 2: validation loss: 0.711\n",
      "Balanced Accuracy: 53.91%\t auROC: 0.560\t auPRC: 0.194\t auPRG: 0.217\n",
      "Recall at 5%|10%|20% FDR: 0.0%|0.0%|0.0%\t Num Positives: 6716\t Num Negatives: 35100\t \n",
      "\n",
      "Epoch 4/100\n",
      "68623/68623 [==============================] - 1s - loss: 1.2239 - val_loss: 0.7172\n",
      "Epoch 3: validation loss: 0.717\n",
      "Balanced Accuracy: 54.37%\t auROC: 0.566\t auPRC: 0.197\t auPRG: 0.235\n",
      "Recall at 5%|10%|20% FDR: 0.0%|0.0%|0.0%\t Num Positives: 6716\t Num Negatives: 35100\t \n",
      "\n",
      "Epoch 5/100\n",
      "68623/68623 [==============================] - 1s - loss: 1.2183 - val_loss: 0.7345\n",
      "Epoch 4: validation loss: 0.735\n",
      "Balanced Accuracy: 54.99%\t auROC: 0.574\t auPRC: 0.197\t auPRG: 0.248\n",
      "Recall at 5%|10%|20% FDR: 0.0%|0.0%|0.0%\t Num Positives: 6716\t Num Negatives: 35100\t \n",
      "\n",
      "Epoch 6/100\n",
      "68623/68623 [==============================] - 1s - loss: 1.2117 - val_loss: 0.7186\n",
      "Epoch 5: validation loss: 0.719\n",
      "Balanced Accuracy: 55.61%\t auROC: 0.586\t auPRC: 0.206\t auPRG: 0.283\n",
      "Recall at 5%|10%|20% FDR: 0.0%|0.0%|0.0%\t Num Positives: 6716\t Num Negatives: 35100\t \n",
      "\n",
      "Epoch 7/100\n",
      "68623/68623 [==============================] - 1s - loss: 1.2050 - val_loss: 0.7365\n",
      "Epoch 6: validation loss: 0.736\n",
      "Balanced Accuracy: 55.78%\t auROC: 0.592\t auPRC: 0.210\t auPRG: 0.298\n",
      "Recall at 5%|10%|20% FDR: 0.0%|0.0%|0.0%\t Num Positives: 6716\t Num Negatives: 35100\t \n",
      "\n",
      "Epoch 8/100\n",
      "68623/68623 [==============================] - 1s - loss: 1.1976 - val_loss: 0.7140\n",
      "Epoch 7: validation loss: 0.714\n",
      "Balanced Accuracy: 56.33%\t auROC: 0.597\t auPRC: 0.214\t auPRG: 0.306\n",
      "Recall at 5%|10%|20% FDR: 0.0%|0.0%|0.0%\t Num Positives: 6716\t Num Negatives: 35100\t \n",
      "\n",
      "Epoch 9/100\n",
      "68623/68623 [==============================] - 2s - loss: 1.1927 - val_loss: 0.6979\n",
      "Epoch 8: validation loss: 0.698\n",
      "Balanced Accuracy: 56.90%\t auROC: 0.604\t auPRC: 0.221\t auPRG: 0.346\n",
      "Recall at 5%|10%|20% FDR: 0.0%|0.0%|0.0%\t Num Positives: 6716\t Num Negatives: 35100\t \n",
      "\n",
      "Epoch 10/100\n",
      "68623/68623 [==============================] - 1s - loss: 1.1843 - val_loss: 0.7192\n",
      "Epoch 9: validation loss: 0.719\n",
      "Balanced Accuracy: 56.38%\t auROC: 0.603\t auPRC: 0.221\t auPRG: 0.340\n",
      "Recall at 5%|10%|20% FDR: 0.0%|0.0%|0.0%\t Num Positives: 6716\t Num Negatives: 35100\t \n",
      "\n",
      "Epoch 11/100\n",
      "68623/68623 [==============================] - 1s - loss: 1.1777 - val_loss: 0.7074\n",
      "Epoch 10: validation loss: 0.707\n",
      "Balanced Accuracy: 56.95%\t auROC: 0.611\t auPRC: 0.227\t auPRG: 0.376\n",
      "Recall at 5%|10%|20% FDR: 0.0%|0.0%|0.0%\t Num Positives: 6716\t Num Negatives: 35100\t \n",
      "\n",
      "Epoch 12/100\n",
      "68623/68623 [==============================] - 1s - loss: 1.1713 - val_loss: 0.6970\n",
      "Epoch 11: validation loss: 0.697\n",
      "Balanced Accuracy: 57.43%\t auROC: 0.619\t auPRC: 0.239\t auPRG: 0.404\n",
      "Recall at 5%|10%|20% FDR: 0.1%|0.1%|0.1%\t Num Positives: 6716\t Num Negatives: 35100\t \n",
      "\n",
      "Epoch 13/100\n",
      "68623/68623 [==============================] - 1s - loss: 1.1645 - val_loss: 0.6921\n",
      "Epoch 12: validation loss: 0.692\n",
      "Balanced Accuracy: 58.18%\t auROC: 0.624\t auPRC: 0.240\t auPRG: 0.420\n",
      "Recall at 5%|10%|20% FDR: 0.0%|0.0%|0.0%\t Num Positives: 6716\t Num Negatives: 35100\t \n",
      "\n",
      "Epoch 14/100\n",
      "68623/68623 [==============================] - 1s - loss: 1.1578 - val_loss: 0.6756\n",
      "Epoch 13: validation loss: 0.676\n",
      "Balanced Accuracy: 58.44%\t auROC: 0.628\t auPRC: 0.245\t auPRG: 0.433\n",
      "Recall at 5%|10%|20% FDR: 0.1%|0.1%|0.1%\t Num Positives: 6716\t Num Negatives: 35100\t \n",
      "\n",
      "Epoch 15/100\n",
      "68623/68623 [==============================] - 1s - loss: 1.1543 - val_loss: 0.6819\n",
      "Epoch 14: validation loss: 0.682\n",
      "Balanced Accuracy: 58.45%\t auROC: 0.629\t auPRC: 0.246\t auPRG: 0.434\n",
      "Recall at 5%|10%|20% FDR: 0.1%|0.1%|0.1%\t Num Positives: 6716\t Num Negatives: 35100\t \n",
      "\n",
      "Epoch 16/100\n",
      "68623/68623 [==============================] - 1s - loss: 1.1490 - val_loss: 0.7704\n",
      "Epoch 15: validation loss: 0.770\n",
      "Balanced Accuracy: 57.58%\t auROC: 0.627\t auPRC: 0.240\t auPRG: 0.419\n",
      "Recall at 5%|10%|20% FDR: 0.1%|0.1%|0.1%\t Num Positives: 6716\t Num Negatives: 35100\t \n",
      "\n",
      "Epoch 17/100\n",
      "68623/68623 [==============================] - 1s - loss: 1.1433 - val_loss: 0.6805\n",
      "Epoch 16: validation loss: 0.681\n",
      "Balanced Accuracy: 58.94%\t auROC: 0.636\t auPRC: 0.253\t auPRG: 0.446\n",
      "Recall at 5%|10%|20% FDR: 0.1%|0.1%|0.1%\t Num Positives: 6716\t Num Negatives: 35100\t \n",
      "\n",
      "Epoch 18/100\n",
      "68623/68623 [==============================] - 1s - loss: 1.1389 - val_loss: 0.6935\n",
      "Epoch 17: validation loss: 0.693\n",
      "Balanced Accuracy: 59.09%\t auROC: 0.640\t auPRC: 0.255\t auPRG: 0.465\n",
      "Recall at 5%|10%|20% FDR: 0.1%|0.1%|0.1%\t Num Positives: 6716\t Num Negatives: 35100\t \n",
      "\n",
      "Epoch 19/100\n",
      "68623/68623 [==============================] - 1s - loss: 1.1342 - val_loss: 0.7013\n",
      "Epoch 18: validation loss: 0.701\n",
      "Balanced Accuracy: 59.08%\t auROC: 0.641\t auPRC: 0.258\t auPRG: 0.466\n",
      "Recall at 5%|10%|20% FDR: 0.1%|0.1%|0.2%\t Num Positives: 6716\t Num Negatives: 35100\t \n",
      "\n",
      "Epoch 20/100\n",
      "68623/68623 [==============================] - 1s - loss: 1.1297 - val_loss: 0.6982\n",
      "Epoch 19: validation loss: 0.698\n",
      "Balanced Accuracy: 59.28%\t auROC: 0.643\t auPRC: 0.263\t auPRG: 0.480\n",
      "Recall at 5%|10%|20% FDR: 0.1%|0.2%|0.2%\t Num Positives: 6716\t Num Negatives: 35100\t \n",
      "\n",
      "Epoch 21/100\n",
      "68623/68623 [==============================] - 1s - loss: 1.1277 - val_loss: 0.7344\n",
      "Epoch 20: validation loss: 0.734\n",
      "Balanced Accuracy: 59.22%\t auROC: 0.643\t auPRC: 0.260\t auPRG: 0.462\n",
      "Recall at 5%|10%|20% FDR: 0.1%|0.2%|0.2%\t Num Positives: 6716\t Num Negatives: 35100\t \n",
      "\n",
      "Epoch 22/100\n",
      "68623/68623 [==============================] - 1s - loss: 1.1200 - val_loss: 0.7051\n",
      "Epoch 21: validation loss: 0.705\n",
      "Balanced Accuracy: 59.63%\t auROC: 0.649\t auPRC: 0.263\t auPRG: 0.492\n",
      "Recall at 5%|10%|20% FDR: 0.0%|0.0%|0.0%\t Num Positives: 6716\t Num Negatives: 35100\t \n",
      "\n",
      "Epoch 23/100\n",
      "68623/68623 [==============================] - 1s - loss: 1.1180 - val_loss: 0.7232\n",
      "Epoch 22: validation loss: 0.723\n",
      "Balanced Accuracy: 59.59%\t auROC: 0.645\t auPRC: 0.260\t auPRG: 0.472\n",
      "Recall at 5%|10%|20% FDR: 0.1%|0.1%|0.1%\t Num Positives: 6716\t Num Negatives: 35100\t \n",
      "\n",
      "Epoch 24/100\n",
      "68623/68623 [==============================] - 1s - loss: 1.1135 - val_loss: 0.6633\n",
      "Epoch 23: validation loss: 0.663\n",
      "Balanced Accuracy: 60.02%\t auROC: 0.651\t auPRC: 0.270\t auPRG: 0.505\n",
      "Recall at 5%|10%|20% FDR: 0.1%|0.1%|0.3%\t Num Positives: 6716\t Num Negatives: 35100\t \n",
      "\n",
      "Epoch 25/100\n",
      "68623/68623 [==============================] - 1s - loss: 1.1086 - val_loss: 0.6975\n",
      "Epoch 24: validation loss: 0.697\n",
      "Balanced Accuracy: 59.88%\t auROC: 0.649\t auPRC: 0.267\t auPRG: 0.491\n",
      "Recall at 5%|10%|20% FDR: 0.1%|0.1%|0.1%\t Num Positives: 6716\t Num Negatives: 35100\t \n",
      "\n",
      "Epoch 26/100\n",
      "68623/68623 [==============================] - 1s - loss: 1.1060 - val_loss: 0.6613\n",
      "Epoch 25: validation loss: 0.661\n",
      "Balanced Accuracy: 60.13%\t auROC: 0.653\t auPRC: 0.271\t auPRG: 0.504\n",
      "Recall at 5%|10%|20% FDR: 0.1%|0.2%|0.2%\t Num Positives: 6716\t Num Negatives: 35100\t \n",
      "\n",
      "Epoch 27/100\n",
      "68623/68623 [==============================] - 1s - loss: 1.1038 - val_loss: 0.6648\n",
      "Epoch 26: validation loss: 0.665\n",
      "Balanced Accuracy: 60.02%\t auROC: 0.654\t auPRC: 0.277\t auPRG: 0.516\n",
      "Recall at 5%|10%|20% FDR: 0.2%|0.2%|0.2%\t Num Positives: 6716\t Num Negatives: 35100\t \n",
      "\n",
      "Epoch 28/100\n",
      "68623/68623 [==============================] - 1s - loss: 1.0953 - val_loss: 0.6614\n",
      "Epoch 27: validation loss: 0.661\n",
      "Balanced Accuracy: 60.28%\t auROC: 0.655\t auPRC: 0.274\t auPRG: 0.505\n",
      "Recall at 5%|10%|20% FDR: 0.2%|0.2%|0.3%\t Num Positives: 6716\t Num Negatives: 35100\t \n",
      "\n",
      "Epoch 29/100\n",
      "68623/68623 [==============================] - 1s - loss: 1.0929 - val_loss: 0.7038\n",
      "Epoch 28: validation loss: 0.704\n",
      "Balanced Accuracy: 60.53%\t auROC: 0.657\t auPRC: 0.272\t auPRG: 0.505\n",
      "Recall at 5%|10%|20% FDR: 0.1%|0.1%|0.2%\t Num Positives: 6716\t Num Negatives: 35100\t \n",
      "\n",
      "Epoch 30/100\n",
      "68623/68623 [==============================] - 1s - loss: 1.0907 - val_loss: 0.6879\n",
      "Epoch 29: validation loss: 0.688\n",
      "Balanced Accuracy: 60.71%\t auROC: 0.659\t auPRC: 0.277\t auPRG: 0.503\n",
      "Recall at 5%|10%|20% FDR: 0.1%|0.1%|0.4%\t Num Positives: 6716\t Num Negatives: 35100\t \n",
      "\n",
      "Epoch 31/100\n",
      "68623/68623 [==============================] - 2s - loss: 1.0913 - val_loss: 0.7074\n",
      "Epoch 30: validation loss: 0.707\n",
      "Balanced Accuracy: 60.96%\t auROC: 0.659\t auPRC: 0.278\t auPRG: 0.510\n",
      "Recall at 5%|10%|20% FDR: 0.2%|0.2%|0.3%\t Num Positives: 6716\t Num Negatives: 35100\t \n",
      "\n",
      "Epoch 32/100\n",
      "68623/68623 [==============================] - 2s - loss: 1.0852 - val_loss: 0.6922\n",
      "Epoch 31: validation loss: 0.692\n",
      "Balanced Accuracy: 60.82%\t auROC: 0.663\t auPRC: 0.282\t auPRG: 0.527\n",
      "Recall at 5%|10%|20% FDR: 0.2%|0.2%|0.3%\t Num Positives: 6716\t Num Negatives: 35100\t \n",
      "\n",
      "Epoch 33/100\n",
      "68623/68623 [==============================] - 1s - loss: 1.0791 - val_loss: 0.6628\n",
      "Epoch 32: validation loss: 0.663\n",
      "Balanced Accuracy: 60.80%\t auROC: 0.658\t auPRC: 0.273\t auPRG: 0.502\n",
      "Recall at 5%|10%|20% FDR: 0.1%|0.2%|0.4%\t Num Positives: 6716\t Num Negatives: 35100\t \n",
      "\n",
      "Epoch 34/100\n",
      "68623/68623 [==============================] - 2s - loss: 1.0772 - val_loss: 0.7258\n",
      "Epoch 33: validation loss: 0.726\n",
      "Balanced Accuracy: 60.61%\t auROC: 0.662\t auPRC: 0.279\t auPRG: 0.511\n",
      "Recall at 5%|10%|20% FDR: 0.1%|0.1%|0.2%\t Num Positives: 6716\t Num Negatives: 35100\t \n",
      "\n",
      "Epoch 35/100\n",
      "68623/68623 [==============================] - 1s - loss: 1.0724 - val_loss: 0.6755\n",
      "Epoch 34: validation loss: 0.676\n",
      "Balanced Accuracy: 61.35%\t auROC: 0.667\t auPRC: 0.286\t auPRG: 0.524\n",
      "Recall at 5%|10%|20% FDR: 0.2%|0.2%|0.3%\t Num Positives: 6716\t Num Negatives: 35100\t \n",
      "\n",
      "Epoch 36/100\n",
      "68623/68623 [==============================] - 1s - loss: 1.0698 - val_loss: 0.6924\n",
      "Epoch 35: validation loss: 0.692\n",
      "Balanced Accuracy: 61.09%\t auROC: 0.665\t auPRC: 0.282\t auPRG: 0.516\n",
      "Recall at 5%|10%|20% FDR: 0.1%|0.2%|0.6%\t Num Positives: 6716\t Num Negatives: 35100\t \n",
      "\n",
      "Epoch 37/100\n",
      "68623/68623 [==============================] - 1s - loss: 1.0665 - val_loss: 0.6853\n",
      "Epoch 36: validation loss: 0.685\n",
      "Balanced Accuracy: 61.40%\t auROC: 0.667\t auPRC: 0.282\t auPRG: 0.523\n",
      "Recall at 5%|10%|20% FDR: 0.1%|0.2%|0.2%\t Num Positives: 6716\t Num Negatives: 35100\t \n",
      "\n"
     ]
    }
   ],
   "source": [
    "#validation_data = (X_valid_normalized_subsampled[:, :, :11, :], y_valid_subsampled)\n",
    "#dnn_normalized.train(X_train_normalized_subsampled[:, :, :11, :], y_train_subsampled, validation_data)\n",
    "validation_data = (X_valid_normalized[:, :, :11, :], y_valid)\n",
    "dnn_normalized.train(X_train_normalized[:, :, :11, :], y_train, validation_data)"
   ]
  },
  {
   "cell_type": "code",
   "execution_count": 10,
   "metadata": {
    "collapsed": false
   },
   "outputs": [
    {
     "name": "stdout",
     "output_type": "stream",
     "text": [
      "Balanced Accuracy: 61.32%\t auROC: 0.665\t auPRC: 0.281\t auPRG: 0.518\n",
      "Recall at 5%|10%|20% FDR: 0.0%|0.0%|0.8%\t Num Positives: 4455\t Num Negatives: 23179\t \n"
     ]
    }
   ],
   "source": [
    "print(dnn_normalized.test(X_test_normalized[:, :, :11, :], y_test))"
   ]
  },
  {
   "cell_type": "markdown",
   "metadata": {},
   "source": [
    "# Print prediction"
   ]
  },
  {
   "cell_type": "code",
   "execution_count": 11,
   "metadata": {
    "collapsed": false
   },
   "outputs": [],
   "source": [
    "indx_test=np.load('/users/mtaranov/NN_all_data/indx_test_upperTriangle_noDiag.npy')\n",
    "indx_valid=np.load('/users/mtaranov/NN_all_data/indx_vali_upperTriangle_noDiag.npy')\n",
    "indx_train=np.load('/users/mtaranov/NN_all_data/indx_train_upperTriangle_noDiag.npy')"
   ]
  },
  {
   "cell_type": "code",
   "execution_count": 12,
   "metadata": {
    "collapsed": false
   },
   "outputs": [
    {
     "ename": "NameError",
     "evalue": "name 'pred_probs_train' is not defined",
     "output_type": "error",
     "traceback": [
      "\u001b[1;31m---------------------------------------------------------------------------\u001b[0m",
      "\u001b[1;31mNameError\u001b[0m                                 Traceback (most recent call last)",
      "\u001b[1;32m<ipython-input-12-8d7c7eba4406>\u001b[0m in \u001b[0;36m<module>\u001b[1;34m()\u001b[0m\n\u001b[0;32m      1\u001b[0m \u001b[0mlabels_all\u001b[0m\u001b[1;33m=\u001b[0m\u001b[1;33m(\u001b[0m\u001b[0mnp\u001b[0m\u001b[1;33m.\u001b[0m\u001b[0mconcatenate\u001b[0m\u001b[1;33m(\u001b[0m\u001b[1;33m(\u001b[0m\u001b[0my_train\u001b[0m\u001b[1;33m,\u001b[0m \u001b[0my_valid\u001b[0m\u001b[1;33m,\u001b[0m \u001b[0my_test\u001b[0m\u001b[1;33m)\u001b[0m\u001b[1;33m,\u001b[0m \u001b[0maxis\u001b[0m\u001b[1;33m=\u001b[0m\u001b[1;36m0\u001b[0m\u001b[1;33m)\u001b[0m\u001b[1;33m)\u001b[0m\u001b[1;33m.\u001b[0m\u001b[0mastype\u001b[0m\u001b[1;33m(\u001b[0m\u001b[0mint\u001b[0m\u001b[1;33m)\u001b[0m\u001b[1;33m\u001b[0m\u001b[0m\n\u001b[1;32m----> 2\u001b[1;33m \u001b[0mpreds_all\u001b[0m\u001b[1;33m=\u001b[0m\u001b[1;33m(\u001b[0m\u001b[0mnp\u001b[0m\u001b[1;33m.\u001b[0m\u001b[0mconcatenate\u001b[0m\u001b[1;33m(\u001b[0m\u001b[1;33m(\u001b[0m\u001b[0mpred_probs_train\u001b[0m\u001b[1;33m,\u001b[0m \u001b[0mpred_probs_valid\u001b[0m\u001b[1;33m,\u001b[0m \u001b[0mpred_probs_test\u001b[0m\u001b[1;33m)\u001b[0m\u001b[1;33m,\u001b[0m \u001b[0maxis\u001b[0m\u001b[1;33m=\u001b[0m\u001b[1;36m0\u001b[0m\u001b[1;33m)\u001b[0m\u001b[1;33m)\u001b[0m\u001b[1;33m\u001b[0m\u001b[0m\n\u001b[0m\u001b[0;32m      3\u001b[0m \u001b[0mindx_all\u001b[0m\u001b[1;33m=\u001b[0m\u001b[1;33m(\u001b[0m\u001b[0mnp\u001b[0m\u001b[1;33m.\u001b[0m\u001b[0mconcatenate\u001b[0m\u001b[1;33m(\u001b[0m\u001b[1;33m(\u001b[0m\u001b[0mindx_train\u001b[0m\u001b[1;33m,\u001b[0m \u001b[0mindx_valid\u001b[0m\u001b[1;33m,\u001b[0m \u001b[0mindx_test\u001b[0m\u001b[1;33m)\u001b[0m\u001b[1;33m,\u001b[0m \u001b[0maxis\u001b[0m\u001b[1;33m=\u001b[0m\u001b[1;36m0\u001b[0m\u001b[1;33m)\u001b[0m\u001b[1;33m)\u001b[0m\u001b[1;33m\u001b[0m\u001b[0m\n\u001b[0;32m      4\u001b[0m \u001b[1;33m\u001b[0m\u001b[0m\n\u001b[0;32m      5\u001b[0m \u001b[0mlabels_test\u001b[0m \u001b[1;33m=\u001b[0m \u001b[0my_test\u001b[0m\u001b[1;33m\u001b[0m\u001b[0m\n",
      "\u001b[1;31mNameError\u001b[0m: name 'pred_probs_train' is not defined"
     ]
    }
   ],
   "source": [
    "labels_all=(np.concatenate((y_train, y_valid, y_test), axis=0)).astype(int)\n",
    "preds_all=(np.concatenate((pred_probs_train, pred_probs_valid, pred_probs_test), axis=0))\n",
    "indx_all=(np.concatenate((indx_train, indx_valid, indx_test), axis=0))\n",
    "\n",
    "labels_test = y_test\n",
    "preds_test = pred_probs_test\n",
    "indx_test = indx_test"
   ]
  },
  {
   "cell_type": "code",
   "execution_count": null,
   "metadata": {
    "collapsed": false
   },
   "outputs": [],
   "source": [
    "NumberOfNodes=2272\n",
    "preds_all_2d, labels_all_2d = get_2D(indx_all, preds_all, labels_all, NumberOfNodes)\n",
    "preds_test_2d, labels_test_2d = get_2D(indx_test, preds_test, labels_test, NumberOfNodes)"
   ]
  },
  {
   "cell_type": "code",
   "execution_count": null,
   "metadata": {
    "collapsed": false
   },
   "outputs": [],
   "source": [
    "printMatrix(preds_all_2d, '', 1, 1, title='preds')\n",
    "printMatrix(labels_all_2d, '', 1, 1, title='Captures')"
   ]
  },
  {
   "cell_type": "code",
   "execution_count": null,
   "metadata": {
    "collapsed": false
   },
   "outputs": [],
   "source": [
    "zoomIn_window = (0,2272)\n",
    "preds_thres = 0.99\n",
    "NumberOfNodes=2272\n",
    "plot_prediction(preds_all_2d, labels_all_2d, zoomIn_window, preds_thres)"
   ]
  },
  {
   "cell_type": "code",
   "execution_count": null,
   "metadata": {
    "collapsed": false
   },
   "outputs": [],
   "source": [
    "zoomIn_window = (0,200)\n",
    "preds_thres = 0.999\n",
    "NumberOfNodes=2272\n",
    "plot_prediction(preds_all_2d, labels_all_2d, zoomIn_window, preds_thres)"
   ]
  },
  {
   "cell_type": "code",
   "execution_count": null,
   "metadata": {
    "collapsed": false
   },
   "outputs": [],
   "source": [
    "zoomIn_window = (1500,1700)\n",
    "preds_thres = 0.98\n",
    "NumberOfNodes=2272\n",
    "plot_prediction(preds_all_2d, labels_all_2d, zoomIn_window, preds_thres)"
   ]
  },
  {
   "cell_type": "code",
   "execution_count": null,
   "metadata": {
    "collapsed": false
   },
   "outputs": [],
   "source": [
    "zoomIn_window = (1550,1650)\n",
    "preds_thres = 0.98\n",
    "NumberOfNodes=2272\n",
    "plot_prediction(preds_all_2d, labels_all_2d, zoomIn_window, preds_thres)"
   ]
  },
  {
   "cell_type": "code",
   "execution_count": null,
   "metadata": {
    "collapsed": true
   },
   "outputs": [],
   "source": []
  }
 ],
 "metadata": {
  "kernelspec": {
   "display_name": "Python 2",
   "language": "python",
   "name": "python2"
  },
  "language_info": {
   "codemirror_mode": {
    "name": "ipython",
    "version": 2
   },
   "file_extension": ".py",
   "mimetype": "text/x-python",
   "name": "python",
   "nbconvert_exporter": "python",
   "pygments_lexer": "ipython2",
   "version": "2.7.11"
  }
 },
 "nbformat": 4,
 "nbformat_minor": 0
}
