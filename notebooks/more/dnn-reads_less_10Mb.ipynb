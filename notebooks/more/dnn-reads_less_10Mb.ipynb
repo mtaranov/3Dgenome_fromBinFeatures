{
 "cells": [
  {
   "cell_type": "code",
   "execution_count": 1,
   "metadata": {
    "collapsed": false
   },
   "outputs": [
    {
     "name": "stderr",
     "output_type": "stream",
     "text": [
      "Using Theano backend.\n",
      "/users/mtaranov/local/anaconda2/lib/python2.7/site-packages/theano/tensor/signal/downsample.py:6: UserWarning: downsample module has been moved to the theano.tensor.signal.pool module.\n",
      "  \"downsample module has been moved to the theano.tensor.signal.pool module.\")\n"
     ]
    }
   ],
   "source": [
    "%matplotlib inline\n",
    "%load_ext autoreload\n",
    "%autoreload 2\n",
    "\n",
    "import numpy as np\n",
    "import matplotlib.pyplot as plt\n",
    "from sklearn.preprocessing import MinMaxScaler, StandardScaler\n",
    "import copy\n",
    "from models import LongRangeDNN\n",
    "from utils import get_features, get_labels, subsample_data, normalize_features, reconstruct_2d, printMatrix, binarize, zscore, get_2D, plot_prediction\n",
    "#from sklearn.preprocessing import MinMaxScaler, StandardScaler\n",
    "#from dragonn.models import Model, SequenceDNN\n",
    "#from keras.models import Sequential\n",
    "#from keras.callbacks import Callback, EarlyStopping\n",
    "#from keras.layers.core import (\n",
    "#    Activation, Dense, Dropout, Flatten,\n",
    "#    Permute, Reshape, TimeDistributedDense\n",
    "#)\n",
    "#from keras.layers.convolutional import Convolution2D, MaxPooling2D\n",
    "#from keras.layers.recurrent import GRU\n",
    "#from keras.regularizers import l1\n",
    "\n",
    "#from deeplift import keras_conversion as kc\n",
    "#from deeplift.blobs import MxtsMode"
   ]
  },
  {
   "cell_type": "code",
   "execution_count": 2,
   "metadata": {
    "collapsed": false
   },
   "outputs": [
    {
     "data": {
      "text/plain": [
       "\"\\nX_train = get_features(data_path+'train_set_upperTriangle_noDiag_reads.npy')\\ny_train = get_labels(data_path+'labels_train_upperTriangle_noDiag.npy')\\nX_valid = get_features(data_path+'vali_set_upperTriangle_noDiag_reads.npy')\\ny_valid = get_labels(data_path+'labels_vali_upperTriangle_noDiag.npy')\\nX_test = get_features(data_path+'test_set_upperTriangle_noDiag_reads.npy')\\ny_test = get_labels(data_path+'labels_test_upperTriangle_noDiag.npy')\\n\\nX_train = get_features('NN_datasets/train_set_all_reads.npy')\\ny_train = get_labels('NN_datasets/labels_train_all.npy')\\nX_valid = get_features('NN_datasets/vali_set_all_reads.npy')\\ny_valid = get_labels('NN_datasets/labels_vali_all.npy')\\nX_test = get_features('NN_datasets/test_set_all_reads.npy')\\ny_test = get_labels('NN_datasets/labels_test_all.npy')\\n\\nX_train_subsampled, y_train_subsampled = subsample_data(X_train, y_train)\\nX_valid_subsampled, y_valid_subsampled = subsample_data(X_valid, y_valid)\\nX_test_subsampled, y_test_subsampled = subsample_data(X_test, y_test)\\n\""
      ]
     },
     "execution_count": 2,
     "metadata": {},
     "output_type": "execute_result"
    }
   ],
   "source": [
    "data_path='/users/mtaranov/NN_all_data/'\n",
    "\n",
    "X_train = get_features('/users/mtaranov/NN_all_data/less_than_1Mb/train_set_upperTriangle_noDiag_reads_less_10Mb.npy')\n",
    "y_train = get_labels('/users/mtaranov/NN_all_data/less_than_1Mb/labels_train_upperTriangle_noDiag_reads_less_10Mb.npy')\n",
    "X_valid = get_features('/users/mtaranov/NN_all_data/less_than_1Mb/vali_set_upperTriangle_noDiag_reads_less_10Mb.npy')\n",
    "y_valid = get_labels('/users/mtaranov/NN_all_data/less_than_1Mb/labels_vali_upperTriangle_noDiag_reads_less_10Mb.npy')\n",
    "X_test = get_features('/users/mtaranov/NN_all_data/less_than_1Mb/test_set_upperTriangle_noDiag_reads_less_10Mb.npy')\n",
    "y_test = get_labels('/users/mtaranov/NN_all_data/less_than_1Mb/labels_test_upperTriangle_noDiag_reads_less_10Mb.npy')\n",
    "\n",
    "\"\"\"\n",
    "X_train = get_features(data_path+'train_set_upperTriangle_noDiag_reads.npy')\n",
    "y_train = get_labels(data_path+'labels_train_upperTriangle_noDiag.npy')\n",
    "X_valid = get_features(data_path+'vali_set_upperTriangle_noDiag_reads.npy')\n",
    "y_valid = get_labels(data_path+'labels_vali_upperTriangle_noDiag.npy')\n",
    "X_test = get_features(data_path+'test_set_upperTriangle_noDiag_reads.npy')\n",
    "y_test = get_labels(data_path+'labels_test_upperTriangle_noDiag.npy')\n",
    "\n",
    "X_train = get_features('NN_datasets/train_set_all_reads.npy')\n",
    "y_train = get_labels('NN_datasets/labels_train_all.npy')\n",
    "X_valid = get_features('NN_datasets/vali_set_all_reads.npy')\n",
    "y_valid = get_labels('NN_datasets/labels_vali_all.npy')\n",
    "X_test = get_features('NN_datasets/test_set_all_reads.npy')\n",
    "y_test = get_labels('NN_datasets/labels_test_all.npy')\n",
    "\n",
    "X_train_subsampled, y_train_subsampled = subsample_data(X_train, y_train)\n",
    "X_valid_subsampled, y_valid_subsampled = subsample_data(X_valid, y_valid)\n",
    "X_test_subsampled, y_test_subsampled = subsample_data(X_test, y_test)\n",
    "\"\"\""
   ]
  },
  {
   "cell_type": "code",
   "execution_count": 3,
   "metadata": {
    "collapsed": false
   },
   "outputs": [
    {
     "data": {
      "text/plain": [
       "'\\nX_train_normalized_subsampled, y_train_subsampled = subsample_data(X_train_normalized, y_train)\\nX_valid_normalized_subsampled, y_valid_subsampled = subsample_data(X_valid_normalized, y_valid)\\nX_test_normalized_subsampled, y_test_subsampled = subsample_data(X_test_normalized, y_test)\\n\\nX_train_scaled_subsampled, y_train_subsampled = subsample_data(X_train_scaled, y_train)\\nX_valid_scaled_subsampled, y_valid_subsampled = subsample_data(X_valid_scaled, y_valid)\\nX_test_scaled_subsampled, y_test_subsampled = subsample_data(X_test_scaled, y_test)\\n'"
      ]
     },
     "execution_count": 3,
     "metadata": {},
     "output_type": "execute_result"
    }
   ],
   "source": [
    "\"\"\"\n",
    "X_train_normalized_subsampled, y_train_subsampled = subsample_data(X_train_normalized, y_train)\n",
    "X_valid_normalized_subsampled, y_valid_subsampled = subsample_data(X_valid_normalized, y_valid)\n",
    "X_test_normalized_subsampled, y_test_subsampled = subsample_data(X_test_normalized, y_test)\n",
    "\n",
    "X_train_scaled_subsampled, y_train_subsampled = subsample_data(X_train_scaled, y_train)\n",
    "X_valid_scaled_subsampled, y_valid_subsampled = subsample_data(X_valid_scaled, y_valid)\n",
    "X_test_scaled_subsampled, y_test_subsampled = subsample_data(X_test_scaled, y_test)\n",
    "\"\"\""
   ]
  },
  {
   "cell_type": "code",
   "execution_count": 4,
   "metadata": {
    "collapsed": false
   },
   "outputs": [],
   "source": [
    "X_train_normalized, X_valid_normalized, X_test_normalized = normalize_features(X_train, X_valid, X_test)\n",
    "\n",
    "X_train_normalized_subsampled, y_train_subsampled = subsample_data(X_train_normalized, y_train)\n",
    "X_valid_normalized_subsampled, y_valid_subsampled = subsample_data(X_valid_normalized, y_valid)\n",
    "X_test_normalized_subsampled, y_test_subsampled = subsample_data(X_test_normalized, y_test)\n",
    "\n",
    "\n",
    "#X_train_scaled_subsampled, y_train_subsampled = subsample_data(X_train_scaled, y_train)\n",
    "#X_valid_scaled_subsampled, y_valid_subsampled = subsample_data(X_valid_scaled, y_valid)\n",
    "#X_test_scaled_subsampled, y_test_subsampled = subsample_data(X_test_scaled, y_test)\n"
   ]
  },
  {
   "cell_type": "markdown",
   "metadata": {},
   "source": [
    "# without distance"
   ]
  },
  {
   "cell_type": "code",
   "execution_count": 5,
   "metadata": {
    "collapsed": true
   },
   "outputs": [],
   "source": [
    "dnn_normalized = LongRangeDNN(num_features=10, use_deep_CNN=True)"
   ]
  },
  {
   "cell_type": "code",
   "execution_count": 7,
   "metadata": {
    "collapsed": false
   },
   "outputs": [
    {
     "name": "stdout",
     "output_type": "stream",
     "text": [
      "Training model...\n",
      "Train on 126798 samples, validate on 76418 samples\n",
      "Epoch 1/100\n",
      "126798/126798 [==============================] - 2s - loss: 1.2006 - val_loss: 0.7059\n",
      "Epoch 0: validation loss: 0.706\n",
      "Balanced Accuracy: 58.99%\t auROC: 0.632\t auPRC: 0.132\t auPRG: 0.447\n",
      "Recall at 5%|10%|20% FDR: 0.0%|0.0%|0.0%\t Num Positives: 6720\t Num Negatives: 69698\t \n",
      "\n",
      "Epoch 2/100\n",
      "126798/126798 [==============================] - 2s - loss: 1.1950 - val_loss: 0.7074\n",
      "Epoch 1: validation loss: 0.707\n",
      "Balanced Accuracy: 59.29%\t auROC: 0.636\t auPRC: 0.136\t auPRG: 0.465\n",
      "Recall at 5%|10%|20% FDR: 0.0%|0.0%|0.0%\t Num Positives: 6720\t Num Negatives: 69698\t \n",
      "\n",
      "Epoch 3/100\n",
      "126798/126798 [==============================] - 3s - loss: 1.1918 - val_loss: 0.7170\n",
      "Epoch 2: validation loss: 0.717\n",
      "Balanced Accuracy: 59.49%\t auROC: 0.638\t auPRC: 0.136\t auPRG: 0.464\n",
      "Recall at 5%|10%|20% FDR: 0.0%|0.0%|0.0%\t Num Positives: 6720\t Num Negatives: 69698\t \n",
      "\n",
      "Epoch 4/100\n",
      "126798/126798 [==============================] - 3s - loss: 1.1900 - val_loss: 0.6210\n",
      "Epoch 3: validation loss: 0.621\n",
      "Balanced Accuracy: 59.25%\t auROC: 0.638\t auPRC: 0.138\t auPRG: 0.479\n",
      "Recall at 5%|10%|20% FDR: 0.0%|0.0%|0.0%\t Num Positives: 6720\t Num Negatives: 69698\t \n",
      "\n",
      "Epoch 5/100\n",
      "126798/126798 [==============================] - 3s - loss: 1.1848 - val_loss: 0.6808\n",
      "Epoch 4: validation loss: 0.681\n",
      "Balanced Accuracy: 59.66%\t auROC: 0.640\t auPRC: 0.139\t auPRG: 0.466\n",
      "Recall at 5%|10%|20% FDR: 0.0%|0.0%|0.0%\t Num Positives: 6720\t Num Negatives: 69698\t \n",
      "\n",
      "Epoch 6/100\n",
      "126798/126798 [==============================] - 2s - loss: 1.1811 - val_loss: 0.6818\n",
      "Epoch 5: validation loss: 0.682\n",
      "Balanced Accuracy: 59.56%\t auROC: 0.642\t auPRC: 0.140\t auPRG: 0.483\n",
      "Recall at 5%|10%|20% FDR: 0.0%|0.0%|0.0%\t Num Positives: 6720\t Num Negatives: 69698\t \n",
      "\n",
      "Epoch 7/100\n",
      "126798/126798 [==============================] - 2s - loss: 1.1786 - val_loss: 0.6611\n",
      "Epoch 6: validation loss: 0.661\n",
      "Balanced Accuracy: 59.62%\t auROC: 0.641\t auPRC: 0.138\t auPRG: 0.469\n",
      "Recall at 5%|10%|20% FDR: 0.0%|0.0%|0.0%\t Num Positives: 6720\t Num Negatives: 69698\t \n",
      "\n",
      "Epoch 8/100\n",
      "126798/126798 [==============================] - 2s - loss: 1.1759 - val_loss: 0.6766\n",
      "Epoch 7: validation loss: 0.677\n",
      "Balanced Accuracy: 59.98%\t auROC: 0.645\t auPRC: 0.140\t auPRG: 0.472\n",
      "Recall at 5%|10%|20% FDR: 0.0%|0.0%|0.0%\t Num Positives: 6720\t Num Negatives: 69698\t \n",
      "\n",
      "Epoch 9/100\n",
      "126798/126798 [==============================] - 3s - loss: 1.1716 - val_loss: 0.6419\n",
      "Epoch 8: validation loss: 0.642\n",
      "Balanced Accuracy: 60.01%\t auROC: 0.646\t auPRC: 0.141\t auPRG: 0.489\n",
      "Recall at 5%|10%|20% FDR: 0.0%|0.0%|0.0%\t Num Positives: 6720\t Num Negatives: 69698\t \n",
      "\n",
      "Epoch 10/100\n",
      "126798/126798 [==============================] - 3s - loss: 1.1670 - val_loss: 0.6477\n",
      "Epoch 9: validation loss: 0.648\n",
      "Balanced Accuracy: 60.24%\t auROC: 0.646\t auPRC: 0.140\t auPRG: 0.487\n",
      "Recall at 5%|10%|20% FDR: 0.0%|0.0%|0.0%\t Num Positives: 6720\t Num Negatives: 69698\t \n",
      "\n",
      "Epoch 11/100\n",
      "126798/126798 [==============================] - 3s - loss: 1.1652 - val_loss: 0.6459\n",
      "Epoch 10: validation loss: 0.646\n",
      "Balanced Accuracy: 60.01%\t auROC: 0.644\t auPRC: 0.140\t auPRG: 0.488\n",
      "Recall at 5%|10%|20% FDR: 0.0%|0.0%|0.0%\t Num Positives: 6720\t Num Negatives: 69698\t \n",
      "\n",
      "Epoch 12/100\n",
      "126798/126798 [==============================] - 3s - loss: 1.1622 - val_loss: 0.6678\n",
      "Epoch 11: validation loss: 0.668\n",
      "Balanced Accuracy: 60.19%\t auROC: 0.648\t auPRC: 0.142\t auPRG: 0.494\n",
      "Recall at 5%|10%|20% FDR: 0.0%|0.0%|0.0%\t Num Positives: 6720\t Num Negatives: 69698\t \n",
      "\n",
      "Epoch 13/100\n",
      "126798/126798 [==============================] - 3s - loss: 1.1600 - val_loss: 0.6538\n",
      "Epoch 12: validation loss: 0.654\n",
      "Balanced Accuracy: 60.42%\t auROC: 0.648\t auPRC: 0.143\t auPRG: 0.495\n",
      "Recall at 5%|10%|20% FDR: 0.0%|0.0%|0.0%\t Num Positives: 6720\t Num Negatives: 69698\t \n",
      "\n",
      "Epoch 14/100\n",
      "126798/126798 [==============================] - 2s - loss: 1.1560 - val_loss: 0.7090\n",
      "Epoch 13: validation loss: 0.709\n",
      "Balanced Accuracy: 60.03%\t auROC: 0.648\t auPRC: 0.143\t auPRG: 0.497\n",
      "Recall at 5%|10%|20% FDR: 0.0%|0.0%|0.0%\t Num Positives: 6720\t Num Negatives: 69698\t \n",
      "\n",
      "Epoch 15/100\n",
      "126798/126798 [==============================] - 2s - loss: 1.1514 - val_loss: 0.6341\n",
      "Epoch 14: validation loss: 0.634\n",
      "Balanced Accuracy: 60.29%\t auROC: 0.651\t auPRC: 0.145\t auPRG: 0.508\n",
      "Recall at 5%|10%|20% FDR: 0.0%|0.0%|0.0%\t Num Positives: 6720\t Num Negatives: 69698\t \n",
      "\n"
     ]
    }
   ],
   "source": [
    "#validation_data = (X_valid_normalized_subsampled[:, :, :10, :], y_valid_subsampled)\n",
    "#dnn_normalized.train(X_train_normalized_subsampled[:, :, :10, :], y_train_subsampled, validation_data)\n",
    "validation_data = (X_valid_normalized[:, :, :10, :], y_valid)\n",
    "dnn_normalized.train(X_train_normalized[:, :, :10, :], y_train, validation_data)"
   ]
  },
  {
   "cell_type": "code",
   "execution_count": 8,
   "metadata": {
    "collapsed": false
   },
   "outputs": [
    {
     "name": "stdout",
     "output_type": "stream",
     "text": [
      "Balanced Accuracy: 60.27%\t auROC: 0.650\t auPRC: 0.143\t auPRG: 0.511\n",
      "Recall at 5%|10%|20% FDR: 0.0%|0.0%|0.0%\t Num Positives: 4459\t Num Negatives: 46100\t \n"
     ]
    }
   ],
   "source": [
    "print(dnn_normalized.test(X_test_normalized[:, :, :10, :], y_test))"
   ]
  },
  {
   "cell_type": "markdown",
   "metadata": {},
   "source": [
    "# with genomic locations"
   ]
  },
  {
   "cell_type": "code",
   "execution_count": 9,
   "metadata": {
    "collapsed": true
   },
   "outputs": [],
   "source": [
    "dnn_normalized = LongRangeDNN(num_features=11, use_deep_CNN=True)"
   ]
  },
  {
   "cell_type": "code",
   "execution_count": 10,
   "metadata": {
    "collapsed": false
   },
   "outputs": [
    {
     "name": "stdout",
     "output_type": "stream",
     "text": [
      "Training model...\n",
      "Train on 126798 samples, validate on 76418 samples\n",
      "Epoch 1/100\n",
      "126798/126798 [==============================] - 3s - loss: 1.2866 - val_loss: 0.7033\n",
      "Epoch 0: validation loss: 0.703\n",
      "Balanced Accuracy: 54.23%\t auROC: 0.564\t auPRC: 0.109\t auPRG: 0.272\n",
      "Recall at 5%|10%|20% FDR: 0.0%|0.0%|0.0%\t Num Positives: 6720\t Num Negatives: 69698\t \n",
      "\n",
      "Epoch 2/100\n",
      "126798/126798 [==============================] - 3s - loss: 1.2682 - val_loss: 0.7529\n",
      "Epoch 1: validation loss: 0.753\n",
      "Balanced Accuracy: 56.64%\t auROC: 0.598\t auPRC: 0.117\t auPRG: 0.320\n",
      "Recall at 5%|10%|20% FDR: 0.1%|0.1%|0.1%\t Num Positives: 6720\t Num Negatives: 69698\t \n",
      "\n",
      "Epoch 3/100\n",
      "126798/126798 [==============================] - 3s - loss: 1.2467 - val_loss: 0.7064\n",
      "Epoch 2: validation loss: 0.706\n",
      "Balanced Accuracy: 58.80%\t auROC: 0.626\t auPRC: 0.130\t auPRG: 0.451\n",
      "Recall at 5%|10%|20% FDR: 0.0%|0.0%|0.0%\t Num Positives: 6720\t Num Negatives: 69698\t \n",
      "\n",
      "Epoch 4/100\n",
      "126798/126798 [==============================] - 2s - loss: 1.2190 - val_loss: 0.6398\n",
      "Epoch 3: validation loss: 0.640\n",
      "Balanced Accuracy: 62.11%\t auROC: 0.669\t auPRC: 0.151\t auPRG: 0.557\n",
      "Recall at 5%|10%|20% FDR: 0.0%|0.0%|0.0%\t Num Positives: 6720\t Num Negatives: 69698\t \n",
      "\n",
      "Epoch 5/100\n",
      "126798/126798 [==============================] - 2s - loss: 1.1589 - val_loss: 0.6755\n",
      "Epoch 4: validation loss: 0.676\n",
      "Balanced Accuracy: 67.56%\t auROC: 0.748\t auPRC: 0.207\t auPRG: 0.723\n",
      "Recall at 5%|10%|20% FDR: 0.0%|0.0%|0.0%\t Num Positives: 6720\t Num Negatives: 69698\t \n",
      "\n",
      "Epoch 6/100\n",
      "126798/126798 [==============================] - 3s - loss: 1.0076 - val_loss: 0.5493\n",
      "Epoch 5: validation loss: 0.549\n",
      "Balanced Accuracy: 73.79%\t auROC: 0.821\t auPRC: 0.312\t auPRG: 0.857\n",
      "Recall at 5%|10%|20% FDR: 0.0%|0.0%|0.0%\t Num Positives: 6720\t Num Negatives: 69698\t \n",
      "\n",
      "Epoch 7/100\n",
      "126798/126798 [==============================] - 2s - loss: 0.8650 - val_loss: 0.4179\n",
      "Epoch 6: validation loss: 0.418\n",
      "Balanced Accuracy: 76.65%\t auROC: 0.860\t auPRC: 0.378\t auPRG: 0.902\n",
      "Recall at 5%|10%|20% FDR: 0.0%|0.0%|0.0%\t Num Positives: 6720\t Num Negatives: 69698\t \n",
      "\n",
      "Epoch 8/100\n",
      "126798/126798 [==============================] - 2s - loss: 0.7411 - val_loss: 0.3894\n",
      "Epoch 7: validation loss: 0.389\n",
      "Balanced Accuracy: 83.24%\t auROC: 0.909\t auPRC: 0.484\t auPRG: 0.939\n",
      "Recall at 5%|10%|20% FDR: 0.0%|0.0%|0.0%\t Num Positives: 6720\t Num Negatives: 69698\t \n",
      "\n",
      "Epoch 9/100\n",
      "126798/126798 [==============================] - 3s - loss: 0.6450 - val_loss: 0.3179\n",
      "Epoch 8: validation loss: 0.318\n",
      "Balanced Accuracy: 87.13%\t auROC: 0.940\t auPRC: 0.591\t auPRG: 0.961\n",
      "Recall at 5%|10%|20% FDR: 0.0%|0.0%|1.0%\t Num Positives: 6720\t Num Negatives: 69698\t \n",
      "\n",
      "Epoch 10/100\n",
      "126798/126798 [==============================] - 2s - loss: 0.5655 - val_loss: 0.2995\n",
      "Epoch 9: validation loss: 0.300\n",
      "Balanced Accuracy: 88.91%\t auROC: 0.950\t auPRC: 0.592\t auPRG: 0.954\n",
      "Recall at 5%|10%|20% FDR: 0.0%|0.0%|0.0%\t Num Positives: 6720\t Num Negatives: 69698\t \n",
      "\n",
      "Epoch 11/100\n",
      "126798/126798 [==============================] - 3s - loss: 0.5205 - val_loss: 0.2887\n",
      "Epoch 10: validation loss: 0.289\n",
      "Balanced Accuracy: 87.83%\t auROC: 0.944\t auPRC: 0.589\t auPRG: 0.958\n",
      "Recall at 5%|10%|20% FDR: 0.0%|0.0%|1.1%\t Num Positives: 6720\t Num Negatives: 69698\t \n",
      "\n",
      "Epoch 12/100\n",
      "126798/126798 [==============================] - 3s - loss: 0.4831 - val_loss: 0.2838\n",
      "Epoch 11: validation loss: 0.284\n",
      "Balanced Accuracy: 90.57%\t auROC: 0.961\t auPRC: 0.678\t auPRG: 0.974\n",
      "Recall at 5%|10%|20% FDR: 0.0%|0.0%|25.8%\t Num Positives: 6720\t Num Negatives: 69698\t \n",
      "\n",
      "Epoch 13/100\n",
      "126798/126798 [==============================] - 2s - loss: 0.4492 - val_loss: 0.3511\n",
      "Epoch 12: validation loss: 0.351\n",
      "Balanced Accuracy: 89.58%\t auROC: 0.957\t auPRC: 0.644\t auPRG: 0.967\n",
      "Recall at 5%|10%|20% FDR: 0.0%|0.0%|0.0%\t Num Positives: 6720\t Num Negatives: 69698\t \n",
      "\n",
      "Epoch 14/100\n",
      "126798/126798 [==============================] - 2s - loss: 0.4394 - val_loss: 0.2509\n",
      "Epoch 13: validation loss: 0.251\n",
      "Balanced Accuracy: 90.86%\t auROC: 0.961\t auPRC: 0.655\t auPRG: 0.969\n",
      "Recall at 5%|10%|20% FDR: 0.0%|0.0%|14.3%\t Num Positives: 6720\t Num Negatives: 69698\t \n",
      "\n",
      "Epoch 15/100\n",
      "126798/126798 [==============================] - 2s - loss: 0.4118 - val_loss: 0.2572\n",
      "Epoch 14: validation loss: 0.257\n",
      "Balanced Accuracy: 91.40%\t auROC: 0.967\t auPRC: 0.709\t auPRG: 0.977\n",
      "Recall at 5%|10%|20% FDR: 0.0%|0.0%|36.0%\t Num Positives: 6720\t Num Negatives: 69698\t \n",
      "\n",
      "Epoch 16/100\n",
      "126798/126798 [==============================] - 3s - loss: 0.4005 - val_loss: 0.2307\n",
      "Epoch 15: validation loss: 0.231\n",
      "Balanced Accuracy: 92.32%\t auROC: 0.974\t auPRC: 0.766\t auPRG: 0.984\n",
      "Recall at 5%|10%|20% FDR: 0.0%|0.0%|56.2%\t Num Positives: 6720\t Num Negatives: 69698\t \n",
      "\n",
      "Epoch 17/100\n",
      "126798/126798 [==============================] - 3s - loss: 0.3922 - val_loss: 0.2084\n",
      "Epoch 16: validation loss: 0.208\n",
      "Balanced Accuracy: 91.23%\t auROC: 0.968\t auPRC: 0.740\t auPRG: 0.983\n",
      "Recall at 5%|10%|20% FDR: 0.0%|9.9%|46.4%\t Num Positives: 6720\t Num Negatives: 69698\t \n",
      "\n",
      "Epoch 18/100\n",
      "126798/126798 [==============================] - 2s - loss: 0.3828 - val_loss: 0.2029\n",
      "Epoch 17: validation loss: 0.203\n",
      "Balanced Accuracy: 91.95%\t auROC: 0.969\t auPRC: 0.729\t auPRG: 0.981\n",
      "Recall at 5%|10%|20% FDR: 0.1%|10.4%|34.9%\t Num Positives: 6720\t Num Negatives: 69698\t \n",
      "\n",
      "Epoch 19/100\n",
      "126798/126798 [==============================] - 2s - loss: 0.3678 - val_loss: 0.2381\n",
      "Epoch 18: validation loss: 0.238\n",
      "Balanced Accuracy: 92.48%\t auROC: 0.976\t auPRC: 0.783\t auPRG: 0.986\n",
      "Recall at 5%|10%|20% FDR: 0.1%|16.6%|59.3%\t Num Positives: 6720\t Num Negatives: 69698\t \n",
      "\n",
      "Epoch 20/100\n",
      "126798/126798 [==============================] - 3s - loss: 0.3786 - val_loss: 0.2596\n",
      "Epoch 19: validation loss: 0.260\n",
      "Balanced Accuracy: 91.01%\t auROC: 0.964\t auPRC: 0.711\t auPRG: 0.981\n",
      "Recall at 5%|10%|20% FDR: 1.9%|13.3%|34.7%\t Num Positives: 6720\t Num Negatives: 69698\t \n",
      "\n",
      "Epoch 21/100\n",
      "126798/126798 [==============================] - 3s - loss: 0.3587 - val_loss: 0.3090\n",
      "Epoch 20: validation loss: 0.309\n",
      "Balanced Accuracy: 91.59%\t auROC: 0.971\t auPRC: 0.744\t auPRG: 0.981\n",
      "Recall at 5%|10%|20% FDR: 0.1%|0.2%|51.2%\t Num Positives: 6720\t Num Negatives: 69698\t \n",
      "\n",
      "Epoch 22/100\n",
      "126798/126798 [==============================] - 2s - loss: 0.3597 - val_loss: 0.2150\n",
      "Epoch 21: validation loss: 0.215\n",
      "Balanced Accuracy: 92.24%\t auROC: 0.973\t auPRC: 0.765\t auPRG: 0.985\n",
      "Recall at 5%|10%|20% FDR: 0.1%|12.7%|52.2%\t Num Positives: 6720\t Num Negatives: 69698\t \n",
      "\n",
      "Epoch 23/100\n",
      "126798/126798 [==============================] - 2s - loss: 0.3611 - val_loss: 0.2364\n",
      "Epoch 22: validation loss: 0.236\n",
      "Balanced Accuracy: 92.53%\t auROC: 0.975\t auPRC: 0.778\t auPRG: 0.986\n",
      "Recall at 5%|10%|20% FDR: 0.1%|17.6%|58.8%\t Num Positives: 6720\t Num Negatives: 69698\t \n",
      "\n",
      "Epoch 24/100\n",
      "126798/126798 [==============================] - 2s - loss: 0.3550 - val_loss: 0.1778\n",
      "Epoch 23: validation loss: 0.178\n",
      "Balanced Accuracy: 93.13%\t auROC: 0.977\t auPRC: 0.792\t auPRG: 0.987\n",
      "Recall at 5%|10%|20% FDR: 0.0%|21.4%|60.2%\t Num Positives: 6720\t Num Negatives: 69698\t \n",
      "\n",
      "Epoch 25/100\n",
      "126798/126798 [==============================] - 2s - loss: 0.3510 - val_loss: 0.2060\n",
      "Epoch 24: validation loss: 0.206\n",
      "Balanced Accuracy: 91.47%\t auROC: 0.969\t auPRC: 0.722\t auPRG: 0.979\n",
      "Recall at 5%|10%|20% FDR: 0.1%|0.1%|37.2%\t Num Positives: 6720\t Num Negatives: 69698\t \n",
      "\n",
      "Epoch 26/100\n",
      "126798/126798 [==============================] - 2s - loss: 0.3483 - val_loss: 0.2564\n",
      "Epoch 25: validation loss: 0.256\n",
      "Balanced Accuracy: 92.52%\t auROC: 0.976\t auPRC: 0.787\t auPRG: 0.987\n",
      "Recall at 5%|10%|20% FDR: 0.1%|30.3%|58.9%\t Num Positives: 6720\t Num Negatives: 69698\t \n",
      "\n",
      "Epoch 27/100\n",
      "126798/126798 [==============================] - 2s - loss: 0.3482 - val_loss: 0.2243\n",
      "Epoch 26: validation loss: 0.224\n",
      "Balanced Accuracy: 93.29%\t auROC: 0.978\t auPRC: 0.795\t auPRG: 0.986\n",
      "Recall at 5%|10%|20% FDR: 0.2%|23.1%|62.9%\t Num Positives: 6720\t Num Negatives: 69698\t \n",
      "\n",
      "Epoch 28/100\n",
      "126798/126798 [==============================] - 2s - loss: 0.3378 - val_loss: 0.3991\n",
      "Epoch 27: validation loss: 0.399\n",
      "Balanced Accuracy: 90.87%\t auROC: 0.969\t auPRC: 0.739\t auPRG: 0.980\n",
      "Recall at 5%|10%|20% FDR: 0.8%|1.8%|51.7%\t Num Positives: 6720\t Num Negatives: 69698\t \n",
      "\n",
      "Epoch 29/100\n",
      "126798/126798 [==============================] - 2s - loss: 0.3396 - val_loss: 0.2231\n",
      "Epoch 28: validation loss: 0.223\n",
      "Balanced Accuracy: 92.64%\t auROC: 0.975\t auPRC: 0.788\t auPRG: 0.987\n",
      "Recall at 5%|10%|20% FDR: 2.9%|27.3%|60.0%\t Num Positives: 6720\t Num Negatives: 69698\t \n",
      "\n",
      "Epoch 30/100\n",
      "126798/126798 [==============================] - 2s - loss: 0.3317 - val_loss: 0.1789\n",
      "Epoch 29: validation loss: 0.179\n",
      "Balanced Accuracy: 92.97%\t auROC: 0.977\t auPRC: 0.791\t auPRG: 0.989\n",
      "Recall at 5%|10%|20% FDR: 0.0%|30.1%|55.4%\t Num Positives: 6720\t Num Negatives: 69698\t \n",
      "\n",
      "Epoch 31/100\n",
      "126798/126798 [==============================] - 2s - loss: 0.3290 - val_loss: 0.2254\n",
      "Epoch 30: validation loss: 0.225\n",
      "Balanced Accuracy: 92.97%\t auROC: 0.979\t auPRC: 0.811\t auPRG: 0.988\n",
      "Recall at 5%|10%|20% FDR: 0.7%|41.2%|66.4%\t Num Positives: 6720\t Num Negatives: 69698\t \n",
      "\n",
      "Epoch 32/100\n",
      "126798/126798 [==============================] - 2s - loss: 0.3372 - val_loss: 0.2013\n",
      "Epoch 31: validation loss: 0.201\n",
      "Balanced Accuracy: 93.33%\t auROC: 0.980\t auPRC: 0.818\t auPRG: 0.990\n",
      "Recall at 5%|10%|20% FDR: 2.4%|37.6%|68.5%\t Num Positives: 6720\t Num Negatives: 69698\t \n",
      "\n",
      "Epoch 33/100\n",
      "126798/126798 [==============================] - 3s - loss: 0.3308 - val_loss: 0.1745\n",
      "Epoch 32: validation loss: 0.175\n",
      "Balanced Accuracy: 92.71%\t auROC: 0.977\t auPRC: 0.795\t auPRG: 0.988\n",
      "Recall at 5%|10%|20% FDR: 1.3%|29.3%|60.2%\t Num Positives: 6720\t Num Negatives: 69698\t \n",
      "\n",
      "Epoch 34/100\n",
      "126798/126798 [==============================] - 2s - loss: 0.3332 - val_loss: 0.2206\n",
      "Epoch 33: validation loss: 0.221\n",
      "Balanced Accuracy: 93.36%\t auROC: 0.980\t auPRC: 0.814\t auPRG: 0.989\n",
      "Recall at 5%|10%|20% FDR: 0.1%|28.1%|68.7%\t Num Positives: 6720\t Num Negatives: 69698\t \n",
      "\n",
      "Epoch 35/100\n",
      "126798/126798 [==============================] - 2s - loss: 0.3199 - val_loss: 0.1839\n",
      "Epoch 34: validation loss: 0.184\n",
      "Balanced Accuracy: 86.07%\t auROC: 0.963\t auPRC: 0.728\t auPRG: 0.986\n",
      "Recall at 5%|10%|20% FDR: 13.3%|25.2%|46.3%\t Num Positives: 6720\t Num Negatives: 69698\t \n",
      "\n",
      "Epoch 36/100\n",
      "126798/126798 [==============================] - 2s - loss: 0.3366 - val_loss: 0.1925\n",
      "Epoch 35: validation loss: 0.193\n",
      "Balanced Accuracy: 93.43%\t auROC: 0.980\t auPRC: 0.829\t auPRG: 0.991\n",
      "Recall at 5%|10%|20% FDR: 13.3%|43.9%|69.3%\t Num Positives: 6720\t Num Negatives: 69698\t \n",
      "\n",
      "Epoch 37/100\n",
      "126798/126798 [==============================] - 3s - loss: 0.3264 - val_loss: 0.2059\n",
      "Epoch 36: validation loss: 0.206\n",
      "Balanced Accuracy: 93.70%\t auROC: 0.981\t auPRC: 0.832\t auPRG: 0.991\n",
      "Recall at 5%|10%|20% FDR: 10.4%|32.7%|73.8%\t Num Positives: 6720\t Num Negatives: 69698\t \n",
      "\n",
      "Epoch 38/100\n",
      "126798/126798 [==============================] - 3s - loss: 0.3245 - val_loss: 0.1731\n",
      "Epoch 37: validation loss: 0.173\n",
      "Balanced Accuracy: 93.40%\t auROC: 0.979\t auPRC: 0.810\t auPRG: 0.990\n",
      "Recall at 5%|10%|20% FDR: 6.4%|32.2%|63.6%\t Num Positives: 6720\t Num Negatives: 69698\t \n",
      "\n",
      "Epoch 39/100\n",
      "126798/126798 [==============================] - 2s - loss: 0.3217 - val_loss: 0.3218\n",
      "Epoch 38: validation loss: 0.322\n",
      "Balanced Accuracy: 92.34%\t auROC: 0.979\t auPRC: 0.827\t auPRG: 0.991\n",
      "Recall at 5%|10%|20% FDR: 11.1%|45.2%|69.0%\t Num Positives: 6720\t Num Negatives: 69698\t \n",
      "\n",
      "Epoch 40/100\n",
      "126798/126798 [==============================] - 2s - loss: 0.3221 - val_loss: 0.1576\n",
      "Epoch 39: validation loss: 0.158\n",
      "Balanced Accuracy: 93.99%\t auROC: 0.981\t auPRC: 0.832\t auPRG: 0.992\n",
      "Recall at 5%|10%|20% FDR: 16.3%|36.4%|69.9%\t Num Positives: 6720\t Num Negatives: 69698\t \n",
      "\n",
      "Epoch 41/100\n",
      "126798/126798 [==============================] - 2s - loss: 0.3162 - val_loss: 0.1625\n",
      "Epoch 40: validation loss: 0.162\n",
      "Balanced Accuracy: 92.63%\t auROC: 0.976\t auPRC: 0.781\t auPRG: 0.986\n",
      "Recall at 5%|10%|20% FDR: 0.6%|17.6%|53.8%\t Num Positives: 6720\t Num Negatives: 69698\t \n",
      "\n",
      "Epoch 42/100\n",
      "126798/126798 [==============================] - 3s - loss: 0.3262 - val_loss: 0.1993\n",
      "Epoch 41: validation loss: 0.199\n",
      "Balanced Accuracy: 93.58%\t auROC: 0.980\t auPRC: 0.820\t auPRG: 0.990\n",
      "Recall at 5%|10%|20% FDR: 0.1%|33.1%|69.1%\t Num Positives: 6720\t Num Negatives: 69698\t \n",
      "\n",
      "Epoch 43/100\n",
      "126798/126798 [==============================] - 2s - loss: 0.3157 - val_loss: 0.1967\n",
      "Epoch 42: validation loss: 0.197\n",
      "Balanced Accuracy: 93.16%\t auROC: 0.977\t auPRC: 0.778\t auPRG: 0.983\n",
      "Recall at 5%|10%|20% FDR: 0.0%|0.0%|61.4%\t Num Positives: 6720\t Num Negatives: 69698\t \n",
      "\n",
      "Epoch 44/100\n",
      "126798/126798 [==============================] - 2s - loss: 0.3150 - val_loss: 0.1463\n",
      "Epoch 43: validation loss: 0.146\n",
      "Balanced Accuracy: 93.73%\t auROC: 0.982\t auPRC: 0.839\t auPRG: 0.991\n",
      "Recall at 5%|10%|20% FDR: 3.1%|46.2%|74.6%\t Num Positives: 6720\t Num Negatives: 69698\t \n",
      "\n",
      "Epoch 45/100\n",
      "126798/126798 [==============================] - 2s - loss: 0.3186 - val_loss: 0.2002\n",
      "Epoch 44: validation loss: 0.200\n",
      "Balanced Accuracy: 93.59%\t auROC: 0.979\t auPRC: 0.803\t auPRG: 0.988\n",
      "Recall at 5%|10%|20% FDR: 3.1%|27.1%|59.4%\t Num Positives: 6720\t Num Negatives: 69698\t \n",
      "\n",
      "Epoch 46/100\n",
      "126798/126798 [==============================] - 3s - loss: 0.3088 - val_loss: 0.1680\n",
      "Epoch 45: validation loss: 0.168\n",
      "Balanced Accuracy: 92.27%\t auROC: 0.975\t auPRC: 0.753\t auPRG: 0.979\n",
      "Recall at 5%|10%|20% FDR: 0.0%|0.0%|58.6%\t Num Positives: 6720\t Num Negatives: 69698\t \n",
      "\n",
      "Epoch 47/100\n",
      "126798/126798 [==============================] - 3s - loss: 0.3171 - val_loss: 0.1922\n",
      "Epoch 46: validation loss: 0.192\n",
      "Balanced Accuracy: 93.14%\t auROC: 0.977\t auPRC: 0.788\t auPRG: 0.987\n",
      "Recall at 5%|10%|20% FDR: 1.7%|26.4%|55.3%\t Num Positives: 6720\t Num Negatives: 69698\t \n",
      "\n",
      "Epoch 48/100\n",
      "126798/126798 [==============================] - 3s - loss: 0.3151 - val_loss: 0.1450\n",
      "Epoch 47: validation loss: 0.145\n",
      "Balanced Accuracy: 93.55%\t auROC: 0.980\t auPRC: 0.816\t auPRG: 0.989\n",
      "Recall at 5%|10%|20% FDR: 2.0%|30.0%|68.0%\t Num Positives: 6720\t Num Negatives: 69698\t \n",
      "\n",
      "Epoch 49/100\n",
      "126798/126798 [==============================] - 2s - loss: 0.3146 - val_loss: 0.1599\n",
      "Epoch 48: validation loss: 0.160\n",
      "Balanced Accuracy: 93.07%\t auROC: 0.978\t auPRC: 0.793\t auPRG: 0.986\n",
      "Recall at 5%|10%|20% FDR: 3.6%|19.8%|59.3%\t Num Positives: 6720\t Num Negatives: 69698\t \n",
      "\n",
      "Epoch 50/100\n",
      "126798/126798 [==============================] - 2s - loss: 0.3149 - val_loss: 0.2080\n",
      "Epoch 49: validation loss: 0.208\n",
      "Balanced Accuracy: 93.50%\t auROC: 0.979\t auPRC: 0.813\t auPRG: 0.989\n",
      "Recall at 5%|10%|20% FDR: 2.7%|32.0%|67.1%\t Num Positives: 6720\t Num Negatives: 69698\t \n",
      "\n",
      "Epoch 51/100\n",
      "126798/126798 [==============================] - 2s - loss: 0.3072 - val_loss: 0.1731\n",
      "Epoch 50: validation loss: 0.173\n",
      "Balanced Accuracy: 93.88%\t auROC: 0.983\t auPRC: 0.848\t auPRG: 0.992\n",
      "Recall at 5%|10%|20% FDR: 7.3%|53.0%|76.2%\t Num Positives: 6720\t Num Negatives: 69698\t \n",
      "\n",
      "Epoch 52/100\n",
      "126798/126798 [==============================] - 2s - loss: 0.3170 - val_loss: 0.1945\n",
      "Epoch 51: validation loss: 0.195\n",
      "Balanced Accuracy: 93.80%\t auROC: 0.980\t auPRC: 0.814\t auPRG: 0.990\n",
      "Recall at 5%|10%|20% FDR: 9.6%|33.5%|64.9%\t Num Positives: 6720\t Num Negatives: 69698\t \n",
      "\n",
      "Epoch 53/100\n",
      "126798/126798 [==============================] - 2s - loss: 0.3016 - val_loss: 0.1950\n",
      "Epoch 52: validation loss: 0.195\n",
      "Balanced Accuracy: 93.56%\t auROC: 0.979\t auPRC: 0.807\t auPRG: 0.988\n",
      "Recall at 5%|10%|20% FDR: 0.1%|31.8%|63.1%\t Num Positives: 6720\t Num Negatives: 69698\t \n",
      "\n",
      "Epoch 54/100\n",
      "126798/126798 [==============================] - 2s - loss: 0.3038 - val_loss: 0.2061\n",
      "Epoch 53: validation loss: 0.206\n",
      "Balanced Accuracy: 93.80%\t auROC: 0.984\t auPRC: 0.861\t auPRG: 0.993\n",
      "Recall at 5%|10%|20% FDR: 29.2%|58.5%|78.6%\t Num Positives: 6720\t Num Negatives: 69698\t \n",
      "\n",
      "Epoch 55/100\n",
      "126798/126798 [==============================] - 3s - loss: 0.3088 - val_loss: 0.1344\n",
      "Epoch 54: validation loss: 0.134\n",
      "Balanced Accuracy: 92.96%\t auROC: 0.981\t auPRC: 0.830\t auPRG: 0.991\n",
      "Recall at 5%|10%|20% FDR: 5.6%|42.7%|69.1%\t Num Positives: 6720\t Num Negatives: 69698\t \n",
      "\n",
      "Epoch 56/100\n",
      "126798/126798 [==============================] - 2s - loss: 0.3086 - val_loss: 0.2580\n",
      "Epoch 55: validation loss: 0.258\n",
      "Balanced Accuracy: 92.69%\t auROC: 0.976\t auPRC: 0.796\t auPRG: 0.989\n",
      "Recall at 5%|10%|20% FDR: 3.5%|34.6%|58.1%\t Num Positives: 6720\t Num Negatives: 69698\t \n",
      "\n",
      "Epoch 57/100\n",
      "126798/126798 [==============================] - 2s - loss: 0.2969 - val_loss: 0.2072\n",
      "Epoch 56: validation loss: 0.207\n",
      "Balanced Accuracy: 93.72%\t auROC: 0.983\t auPRC: 0.856\t auPRG: 0.993\n",
      "Recall at 5%|10%|20% FDR: 18.2%|56.3%|76.9%\t Num Positives: 6720\t Num Negatives: 69698\t \n",
      "\n",
      "Epoch 58/100\n",
      "126798/126798 [==============================] - 3s - loss: 0.3079 - val_loss: 0.1412\n",
      "Epoch 57: validation loss: 0.141\n",
      "Balanced Accuracy: 93.99%\t auROC: 0.983\t auPRC: 0.834\t auPRG: 0.990\n",
      "Recall at 5%|10%|20% FDR: 0.0%|42.5%|75.1%\t Num Positives: 6720\t Num Negatives: 69698\t \n",
      "\n",
      "Epoch 59/100\n",
      "126798/126798 [==============================] - 2s - loss: 0.3091 - val_loss: 0.3528\n",
      "Epoch 58: validation loss: 0.353\n",
      "Balanced Accuracy: 92.20%\t auROC: 0.974\t auPRC: 0.775\t auPRG: 0.986\n",
      "Recall at 5%|10%|20% FDR: 0.0%|23.7%|55.2%\t Num Positives: 6720\t Num Negatives: 69698\t \n",
      "\n",
      "Epoch 60/100\n",
      "126798/126798 [==============================] - 2s - loss: 0.3051 - val_loss: 0.2029\n",
      "Epoch 59: validation loss: 0.203\n",
      "Balanced Accuracy: 93.37%\t auROC: 0.978\t auPRC: 0.808\t auPRG: 0.990\n",
      "Recall at 5%|10%|20% FDR: 2.1%|38.3%|59.9%\t Num Positives: 6720\t Num Negatives: 69698\t \n",
      "\n",
      "Epoch 61/100\n",
      "126798/126798 [==============================] - 2s - loss: 0.3052 - val_loss: 0.1281\n",
      "Epoch 60: validation loss: 0.128\n",
      "Balanced Accuracy: 92.41%\t auROC: 0.980\t auPRC: 0.815\t auPRG: 0.988\n",
      "Recall at 5%|10%|20% FDR: 0.1%|29.1%|70.0%\t Num Positives: 6720\t Num Negatives: 69698\t \n",
      "\n",
      "Epoch 62/100\n",
      "126798/126798 [==============================] - 2s - loss: 0.2971 - val_loss: 0.1280\n",
      "Epoch 61: validation loss: 0.128\n",
      "Balanced Accuracy: 89.71%\t auROC: 0.977\t auPRC: 0.788\t auPRG: 0.987\n",
      "Recall at 5%|10%|20% FDR: 0.4%|23.2%|58.1%\t Num Positives: 6720\t Num Negatives: 69698\t \n",
      "\n",
      "Epoch 63/100\n",
      "126798/126798 [==============================] - 3s - loss: 0.3000 - val_loss: 0.1656\n",
      "Epoch 62: validation loss: 0.166\n",
      "Balanced Accuracy: 93.82%\t auROC: 0.982\t auPRC: 0.834\t auPRG: 0.991\n",
      "Recall at 5%|10%|20% FDR: 0.0%|45.3%|73.7%\t Num Positives: 6720\t Num Negatives: 69698\t \n",
      "\n",
      "Epoch 64/100\n",
      "126798/126798 [==============================] - 2s - loss: 0.2959 - val_loss: 0.2089\n",
      "Epoch 63: validation loss: 0.209\n",
      "Balanced Accuracy: 93.46%\t auROC: 0.980\t auPRC: 0.825\t auPRG: 0.991\n",
      "Recall at 5%|10%|20% FDR: 0.7%|40.3%|69.8%\t Num Positives: 6720\t Num Negatives: 69698\t \n",
      "\n",
      "Epoch 65/100\n",
      "126798/126798 [==============================] - 3s - loss: 0.3034 - val_loss: 0.1560\n",
      "Epoch 64: validation loss: 0.156\n",
      "Balanced Accuracy: 93.96%\t auROC: 0.983\t auPRC: 0.853\t auPRG: 0.992\n",
      "Recall at 5%|10%|20% FDR: 18.0%|52.8%|77.6%\t Num Positives: 6720\t Num Negatives: 69698\t \n",
      "\n",
      "Epoch 66/100\n",
      "126798/126798 [==============================] - 3s - loss: 0.2947 - val_loss: 0.2189\n",
      "Epoch 65: validation loss: 0.219\n",
      "Balanced Accuracy: 93.18%\t auROC: 0.977\t auPRC: 0.792\t auPRG: 0.989\n",
      "Recall at 5%|10%|20% FDR: 11.4%|26.0%|54.7%\t Num Positives: 6720\t Num Negatives: 69698\t \n",
      "\n",
      "Epoch 67/100\n",
      "126798/126798 [==============================] - 2s - loss: 0.2938 - val_loss: 0.2701\n",
      "Epoch 66: validation loss: 0.270\n",
      "Balanced Accuracy: 93.30%\t auROC: 0.977\t auPRC: 0.782\t auPRG: 0.987\n",
      "Recall at 5%|10%|20% FDR: 1.1%|22.6%|49.0%\t Num Positives: 6720\t Num Negatives: 69698\t \n",
      "\n",
      "Epoch 68/100\n",
      "126798/126798 [==============================] - 2s - loss: 0.3011 - val_loss: 0.1492\n",
      "Epoch 67: validation loss: 0.149\n",
      "Balanced Accuracy: 93.41%\t auROC: 0.981\t auPRC: 0.821\t auPRG: 0.988\n",
      "Recall at 5%|10%|20% FDR: 0.0%|29.6%|72.7%\t Num Positives: 6720\t Num Negatives: 69698\t \n",
      "\n",
      "Epoch 69/100\n",
      "126798/126798 [==============================] - 2s - loss: 0.3030 - val_loss: 0.2241\n",
      "Epoch 68: validation loss: 0.224\n",
      "Balanced Accuracy: 93.01%\t auROC: 0.977\t auPRC: 0.788\t auPRG: 0.984\n",
      "Recall at 5%|10%|20% FDR: 1.4%|2.7%|64.9%\t Num Positives: 6720\t Num Negatives: 69698\t \n",
      "\n",
      "Epoch 70/100\n",
      "126798/126798 [==============================] - 2s - loss: 0.3040 - val_loss: 0.1964\n",
      "Epoch 69: validation loss: 0.196\n",
      "Balanced Accuracy: 93.68%\t auROC: 0.979\t auPRC: 0.811\t auPRG: 0.989\n",
      "Recall at 5%|10%|20% FDR: 1.6%|38.5%|61.5%\t Num Positives: 6720\t Num Negatives: 69698\t \n",
      "\n",
      "Epoch 71/100\n",
      "126798/126798 [==============================] - 2s - loss: 0.2923 - val_loss: 0.1803\n",
      "Epoch 70: validation loss: 0.180\n",
      "Balanced Accuracy: 93.85%\t auROC: 0.982\t auPRC: 0.844\t auPRG: 0.992\n",
      "Recall at 5%|10%|20% FDR: 20.2%|49.3%|73.8%\t Num Positives: 6720\t Num Negatives: 69698\t \n",
      "\n",
      "Epoch 72/100\n",
      "126798/126798 [==============================] - 3s - loss: 0.2943 - val_loss: 0.1797\n",
      "Epoch 71: validation loss: 0.180\n",
      "Balanced Accuracy: 93.60%\t auROC: 0.979\t auPRC: 0.810\t auPRG: 0.990\n",
      "Recall at 5%|10%|20% FDR: 1.6%|35.4%|59.0%\t Num Positives: 6720\t Num Negatives: 69698\t \n",
      "\n",
      "Epoch 73/100\n",
      "126798/126798 [==============================] - 3s - loss: 0.2976 - val_loss: 0.1627\n",
      "Epoch 72: validation loss: 0.163\n",
      "Balanced Accuracy: 94.18%\t auROC: 0.984\t auPRC: 0.855\t auPRG: 0.992\n",
      "Recall at 5%|10%|20% FDR: 2.1%|55.8%|78.7%\t Num Positives: 6720\t Num Negatives: 69698\t \n",
      "\n"
     ]
    }
   ],
   "source": [
    "#validation_data = (X_valid_normalized_subsampled[:, :, :11, :], y_valid_subsampled)\n",
    "#dnn_normalized.train(X_train_normalized_subsampled[:, :, :11, :], y_train_subsampled, validation_data)\n",
    "validation_data = (X_valid_normalized[:, :, :11, :], y_valid)\n",
    "dnn_normalized.train(X_train_normalized[:, :, :11, :], y_train, validation_data)"
   ]
  },
  {
   "cell_type": "code",
   "execution_count": 11,
   "metadata": {
    "collapsed": false
   },
   "outputs": [
    {
     "name": "stdout",
     "output_type": "stream",
     "text": [
      "Balanced Accuracy: 94.07%\t auROC: 0.983\t auPRC: 0.858\t auPRG: 0.992\n",
      "Recall at 5%|10%|20% FDR: 8.0%|53.8%|79.5%\t Num Positives: 4459\t Num Negatives: 46100\t \n"
     ]
    }
   ],
   "source": [
    "print(dnn_normalized.test(X_test_normalized[:, :, :11, :], y_test))"
   ]
  },
  {
   "cell_type": "code",
   "execution_count": 12,
   "metadata": {
    "collapsed": false
   },
   "outputs": [
    {
     "name": "stdout",
     "output_type": "stream",
     "text": [
      "Balanced Accuracy: 94.18%\t auROC: 0.984\t auPRC: 0.855\t auPRG: 0.992\n",
      "Recall at 5%|10%|20% FDR: 2.1%|55.8%|78.7%\t Num Positives: 6720\t Num Negatives: 69698\t \n"
     ]
    }
   ],
   "source": [
    "print(dnn_normalized.test(X_valid_normalized[:, :, :11, :], y_valid))"
   ]
  },
  {
   "cell_type": "code",
   "execution_count": 13,
   "metadata": {
    "collapsed": false
   },
   "outputs": [
    {
     "name": "stdout",
     "output_type": "stream",
     "text": [
      "Balanced Accuracy: 94.86%\t auROC: 0.987\t auPRC: 0.876\t auPRG: 0.994\n",
      "Recall at 5%|10%|20% FDR: 21.6%|61.5%|83.1%\t Num Positives: 10978\t Num Negatives: 115820\t \n"
     ]
    }
   ],
   "source": [
    "print(dnn_normalized.test(X_train_normalized[:, :, :11, :], y_train))"
   ]
  },
  {
   "cell_type": "code",
   "execution_count": 16,
   "metadata": {
    "collapsed": false
   },
   "outputs": [],
   "source": [
    "pred_probs_test = dnn_normalized.predict(X_test[:, :, :11, :])\n",
    "pred_probs_valid = dnn_normalized.predict(X_valid[:, :, :11, :])\n",
    "pred_probs_train = dnn_normalized.predict(X_train[:, :, :11, :])"
   ]
  },
  {
   "cell_type": "markdown",
   "metadata": {},
   "source": [
    "# Print prediction"
   ]
  },
  {
   "cell_type": "code",
   "execution_count": 17,
   "metadata": {
    "collapsed": false
   },
   "outputs": [],
   "source": [
    "indx_test=np.load('/users/mtaranov/NN_all_data/indx_test_upperTriangle_noDiag.npy')\n",
    "indx_valid=np.load('/users/mtaranov/NN_all_data/indx_vali_upperTriangle_noDiag.npy')\n",
    "indx_train=np.load('/users/mtaranov/NN_all_data/indx_train_upperTriangle_noDiag.npy')"
   ]
  },
  {
   "cell_type": "code",
   "execution_count": 18,
   "metadata": {
    "collapsed": false
   },
   "outputs": [],
   "source": [
    "labels_all=(np.concatenate((y_train, y_valid, y_test), axis=0)).astype(int)\n",
    "preds_all=(np.concatenate((pred_probs_train, pred_probs_valid, pred_probs_test), axis=0))\n",
    "indx_all=(np.concatenate((indx_train, indx_valid, indx_test), axis=0))\n",
    "\n",
    "labels_test = y_test\n",
    "preds_test = pred_probs_test\n",
    "indx_test = indx_test"
   ]
  },
  {
   "cell_type": "code",
   "execution_count": 19,
   "metadata": {
    "collapsed": false
   },
   "outputs": [
    {
     "ename": "IndexError",
     "evalue": "index 253775 is out of bounds for axis 0 with size 253775",
     "output_type": "error",
     "traceback": [
      "\u001b[1;31m---------------------------------------------------------------------------\u001b[0m",
      "\u001b[1;31mIndexError\u001b[0m                                Traceback (most recent call last)",
      "\u001b[1;32m<ipython-input-19-f1fa86c035b4>\u001b[0m in \u001b[0;36m<module>\u001b[1;34m()\u001b[0m\n\u001b[0;32m      1\u001b[0m \u001b[0mNumberOfNodes\u001b[0m\u001b[1;33m=\u001b[0m\u001b[1;36m2272\u001b[0m\u001b[1;33m\u001b[0m\u001b[0m\n\u001b[1;32m----> 2\u001b[1;33m \u001b[0mpreds_all_2d\u001b[0m\u001b[1;33m,\u001b[0m \u001b[0mlabels_all_2d\u001b[0m \u001b[1;33m=\u001b[0m \u001b[0mget_2D\u001b[0m\u001b[1;33m(\u001b[0m\u001b[0mindx_all\u001b[0m\u001b[1;33m,\u001b[0m \u001b[0mpreds_all\u001b[0m\u001b[1;33m,\u001b[0m \u001b[0mlabels_all\u001b[0m\u001b[1;33m,\u001b[0m \u001b[0mNumberOfNodes\u001b[0m\u001b[1;33m)\u001b[0m\u001b[1;33m\u001b[0m\u001b[0m\n\u001b[0m\u001b[0;32m      3\u001b[0m \u001b[0mpreds_test_2d\u001b[0m\u001b[1;33m,\u001b[0m \u001b[0mlabels_test_2d\u001b[0m \u001b[1;33m=\u001b[0m \u001b[0mget_2D\u001b[0m\u001b[1;33m(\u001b[0m\u001b[0mindx_test\u001b[0m\u001b[1;33m,\u001b[0m \u001b[0mpreds_test\u001b[0m\u001b[1;33m,\u001b[0m \u001b[0mlabels_test\u001b[0m\u001b[1;33m,\u001b[0m \u001b[0mNumberOfNodes\u001b[0m\u001b[1;33m)\u001b[0m\u001b[1;33m\u001b[0m\u001b[0m\n",
      "\u001b[1;32m/users/mtaranov/LongRange3D/utils.pyc\u001b[0m in \u001b[0;36mget_2D\u001b[1;34m(indx, preds, labels, NumberOfNodes)\u001b[0m\n\u001b[0;32m    101\u001b[0m \u001b[1;33m\u001b[0m\u001b[0m\n\u001b[0;32m    102\u001b[0m \u001b[1;32mdef\u001b[0m \u001b[0mget_2D\u001b[0m\u001b[1;33m(\u001b[0m\u001b[0mindx\u001b[0m\u001b[1;33m,\u001b[0m \u001b[0mpreds\u001b[0m\u001b[1;33m,\u001b[0m \u001b[0mlabels\u001b[0m\u001b[1;33m,\u001b[0m \u001b[0mNumberOfNodes\u001b[0m\u001b[1;33m)\u001b[0m\u001b[1;33m:\u001b[0m\u001b[1;33m\u001b[0m\u001b[0m\n\u001b[1;32m--> 103\u001b[1;33m     \u001b[0mpreds_2d\u001b[0m \u001b[1;33m=\u001b[0m \u001b[0mreconstruct_2d\u001b[0m\u001b[1;33m(\u001b[0m\u001b[0mindx\u001b[0m\u001b[1;33m,\u001b[0m \u001b[0mpreds\u001b[0m\u001b[1;33m,\u001b[0m \u001b[0mNumberOfNodes\u001b[0m\u001b[1;33m)\u001b[0m\u001b[1;33m\u001b[0m\u001b[0m\n\u001b[0m\u001b[0;32m    104\u001b[0m     \u001b[0mlabels_2d\u001b[0m \u001b[1;33m=\u001b[0m \u001b[0mreconstruct_2d\u001b[0m\u001b[1;33m(\u001b[0m\u001b[0mindx\u001b[0m\u001b[1;33m,\u001b[0m \u001b[0mlabels\u001b[0m\u001b[1;33m,\u001b[0m \u001b[0mNumberOfNodes\u001b[0m\u001b[1;33m)\u001b[0m\u001b[1;33m\u001b[0m\u001b[0m\n\u001b[0;32m    105\u001b[0m     \u001b[1;32mreturn\u001b[0m \u001b[1;33m(\u001b[0m\u001b[0mpreds_2d\u001b[0m\u001b[1;33m,\u001b[0m \u001b[0mlabels_2d\u001b[0m\u001b[1;33m)\u001b[0m\u001b[1;33m\u001b[0m\u001b[0m\n",
      "\u001b[1;32m/users/mtaranov/LongRange3D/utils.pyc\u001b[0m in \u001b[0;36mreconstruct_2d\u001b[1;34m(indx, labels, matrixSize)\u001b[0m\n\u001b[0;32m     54\u001b[0m     \u001b[0mk\u001b[0m\u001b[1;33m=\u001b[0m\u001b[1;36m0\u001b[0m\u001b[1;33m\u001b[0m\u001b[0m\n\u001b[0;32m     55\u001b[0m     \u001b[1;32mfor\u001b[0m \u001b[0mi\u001b[0m \u001b[1;32min\u001b[0m \u001b[0mindx\u001b[0m\u001b[1;33m:\u001b[0m\u001b[1;33m\u001b[0m\u001b[0m\n\u001b[1;32m---> 56\u001b[1;33m         \u001b[0mmatrix\u001b[0m\u001b[1;33m[\u001b[0m\u001b[0mint\u001b[0m\u001b[1;33m(\u001b[0m\u001b[0mi\u001b[0m\u001b[1;33m[\u001b[0m\u001b[1;36m0\u001b[0m\u001b[1;33m]\u001b[0m\u001b[1;33m)\u001b[0m\u001b[1;33m,\u001b[0m \u001b[0mint\u001b[0m\u001b[1;33m(\u001b[0m\u001b[0mi\u001b[0m\u001b[1;33m[\u001b[0m\u001b[1;36m1\u001b[0m\u001b[1;33m]\u001b[0m\u001b[1;33m)\u001b[0m\u001b[1;33m]\u001b[0m\u001b[1;33m=\u001b[0m\u001b[0mlabels\u001b[0m\u001b[1;33m[\u001b[0m\u001b[0mk\u001b[0m\u001b[1;33m]\u001b[0m\u001b[1;33m\u001b[0m\u001b[0m\n\u001b[0m\u001b[0;32m     57\u001b[0m         \u001b[0mk\u001b[0m\u001b[1;33m+=\u001b[0m\u001b[1;36m1\u001b[0m\u001b[1;33m\u001b[0m\u001b[0m\n\u001b[0;32m     58\u001b[0m     \u001b[1;32mprint\u001b[0m \u001b[1;34m\"Some tests on adjacency matrix:\"\u001b[0m\u001b[1;33m\u001b[0m\u001b[0m\n",
      "\u001b[1;31mIndexError\u001b[0m: index 253775 is out of bounds for axis 0 with size 253775"
     ]
    }
   ],
   "source": [
    "NumberOfNodes=2272\n",
    "preds_all_2d, labels_all_2d = get_2D(indx_all, preds_all, labels_all, NumberOfNodes)\n",
    "preds_test_2d, labels_test_2d = get_2D(indx_test, preds_test, labels_test, NumberOfNodes)"
   ]
  },
  {
   "cell_type": "code",
   "execution_count": null,
   "metadata": {
    "collapsed": false
   },
   "outputs": [],
   "source": [
    "printMatrix(preds_all_2d, '', 1, 1, title='preds')\n",
    "printMatrix(labels_all_2d, '', 1, 1, title='Captures')"
   ]
  },
  {
   "cell_type": "code",
   "execution_count": null,
   "metadata": {
    "collapsed": false
   },
   "outputs": [],
   "source": [
    "zoomIn_window = (0,2272)\n",
    "preds_thres = 0.99\n",
    "NumberOfNodes=2272\n",
    "plot_prediction(preds_all_2d, labels_all_2d, zoomIn_window, preds_thres)"
   ]
  },
  {
   "cell_type": "code",
   "execution_count": null,
   "metadata": {
    "collapsed": false
   },
   "outputs": [],
   "source": [
    "zoomIn_window = (0,200)\n",
    "preds_thres = 0.999\n",
    "NumberOfNodes=2272\n",
    "plot_prediction(preds_all_2d, labels_all_2d, zoomIn_window, preds_thres)"
   ]
  },
  {
   "cell_type": "code",
   "execution_count": null,
   "metadata": {
    "collapsed": false
   },
   "outputs": [],
   "source": [
    "zoomIn_window = (1500,1700)\n",
    "preds_thres = 0.98\n",
    "NumberOfNodes=2272\n",
    "plot_prediction(preds_all_2d, labels_all_2d, zoomIn_window, preds_thres)"
   ]
  },
  {
   "cell_type": "code",
   "execution_count": null,
   "metadata": {
    "collapsed": false
   },
   "outputs": [],
   "source": [
    "zoomIn_window = (1550,1650)\n",
    "preds_thres = 0.98\n",
    "NumberOfNodes=2272\n",
    "plot_prediction(preds_all_2d, labels_all_2d, zoomIn_window, preds_thres)"
   ]
  },
  {
   "cell_type": "code",
   "execution_count": null,
   "metadata": {
    "collapsed": true
   },
   "outputs": [],
   "source": []
  }
 ],
 "metadata": {
  "kernelspec": {
   "display_name": "Python 2",
   "language": "python",
   "name": "python2"
  },
  "language_info": {
   "codemirror_mode": {
    "name": "ipython",
    "version": 2
   },
   "file_extension": ".py",
   "mimetype": "text/x-python",
   "name": "python",
   "nbconvert_exporter": "python",
   "pygments_lexer": "ipython2",
   "version": "2.7.11"
  }
 },
 "nbformat": 4,
 "nbformat_minor": 0
}
